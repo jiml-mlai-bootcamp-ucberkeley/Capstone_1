{
 "cells": [
  {
   "cell_type": "markdown",
   "id": "60a11572",
   "metadata": {},
   "source": [
    "### Ordinary least squares Linear Regression. LinearRegression fits a linear model with coefficients w = (w1, …, wp) to minimize the residual sum of squares between the observed targets in the dataset, and the targets predicted by the linear approximation."
   ]
  },
  {
   "cell_type": "code",
   "execution_count": 1,
   "id": "96fef77b",
   "metadata": {},
   "outputs": [],
   "source": [
    "from warnings import filterwarnings\n",
    "filterwarnings(\"ignore\")\n",
    "\n",
    "import pandas as pd\n",
    "import matplotlib.pyplot as plt\n",
    "import numpy as np\n",
    "\n",
    "from sklearn.feature_selection import SequentialFeatureSelector, RFE, SelectFromModel\n",
    "from sklearn.linear_model import LinearRegression\n",
    "from sklearn.model_selection import train_test_split, cross_val_score, GridSearchCV\n",
    "from sklearn.metrics import mean_squared_error, mean_absolute_error, r2_score, explained_variance_score\n"
   ]
  },
  {
   "cell_type": "code",
   "execution_count": 2,
   "id": "e76f44b1",
   "metadata": {},
   "outputs": [],
   "source": [
    "outliers_df = pd.read_csv('outliers.csv')\n",
    "outliers_df.drop(columns=[\"Unnamed: 0\"],inplace=True)"
   ]
  },
  {
   "cell_type": "code",
   "execution_count": 3,
   "id": "3a3b5d51",
   "metadata": {},
   "outputs": [
    {
     "name": "stdout",
     "output_type": "stream",
     "text": [
      "<class 'pandas.core.frame.DataFrame'>\n",
      "RangeIndex: 2353 entries, 0 to 2352\n",
      "Data columns (total 7 columns):\n",
      " #   Column          Non-Null Count  Dtype  \n",
      "---  ------          --------------  -----  \n",
      " 0   bed             2353 non-null   float64\n",
      " 1   bath            2353 non-null   float64\n",
      " 2   acre_lot        2353 non-null   float64\n",
      " 3   zip_code        2353 non-null   float64\n",
      " 4   house_size      2353 non-null   float64\n",
      " 5   prev_sold_date  2353 non-null   object \n",
      " 6   price           2353 non-null   float64\n",
      "dtypes: float64(6), object(1)\n",
      "memory usage: 128.8+ KB\n"
     ]
    }
   ],
   "source": [
    "outliers_df.info()"
   ]
  },
  {
   "cell_type": "markdown",
   "id": "f306a442",
   "metadata": {},
   "source": [
    "#### Create new feature prev_sold_year from prev_sold_date"
   ]
  },
  {
   "cell_type": "code",
   "execution_count": 4,
   "id": "21530dc5",
   "metadata": {},
   "outputs": [
    {
     "name": "stdout",
     "output_type": "stream",
     "text": [
      "<class 'pandas.core.frame.DataFrame'>\n",
      "RangeIndex: 2353 entries, 0 to 2352\n",
      "Data columns (total 7 columns):\n",
      " #   Column          Non-Null Count  Dtype  \n",
      "---  ------          --------------  -----  \n",
      " 0   bed             2353 non-null   float64\n",
      " 1   bath            2353 non-null   float64\n",
      " 2   acre_lot        2353 non-null   float64\n",
      " 3   zip_code        2353 non-null   float64\n",
      " 4   house_size      2353 non-null   float64\n",
      " 5   price           2353 non-null   float64\n",
      " 6   prev_sold_year  2353 non-null   int64  \n",
      "dtypes: float64(6), int64(1)\n",
      "memory usage: 128.8 KB\n"
     ]
    }
   ],
   "source": [
    "outliers_df[\"prev_sold_year\"] = pd.to_datetime(outliers_df[\"prev_sold_date\"], format='%Y-%m-%d').dt.year\n",
    "outliers_df.drop(columns=[\"prev_sold_date\"],inplace=True)\n",
    "outliers_df.info()"
   ]
  },
  {
   "cell_type": "markdown",
   "id": "e0c68608",
   "metadata": {},
   "source": []
  },
  {
   "cell_type": "code",
   "execution_count": null,
   "id": "204618b9",
   "metadata": {},
   "outputs": [],
   "source": []
  },
  {
   "cell_type": "markdown",
   "id": "db132ce8",
   "metadata": {},
   "source": [
    "#### Create a new feature in the Lat/Long data for Zip Code"
   ]
  },
  {
   "cell_type": "code",
   "execution_count": 5,
   "id": "e8734a30",
   "metadata": {},
   "outputs": [
    {
     "data": {
      "text/html": [
       "<div>\n",
       "<style scoped>\n",
       "    .dataframe tbody tr th:only-of-type {\n",
       "        vertical-align: middle;\n",
       "    }\n",
       "\n",
       "    .dataframe tbody tr th {\n",
       "        vertical-align: top;\n",
       "    }\n",
       "\n",
       "    .dataframe thead th {\n",
       "        text-align: right;\n",
       "    }\n",
       "</style>\n",
       "<table border=\"1\" class=\"dataframe\">\n",
       "  <thead>\n",
       "    <tr style=\"text-align: right;\">\n",
       "      <th></th>\n",
       "      <th>Unnamed: 0</th>\n",
       "      <th>zip_code</th>\n",
       "      <th>latitude</th>\n",
       "      <th>longitude</th>\n",
       "    </tr>\n",
       "  </thead>\n",
       "  <tbody>\n",
       "    <tr>\n",
       "      <th>0</th>\n",
       "      <td>0</td>\n",
       "      <td>16914</td>\n",
       "      <td>41.854230</td>\n",
       "      <td>-76.783664</td>\n",
       "    </tr>\n",
       "    <tr>\n",
       "      <th>1</th>\n",
       "      <td>1</td>\n",
       "      <td>16925</td>\n",
       "      <td>41.948556</td>\n",
       "      <td>-76.783808</td>\n",
       "    </tr>\n",
       "    <tr>\n",
       "      <th>2</th>\n",
       "      <td>3</td>\n",
       "      <td>18013</td>\n",
       "      <td>40.848762</td>\n",
       "      <td>-75.177293</td>\n",
       "    </tr>\n",
       "    <tr>\n",
       "      <th>3</th>\n",
       "      <td>45</td>\n",
       "      <td>18077</td>\n",
       "      <td>40.570065</td>\n",
       "      <td>-75.237114</td>\n",
       "    </tr>\n",
       "    <tr>\n",
       "      <th>4</th>\n",
       "      <td>102</td>\n",
       "      <td>18301</td>\n",
       "      <td>41.042703</td>\n",
       "      <td>-75.175581</td>\n",
       "    </tr>\n",
       "  </tbody>\n",
       "</table>\n",
       "</div>"
      ],
      "text/plain": [
       "   Unnamed: 0  zip_code   latitude  longitude\n",
       "0           0     16914  41.854230 -76.783664\n",
       "1           1     16925  41.948556 -76.783808\n",
       "2           3     18013  40.848762 -75.177293\n",
       "3          45     18077  40.570065 -75.237114\n",
       "4         102     18301  41.042703 -75.175581"
      ]
     },
     "execution_count": 5,
     "metadata": {},
     "output_type": "execute_result"
    }
   ],
   "source": [
    "zip_lon_lat = pd.read_csv('pa_zip-lon-lat.csv')\n",
    "zip_lon_lat.head()"
   ]
  },
  {
   "cell_type": "markdown",
   "id": "293bc96f",
   "metadata": {},
   "source": [
    "#### Merge the Lat/Long data with the housing data using Zip Code with a leading zero"
   ]
  },
  {
   "cell_type": "code",
   "execution_count": 6,
   "id": "c79119ee",
   "metadata": {},
   "outputs": [
    {
     "data": {
      "text/html": [
       "<div>\n",
       "<style scoped>\n",
       "    .dataframe tbody tr th:only-of-type {\n",
       "        vertical-align: middle;\n",
       "    }\n",
       "\n",
       "    .dataframe tbody tr th {\n",
       "        vertical-align: top;\n",
       "    }\n",
       "\n",
       "    .dataframe thead th {\n",
       "        text-align: right;\n",
       "    }\n",
       "</style>\n",
       "<table border=\"1\" class=\"dataframe\">\n",
       "  <thead>\n",
       "    <tr style=\"text-align: right;\">\n",
       "      <th></th>\n",
       "      <th>bed</th>\n",
       "      <th>bath</th>\n",
       "      <th>acre_lot</th>\n",
       "      <th>zip_code</th>\n",
       "      <th>house_size</th>\n",
       "      <th>price</th>\n",
       "      <th>prev_sold_year</th>\n",
       "      <th>Unnamed: 0</th>\n",
       "      <th>latitude</th>\n",
       "      <th>longitude</th>\n",
       "    </tr>\n",
       "  </thead>\n",
       "  <tbody>\n",
       "    <tr>\n",
       "      <th>2348</th>\n",
       "      <td>3.0</td>\n",
       "      <td>3.0</td>\n",
       "      <td>2.75</td>\n",
       "      <td>18470.0</td>\n",
       "      <td>1913.0</td>\n",
       "      <td>349999.0</td>\n",
       "      <td>2020</td>\n",
       "      <td>187</td>\n",
       "      <td>41.724706</td>\n",
       "      <td>-75.535516</td>\n",
       "    </tr>\n",
       "    <tr>\n",
       "      <th>2349</th>\n",
       "      <td>3.0</td>\n",
       "      <td>2.0</td>\n",
       "      <td>4.55</td>\n",
       "      <td>18470.0</td>\n",
       "      <td>1152.0</td>\n",
       "      <td>59000.0</td>\n",
       "      <td>2021</td>\n",
       "      <td>187</td>\n",
       "      <td>41.724706</td>\n",
       "      <td>-75.535516</td>\n",
       "    </tr>\n",
       "    <tr>\n",
       "      <th>2350</th>\n",
       "      <td>2.0</td>\n",
       "      <td>2.0</td>\n",
       "      <td>0.05</td>\n",
       "      <td>18421.0</td>\n",
       "      <td>1946.0</td>\n",
       "      <td>85000.0</td>\n",
       "      <td>2022</td>\n",
       "      <td>149</td>\n",
       "      <td>41.664210</td>\n",
       "      <td>-75.492886</td>\n",
       "    </tr>\n",
       "    <tr>\n",
       "      <th>2351</th>\n",
       "      <td>2.0</td>\n",
       "      <td>1.0</td>\n",
       "      <td>0.17</td>\n",
       "      <td>18472.0</td>\n",
       "      <td>471.0</td>\n",
       "      <td>98500.0</td>\n",
       "      <td>2021</td>\n",
       "      <td>189</td>\n",
       "      <td>41.583410</td>\n",
       "      <td>-75.396687</td>\n",
       "    </tr>\n",
       "    <tr>\n",
       "      <th>2352</th>\n",
       "      <td>3.0</td>\n",
       "      <td>2.0</td>\n",
       "      <td>0.21</td>\n",
       "      <td>18821.0</td>\n",
       "      <td>1175.0</td>\n",
       "      <td>114500.0</td>\n",
       "      <td>2020</td>\n",
       "      <td>253</td>\n",
       "      <td>41.989756</td>\n",
       "      <td>-75.722751</td>\n",
       "    </tr>\n",
       "  </tbody>\n",
       "</table>\n",
       "</div>"
      ],
      "text/plain": [
       "      bed  bath  acre_lot  zip_code  house_size     price  prev_sold_year  \\\n",
       "2348  3.0   3.0      2.75   18470.0      1913.0  349999.0            2020   \n",
       "2349  3.0   2.0      4.55   18470.0      1152.0   59000.0            2021   \n",
       "2350  2.0   2.0      0.05   18421.0      1946.0   85000.0            2022   \n",
       "2351  2.0   1.0      0.17   18472.0       471.0   98500.0            2021   \n",
       "2352  3.0   2.0      0.21   18821.0      1175.0  114500.0            2020   \n",
       "\n",
       "      Unnamed: 0   latitude  longitude  \n",
       "2348         187  41.724706 -75.535516  \n",
       "2349         187  41.724706 -75.535516  \n",
       "2350         149  41.664210 -75.492886  \n",
       "2351         189  41.583410 -75.396687  \n",
       "2352         253  41.989756 -75.722751  "
      ]
     },
     "execution_count": 6,
     "metadata": {},
     "output_type": "execute_result"
    }
   ],
   "source": [
    "merged_df = pd.merge(outliers_df, zip_lon_lat, how=\"inner\", on=\"zip_code\")\n",
    "merged_df.tail()"
   ]
  },
  {
   "cell_type": "markdown",
   "id": "e8a49b44",
   "metadata": {},
   "source": [
    "#### Create common variables to store frequently used values."
   ]
  },
  {
   "cell_type": "code",
   "execution_count": 7,
   "id": "aa1c1059",
   "metadata": {},
   "outputs": [],
   "source": [
    "features = [\"latitude\",\"longitude\",\"bed\",\"bath\",\"house_size\",\"prev_sold_year\",\"acre_lot\"]\n",
    "num_features_to_select = len(features)-1\n",
    "random_state_value = 42"
   ]
  },
  {
   "cell_type": "markdown",
   "id": "5ae8abf3",
   "metadata": {},
   "source": [
    "#### Datasets for modeling, testing the models, and making predictions."
   ]
  },
  {
   "cell_type": "code",
   "execution_count": 8,
   "id": "7bff4fc2",
   "metadata": {},
   "outputs": [],
   "source": [
    "X = merged_df[features]\n",
    "y = merged_df[\"price\"]\n",
    "X_train, X_test, y_train, y_test = train_test_split(X, y, test_size=0.3, random_state=random_state_value)"
   ]
  },
  {
   "cell_type": "markdown",
   "id": "81cd4de9",
   "metadata": {},
   "source": [
    "#### Variable to store the results generated by the models."
   ]
  },
  {
   "cell_type": "code",
   "execution_count": 9,
   "id": "11ca6525",
   "metadata": {},
   "outputs": [],
   "source": [
    "results_dict = {\"model\":[], \"explained variance score\":[],\"mae score\":[],\"mse score\":[],\"r2 score\":[], \"mean fit time\":[]}"
   ]
  },
  {
   "cell_type": "markdown",
   "id": "e81d4b6b",
   "metadata": {},
   "source": [
    "#### Function to format the results generated by the models."
   ]
  },
  {
   "cell_type": "code",
   "execution_count": 10,
   "id": "cdd847d1",
   "metadata": {},
   "outputs": [],
   "source": [
    "def print_more_stuff(title, y_param, predict_param, gscv):\n",
    "    results_dict[\"model\"].append(title)\n",
    "    \n",
    "    evs = \"{:.9f}\".format(explained_variance_score(y_param,predict_param))\n",
    "    mae = \"{:,.6f}\".format(mean_absolute_error(y_param,predict_param))\n",
    "    mse = \"{:,.6f}\".format(mean_squared_error(y_param,predict_param))\n",
    "    r2 = \"{:,.6f}\".format(r2_score(y_param,predict_param))\n",
    "    \n",
    "    find_best_params = gscv.cv_results_[\"params\"].index(gscv.best_params_)\n",
    "    mean_fit_time = gscv.cv_results_[\"mean_fit_time\"][find_best_params]\n",
    "    \n",
    "    results_dict[\"explained variance score\"].append(evs)\n",
    "    results_dict[\"mae score\"].append(mae)\n",
    "    results_dict[\"mse score\"].append(mse)\n",
    "    results_dict[\"r2 score\"].append(r2)\n",
    "    results_dict[\"mean fit time\"].append(mean_fit_time)\n",
    "    \n",
    "    print(title + \" EVS = \" + evs)\n",
    "    print(title + \" MSE = \" + mse)\n",
    "    print(title + \" MAE = \" + mae)\n",
    "    print(title + \" R2 = \" + r2)\n",
    "    print(title + \" Fit Time = \" + str(mean_fit_time))"
   ]
  },
  {
   "cell_type": "markdown",
   "id": "af162495",
   "metadata": {},
   "source": [
    "#### Use the selected features with Linear Regression."
   ]
  },
  {
   "cell_type": "code",
   "execution_count": 11,
   "id": "97829f9c",
   "metadata": {},
   "outputs": [
    {
     "name": "stdout",
     "output_type": "stream",
     "text": [
      "Linear Regression EVS = 0.477376898\n",
      "Linear Regression MSE = 31,828,239,077.176872\n",
      "Linear Regression MAE = 112,647.010554\n",
      "Linear Regression R2 = 0.475868\n",
      "Linear Regression Fit Time = 0.008438348770141602\n"
     ]
    }
   ],
   "source": [
    "lgr = LinearRegression(fit_intercept=False)\n",
    "lgr_gscv = GridSearchCV(lgr, param_grid={})\n",
    "lgr_model = lgr_gscv.fit(X_train,y_train)\n",
    "lgr_predict = lgr_model.predict(X_test)\n",
    "\n",
    "print_more_stuff(\"Linear Regression\", y_test, lgr_predict, lgr_gscv)"
   ]
  },
  {
   "cell_type": "markdown",
   "id": "4ba7d686",
   "metadata": {},
   "source": [
    "### Recursive feature elimination uses an external estimator that assigns weights to features with the goal of selecting features by recursively considering smaller and smaller sets of features."
   ]
  },
  {
   "cell_type": "code",
   "execution_count": 12,
   "id": "d1427612",
   "metadata": {},
   "outputs": [
    {
     "name": "stdout",
     "output_type": "stream",
     "text": [
      "The selected features are: ['latitude', 'longitude', 'bed', 'bath', 'prev_sold_year', 'acre_lot']\n"
     ]
    }
   ],
   "source": [
    "lgr_rfe = RFE(LinearRegression(), n_features_to_select=num_features_to_select)\n",
    "lgr_rfe.fit(X, y)\n",
    "lgr_rfe_selected_features = lgr_rfe.get_support()\n",
    "print('The selected features are:', list(X.columns[lgr_rfe_selected_features]))"
   ]
  },
  {
   "cell_type": "code",
   "execution_count": 13,
   "id": "7548f90f",
   "metadata": {},
   "outputs": [],
   "source": [
    "X_rfe = merged_df[list(X.columns[lgr_rfe_selected_features])]\n",
    "y_rfe = merged_df[\"price\"]\n",
    "X_rfe_train, X_rfe_test, y_rfe_train, y_rfe_test = train_test_split(X_rfe, y_rfe, test_size=0.3, random_state=random_state_value)"
   ]
  },
  {
   "cell_type": "code",
   "execution_count": 14,
   "id": "5c56f174",
   "metadata": {},
   "outputs": [
    {
     "name": "stdout",
     "output_type": "stream",
     "text": [
      "Recursive Feature Elimination EVS = 0.368437940\n",
      "Recursive Feature Elimination MSE = 38,431,831,503.248024\n",
      "Recursive Feature Elimination MAE = 127,261.453282\n",
      "Recursive Feature Elimination R2 = 0.367124\n",
      "Recursive Feature Elimination Fit Time = 0.004640722274780273\n"
     ]
    }
   ],
   "source": [
    "lgr_rfe = LinearRegression(fit_intercept=False)\n",
    "lgr_rfe_gscv = GridSearchCV(lgr_rfe, param_grid={})\n",
    "lgr_rfe_model = lgr_rfe_gscv.fit(X_rfe_train,y_rfe_train)\n",
    "lgr_rfe_predict = lgr_rfe_model.predict(X_rfe_test)\n",
    "\n",
    "print_more_stuff(\"Recursive Feature Elimination\", y_rfe_test, lgr_rfe_predict, lgr_rfe_gscv)"
   ]
  },
  {
   "cell_type": "markdown",
   "id": "bbb6d3b0",
   "metadata": {},
   "source": [
    "###  Sequential Feature Selector (forward selection) adds features to form a feature subset in a greedy fashion. At each stage, this estimator chooses the best feature to add or remove based on the cross-validation score of an estimator."
   ]
  },
  {
   "cell_type": "code",
   "execution_count": 15,
   "id": "c33df877",
   "metadata": {},
   "outputs": [
    {
     "name": "stdout",
     "output_type": "stream",
     "text": [
      "The selected features are: ['latitude', 'bed', 'bath', 'house_size', 'prev_sold_year', 'acre_lot']\n"
     ]
    }
   ],
   "source": [
    "lgr_sfs = SequentialFeatureSelector(LinearRegression(), n_features_to_select=num_features_to_select)\n",
    "lgr_sfs.fit(X, y)\n",
    "lgr_sfs_selected_features = lgr_sfs.get_support()\n",
    "print('The selected features are:', list(X.columns[lgr_sfs_selected_features]))"
   ]
  },
  {
   "cell_type": "code",
   "execution_count": 16,
   "id": "21f44442",
   "metadata": {},
   "outputs": [],
   "source": [
    "X_sfs = merged_df[list(X.columns[lgr_sfs_selected_features])]\n",
    "y_sfs = merged_df[\"price\"]\n",
    "X_sfs_train, X_sfs_test, y_sfs_train, y_sfs_test = train_test_split(X_sfs, y_sfs, test_size=0.3, random_state=random_state_value)"
   ]
  },
  {
   "cell_type": "code",
   "execution_count": 17,
   "id": "a5f84a62",
   "metadata": {},
   "outputs": [
    {
     "name": "stdout",
     "output_type": "stream",
     "text": [
      "Sequential Feature Selector EVS = 0.477365692\n",
      "Sequential Feature Selector MSE = 31,826,803,078.687500\n",
      "Sequential Feature Selector MAE = 112,454.557622\n",
      "Sequential Feature Selector R2 = 0.475892\n",
      "Sequential Feature Selector Fit Time = 0.003343534469604492\n"
     ]
    }
   ],
   "source": [
    "lgr_sfs = LinearRegression(fit_intercept=False)\n",
    "lgr_sfs_gscv = GridSearchCV(lgr_sfs, param_grid={})\n",
    "lgr_sfs_model = lgr_sfs_gscv.fit(X_sfs_train,y_sfs_train)\n",
    "lgr_sfs_predict = lgr_sfs_model.predict(X_sfs_test)\n",
    "\n",
    "print_more_stuff(\"Sequential Feature Selector\", y_sfs_test, lgr_sfs_predict, lgr_sfs_gscv)"
   ]
  },
  {
   "cell_type": "markdown",
   "id": "211990d2",
   "metadata": {},
   "source": [
    "### SelectFromModel is a meta-transformer that can be used alongside any estimator that assigns importance to each feature through a specific attribute or via an importance_getter callable after fitting. The features are considered unimportant and removed if the corresponding importance of the feature values are below the provided threshold parameter."
   ]
  },
  {
   "cell_type": "code",
   "execution_count": 18,
   "id": "d8787cfa",
   "metadata": {},
   "outputs": [
    {
     "name": "stdout",
     "output_type": "stream",
     "text": [
      "The selected features are: ['latitude', 'longitude', 'bed', 'bath', 'prev_sold_year', 'acre_lot']\n"
     ]
    }
   ],
   "source": [
    "lgr_sfm = SelectFromModel(estimator=LinearRegression(), threshold=1000)\n",
    "lgr_sfm.fit(X,y)\n",
    "lgr_sfm_selected_features = lgr_sfm.get_support()\n",
    "print('The selected features are:', list(X.columns[lgr_sfm_selected_features]))"
   ]
  },
  {
   "cell_type": "code",
   "execution_count": 19,
   "id": "8d5ab173",
   "metadata": {},
   "outputs": [],
   "source": [
    "X_sfm = merged_df[list(X.columns[lgr_sfm_selected_features])]\n",
    "y_sfm = merged_df[\"price\"]\n",
    "X_sfm_train, X_sfm_test, y_sfm_train, y_sfm_test = train_test_split(X_sfm, y_sfm, test_size=0.3, random_state=random_state_value)"
   ]
  },
  {
   "cell_type": "code",
   "execution_count": 20,
   "id": "0d861bb4",
   "metadata": {},
   "outputs": [
    {
     "name": "stdout",
     "output_type": "stream",
     "text": [
      "Select From Model EVS = 0.368437940\n",
      "Select From Model MSE = 38,431,831,503.248024\n",
      "Select From Model MAE = 127,261.453282\n",
      "Select From Model R2 = 0.367124\n",
      "Select From Model Fit Time = 0.00114288330078125\n"
     ]
    }
   ],
   "source": [
    "lgr_sfm = LinearRegression(fit_intercept=False)\n",
    "lgr_sfm_gscv = GridSearchCV(lgr_sfm, param_grid={})\n",
    "lgr_sfm_model = lgr_sfm_gscv.fit(X_sfm_train,y_sfm_train)\n",
    "lgr_sfm_predict = lgr_sfm_model.predict(X_sfm_test)\n",
    "\n",
    "print_more_stuff(\"Select From Model\",y_sfm_test,lgr_sfm_predict,lgr_sfm_gscv)"
   ]
  },
  {
   "cell_type": "markdown",
   "id": "84acf22d",
   "metadata": {},
   "source": [
    "#### Graphing the results works best when the data is provided in a DataFrame."
   ]
  },
  {
   "cell_type": "code",
   "execution_count": 21,
   "id": "6f391763",
   "metadata": {},
   "outputs": [],
   "source": [
    "lgr_predict_df = pd.DataFrame(lgr_predict).reset_index()\n",
    "lgr_predict_df.rename(columns={0: \"prediction\"},inplace=True)\n",
    "\n",
    "lgr_sfm_predict_df = pd.DataFrame(lgr_sfm_predict).reset_index()\n",
    "lgr_sfm_predict_df.rename(columns={0: \"prediction\"},inplace=True)\n",
    "\n",
    "lgr_sfs_predict_df = pd.DataFrame(lgr_sfs_predict).reset_index()\n",
    "lgr_sfs_predict_df.rename(columns={0: \"prediction\"},inplace=True)\n",
    "\n",
    "lgr_rfe_predict_df = pd.DataFrame(lgr_rfe_predict).reset_index()\n",
    "lgr_rfe_predict_df.rename(columns={0: \"prediction\"},inplace=True)\n",
    "\n",
    "y_test_df = pd.DataFrame(y_test).reset_index()"
   ]
  },
  {
   "cell_type": "markdown",
   "id": "fa0a0652",
   "metadata": {},
   "source": [
    "#### Scatter Plot graph of the results of Recursive Feature Elimination, Sequential Feature Selection, Select From Model, and Test Data."
   ]
  },
  {
   "cell_type": "code",
   "execution_count": 22,
   "id": "2d986f92",
   "metadata": {},
   "outputs": [
    {
     "data": {
      "image/png": "[encoded data removed]",
      "text/plain": [
       "<Figure size 1000x600 with 1 Axes>"
      ]
     },
     "metadata": {},
     "output_type": "display_data"
    }
   ],
   "source": [
    "fig, ax = plt.subplots(figsize=(10, 6))\n",
    "\n",
    "ax.ticklabel_format(style='plain')\n",
    "ax.yaxis.set_major_formatter('${x:1,.0f}')\n",
    "ax.xaxis.set_major_formatter(' ')\n",
    "\n",
    "plt.scatter(y_test_df.index,y_test_df[\"price\"], color=\"red\")\n",
    "plt.scatter(lgr_predict_df.index,lgr_predict_df[\"prediction\"], color=\"black\")\n",
    "plt.scatter(lgr_sfm_predict_df.index,lgr_sfm_predict_df[\"prediction\"], color=\"brown\")\n",
    "plt.scatter(lgr_rfe_predict_df.index,lgr_rfe_predict_df[\"prediction\"], color=\"blue\")\n",
    "plt.scatter(lgr_sfs_predict_df.index,lgr_sfs_predict_df[\"prediction\"], color=\"green\")\n",
    "plt.show()"
   ]
  },
  {
   "cell_type": "markdown",
   "id": "f701e9b4",
   "metadata": {},
   "source": [
    "#### Sort the DataFrames by the Prediction and Price features."
   ]
  },
  {
   "cell_type": "code",
   "execution_count": 23,
   "id": "d7d58ec4",
   "metadata": {},
   "outputs": [],
   "source": [
    "lgr_predict_df.sort_values(by='prediction', inplace=True)\n",
    "lgr_predict_df.reset_index(inplace=True)\n",
    "\n",
    "lgr_sfm_predict_df.sort_values(by='prediction', inplace=True)\n",
    "lgr_sfm_predict_df.reset_index(inplace=True)\n",
    "\n",
    "lgr_sfs_predict_df.sort_values(by='prediction', inplace=True)\n",
    "lgr_sfs_predict_df.reset_index(inplace=True)\n",
    "\n",
    "lgr_rfe_predict_df.sort_values(by='prediction', inplace=True)\n",
    "lgr_rfe_predict_df.reset_index(inplace=True)\n",
    "\n",
    "y_test_df.sort_values(by='price', inplace=True)\n",
    "y_test_df.reset_index(inplace=True)"
   ]
  },
  {
   "cell_type": "markdown",
   "id": "e3f3e17d",
   "metadata": {},
   "source": [
    "#### Line graph of the results of Recursive Feature Elimination, Sequential Feature Selection, Select From Model, and Test Data."
   ]
  },
  {
   "cell_type": "code",
   "execution_count": 24,
   "id": "4ce0df75",
   "metadata": {},
   "outputs": [
    {
     "data": {
      "image/png": "[encoded data removed]",
      "text/plain": [
       "<Figure size 1000x600 with 1 Axes>"
      ]
     },
     "metadata": {},
     "output_type": "display_data"
    }
   ],
   "source": [
    "fig, ax = plt.subplots(figsize=(10, 6))\n",
    "\n",
    "ax.ticklabel_format(style='plain')\n",
    "ax.yaxis.set_major_formatter('${x:1,.0f}')\n",
    "ax.xaxis.set_major_formatter(' ')\n",
    "\n",
    "plt.plot(y_test_df.index,y_test_df[\"price\"], color=\"red\")\n",
    "plt.plot(lgr_sfm_predict_df.index,lgr_sfm_predict_df[\"prediction\"], color=\"brown\")\n",
    "plt.plot(lgr_sfs_predict_df.index,lgr_sfs_predict_df[\"prediction\"], color=\"blue\")\n",
    "plt.plot(lgr_rfe_predict_df.index,lgr_rfe_predict_df[\"prediction\"], color=\"green\")\n",
    "plt.plot(lgr_predict_df.index,lgr_predict_df[\"prediction\"], color=\"black\")\n",
    "plt.show()"
   ]
  },
  {
   "cell_type": "code",
   "execution_count": null,
   "id": "9cbffcaf",
   "metadata": {},
   "outputs": [],
   "source": []
  },
  {
   "cell_type": "code",
   "execution_count": 25,
   "id": "e649b6ee",
   "metadata": {},
   "outputs": [
    {
     "data": {
      "text/plain": [
       "{'model': ['Linear Regression',\n",
       "  'Recursive Feature Elimination',\n",
       "  'Sequential Feature Selector',\n",
       "  'Select From Model'],\n",
       " 'explained variance score': ['0.477376898',\n",
       "  '0.368437940',\n",
       "  '0.477365692',\n",
       "  '0.368437940'],\n",
       " 'mae score': ['112,647.010554',\n",
       "  '127,261.453282',\n",
       "  '112,454.557622',\n",
       "  '127,261.453282'],\n",
       " 'mse score': ['31,828,239,077.176872',\n",
       "  '38,431,831,503.248024',\n",
       "  '31,826,803,078.687500',\n",
       "  '38,431,831,503.248024'],\n",
       " 'r2 score': ['0.475868', '0.367124', '0.475892', '0.367124'],\n",
       " 'mean fit time': [0.008438348770141602,\n",
       "  0.004640722274780273,\n",
       "  0.003343534469604492,\n",
       "  0.00114288330078125]}"
      ]
     },
     "execution_count": 25,
     "metadata": {},
     "output_type": "execute_result"
    }
   ],
   "source": [
    "results_dict"
   ]
  },
  {
   "cell_type": "code",
   "execution_count": 26,
   "id": "f01af1e1",
   "metadata": {},
   "outputs": [
    {
     "data": {
      "text/html": [
       "<div>\n",
       "<style scoped>\n",
       "    .dataframe tbody tr th:only-of-type {\n",
       "        vertical-align: middle;\n",
       "    }\n",
       "\n",
       "    .dataframe tbody tr th {\n",
       "        vertical-align: top;\n",
       "    }\n",
       "\n",
       "    .dataframe thead th {\n",
       "        text-align: right;\n",
       "    }\n",
       "</style>\n",
       "<table border=\"1\" class=\"dataframe\">\n",
       "  <thead>\n",
       "    <tr style=\"text-align: right;\">\n",
       "      <th></th>\n",
       "      <th>explained variance score</th>\n",
       "      <th>mae score</th>\n",
       "      <th>mse score</th>\n",
       "      <th>r2 score</th>\n",
       "      <th>mean fit time</th>\n",
       "    </tr>\n",
       "    <tr>\n",
       "      <th>model</th>\n",
       "      <th></th>\n",
       "      <th></th>\n",
       "      <th></th>\n",
       "      <th></th>\n",
       "      <th></th>\n",
       "    </tr>\n",
       "  </thead>\n",
       "  <tbody>\n",
       "    <tr>\n",
       "      <th>Linear Regression</th>\n",
       "      <td>0.477376898</td>\n",
       "      <td>112,647.010554</td>\n",
       "      <td>31,828,239,077.176872</td>\n",
       "      <td>0.475868</td>\n",
       "      <td>0.008438</td>\n",
       "    </tr>\n",
       "    <tr>\n",
       "      <th>Recursive Feature Elimination</th>\n",
       "      <td>0.368437940</td>\n",
       "      <td>127,261.453282</td>\n",
       "      <td>38,431,831,503.248024</td>\n",
       "      <td>0.367124</td>\n",
       "      <td>0.004641</td>\n",
       "    </tr>\n",
       "    <tr>\n",
       "      <th>Sequential Feature Selector</th>\n",
       "      <td>0.477365692</td>\n",
       "      <td>112,454.557622</td>\n",
       "      <td>31,826,803,078.687500</td>\n",
       "      <td>0.475892</td>\n",
       "      <td>0.003344</td>\n",
       "    </tr>\n",
       "    <tr>\n",
       "      <th>Select From Model</th>\n",
       "      <td>0.368437940</td>\n",
       "      <td>127,261.453282</td>\n",
       "      <td>38,431,831,503.248024</td>\n",
       "      <td>0.367124</td>\n",
       "      <td>0.001143</td>\n",
       "    </tr>\n",
       "  </tbody>\n",
       "</table>\n",
       "</div>"
      ],
      "text/plain": [
       "                              explained variance score       mae score  \\\n",
       "model                                                                    \n",
       "Linear Regression                          0.477376898  112,647.010554   \n",
       "Recursive Feature Elimination              0.368437940  127,261.453282   \n",
       "Sequential Feature Selector                0.477365692  112,454.557622   \n",
       "Select From Model                          0.368437940  127,261.453282   \n",
       "\n",
       "                                           mse score  r2 score  mean fit time  \n",
       "model                                                                          \n",
       "Linear Regression              31,828,239,077.176872  0.475868       0.008438  \n",
       "Recursive Feature Elimination  38,431,831,503.248024  0.367124       0.004641  \n",
       "Sequential Feature Selector    31,826,803,078.687500  0.475892       0.003344  \n",
       "Select From Model              38,431,831,503.248024  0.367124       0.001143  "
      ]
     },
     "execution_count": 26,
     "metadata": {},
     "output_type": "execute_result"
    }
   ],
   "source": [
    "model_comparisons = pd.DataFrame(results_dict).set_index('model')\n",
    "model_comparisons"
   ]
  }
 ],
 "metadata": {
  "kernelspec": {
   "display_name": "Python 3 (ipykernel)",
   "language": "python",
   "name": "python3"
  },
  "language_info": {
   "codemirror_mode": {
    "name": "ipython",
    "version": 3
   },
   "file_extension": ".py",
   "mimetype": "text/x-python",
   "name": "python",
   "nbconvert_exporter": "python",
   "pygments_lexer": "ipython3",
   "version": "3.11.4"
  }
 },
 "nbformat": 4,
 "nbformat_minor": 5
}
