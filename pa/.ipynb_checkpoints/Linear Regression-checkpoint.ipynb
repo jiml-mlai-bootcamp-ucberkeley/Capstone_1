{
 "cells": [
  {
   "cell_type": "markdown",
   "id": "a6b75951",
   "metadata": {},
   "source": [
    "### Ordinary least squares Linear Regression. LinearRegression fits a linear model with coefficients w = (w1, …, wp) to minimize the residual sum of squares between the observed targets in the dataset, and the targets predicted by the linear approximation."
   ]
  },
  {
   "cell_type": "code",
   "execution_count": 1,
   "id": "3c0d831e",
   "metadata": {},
   "outputs": [],
   "source": [
    "from warnings import filterwarnings\n",
    "filterwarnings(\"ignore\")\n",
    "\n",
    "import pandas as pd\n",
    "import matplotlib.pyplot as plt\n",
    "import numpy as np\n",
    "\n",
    "from sklearn.feature_selection import SequentialFeatureSelector, RFE, SelectFromModel\n",
    "from sklearn.linear_model import LinearRegression\n",
    "from sklearn.model_selection import train_test_split, cross_val_score, GridSearchCV\n",
    "from sklearn.metrics import mean_squared_error, mean_absolute_error, r2_score, explained_variance_score\n",
    "from sklearn.preprocessing import PolynomialFeatures\n",
    "from sklearn.pipeline import Pipeline"
   ]
  },
  {
   "cell_type": "code",
   "execution_count": 2,
   "id": "e76f44b1",
   "metadata": {},
   "outputs": [],
   "source": [
    "outliers_df = pd.read_csv('outliers.csv')\n",
    "outliers_df.drop(columns=[\"Unnamed: 0\"],inplace=True)"
   ]
  },
  {
   "cell_type": "code",
   "execution_count": 3,
   "id": "3a3b5d51",
   "metadata": {},
   "outputs": [
    {
     "name": "stdout",
     "output_type": "stream",
     "text": [
      "<class 'pandas.core.frame.DataFrame'>\n",
      "RangeIndex: 2353 entries, 0 to 2352\n",
      "Data columns (total 7 columns):\n",
      " #   Column          Non-Null Count  Dtype  \n",
      "---  ------          --------------  -----  \n",
      " 0   bed             2353 non-null   float64\n",
      " 1   bath            2353 non-null   float64\n",
      " 2   acre_lot        2353 non-null   float64\n",
      " 3   zip_code        2353 non-null   float64\n",
      " 4   house_size      2353 non-null   float64\n",
      " 5   prev_sold_date  2353 non-null   object \n",
      " 6   price           2353 non-null   float64\n",
      "dtypes: float64(6), object(1)\n",
      "memory usage: 128.8+ KB\n"
     ]
    }
   ],
   "source": [
    "outliers_df.info()"
   ]
  },
  {
   "cell_type": "code",
   "execution_count": 4,
   "id": "21530dc5",
   "metadata": {},
   "outputs": [
    {
     "name": "stdout",
     "output_type": "stream",
     "text": [
      "<class 'pandas.core.frame.DataFrame'>\n",
      "RangeIndex: 2353 entries, 0 to 2352\n",
      "Data columns (total 7 columns):\n",
      " #   Column          Non-Null Count  Dtype  \n",
      "---  ------          --------------  -----  \n",
      " 0   bed             2353 non-null   float64\n",
      " 1   bath            2353 non-null   float64\n",
      " 2   acre_lot        2353 non-null   float64\n",
      " 3   zip_code        2353 non-null   float64\n",
      " 4   house_size      2353 non-null   float64\n",
      " 5   price           2353 non-null   float64\n",
      " 6   prev_sold_year  2353 non-null   int64  \n",
      "dtypes: float64(6), int64(1)\n",
      "memory usage: 128.8 KB\n"
     ]
    }
   ],
   "source": [
    "outliers_df[\"prev_sold_year\"] = pd.to_datetime(outliers_df[\"prev_sold_date\"], format='%Y-%m-%d').dt.year\n",
    "outliers_df.drop(columns=[\"prev_sold_date\"],inplace=True)\n",
    "outliers_df.info()"
   ]
  },
  {
   "cell_type": "markdown",
   "id": "125ded87",
   "metadata": {},
   "source": [
    "#### Find the zip code of that has the most houses."
   ]
  },
  {
   "cell_type": "code",
   "execution_count": 5,
   "id": "204618b9",
   "metadata": {},
   "outputs": [
    {
     "data": {
      "text/plain": [
       "19146.0"
      ]
     },
     "execution_count": 5,
     "metadata": {},
     "output_type": "execute_result"
    }
   ],
   "source": [
    "groupby_zipcode = outliers_df.groupby([\"zip_code\"])[\"zip_code\"].count().sort_values(ascending=False)\n",
    "groupby_zipcode_df = pd.DataFrame(groupby_zipcode).rename(columns={\"zip_code\":\"count\"}).reset_index()\n",
    "first_zipcode = groupby_zipcode_df.iloc[0][\"zip_code\"]\n",
    "first_zipcode"
   ]
  },
  {
   "cell_type": "markdown",
   "id": "c61d4a65",
   "metadata": {},
   "source": [
    "#### Find the rows of the zip code that has the most houses."
   ]
  },
  {
   "cell_type": "code",
   "execution_count": 6,
   "id": "c79119ee",
   "metadata": {},
   "outputs": [],
   "source": [
    "one_zipcode_df = outliers_df[outliers_df[\"zip_code\"].isin([first_zipcode])]"
   ]
  },
  {
   "cell_type": "markdown",
   "id": "6cfb4b22",
   "metadata": {},
   "source": [
    "#### Create common variables to store frequently used values."
   ]
  },
  {
   "cell_type": "code",
   "execution_count": 7,
   "id": "aa1c1059",
   "metadata": {},
   "outputs": [],
   "source": [
    "features = [\"bed\",\"bath\",\"house_size\",\"prev_sold_year\",\"acre_lot\"]\n",
    "num_features_to_select = len(features)-1\n",
    "random_state_value = 42"
   ]
  },
  {
   "cell_type": "markdown",
   "id": "eccc741b",
   "metadata": {},
   "source": [
    "#### Datasets for modeling, testing the models, and making predictions."
   ]
  },
  {
   "cell_type": "code",
   "execution_count": 8,
   "id": "7bff4fc2",
   "metadata": {},
   "outputs": [],
   "source": [
    "X = one_zipcode_df[features]\n",
    "y = one_zipcode_df[\"price\"]\n",
    "X_train, X_test, y_train, y_test = train_test_split(X, y, test_size=0.3, random_state=random_state_value)"
   ]
  },
  {
   "cell_type": "markdown",
   "id": "9263d739",
   "metadata": {},
   "source": [
    "#### Variable to store the results generated by the models."
   ]
  },
  {
   "cell_type": "code",
   "execution_count": 9,
   "id": "11ca6525",
   "metadata": {},
   "outputs": [],
   "source": [
    "results_dict = {\"model\":[], \"explained variance score\":[],\"mae score\":[],\"mse score\":[],\"r2 score\":[], \"mean fit time\":[]}"
   ]
  },
  {
   "cell_type": "markdown",
   "id": "b9a9736e",
   "metadata": {},
   "source": [
    "#### Function to format the results generated by the models."
   ]
  },
  {
   "cell_type": "code",
   "execution_count": 10,
   "id": "cdd847d1",
   "metadata": {},
   "outputs": [],
   "source": [
    "def print_more_stuff(title, y_param, predict_param, gscv):\n",
    "    results_dict[\"model\"].append(title)\n",
    "    \n",
    "    evs = \"{:.9f}\".format(explained_variance_score(y_param,predict_param))\n",
    "    mae = \"{:,.6f}\".format(mean_absolute_error(y_param,predict_param))\n",
    "    mse = \"{:,.6f}\".format(mean_squared_error(y_param,predict_param))\n",
    "    r2 = \"{:,.6f}\".format(r2_score(y_param,predict_param))\n",
    "    \n",
    "    #find_best_params = gscv.cv_results_[\"params\"].index(gscv.best_params_)\n",
    "    #mean_fit_time = gscv.cv_results_[\"mean_fit_time\"][find_best_params]\n",
    "    mean_fit_time = gscv.cv_results_[\"mean_fit_time\"][gscv.best_index_]\n",
    "    \n",
    "    results_dict[\"explained variance score\"].append(evs)\n",
    "    results_dict[\"mae score\"].append(mae)\n",
    "    results_dict[\"mse score\"].append(mse)\n",
    "    results_dict[\"r2 score\"].append(r2)\n",
    "    results_dict[\"mean fit time\"].append(mean_fit_time)\n",
    "    \n",
    "    print(title + \" EVS = \" + evs)\n",
    "    print(title + \" MSE = \" + mse)\n",
    "    print(title + \" MAE = \" + mae)\n",
    "    print(title + \" R2 = \" + r2)\n",
    "    print(title + \" Fit Time = \" + str(mean_fit_time))"
   ]
  },
  {
   "cell_type": "markdown",
   "id": "2150bbe0",
   "metadata": {},
   "source": [
    "#### Use the selected features with Linear Regression."
   ]
  },
  {
   "cell_type": "code",
   "execution_count": 11,
   "id": "97829f9c",
   "metadata": {},
   "outputs": [
    {
     "name": "stdout",
     "output_type": "stream",
     "text": [
      "Linear Regression EVS = 0.314659875\n",
      "Linear Regression MSE = 38,800,128,783.702110\n",
      "Linear Regression MAE = 145,007.322709\n",
      "Linear Regression R2 = 0.258554\n",
      "Linear Regression Fit Time = 0.004758405685424805\n"
     ]
    }
   ],
   "source": [
    "lgr = LinearRegression(fit_intercept=False)\n",
    "lgr_gscv = GridSearchCV(lgr, param_grid={})\n",
    "lgr_model = lgr_gscv.fit(X_train,y_train)\n",
    "lgr_predict = lgr_model.predict(X_test)\n",
    "\n",
    "print_more_stuff(\"Linear Regression\", y_test, lgr_predict, lgr_gscv)"
   ]
  },
  {
   "cell_type": "markdown",
   "id": "13e68dc2",
   "metadata": {},
   "source": [
    "### Recursive feature elimination uses an external estimator that assigns weights to features with the goal of selecting features by recursively considering smaller and smaller sets of features."
   ]
  },
  {
   "cell_type": "code",
   "execution_count": 12,
   "id": "d1427612",
   "metadata": {},
   "outputs": [
    {
     "name": "stdout",
     "output_type": "stream",
     "text": [
      "The selected features are: ['bed', 'bath', 'prev_sold_year', 'acre_lot']\n"
     ]
    }
   ],
   "source": [
    "lgr_rfe = RFE(LinearRegression(), n_features_to_select=num_features_to_select)\n",
    "lgr_rfe.fit(X, y)\n",
    "lgr_rfe_selected_features = lgr_rfe.get_support()\n",
    "print('The selected features are:', list(X.columns[lgr_rfe_selected_features]))"
   ]
  },
  {
   "cell_type": "code",
   "execution_count": 13,
   "id": "7548f90f",
   "metadata": {},
   "outputs": [],
   "source": [
    "X_rfe = one_zipcode_df[list(X.columns[lgr_rfe_selected_features])]\n",
    "y_rfe = one_zipcode_df[\"price\"]\n",
    "X_rfe_train, X_rfe_test, y_rfe_train, y_rfe_test = train_test_split(X_rfe, y_rfe, test_size=0.3, random_state=random_state_value)"
   ]
  },
  {
   "cell_type": "code",
   "execution_count": 14,
   "id": "5c56f174",
   "metadata": {},
   "outputs": [
    {
     "name": "stdout",
     "output_type": "stream",
     "text": [
      "Recursive Feature Elimination EVS = 0.274799595\n",
      "Recursive Feature Elimination MSE = 39,877,367,403.767944\n",
      "Recursive Feature Elimination MAE = 154,207.951943\n",
      "Recursive Feature Elimination R2 = 0.237969\n",
      "Recursive Feature Elimination Fit Time = 0.0016360759735107421\n"
     ]
    }
   ],
   "source": [
    "lgr_rfe = LinearRegression(fit_intercept=False)\n",
    "lgr_rfe_gscv = GridSearchCV(lgr_rfe, param_grid={})\n",
    "lgr_rfe_model = lgr_rfe_gscv.fit(X_rfe_train,y_rfe_train)\n",
    "lgr_rfe_predict = lgr_rfe_model.predict(X_rfe_test)\n",
    "\n",
    "print_more_stuff(\"Recursive Feature Elimination\", y_rfe_test, lgr_rfe_predict, lgr_rfe_gscv)"
   ]
  },
  {
   "cell_type": "markdown",
   "id": "c57d737d",
   "metadata": {},
   "source": [
    "###  Sequential Feature Selector (forward selection) adds features to form a feature subset in a greedy fashion. At each stage, this estimator chooses the best feature to add or remove based on the cross-validation score of an estimator."
   ]
  },
  {
   "cell_type": "code",
   "execution_count": 15,
   "id": "c33df877",
   "metadata": {},
   "outputs": [
    {
     "name": "stdout",
     "output_type": "stream",
     "text": [
      "The selected features are: ['bed', 'bath', 'house_size', 'prev_sold_year']\n"
     ]
    }
   ],
   "source": [
    "lgr_sfs = SequentialFeatureSelector(LinearRegression(), n_features_to_select=num_features_to_select)\n",
    "lgr_sfs.fit(X, y)\n",
    "lgr_sfs_selected_features = lgr_sfs.get_support()\n",
    "print('The selected features are:', list(X.columns[lgr_sfs_selected_features]))"
   ]
  },
  {
   "cell_type": "code",
   "execution_count": 16,
   "id": "21f44442",
   "metadata": {},
   "outputs": [],
   "source": [
    "X_sfs = one_zipcode_df[list(X.columns[lgr_sfs_selected_features])]\n",
    "y_sfs = one_zipcode_df[\"price\"]\n",
    "X_sfs_train, X_sfs_test, y_sfs_train, y_sfs_test = train_test_split(X_sfs, y_sfs, test_size=0.3, random_state=random_state_value)"
   ]
  },
  {
   "cell_type": "code",
   "execution_count": 17,
   "id": "a5f84a62",
   "metadata": {},
   "outputs": [
    {
     "name": "stdout",
     "output_type": "stream",
     "text": [
      "Sequential Feature Selector EVS = 0.287904664\n",
      "Sequential Feature Selector MSE = 40,103,828,511.706619\n",
      "Sequential Feature Selector MAE = 145,506.203358\n",
      "Sequential Feature Selector R2 = 0.233642\n",
      "Sequential Feature Selector Fit Time = 0.0030110836029052734\n"
     ]
    }
   ],
   "source": [
    "lgr_sfs = LinearRegression(fit_intercept=False)\n",
    "lgr_sfs_gscv = GridSearchCV(lgr_sfs, param_grid={})\n",
    "lgr_sfs_model = lgr_sfs_gscv.fit(X_sfs_train,y_sfs_train)\n",
    "lgr_sfs_predict = lgr_sfs_model.predict(X_sfs_test)\n",
    "\n",
    "print_more_stuff(\"Sequential Feature Selector\", y_sfs_test, lgr_sfs_predict, lgr_sfs_gscv)"
   ]
  },
  {
   "cell_type": "markdown",
   "id": "009a509d",
   "metadata": {},
   "source": [
    "### SelectFromModel is a meta-transformer that can be used alongside any estimator that assigns importance to each feature through a specific attribute or via an importance_getter callable after fitting. The features are considered unimportant and removed if the corresponding importance of the feature values are below the provided threshold parameter."
   ]
  },
  {
   "cell_type": "code",
   "execution_count": 18,
   "id": "d8787cfa",
   "metadata": {},
   "outputs": [
    {
     "name": "stdout",
     "output_type": "stream",
     "text": [
      "The selected features are: ['bed', 'bath', 'acre_lot']\n"
     ]
    }
   ],
   "source": [
    "lgr_sfm = SelectFromModel(estimator=LinearRegression(), threshold=1000)\n",
    "lgr_sfm.fit(X,y)\n",
    "lgr_sfm_selected_features = lgr_sfm.get_support()\n",
    "print('The selected features are:', list(X.columns[lgr_sfm_selected_features]))"
   ]
  },
  {
   "cell_type": "code",
   "execution_count": 19,
   "id": "8edcb552",
   "metadata": {},
   "outputs": [],
   "source": [
    "X_sfm = one_zipcode_df[list(X.columns[lgr_sfm_selected_features])]\n",
    "y_sfm = one_zipcode_df[\"price\"]\n",
    "X_sfm_train, X_sfm_test, y_sfm_train, y_sfm_test = train_test_split(X_sfm, y_sfm, test_size=0.3, random_state=random_state_value)"
   ]
  },
  {
   "cell_type": "code",
   "execution_count": 20,
   "id": "2ac29e91",
   "metadata": {},
   "outputs": [
    {
     "name": "stdout",
     "output_type": "stream",
     "text": [
      "Select From Model EVS = 0.327070359\n",
      "Select From Model MSE = 37,708,337,947.386711\n",
      "Select From Model MAE = 148,464.291769\n",
      "Select From Model R2 = 0.279418\n",
      "Select From Model Fit Time = 0.002059650421142578\n"
     ]
    }
   ],
   "source": [
    "lgr_sfm = LinearRegression(fit_intercept=False)\n",
    "lgr_sfm_gscv = GridSearchCV(lgr_sfm, param_grid={})\n",
    "lgr_sfm_model = lgr_sfm_gscv.fit(X_sfm_train,y_sfm_train)\n",
    "lgr_sfm_predict = lgr_sfm_model.predict(X_sfm_test)\n",
    "\n",
    "print_more_stuff(\"Select From Model\",y_sfm_test,lgr_sfm_predict,lgr_sfm_gscv)"
   ]
  },
  {
   "cell_type": "markdown",
   "id": "65f5ac63",
   "metadata": {},
   "source": [
    "#### Use Grid Search CV to find the best Parameters for Polynomial Regression"
   ]
  },
  {
   "cell_type": "code",
   "execution_count": 21,
   "id": "37cfd72b",
   "metadata": {},
   "outputs": [],
   "source": [
    "pipeline_gscv = Pipeline([\n",
    "    ('poly_features', PolynomialFeatures()), \n",
    "    ('poly_model', LinearRegression())\n",
    "])\n",
    "\n",
    "pipeline_params={\"poly_features__degree\":[1,2,3,4,5],\"poly_features__include_bias\":[False],\"poly_model__fit_intercept\":[True]}\n",
    "grid_searchcv = GridSearchCV(pipeline_gscv, param_grid=pipeline_params, cv=5, verbose=1)"
   ]
  },
  {
   "cell_type": "code",
   "execution_count": 22,
   "id": "e8ed6a70",
   "metadata": {},
   "outputs": [
    {
     "name": "stdout",
     "output_type": "stream",
     "text": [
      "Fitting 5 folds for each of 5 candidates, totalling 25 fits\n"
     ]
    },
    {
     "data": {
      "text/html": [
       "<style>#sk-container-id-1 {color: black;}#sk-container-id-1 pre{padding: 0;}#sk-container-id-1 div.sk-toggleable {background-color: white;}#sk-container-id-1 label.sk-toggleable__label {cursor: pointer;display: block;width: 100%;margin-bottom: 0;padding: 0.3em;box-sizing: border-box;text-align: center;}#sk-container-id-1 label.sk-toggleable__label-arrow:before {content: \"▸\";float: left;margin-right: 0.25em;color: #696969;}#sk-container-id-1 label.sk-toggleable__label-arrow:hover:before {color: black;}#sk-container-id-1 div.sk-estimator:hover label.sk-toggleable__label-arrow:before {color: black;}#sk-container-id-1 div.sk-toggleable__content {max-height: 0;max-width: 0;overflow: hidden;text-align: left;background-color: #f0f8ff;}#sk-container-id-1 div.sk-toggleable__content pre {margin: 0.2em;color: black;border-radius: 0.25em;background-color: #f0f8ff;}#sk-container-id-1 input.sk-toggleable__control:checked~div.sk-toggleable__content {max-height: 200px;max-width: 100%;overflow: auto;}#sk-container-id-1 input.sk-toggleable__control:checked~label.sk-toggleable__label-arrow:before {content: \"▾\";}#sk-container-id-1 div.sk-estimator input.sk-toggleable__control:checked~label.sk-toggleable__label {background-color: #d4ebff;}#sk-container-id-1 div.sk-label input.sk-toggleable__control:checked~label.sk-toggleable__label {background-color: #d4ebff;}#sk-container-id-1 input.sk-hidden--visually {border: 0;clip: rect(1px 1px 1px 1px);clip: rect(1px, 1px, 1px, 1px);height: 1px;margin: -1px;overflow: hidden;padding: 0;position: absolute;width: 1px;}#sk-container-id-1 div.sk-estimator {font-family: monospace;background-color: #f0f8ff;border: 1px dotted black;border-radius: 0.25em;box-sizing: border-box;margin-bottom: 0.5em;}#sk-container-id-1 div.sk-estimator:hover {background-color: #d4ebff;}#sk-container-id-1 div.sk-parallel-item::after {content: \"\";width: 100%;border-bottom: 1px solid gray;flex-grow: 1;}#sk-container-id-1 div.sk-label:hover label.sk-toggleable__label {background-color: #d4ebff;}#sk-container-id-1 div.sk-serial::before {content: \"\";position: absolute;border-left: 1px solid gray;box-sizing: border-box;top: 0;bottom: 0;left: 50%;z-index: 0;}#sk-container-id-1 div.sk-serial {display: flex;flex-direction: column;align-items: center;background-color: white;padding-right: 0.2em;padding-left: 0.2em;position: relative;}#sk-container-id-1 div.sk-item {position: relative;z-index: 1;}#sk-container-id-1 div.sk-parallel {display: flex;align-items: stretch;justify-content: center;background-color: white;position: relative;}#sk-container-id-1 div.sk-item::before, #sk-container-id-1 div.sk-parallel-item::before {content: \"\";position: absolute;border-left: 1px solid gray;box-sizing: border-box;top: 0;bottom: 0;left: 50%;z-index: -1;}#sk-container-id-1 div.sk-parallel-item {display: flex;flex-direction: column;z-index: 1;position: relative;background-color: white;}#sk-container-id-1 div.sk-parallel-item:first-child::after {align-self: flex-end;width: 50%;}#sk-container-id-1 div.sk-parallel-item:last-child::after {align-self: flex-start;width: 50%;}#sk-container-id-1 div.sk-parallel-item:only-child::after {width: 0;}#sk-container-id-1 div.sk-dashed-wrapped {border: 1px dashed gray;margin: 0 0.4em 0.5em 0.4em;box-sizing: border-box;padding-bottom: 0.4em;background-color: white;}#sk-container-id-1 div.sk-label label {font-family: monospace;font-weight: bold;display: inline-block;line-height: 1.2em;}#sk-container-id-1 div.sk-label-container {text-align: center;}#sk-container-id-1 div.sk-container {/* jupyter's `normalize.less` sets `[hidden] { display: none; }` but bootstrap.min.css set `[hidden] { display: none !important; }` so we also need the `!important` here to be able to override the default hidden behavior on the sphinx rendered scikit-learn.org. See: https://github.com/scikit-learn/scikit-learn/issues/21755 */display: inline-block !important;position: relative;}#sk-container-id-1 div.sk-text-repr-fallback {display: none;}</style><div id=\"sk-container-id-1\" class=\"sk-top-container\"><div class=\"sk-text-repr-fallback\"><pre>GridSearchCV(cv=5,\n",
       "             estimator=Pipeline(steps=[(&#x27;poly_features&#x27;, PolynomialFeatures()),\n",
       "                                       (&#x27;poly_model&#x27;, LinearRegression())]),\n",
       "             param_grid={&#x27;poly_features__degree&#x27;: [1, 2, 3, 4, 5],\n",
       "                         &#x27;poly_features__include_bias&#x27;: [False],\n",
       "                         &#x27;poly_model__fit_intercept&#x27;: [True]},\n",
       "             verbose=1)</pre><b>In a Jupyter environment, please rerun this cell to show the HTML representation or trust the notebook. <br />On GitHub, the HTML representation is unable to render, please try loading this page with nbviewer.org.</b></div><div class=\"sk-container\" hidden><div class=\"sk-item sk-dashed-wrapped\"><div class=\"sk-label-container\"><div class=\"sk-label sk-toggleable\"><input class=\"sk-toggleable__control sk-hidden--visually\" id=\"sk-estimator-id-1\" type=\"checkbox\" ><label for=\"sk-estimator-id-1\" class=\"sk-toggleable__label sk-toggleable__label-arrow\">GridSearchCV</label><div class=\"sk-toggleable__content\"><pre>GridSearchCV(cv=5,\n",
       "             estimator=Pipeline(steps=[(&#x27;poly_features&#x27;, PolynomialFeatures()),\n",
       "                                       (&#x27;poly_model&#x27;, LinearRegression())]),\n",
       "             param_grid={&#x27;poly_features__degree&#x27;: [1, 2, 3, 4, 5],\n",
       "                         &#x27;poly_features__include_bias&#x27;: [False],\n",
       "                         &#x27;poly_model__fit_intercept&#x27;: [True]},\n",
       "             verbose=1)</pre></div></div></div><div class=\"sk-parallel\"><div class=\"sk-parallel-item\"><div class=\"sk-item\"><div class=\"sk-label-container\"><div class=\"sk-label sk-toggleable\"><input class=\"sk-toggleable__control sk-hidden--visually\" id=\"sk-estimator-id-2\" type=\"checkbox\" ><label for=\"sk-estimator-id-2\" class=\"sk-toggleable__label sk-toggleable__label-arrow\">estimator: Pipeline</label><div class=\"sk-toggleable__content\"><pre>Pipeline(steps=[(&#x27;poly_features&#x27;, PolynomialFeatures()),\n",
       "                (&#x27;poly_model&#x27;, LinearRegression())])</pre></div></div></div><div class=\"sk-serial\"><div class=\"sk-item\"><div class=\"sk-serial\"><div class=\"sk-item\"><div class=\"sk-estimator sk-toggleable\"><input class=\"sk-toggleable__control sk-hidden--visually\" id=\"sk-estimator-id-3\" type=\"checkbox\" ><label for=\"sk-estimator-id-3\" class=\"sk-toggleable__label sk-toggleable__label-arrow\">PolynomialFeatures</label><div class=\"sk-toggleable__content\"><pre>PolynomialFeatures()</pre></div></div></div><div class=\"sk-item\"><div class=\"sk-estimator sk-toggleable\"><input class=\"sk-toggleable__control sk-hidden--visually\" id=\"sk-estimator-id-4\" type=\"checkbox\" ><label for=\"sk-estimator-id-4\" class=\"sk-toggleable__label sk-toggleable__label-arrow\">LinearRegression</label><div class=\"sk-toggleable__content\"><pre>LinearRegression()</pre></div></div></div></div></div></div></div></div></div></div></div></div>"
      ],
      "text/plain": [
       "GridSearchCV(cv=5,\n",
       "             estimator=Pipeline(steps=[('poly_features', PolynomialFeatures()),\n",
       "                                       ('poly_model', LinearRegression())]),\n",
       "             param_grid={'poly_features__degree': [1, 2, 3, 4, 5],\n",
       "                         'poly_features__include_bias': [False],\n",
       "                         'poly_model__fit_intercept': [True]},\n",
       "             verbose=1)"
      ]
     },
     "execution_count": 22,
     "metadata": {},
     "output_type": "execute_result"
    }
   ],
   "source": [
    "grid_searchcv.fit(X, y)"
   ]
  },
  {
   "cell_type": "code",
   "execution_count": 23,
   "id": "156d4292",
   "metadata": {},
   "outputs": [
    {
     "name": "stdout",
     "output_type": "stream",
     "text": [
      "Best parameters found: {'poly_features__degree': 1, 'poly_features__include_bias': False, 'poly_model__fit_intercept': True}\n"
     ]
    }
   ],
   "source": [
    "print(f\"Best parameters found: {grid_searchcv.best_params_}\")"
   ]
  },
  {
   "cell_type": "code",
   "execution_count": 24,
   "id": "844a65bc",
   "metadata": {},
   "outputs": [
    {
     "data": {
      "text/plain": [
       "{'poly_features__degree': [1],\n",
       " 'poly_features__include_bias': [False],\n",
       " 'poly_model__fit_intercept': [True]}"
      ]
     },
     "execution_count": 24,
     "metadata": {},
     "output_type": "execute_result"
    }
   ],
   "source": [
    "pipeline_params = {}\n",
    "for what in grid_searchcv.best_params_:\n",
    "    if pipeline_params.get(what) == None:\n",
    "        pipeline_params[what] = []\n",
    "    pipeline_params[what].append(grid_searchcv.best_params_[what])\n",
    "pipeline_params"
   ]
  },
  {
   "cell_type": "code",
   "execution_count": 25,
   "id": "5c5432c2",
   "metadata": {},
   "outputs": [
    {
     "name": "stdout",
     "output_type": "stream",
     "text": [
      "Fitting 5 folds for each of 1 candidates, totalling 5 fits\n",
      "Polynomial Features EVS = 0.279349671\n",
      "Polynomial Features MSE = 40,550,633,780.777458\n",
      "Polynomial Features MAE = 149,037.013140\n",
      "Polynomial Features R2 = 0.225103\n",
      "Polynomial Features Fit Time = 0.0009041786193847656\n"
     ]
    }
   ],
   "source": [
    "poly_pipeline = Pipeline([\n",
    "    ('poly_features', PolynomialFeatures()), \n",
    "    ('poly_model', LinearRegression(fit_intercept=True))\n",
    "])\n",
    "\n",
    "poly_grid_searchcv = GridSearchCV(poly_pipeline, param_grid=pipeline_params, cv=5, verbose=1)\n",
    "\n",
    "poly_grid_model = poly_grid_searchcv.fit(X_train,y_train)\n",
    "poly_grid_predict = poly_grid_model.predict(X_test)\n",
    "print_more_stuff(\"Polynomial Features\",y_test,poly_grid_predict, poly_grid_searchcv)"
   ]
  },
  {
   "cell_type": "markdown",
   "id": "65122af1",
   "metadata": {},
   "source": [
    "#### Graphing the results works best when the data is provided in a DataFrame."
   ]
  },
  {
   "cell_type": "code",
   "execution_count": 26,
   "id": "6f391763",
   "metadata": {},
   "outputs": [],
   "source": [
    "poly_grid_predict_df = pd.DataFrame(poly_grid_predict).reset_index()\n",
    "poly_grid_predict_df.rename(columns={0: \"prediction\"},inplace=True)\n",
    "\n",
    "lgr_predict_df = pd.DataFrame(lgr_predict).reset_index()\n",
    "lgr_predict_df.rename(columns={0: \"prediction\"},inplace=True)\n",
    "\n",
    "lgr_sfm_predict_df = pd.DataFrame(lgr_sfm_predict).reset_index()\n",
    "lgr_sfm_predict_df.rename(columns={0: \"prediction\"},inplace=True)\n",
    "\n",
    "lgr_sfs_predict_df = pd.DataFrame(lgr_sfs_predict).reset_index()\n",
    "lgr_sfs_predict_df.rename(columns={0: \"prediction\"},inplace=True)\n",
    "\n",
    "lgr_rfe_predict_df = pd.DataFrame(lgr_rfe_predict).reset_index()\n",
    "lgr_rfe_predict_df.rename(columns={0: \"prediction\"},inplace=True)\n",
    "\n",
    "y_test_df = pd.DataFrame(y_test).reset_index()"
   ]
  },
  {
   "cell_type": "markdown",
   "id": "5f247468",
   "metadata": {},
   "source": [
    "#### Scatter Plot graph of the results of Linear Regression, Polynomial Regression, and Test Data."
   ]
  },
  {
   "cell_type": "code",
   "execution_count": 27,
   "id": "f87ecd84",
   "metadata": {},
   "outputs": [
    {
     "data": {
      "image/png": "[encoded data removed]",
      "text/plain": [
       "<Figure size 1000x600 with 1 Axes>"
      ]
     },
     "metadata": {},
     "output_type": "display_data"
    }
   ],
   "source": [
    "fig, ax = plt.subplots(figsize=(10, 6))\n",
    "\n",
    "ax.ticklabel_format(style='plain')\n",
    "ax.yaxis.set_major_formatter('${x:1,.0f}')\n",
    "ax.xaxis.set_major_formatter(' ')\n",
    "\n",
    "plt.scatter(y_test_df.index,y_test_df[\"price\"], color=\"red\")\n",
    "plt.scatter(poly_grid_predict_df.index,poly_grid_predict_df[\"prediction\"], color=\"blue\")\n",
    "plt.scatter(lgr_predict_df.index,lgr_predict_df[\"prediction\"], color=\"green\")\n",
    "plt.show()"
   ]
  },
  {
   "cell_type": "markdown",
   "id": "9ed330c9",
   "metadata": {},
   "source": [
    "#### Scatter Plot graph of the results of Recursive Feature Elimination, Sequential Feature Selection, Select From Model, and Test Data."
   ]
  },
  {
   "cell_type": "code",
   "execution_count": 28,
   "id": "c483bc73",
   "metadata": {},
   "outputs": [
    {
     "data": {
      "image/png": "[encoded data removed]",
      "text/plain": [
       "<Figure size 1000x600 with 1 Axes>"
      ]
     },
     "metadata": {},
     "output_type": "display_data"
    }
   ],
   "source": [
    "fig, ax = plt.subplots(figsize=(10, 6))\n",
    "\n",
    "ax.ticklabel_format(style='plain')\n",
    "ax.yaxis.set_major_formatter('${x:1,.0f}')\n",
    "ax.xaxis.set_major_formatter(' ')\n",
    "\n",
    "plt.scatter(y_test_df.index,y_test_df[\"price\"], color=\"red\")\n",
    "plt.scatter(lgr_predict_df.index,lgr_predict_df[\"prediction\"], color=\"black\")\n",
    "plt.scatter(lgr_sfm_predict_df.index,lgr_sfm_predict_df[\"prediction\"], color=\"brown\")\n",
    "plt.scatter(lgr_rfe_predict_df.index,lgr_rfe_predict_df[\"prediction\"], color=\"blue\")\n",
    "plt.scatter(lgr_sfs_predict_df.index,lgr_sfs_predict_df[\"prediction\"], color=\"green\")\n",
    "plt.show()"
   ]
  },
  {
   "cell_type": "markdown",
   "id": "f772fda8",
   "metadata": {},
   "source": [
    "#### Sort the DataFrames by the Prediction and Price features."
   ]
  },
  {
   "cell_type": "code",
   "execution_count": 29,
   "id": "05318afd",
   "metadata": {},
   "outputs": [],
   "source": [
    "poly_grid_predict_df.sort_values(by='prediction', inplace=True)\n",
    "poly_grid_predict_df.reset_index(inplace=True)\n",
    "\n",
    "lgr_predict_df.sort_values(by='prediction', inplace=True)\n",
    "lgr_predict_df.reset_index(inplace=True)\n",
    "\n",
    "lgr_sfm_predict_df.sort_values(by='prediction', inplace=True)\n",
    "lgr_sfm_predict_df.reset_index(inplace=True)\n",
    "\n",
    "lgr_sfs_predict_df.sort_values(by='prediction', inplace=True)\n",
    "lgr_sfs_predict_df.reset_index(inplace=True)\n",
    "\n",
    "lgr_rfe_predict_df.sort_values(by='prediction', inplace=True)\n",
    "lgr_rfe_predict_df.reset_index(inplace=True)\n",
    "\n",
    "y_test_df.sort_values(by='price', inplace=True)\n",
    "y_test_df.reset_index(inplace=True)"
   ]
  },
  {
   "cell_type": "markdown",
   "id": "14fec286",
   "metadata": {},
   "source": [
    "#### Line graph of the results of Recursive Feature Elimination, Sequential Feature Selection, Select From Model, Polynomial, and Test Data."
   ]
  },
  {
   "cell_type": "code",
   "execution_count": 30,
   "id": "f9f763cc",
   "metadata": {},
   "outputs": [
    {
     "data": {
      "image/png": "[encoded data removed]",
      "text/plain": [
       "<Figure size 1000x600 with 1 Axes>"
      ]
     },
     "metadata": {},
     "output_type": "display_data"
    }
   ],
   "source": [
    "fig, ax = plt.subplots(figsize=(10, 6))\n",
    "\n",
    "ax.ticklabel_format(style='plain')\n",
    "ax.yaxis.set_major_formatter('${x:1,.0f}')\n",
    "ax.xaxis.set_major_formatter(' ')\n",
    "\n",
    "plt.plot(y_test_df.index,y_test_df[\"price\"], color=\"red\")\n",
    "plt.plot(poly_grid_predict_df.index,poly_grid_predict_df[\"prediction\"], color=\"orange\")\n",
    "plt.plot(lgr_sfm_predict_df.index,lgr_sfm_predict_df[\"prediction\"], color=\"brown\")\n",
    "plt.plot(lgr_sfs_predict_df.index,lgr_sfs_predict_df[\"prediction\"], color=\"blue\")\n",
    "plt.plot(lgr_rfe_predict_df.index,lgr_rfe_predict_df[\"prediction\"], color=\"green\")\n",
    "plt.plot(lgr_predict_df.index,lgr_predict_df[\"prediction\"], color=\"black\")\n",
    "plt.show()"
   ]
  },
  {
   "cell_type": "code",
   "execution_count": null,
   "id": "d675f8d6",
   "metadata": {},
   "outputs": [],
   "source": []
  },
  {
   "cell_type": "code",
   "execution_count": 31,
   "id": "bcc6d00a",
   "metadata": {},
   "outputs": [
    {
     "data": {
      "text/plain": [
       "{'model': ['Linear Regression',\n",
       "  'Recursive Feature Elimination',\n",
       "  'Sequential Feature Selector',\n",
       "  'Select From Model',\n",
       "  'Polynomial Features'],\n",
       " 'explained variance score': ['0.314659875',\n",
       "  '0.274799595',\n",
       "  '0.287904664',\n",
       "  '0.327070359',\n",
       "  '0.279349671'],\n",
       " 'mae score': ['145,007.322709',\n",
       "  '154,207.951943',\n",
       "  '145,506.203358',\n",
       "  '148,464.291769',\n",
       "  '149,037.013140'],\n",
       " 'mse score': ['38,800,128,783.702110',\n",
       "  '39,877,367,403.767944',\n",
       "  '40,103,828,511.706619',\n",
       "  '37,708,337,947.386711',\n",
       "  '40,550,633,780.777458'],\n",
       " 'r2 score': ['0.258554', '0.237969', '0.233642', '0.279418', '0.225103'],\n",
       " 'mean fit time': [0.004758405685424805,\n",
       "  0.0016360759735107421,\n",
       "  0.0030110836029052734,\n",
       "  0.002059650421142578,\n",
       "  0.0009041786193847656]}"
      ]
     },
     "execution_count": 31,
     "metadata": {},
     "output_type": "execute_result"
    }
   ],
   "source": [
    "results_dict"
   ]
  },
  {
   "cell_type": "code",
   "execution_count": 32,
   "id": "f01af1e1",
   "metadata": {},
   "outputs": [
    {
     "data": {
      "text/html": [
       "<div>\n",
       "<style scoped>\n",
       "    .dataframe tbody tr th:only-of-type {\n",
       "        vertical-align: middle;\n",
       "    }\n",
       "\n",
       "    .dataframe tbody tr th {\n",
       "        vertical-align: top;\n",
       "    }\n",
       "\n",
       "    .dataframe thead th {\n",
       "        text-align: right;\n",
       "    }\n",
       "</style>\n",
       "<table border=\"1\" class=\"dataframe\">\n",
       "  <thead>\n",
       "    <tr style=\"text-align: right;\">\n",
       "      <th></th>\n",
       "      <th>explained variance score</th>\n",
       "      <th>mae score</th>\n",
       "      <th>mse score</th>\n",
       "      <th>r2 score</th>\n",
       "      <th>mean fit time</th>\n",
       "    </tr>\n",
       "    <tr>\n",
       "      <th>model</th>\n",
       "      <th></th>\n",
       "      <th></th>\n",
       "      <th></th>\n",
       "      <th></th>\n",
       "      <th></th>\n",
       "    </tr>\n",
       "  </thead>\n",
       "  <tbody>\n",
       "    <tr>\n",
       "      <th>Linear Regression</th>\n",
       "      <td>0.314659875</td>\n",
       "      <td>145,007.322709</td>\n",
       "      <td>38,800,128,783.702110</td>\n",
       "      <td>0.258554</td>\n",
       "      <td>0.004758</td>\n",
       "    </tr>\n",
       "    <tr>\n",
       "      <th>Recursive Feature Elimination</th>\n",
       "      <td>0.274799595</td>\n",
       "      <td>154,207.951943</td>\n",
       "      <td>39,877,367,403.767944</td>\n",
       "      <td>0.237969</td>\n",
       "      <td>0.001636</td>\n",
       "    </tr>\n",
       "    <tr>\n",
       "      <th>Sequential Feature Selector</th>\n",
       "      <td>0.287904664</td>\n",
       "      <td>145,506.203358</td>\n",
       "      <td>40,103,828,511.706619</td>\n",
       "      <td>0.233642</td>\n",
       "      <td>0.003011</td>\n",
       "    </tr>\n",
       "    <tr>\n",
       "      <th>Select From Model</th>\n",
       "      <td>0.327070359</td>\n",
       "      <td>148,464.291769</td>\n",
       "      <td>37,708,337,947.386711</td>\n",
       "      <td>0.279418</td>\n",
       "      <td>0.002060</td>\n",
       "    </tr>\n",
       "    <tr>\n",
       "      <th>Polynomial Features</th>\n",
       "      <td>0.279349671</td>\n",
       "      <td>149,037.013140</td>\n",
       "      <td>40,550,633,780.777458</td>\n",
       "      <td>0.225103</td>\n",
       "      <td>0.000904</td>\n",
       "    </tr>\n",
       "  </tbody>\n",
       "</table>\n",
       "</div>"
      ],
      "text/plain": [
       "                              explained variance score       mae score  \\\n",
       "model                                                                    \n",
       "Linear Regression                          0.314659875  145,007.322709   \n",
       "Recursive Feature Elimination              0.274799595  154,207.951943   \n",
       "Sequential Feature Selector                0.287904664  145,506.203358   \n",
       "Select From Model                          0.327070359  148,464.291769   \n",
       "Polynomial Features                        0.279349671  149,037.013140   \n",
       "\n",
       "                                           mse score  r2 score  mean fit time  \n",
       "model                                                                          \n",
       "Linear Regression              38,800,128,783.702110  0.258554       0.004758  \n",
       "Recursive Feature Elimination  39,877,367,403.767944  0.237969       0.001636  \n",
       "Sequential Feature Selector    40,103,828,511.706619  0.233642       0.003011  \n",
       "Select From Model              37,708,337,947.386711  0.279418       0.002060  \n",
       "Polynomial Features            40,550,633,780.777458  0.225103       0.000904  "
      ]
     },
     "execution_count": 32,
     "metadata": {},
     "output_type": "execute_result"
    }
   ],
   "source": [
    "model_comparisons = pd.DataFrame(results_dict).set_index('model')\n",
    "model_comparisons"
   ]
  }
 ],
 "metadata": {
  "kernelspec": {
   "display_name": "Python 3 (ipykernel)",
   "language": "python",
   "name": "python3"
  },
  "language_info": {
   "codemirror_mode": {
    "name": "ipython",
    "version": 3
   },
   "file_extension": ".py",
   "mimetype": "text/x-python",
   "name": "python",
   "nbconvert_exporter": "python",
   "pygments_lexer": "ipython3",
   "version": "3.11.4"
  }
 },
 "nbformat": 4,
 "nbformat_minor": 5
}
