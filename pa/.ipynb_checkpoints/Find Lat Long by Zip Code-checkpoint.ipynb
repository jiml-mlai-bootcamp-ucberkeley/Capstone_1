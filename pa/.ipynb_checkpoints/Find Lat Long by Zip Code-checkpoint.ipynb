{
 "cells": [
  {
   "cell_type": "code",
   "execution_count": 1,
   "id": "6d8db377",
   "metadata": {},
   "outputs": [],
   "source": [
    "from warnings import filterwarnings \n",
    "filterwarnings(\"ignore\")\n",
    "\n",
    "import pandas as pd\n",
    "import numpy as np"
   ]
  },
  {
   "cell_type": "code",
   "execution_count": 2,
   "id": "29612711",
   "metadata": {},
   "outputs": [],
   "source": [
    "pa_realtor_data_df = pd.read_csv('Pennsylvania-realtor-data.csv')\n",
    "pa_realtor_data_df[\"prev_sold_year\"] = pd.to_datetime(pa_realtor_data_df[\"prev_sold_date\"], format='%Y-%m-%d').dt.year"
   ]
  },
  {
   "cell_type": "code",
   "execution_count": 3,
   "id": "c7ed6068",
   "metadata": {},
   "outputs": [
    {
     "name": "stdout",
     "output_type": "stream",
     "text": [
      "<class 'pandas.core.frame.DataFrame'>\n",
      "Int64Index: 2475 entries, 7 to 9545\n",
      "Data columns (total 11 columns):\n",
      " #   Column          Non-Null Count  Dtype  \n",
      "---  ------          --------------  -----  \n",
      " 0   Unnamed: 0      2475 non-null   int64  \n",
      " 1   status          2475 non-null   object \n",
      " 2   bed             2387 non-null   float64\n",
      " 3   bath            2281 non-null   float64\n",
      " 4   acre_lot        2254 non-null   float64\n",
      " 5   city            2475 non-null   object \n",
      " 6   state           2475 non-null   object \n",
      " 7   zip_code        2475 non-null   float64\n",
      " 8   house_size      2372 non-null   float64\n",
      " 9   prev_sold_date  2475 non-null   object \n",
      " 10  price           2475 non-null   float64\n",
      "dtypes: float64(6), int64(1), object(4)\n",
      "memory usage: 232.0+ KB\n"
     ]
    }
   ],
   "source": [
    "realtor_data_df = pa_realtor_data_df[(pa_realtor_data_df[\"prev_sold_year\"] > 2015.0) &\n",
    "                                     (pa_realtor_data_df[\"state\"].isin([\"Pennsylvania\"])) &\n",
    "                                     (pa_realtor_data_df[\"status\"] == \"for_sale\") \n",
    "                                    ]\n",
    "realtor_data_df.drop(columns=[\"prev_sold_year\"],inplace=True)\n",
    "realtor_data_df.info()"
   ]
  },
  {
   "cell_type": "code",
   "execution_count": 4,
   "id": "aeefc3c3",
   "metadata": {},
   "outputs": [
    {
     "data": {
      "text/plain": [
       "162"
      ]
     },
     "execution_count": 4,
     "metadata": {},
     "output_type": "execute_result"
    }
   ],
   "source": [
    "zipcodes = realtor_data_df[\"zip_code\"]\n",
    "len(zipcodes.unique())"
   ]
  },
  {
   "cell_type": "code",
   "execution_count": 5,
   "id": "7846aeff",
   "metadata": {},
   "outputs": [
    {
     "data": {
      "text/html": [
       "<div>\n",
       "<style scoped>\n",
       "    .dataframe tbody tr th:only-of-type {\n",
       "        vertical-align: middle;\n",
       "    }\n",
       "\n",
       "    .dataframe tbody tr th {\n",
       "        vertical-align: top;\n",
       "    }\n",
       "\n",
       "    .dataframe thead th {\n",
       "        text-align: right;\n",
       "    }\n",
       "</style>\n",
       "<table border=\"1\" class=\"dataframe\">\n",
       "  <thead>\n",
       "    <tr style=\"text-align: right;\">\n",
       "      <th></th>\n",
       "      <th>ZIP</th>\n",
       "      <th>LAT</th>\n",
       "      <th>LNG</th>\n",
       "    </tr>\n",
       "  </thead>\n",
       "  <tbody>\n",
       "    <tr>\n",
       "      <th>0</th>\n",
       "      <td>601</td>\n",
       "      <td>18.180555</td>\n",
       "      <td>-66.749961</td>\n",
       "    </tr>\n",
       "    <tr>\n",
       "      <th>1</th>\n",
       "      <td>602</td>\n",
       "      <td>18.361945</td>\n",
       "      <td>-67.175597</td>\n",
       "    </tr>\n",
       "    <tr>\n",
       "      <th>2</th>\n",
       "      <td>603</td>\n",
       "      <td>18.455183</td>\n",
       "      <td>-67.119887</td>\n",
       "    </tr>\n",
       "    <tr>\n",
       "      <th>3</th>\n",
       "      <td>606</td>\n",
       "      <td>18.158345</td>\n",
       "      <td>-66.932911</td>\n",
       "    </tr>\n",
       "    <tr>\n",
       "      <th>4</th>\n",
       "      <td>610</td>\n",
       "      <td>18.295366</td>\n",
       "      <td>-67.125135</td>\n",
       "    </tr>\n",
       "  </tbody>\n",
       "</table>\n",
       "</div>"
      ],
      "text/plain": [
       "   ZIP        LAT        LNG\n",
       "0  601  18.180555 -66.749961\n",
       "1  602  18.361945 -67.175597\n",
       "2  603  18.455183 -67.119887\n",
       "3  606  18.158345 -66.932911\n",
       "4  610  18.295366 -67.125135"
      ]
     },
     "execution_count": 5,
     "metadata": {},
     "output_type": "execute_result"
    }
   ],
   "source": [
    "zip_lon_lat = pd.read_csv('../../../zip_lat_long.csv')\n",
    "zip_lon_lat.head()"
   ]
  },
  {
   "cell_type": "code",
   "execution_count": 7,
   "id": "739bea9c",
   "metadata": {},
   "outputs": [],
   "source": [
    "merged_df = zip_lon_lat[zip_lon_lat[\"ZIP\"].isin(zipcodes.unique())]"
   ]
  },
  {
   "cell_type": "code",
   "execution_count": 8,
   "id": "8f35b383",
   "metadata": {},
   "outputs": [
    {
     "data": {
      "text/html": [
       "<div>\n",
       "<style scoped>\n",
       "    .dataframe tbody tr th:only-of-type {\n",
       "        vertical-align: middle;\n",
       "    }\n",
       "\n",
       "    .dataframe tbody tr th {\n",
       "        vertical-align: top;\n",
       "    }\n",
       "\n",
       "    .dataframe thead th {\n",
       "        text-align: right;\n",
       "    }\n",
       "</style>\n",
       "<table border=\"1\" class=\"dataframe\">\n",
       "  <thead>\n",
       "    <tr style=\"text-align: right;\">\n",
       "      <th></th>\n",
       "      <th>ZIP</th>\n",
       "      <th>LAT</th>\n",
       "      <th>LNG</th>\n",
       "    </tr>\n",
       "  </thead>\n",
       "  <tbody>\n",
       "    <tr>\n",
       "      <th>5204</th>\n",
       "      <td>16914</td>\n",
       "      <td>41.854230</td>\n",
       "      <td>-76.783664</td>\n",
       "    </tr>\n",
       "    <tr>\n",
       "      <th>5211</th>\n",
       "      <td>16925</td>\n",
       "      <td>41.948556</td>\n",
       "      <td>-76.783808</td>\n",
       "    </tr>\n",
       "    <tr>\n",
       "      <th>5616</th>\n",
       "      <td>18013</td>\n",
       "      <td>40.848762</td>\n",
       "      <td>-75.177293</td>\n",
       "    </tr>\n",
       "    <tr>\n",
       "      <th>5658</th>\n",
       "      <td>18077</td>\n",
       "      <td>40.570065</td>\n",
       "      <td>-75.237114</td>\n",
       "    </tr>\n",
       "    <tr>\n",
       "      <th>5715</th>\n",
       "      <td>18301</td>\n",
       "      <td>41.042703</td>\n",
       "      <td>-75.175581</td>\n",
       "    </tr>\n",
       "    <tr>\n",
       "      <th>...</th>\n",
       "      <td>...</td>\n",
       "      <td>...</td>\n",
       "      <td>...</td>\n",
       "    </tr>\n",
       "    <tr>\n",
       "      <th>6062</th>\n",
       "      <td>19355</td>\n",
       "      <td>40.046452</td>\n",
       "      <td>-75.532998</td>\n",
       "    </tr>\n",
       "    <tr>\n",
       "      <th>6073</th>\n",
       "      <td>19382</td>\n",
       "      <td>39.927665</td>\n",
       "      <td>-75.613166</td>\n",
       "    </tr>\n",
       "    <tr>\n",
       "      <th>6083</th>\n",
       "      <td>19428</td>\n",
       "      <td>40.080337</td>\n",
       "      <td>-75.300461</td>\n",
       "    </tr>\n",
       "    <tr>\n",
       "      <th>6090</th>\n",
       "      <td>19444</td>\n",
       "      <td>40.087755</td>\n",
       "      <td>-75.253168</td>\n",
       "    </tr>\n",
       "    <tr>\n",
       "      <th>6097</th>\n",
       "      <td>19462</td>\n",
       "      <td>40.115345</td>\n",
       "      <td>-75.281990</td>\n",
       "    </tr>\n",
       "  </tbody>\n",
       "</table>\n",
       "<p>162 rows × 3 columns</p>\n",
       "</div>"
      ],
      "text/plain": [
       "        ZIP        LAT        LNG\n",
       "5204  16914  41.854230 -76.783664\n",
       "5211  16925  41.948556 -76.783808\n",
       "5616  18013  40.848762 -75.177293\n",
       "5658  18077  40.570065 -75.237114\n",
       "5715  18301  41.042703 -75.175581\n",
       "...     ...        ...        ...\n",
       "6062  19355  40.046452 -75.532998\n",
       "6073  19382  39.927665 -75.613166\n",
       "6083  19428  40.080337 -75.300461\n",
       "6090  19444  40.087755 -75.253168\n",
       "6097  19462  40.115345 -75.281990\n",
       "\n",
       "[162 rows x 3 columns]"
      ]
     },
     "execution_count": 8,
     "metadata": {},
     "output_type": "execute_result"
    }
   ],
   "source": [
    "merged_df"
   ]
  },
  {
   "cell_type": "code",
   "execution_count": null,
   "id": "864c8fbf",
   "metadata": {},
   "outputs": [],
   "source": [
    "merged_df.to_csv('pa_zip-lon-lat.csv')"
   ]
  },
  {
   "cell_type": "code",
   "execution_count": null,
   "id": "49e5ba5c",
   "metadata": {},
   "outputs": [],
   "source": []
  }
 ],
 "metadata": {
  "kernelspec": {
   "display_name": "Python 3 (ipykernel)",
   "language": "python",
   "name": "python3"
  },
  "language_info": {
   "codemirror_mode": {
    "name": "ipython",
    "version": 3
   },
   "file_extension": ".py",
   "mimetype": "text/x-python",
   "name": "python",
   "nbconvert_exporter": "python",
   "pygments_lexer": "ipython3",
   "version": "3.11.4"
  }
 },
 "nbformat": 4,
 "nbformat_minor": 5
}
