{
 "cells": [
  {
   "cell_type": "markdown",
   "id": "1f609c49",
   "metadata": {},
   "source": [
    "### The Lasso is a linear model that estimates sparse coefficients. It is useful in some contexts due to its tendency to prefer solutions with fewer non-zero coefficients, effectively reducing the number of features upon which the given solution is dependent. "
   ]
  },
  {
   "cell_type": "code",
   "execution_count": 1,
   "id": "935863f7",
   "metadata": {},
   "outputs": [],
   "source": [
    "from warnings import filterwarnings\n",
    "filterwarnings(\"ignore\")\n",
    "\n",
    "import pandas as pd\n",
    "import matplotlib.pyplot as plt\n",
    "import numpy as np\n",
    "\n",
    "from sklearn.linear_model import LinearRegression, Lasso\n",
    "from sklearn.feature_selection import SequentialFeatureSelector, RFE, SelectFromModel\n",
    "from sklearn.pipeline import Pipeline\n",
    "\n",
    "from sklearn.model_selection import train_test_split, cross_val_score, GridSearchCV\n",
    "from sklearn.metrics import mean_squared_error, mean_absolute_error, r2_score, accuracy_score, explained_variance_score"
   ]
  },
  {
   "cell_type": "code",
   "execution_count": 2,
   "id": "e76f44b1",
   "metadata": {},
   "outputs": [],
   "source": [
    "outliers_df = pd.read_csv('outliers.csv')\n",
    "outliers_df.drop(columns=[\"Unnamed: 0\"],inplace=True)"
   ]
  },
  {
   "cell_type": "code",
   "execution_count": 3,
   "id": "3a3b5d51",
   "metadata": {},
   "outputs": [
    {
     "name": "stdout",
     "output_type": "stream",
     "text": [
      "<class 'pandas.core.frame.DataFrame'>\n",
      "RangeIndex: 2702 entries, 0 to 2701\n",
      "Data columns (total 7 columns):\n",
      " #   Column          Non-Null Count  Dtype  \n",
      "---  ------          --------------  -----  \n",
      " 0   bed             2702 non-null   float64\n",
      " 1   bath            2702 non-null   float64\n",
      " 2   acre_lot        2702 non-null   float64\n",
      " 3   zip_code        2702 non-null   float64\n",
      " 4   house_size      2702 non-null   float64\n",
      " 5   prev_sold_date  2702 non-null   object \n",
      " 6   price           2702 non-null   float64\n",
      "dtypes: float64(6), object(1)\n",
      "memory usage: 147.9+ KB\n"
     ]
    }
   ],
   "source": [
    "outliers_df.info()"
   ]
  },
  {
   "cell_type": "markdown",
   "id": "5e110f98",
   "metadata": {},
   "source": [
    "#### Create new feature prev_sold_year from prev_sold_date"
   ]
  },
  {
   "cell_type": "code",
   "execution_count": 4,
   "id": "21530dc5",
   "metadata": {},
   "outputs": [
    {
     "name": "stdout",
     "output_type": "stream",
     "text": [
      "<class 'pandas.core.frame.DataFrame'>\n",
      "RangeIndex: 2702 entries, 0 to 2701\n",
      "Data columns (total 7 columns):\n",
      " #   Column          Non-Null Count  Dtype  \n",
      "---  ------          --------------  -----  \n",
      " 0   bed             2702 non-null   float64\n",
      " 1   bath            2702 non-null   float64\n",
      " 2   acre_lot        2702 non-null   float64\n",
      " 3   zip_code        2702 non-null   float64\n",
      " 4   house_size      2702 non-null   float64\n",
      " 5   price           2702 non-null   float64\n",
      " 6   prev_sold_year  2702 non-null   int64  \n",
      "dtypes: float64(6), int64(1)\n",
      "memory usage: 147.9 KB\n"
     ]
    }
   ],
   "source": [
    "outliers_df[\"prev_sold_year\"] = pd.to_datetime(outliers_df[\"prev_sold_date\"], format='%Y-%m-%d').dt.year\n",
    "outliers_df.drop(columns=[\"prev_sold_date\"],inplace=True)\n",
    "outliers_df.info()"
   ]
  },
  {
   "cell_type": "markdown",
   "id": "1ded0c14",
   "metadata": {},
   "source": [
    "#### Create a new feature in the housing data for Zip Code with a leading zero"
   ]
  },
  {
   "cell_type": "code",
   "execution_count": 5,
   "id": "19d597e7",
   "metadata": {},
   "outputs": [
    {
     "data": {
      "text/html": [
       "<div>\n",
       "<style scoped>\n",
       "    .dataframe tbody tr th:only-of-type {\n",
       "        vertical-align: middle;\n",
       "    }\n",
       "\n",
       "    .dataframe tbody tr th {\n",
       "        vertical-align: top;\n",
       "    }\n",
       "\n",
       "    .dataframe thead th {\n",
       "        text-align: right;\n",
       "    }\n",
       "</style>\n",
       "<table border=\"1\" class=\"dataframe\">\n",
       "  <thead>\n",
       "    <tr style=\"text-align: right;\">\n",
       "      <th></th>\n",
       "      <th>bed</th>\n",
       "      <th>bath</th>\n",
       "      <th>acre_lot</th>\n",
       "      <th>zip_code</th>\n",
       "      <th>house_size</th>\n",
       "      <th>price</th>\n",
       "      <th>prev_sold_year</th>\n",
       "      <th>zip_code_str</th>\n",
       "    </tr>\n",
       "  </thead>\n",
       "  <tbody>\n",
       "    <tr>\n",
       "      <th>0</th>\n",
       "      <td>4.0</td>\n",
       "      <td>3.0</td>\n",
       "      <td>2.34</td>\n",
       "      <td>6238.0</td>\n",
       "      <td>3320.0</td>\n",
       "      <td>579900.0</td>\n",
       "      <td>2021</td>\n",
       "      <td>06238</td>\n",
       "    </tr>\n",
       "    <tr>\n",
       "      <th>1</th>\n",
       "      <td>1.0</td>\n",
       "      <td>1.0</td>\n",
       "      <td>0.17</td>\n",
       "      <td>6279.0</td>\n",
       "      <td>680.0</td>\n",
       "      <td>65000.0</td>\n",
       "      <td>2019</td>\n",
       "      <td>06279</td>\n",
       "    </tr>\n",
       "    <tr>\n",
       "      <th>2</th>\n",
       "      <td>2.0</td>\n",
       "      <td>1.0</td>\n",
       "      <td>0.36</td>\n",
       "      <td>6066.0</td>\n",
       "      <td>860.0</td>\n",
       "      <td>144900.0</td>\n",
       "      <td>2016</td>\n",
       "      <td>06066</td>\n",
       "    </tr>\n",
       "    <tr>\n",
       "      <th>3</th>\n",
       "      <td>2.0</td>\n",
       "      <td>2.0</td>\n",
       "      <td>0.17</td>\n",
       "      <td>6074.0</td>\n",
       "      <td>1168.0</td>\n",
       "      <td>172500.0</td>\n",
       "      <td>2020</td>\n",
       "      <td>06074</td>\n",
       "    </tr>\n",
       "    <tr>\n",
       "      <th>4</th>\n",
       "      <td>3.0</td>\n",
       "      <td>2.0</td>\n",
       "      <td>0.87</td>\n",
       "      <td>6066.0</td>\n",
       "      <td>1850.0</td>\n",
       "      <td>299900.0</td>\n",
       "      <td>2015</td>\n",
       "      <td>06066</td>\n",
       "    </tr>\n",
       "  </tbody>\n",
       "</table>\n",
       "</div>"
      ],
      "text/plain": [
       "   bed  bath  acre_lot  zip_code  house_size     price  prev_sold_year  \\\n",
       "0  4.0   3.0      2.34    6238.0      3320.0  579900.0            2021   \n",
       "1  1.0   1.0      0.17    6279.0       680.0   65000.0            2019   \n",
       "2  2.0   1.0      0.36    6066.0       860.0  144900.0            2016   \n",
       "3  2.0   2.0      0.17    6074.0      1168.0  172500.0            2020   \n",
       "4  3.0   2.0      0.87    6066.0      1850.0  299900.0            2015   \n",
       "\n",
       "  zip_code_str  \n",
       "0        06238  \n",
       "1        06279  \n",
       "2        06066  \n",
       "3        06074  \n",
       "4        06066  "
      ]
     },
     "execution_count": 5,
     "metadata": {},
     "output_type": "execute_result"
    }
   ],
   "source": [
    "outliers_df[\"zip_code_str\"] = np.where(outliers_df.zip_code.apply(int) < 7000,'0'+ outliers_df.zip_code.apply(int).apply(str),outliers_df.zip_code.apply(int).apply(str))\n",
    "outliers_df.head()"
   ]
  },
  {
   "cell_type": "markdown",
   "id": "837bb3a9",
   "metadata": {},
   "source": [
    "#### Create a new feature in the Lat/Long data for Zip Code with a leading zero"
   ]
  },
  {
   "cell_type": "code",
   "execution_count": 6,
   "id": "93d95fc6",
   "metadata": {},
   "outputs": [
    {
     "data": {
      "text/html": [
       "<div>\n",
       "<style scoped>\n",
       "    .dataframe tbody tr th:only-of-type {\n",
       "        vertical-align: middle;\n",
       "    }\n",
       "\n",
       "    .dataframe tbody tr th {\n",
       "        vertical-align: top;\n",
       "    }\n",
       "\n",
       "    .dataframe thead th {\n",
       "        text-align: right;\n",
       "    }\n",
       "</style>\n",
       "<table border=\"1\" class=\"dataframe\">\n",
       "  <thead>\n",
       "    <tr style=\"text-align: right;\">\n",
       "      <th></th>\n",
       "      <th>zip_code</th>\n",
       "      <th>latitude</th>\n",
       "      <th>longitude</th>\n",
       "      <th>zip_code_str</th>\n",
       "    </tr>\n",
       "  </thead>\n",
       "  <tbody>\n",
       "    <tr>\n",
       "      <th>0</th>\n",
       "      <td>6001</td>\n",
       "      <td>41.787159</td>\n",
       "      <td>-72.852046</td>\n",
       "      <td>06001</td>\n",
       "    </tr>\n",
       "    <tr>\n",
       "      <th>1</th>\n",
       "      <td>6002</td>\n",
       "      <td>41.844930</td>\n",
       "      <td>-72.740951</td>\n",
       "      <td>06002</td>\n",
       "    </tr>\n",
       "    <tr>\n",
       "      <th>2</th>\n",
       "      <td>6010</td>\n",
       "      <td>41.681578</td>\n",
       "      <td>-72.940749</td>\n",
       "      <td>06010</td>\n",
       "    </tr>\n",
       "    <tr>\n",
       "      <th>3</th>\n",
       "      <td>6013</td>\n",
       "      <td>41.749079</td>\n",
       "      <td>-72.948657</td>\n",
       "      <td>06013</td>\n",
       "    </tr>\n",
       "    <tr>\n",
       "      <th>4</th>\n",
       "      <td>6016</td>\n",
       "      <td>41.901899</td>\n",
       "      <td>-72.547432</td>\n",
       "      <td>06016</td>\n",
       "    </tr>\n",
       "  </tbody>\n",
       "</table>\n",
       "</div>"
      ],
      "text/plain": [
       "   zip_code   latitude  longitude zip_code_str\n",
       "0      6001  41.787159 -72.852046        06001\n",
       "1      6002  41.844930 -72.740951        06002\n",
       "2      6010  41.681578 -72.940749        06010\n",
       "3      6013  41.749079 -72.948657        06013\n",
       "4      6016  41.901899 -72.547432        06016"
      ]
     },
     "execution_count": 6,
     "metadata": {},
     "output_type": "execute_result"
    }
   ],
   "source": [
    "zip_lon_lat = pd.read_csv('ct_zip-lon-lat.csv')\n",
    "zip_lon_lat[\"zip_code_str\"] = np.where(zip_lon_lat.zip_code.apply(int) < 7000,'0'+ zip_lon_lat.zip_code.apply(int).apply(str),zip_lon_lat.zip_code.apply(int).apply(str))\n",
    "zip_lon_lat.head()"
   ]
  },
  {
   "cell_type": "markdown",
   "id": "e89f1168",
   "metadata": {},
   "source": [
    "#### Merge the Lat/Long data with the housing data using Zip Code with a leading zero"
   ]
  },
  {
   "cell_type": "code",
   "execution_count": 7,
   "id": "ade43a01",
   "metadata": {},
   "outputs": [
    {
     "data": {
      "text/html": [
       "<div>\n",
       "<style scoped>\n",
       "    .dataframe tbody tr th:only-of-type {\n",
       "        vertical-align: middle;\n",
       "    }\n",
       "\n",
       "    .dataframe tbody tr th {\n",
       "        vertical-align: top;\n",
       "    }\n",
       "\n",
       "    .dataframe thead th {\n",
       "        text-align: right;\n",
       "    }\n",
       "</style>\n",
       "<table border=\"1\" class=\"dataframe\">\n",
       "  <thead>\n",
       "    <tr style=\"text-align: right;\">\n",
       "      <th></th>\n",
       "      <th>bed</th>\n",
       "      <th>bath</th>\n",
       "      <th>acre_lot</th>\n",
       "      <th>zip_code_x</th>\n",
       "      <th>house_size</th>\n",
       "      <th>price</th>\n",
       "      <th>prev_sold_year</th>\n",
       "      <th>zip_code_str</th>\n",
       "      <th>zip_code_y</th>\n",
       "      <th>latitude</th>\n",
       "      <th>longitude</th>\n",
       "    </tr>\n",
       "  </thead>\n",
       "  <tbody>\n",
       "    <tr>\n",
       "      <th>2697</th>\n",
       "      <td>2.0</td>\n",
       "      <td>2.0</td>\n",
       "      <td>0.17</td>\n",
       "      <td>6907.0</td>\n",
       "      <td>1031.0</td>\n",
       "      <td>349900.0</td>\n",
       "      <td>2020</td>\n",
       "      <td>06907</td>\n",
       "      <td>6907</td>\n",
       "      <td>41.100918</td>\n",
       "      <td>-73.520517</td>\n",
       "    </tr>\n",
       "    <tr>\n",
       "      <th>2698</th>\n",
       "      <td>3.0</td>\n",
       "      <td>3.0</td>\n",
       "      <td>0.17</td>\n",
       "      <td>6907.0</td>\n",
       "      <td>1738.0</td>\n",
       "      <td>469000.0</td>\n",
       "      <td>2017</td>\n",
       "      <td>06907</td>\n",
       "      <td>6907</td>\n",
       "      <td>41.100918</td>\n",
       "      <td>-73.520517</td>\n",
       "    </tr>\n",
       "    <tr>\n",
       "      <th>2699</th>\n",
       "      <td>1.0</td>\n",
       "      <td>1.0</td>\n",
       "      <td>0.17</td>\n",
       "      <td>6907.0</td>\n",
       "      <td>844.0</td>\n",
       "      <td>275000.0</td>\n",
       "      <td>2018</td>\n",
       "      <td>06907</td>\n",
       "      <td>6907</td>\n",
       "      <td>41.100918</td>\n",
       "      <td>-73.520517</td>\n",
       "    </tr>\n",
       "    <tr>\n",
       "      <th>2700</th>\n",
       "      <td>3.0</td>\n",
       "      <td>4.0</td>\n",
       "      <td>1.00</td>\n",
       "      <td>6896.0</td>\n",
       "      <td>2471.0</td>\n",
       "      <td>729000.0</td>\n",
       "      <td>2019</td>\n",
       "      <td>06896</td>\n",
       "      <td>6896</td>\n",
       "      <td>41.305415</td>\n",
       "      <td>-73.392584</td>\n",
       "    </tr>\n",
       "    <tr>\n",
       "      <th>2701</th>\n",
       "      <td>3.0</td>\n",
       "      <td>4.0</td>\n",
       "      <td>0.17</td>\n",
       "      <td>6896.0</td>\n",
       "      <td>2408.0</td>\n",
       "      <td>750000.0</td>\n",
       "      <td>2017</td>\n",
       "      <td>06896</td>\n",
       "      <td>6896</td>\n",
       "      <td>41.305415</td>\n",
       "      <td>-73.392584</td>\n",
       "    </tr>\n",
       "  </tbody>\n",
       "</table>\n",
       "</div>"
      ],
      "text/plain": [
       "      bed  bath  acre_lot  zip_code_x  house_size     price  prev_sold_year  \\\n",
       "2697  2.0   2.0      0.17      6907.0      1031.0  349900.0            2020   \n",
       "2698  3.0   3.0      0.17      6907.0      1738.0  469000.0            2017   \n",
       "2699  1.0   1.0      0.17      6907.0       844.0  275000.0            2018   \n",
       "2700  3.0   4.0      1.00      6896.0      2471.0  729000.0            2019   \n",
       "2701  3.0   4.0      0.17      6896.0      2408.0  750000.0            2017   \n",
       "\n",
       "     zip_code_str  zip_code_y   latitude  longitude  \n",
       "2697        06907        6907  41.100918 -73.520517  \n",
       "2698        06907        6907  41.100918 -73.520517  \n",
       "2699        06907        6907  41.100918 -73.520517  \n",
       "2700        06896        6896  41.305415 -73.392584  \n",
       "2701        06896        6896  41.305415 -73.392584  "
      ]
     },
     "execution_count": 7,
     "metadata": {},
     "output_type": "execute_result"
    }
   ],
   "source": [
    "merged_df = pd.merge(outliers_df, zip_lon_lat, how='inner', on=\"zip_code_str\")\n",
    "merged_df.tail()"
   ]
  },
  {
   "cell_type": "code",
   "execution_count": null,
   "id": "38198df2",
   "metadata": {},
   "outputs": [],
   "source": []
  },
  {
   "cell_type": "markdown",
   "id": "7a92b1a9",
   "metadata": {},
   "source": [
    "#### Create common variables to store frequently used values."
   ]
  },
  {
   "cell_type": "code",
   "execution_count": 8,
   "id": "aa1c1059",
   "metadata": {},
   "outputs": [],
   "source": [
    "features = [\"latitude\",\"longitude\",\"bed\",\"bath\",\"acre_lot\",\"house_size\",\"prev_sold_year\"]\n",
    "num_features_to_select = len(features)-1\n",
    "random_state_value = 42"
   ]
  },
  {
   "cell_type": "markdown",
   "id": "45464322",
   "metadata": {},
   "source": [
    "#### Datasets for modeling, testing the models, and making predictions."
   ]
  },
  {
   "cell_type": "code",
   "execution_count": 9,
   "id": "7bff4fc2",
   "metadata": {},
   "outputs": [],
   "source": [
    "X = merged_df[features]\n",
    "y = merged_df[\"price\"]\n",
    "X_train, X_test, y_train, y_test = train_test_split(X, y, test_size=0.3, random_state=random_state_value)"
   ]
  },
  {
   "cell_type": "markdown",
   "id": "d0515e0c",
   "metadata": {},
   "source": [
    "#### Variable to store the results generated by the models."
   ]
  },
  {
   "cell_type": "code",
   "execution_count": 10,
   "id": "f838ce1b",
   "metadata": {},
   "outputs": [],
   "source": [
    "results_dict = {\"model\":[], \"explained variance score\":[],\"mae score\":[],\"mse score\":[],\"r2 score\":[], \"mean fit time\":[]}"
   ]
  },
  {
   "cell_type": "markdown",
   "id": "81e62e11",
   "metadata": {},
   "source": [
    "#### Function to format the results generated by the models."
   ]
  },
  {
   "cell_type": "code",
   "execution_count": 11,
   "id": "569c4d1c",
   "metadata": {},
   "outputs": [],
   "source": [
    "def print_more_stuff(title, y_param, predict_param, gscv):\n",
    "    results_dict[\"model\"].append(title)\n",
    "    \n",
    "    evs = \"{:.9f}\".format(explained_variance_score(y_param,predict_param))\n",
    "    mae = \"{:,.6f}\".format(mean_absolute_error(y_param,predict_param))\n",
    "    mse = \"{:,.6f}\".format(mean_squared_error(y_param,predict_param))\n",
    "    r2 = \"{:,.6f}\".format(r2_score(y_param,predict_param))\n",
    "    \n",
    "    #find_best_params = gscv.cv_results_[\"params\"].index(gscv.best_params_)\n",
    "    #mean_fit_time = gscv.cv_results_[\"mean_fit_time\"][find_best_params]\n",
    "    mean_fit_time = gscv.cv_results_[\"mean_fit_time\"][gscv.best_index_]\n",
    "    \n",
    "    results_dict[\"explained variance score\"].append(evs)\n",
    "    results_dict[\"mae score\"].append(mae)\n",
    "    results_dict[\"mse score\"].append(mse)\n",
    "    results_dict[\"r2 score\"].append(r2)\n",
    "    results_dict[\"mean fit time\"].append(mean_fit_time)\n",
    "    \n",
    "    print(title + \" EVS = \" + evs)\n",
    "    print(title + \" MSE = \" + mse)\n",
    "    print(title + \" MAE = \" + mae)\n",
    "    print(title + \" R2 = \" + r2)\n",
    "    print(title + \" Fit Time = \" + str(mean_fit_time))"
   ]
  },
  {
   "cell_type": "markdown",
   "id": "bfb9e504",
   "metadata": {},
   "source": [
    "#### Create common variables that will be used in the Notebook"
   ]
  },
  {
   "cell_type": "code",
   "execution_count": 12,
   "id": "2f5a5547",
   "metadata": {},
   "outputs": [],
   "source": [
    "lasso = Lasso(random_state=42)\n",
    "lasso_sfs = SequentialFeatureSelector(estimator=lasso, n_features_to_select=num_features_to_select)\n",
    "lasso_sfm = SelectFromModel(estimator=lasso, threshold=1000)\n",
    "lasso_rfe = RFE(estimator=lasso, n_features_to_select=num_features_to_select)"
   ]
  },
  {
   "cell_type": "markdown",
   "id": "702bb745",
   "metadata": {},
   "source": [
    "#### Use Grid Search CV to find the best Hyperparameters for Lasso Regression"
   ]
  },
  {
   "cell_type": "code",
   "execution_count": 13,
   "id": "2b5410a2",
   "metadata": {},
   "outputs": [
    {
     "name": "stdout",
     "output_type": "stream",
     "text": [
      "Best parameters found: {'alpha': 1e-14}\n"
     ]
    }
   ],
   "source": [
    "myrange = []\n",
    "for i in range(12,17):\n",
    "    myrange.append(10**-i)\n",
    "param_dict = {'alpha': myrange}\n",
    "lasso_gscv = GridSearchCV(Lasso(), param_grid=param_dict, scoring='neg_mean_squared_error')\n",
    "lasso_gscv_model = lasso_gscv.fit(X, y)\n",
    "print(f\"Best parameters found: {lasso_gscv.best_params_}\")"
   ]
  },
  {
   "cell_type": "code",
   "execution_count": 14,
   "id": "9f28d946",
   "metadata": {},
   "outputs": [
    {
     "name": "stdout",
     "output_type": "stream",
     "text": [
      "Lasso Best Params EVS = 0.513965554\n",
      "Lasso Best Params MSE = 77,132,189,959.752441\n",
      "Lasso Best Params MAE = 162,493.986932\n",
      "Lasso Best Params R2 = 0.513606\n",
      "Lasso Best Params Fit Time = 0.006459569931030274\n"
     ]
    }
   ],
   "source": [
    "lasso = Lasso(**lasso_gscv.best_params_)\n",
    "lasso_bp_gscv = GridSearchCV(lasso, param_grid={})\n",
    "lasso_bp_model = lasso_bp_gscv.fit(X_train,y_train)\n",
    "lasso_bp_predict = lasso_bp_model.predict(X_test)\n",
    "\n",
    "print_more_stuff(\"Lasso Best Params\", y_test, lasso_bp_predict, lasso_bp_gscv)"
   ]
  },
  {
   "cell_type": "code",
   "execution_count": null,
   "id": "97829f9c",
   "metadata": {},
   "outputs": [],
   "source": []
  },
  {
   "cell_type": "markdown",
   "id": "114dd94d",
   "metadata": {},
   "source": [
    "### SelectFromModel is a meta-transformer that can be used alongside any estimator that assigns importance to each feature through a specific attribute or via an importance_getter callable after fitting. The features are considered unimportant and removed if the corresponding importance of the feature values are below the provided threshold parameter."
   ]
  },
  {
   "cell_type": "code",
   "execution_count": 15,
   "id": "aaf5ed58",
   "metadata": {},
   "outputs": [
    {
     "name": "stdout",
     "output_type": "stream",
     "text": [
      "The selected features are: ['latitude', 'longitude', 'bed', 'bath', 'acre_lot', 'prev_sold_year']\n"
     ]
    }
   ],
   "source": [
    "lasso_sfm_pipeline = Pipeline([\n",
    "  ('feature_selection', lasso_sfm),\n",
    "  ('regression', lasso)\n",
    "])\n",
    "\n",
    "lasso_sfm_fs = lasso_sfm_pipeline.named_steps['feature_selection'].fit(X,y)\n",
    "lasso_sfm_selected_features = lasso_sfm_fs.get_support()\n",
    "\n",
    "print('The selected features are:', list(X.columns[lasso_sfm_selected_features]))"
   ]
  },
  {
   "cell_type": "code",
   "execution_count": 16,
   "id": "c136f6ef",
   "metadata": {},
   "outputs": [],
   "source": [
    "X_sfm = merged_df[list(X.columns[lasso_sfm_selected_features])]\n",
    "y_sfm = merged_df[\"price\"]\n",
    "X_sfm_train, X_sfm_test, y_sfm_train, y_sfm_test = train_test_split(X_sfm, y_sfm, test_size=0.3, random_state=random_state_value)"
   ]
  },
  {
   "cell_type": "code",
   "execution_count": 17,
   "id": "1f957e58",
   "metadata": {},
   "outputs": [
    {
     "name": "stdout",
     "output_type": "stream",
     "text": [
      "Select From Model EVS = 0.442556051\n",
      "Select From Model MSE = 88,401,533,318.343323\n",
      "Select From Model MAE = 179,576.577023\n",
      "Select From Model R2 = 0.442542\n",
      "Select From Model Fit Time = 0.0013978958129882812\n"
     ]
    }
   ],
   "source": [
    "lasso_sfm_gscv = GridSearchCV(Lasso(), param_grid={})\n",
    "lasso_sfm_model = lasso_sfm_gscv.fit(X_sfm_train,y_sfm_train)\n",
    "lasso_sfm_predict = lasso_sfm_model.predict(X_sfm_test)\n",
    "\n",
    "print_more_stuff(\"Select From Model\",y_sfm_test,lasso_sfm_predict,lasso_sfm_gscv)"
   ]
  },
  {
   "cell_type": "markdown",
   "id": "3411aad9",
   "metadata": {},
   "source": [
    "###  Sequential Feature Selector (forward selection) adds features to form a feature subset in a greedy fashion. At each stage, this estimator chooses the best feature to add or remove based on the cross-validation score of an estimator."
   ]
  },
  {
   "cell_type": "code",
   "execution_count": 18,
   "id": "5148b30d",
   "metadata": {},
   "outputs": [
    {
     "name": "stdout",
     "output_type": "stream",
     "text": [
      "The selected features are: ['latitude', 'longitude', 'bed', 'bath', 'acre_lot', 'house_size']\n"
     ]
    }
   ],
   "source": [
    "lasso_sfs_pipeline = Pipeline([\n",
    "  ('feature_selection', lasso_sfs),\n",
    "  ('regression', lasso)\n",
    "])\n",
    "\n",
    "lasso_sfs_fs = lasso_sfs_pipeline.named_steps['feature_selection'].fit(X,y)\n",
    "lasso_sfs_selected_features = lasso_sfs_fs.get_support()\n",
    "\n",
    "print('The selected features are:', list(X.columns[lasso_sfs_selected_features]))"
   ]
  },
  {
   "cell_type": "code",
   "execution_count": 19,
   "id": "0ab71182",
   "metadata": {},
   "outputs": [],
   "source": [
    "X_sfs = merged_df[list(X.columns[lasso_sfs_selected_features])]\n",
    "y_sfs = merged_df[\"price\"]\n",
    "X_sfs_train, X_sfs_test, y_sfs_train, y_sfs_test = train_test_split(X_sfs, y_sfs, test_size=0.3, random_state=random_state_value)"
   ]
  },
  {
   "cell_type": "code",
   "execution_count": 20,
   "id": "b1a6a127",
   "metadata": {},
   "outputs": [
    {
     "name": "stdout",
     "output_type": "stream",
     "text": [
      "Sequential Feature Selector EVS = 0.513280008\n",
      "Sequential Feature Selector MSE = 77,240,624,470.602570\n",
      "Sequential Feature Selector MAE = 162,660.691148\n",
      "Sequential Feature Selector R2 = 0.512922\n",
      "Sequential Feature Selector Fit Time = 0.0029364585876464843\n"
     ]
    }
   ],
   "source": [
    "lasso_sfs_gscv = GridSearchCV(Lasso(), param_grid={})\n",
    "lasso_sfs_model = lasso_sfs_gscv.fit(X_sfs_train,y_sfs_train)\n",
    "lasso_sfs_predict = lasso_sfs_model.predict(X_sfs_test)\n",
    "\n",
    "print_more_stuff(\"Sequential Feature Selector\",y_sfs_test,lasso_sfs_predict, lasso_sfs_gscv)"
   ]
  },
  {
   "cell_type": "code",
   "execution_count": null,
   "id": "e44cc967",
   "metadata": {},
   "outputs": [],
   "source": []
  },
  {
   "cell_type": "markdown",
   "id": "1fd53a50",
   "metadata": {},
   "source": [
    "### Recursive feature elimination uses an external estimator that assigns weights to features with the goal of selecting features by recursively considering smaller and smaller sets of features."
   ]
  },
  {
   "cell_type": "code",
   "execution_count": 21,
   "id": "fbe24678",
   "metadata": {},
   "outputs": [
    {
     "name": "stdout",
     "output_type": "stream",
     "text": [
      "The selected features are: ['latitude', 'longitude', 'bed', 'bath', 'acre_lot', 'prev_sold_year']\n"
     ]
    }
   ],
   "source": [
    "lasso_rfe_pipeline = Pipeline([\n",
    "  ('feature_selection', lasso_rfe),\n",
    "  ('regression', lasso)\n",
    "])\n",
    "lasso_rfe_fs = lasso_rfe_pipeline.named_steps['feature_selection'].fit(X,y)\n",
    "lasso_rfe_selected_features = lasso_rfe_fs.get_support()\n",
    "\n",
    "print('The selected features are:', list(X.columns[lasso_rfe_selected_features]))"
   ]
  },
  {
   "cell_type": "code",
   "execution_count": 22,
   "id": "68f892f8",
   "metadata": {},
   "outputs": [],
   "source": [
    "X_rfe = merged_df[list(X.columns[lasso_rfe_selected_features])]\n",
    "y_rfe = merged_df[\"price\"]\n",
    "X_rfe_train, X_rfe_test, y_rfe_train, y_rfe_test = train_test_split(X_rfe, y_rfe, test_size=0.3, random_state=random_state_value)"
   ]
  },
  {
   "cell_type": "code",
   "execution_count": 23,
   "id": "88c0b688",
   "metadata": {},
   "outputs": [
    {
     "name": "stdout",
     "output_type": "stream",
     "text": [
      "Recursive Feature Elimination EVS = 0.442556051\n",
      "Recursive Feature Elimination MSE = 88,401,533,318.343323\n",
      "Recursive Feature Elimination MAE = 179,576.577023\n",
      "Recursive Feature Elimination R2 = 0.442542\n",
      "Recursive Feature Elimination Fit Time = 0.001789093017578125\n"
     ]
    }
   ],
   "source": [
    "lasso_rfe_gscv = GridSearchCV(Lasso(), param_grid={})\n",
    "lasso_rfe_model = lasso_rfe_gscv.fit(X_rfe_train,y_rfe_train)\n",
    "lasso_rfe_predict = lasso_rfe_model.predict(X_rfe_test)\n",
    "\n",
    "print_more_stuff(\"Recursive Feature Elimination\",y_rfe_test,lasso_rfe_predict, lasso_rfe_gscv)"
   ]
  },
  {
   "cell_type": "code",
   "execution_count": null,
   "id": "242cd17a",
   "metadata": {},
   "outputs": [],
   "source": []
  },
  {
   "cell_type": "markdown",
   "id": "4051317c",
   "metadata": {},
   "source": [
    "#### Graphing the results works best when the data is provided in a DataFrame."
   ]
  },
  {
   "cell_type": "code",
   "execution_count": 24,
   "id": "69d9ab8b",
   "metadata": {},
   "outputs": [],
   "source": [
    "lasso_bp_predict_df = pd.DataFrame(lasso_bp_predict).reset_index()\n",
    "lasso_bp_predict_df.rename(columns={0: \"prediction\"},inplace=True)\n",
    "\n",
    "lasso_sfm_predict_df = pd.DataFrame(lasso_sfm_predict).reset_index()\n",
    "lasso_sfm_predict_df.rename(columns={0: \"prediction\"},inplace=True)\n",
    "\n",
    "lasso_sfs_predict_df = pd.DataFrame(lasso_sfs_predict).reset_index()\n",
    "lasso_sfs_predict_df.rename(columns={0: \"prediction\"},inplace=True)\n",
    "\n",
    "lasso_rfe_predict_df = pd.DataFrame(lasso_rfe_predict).reset_index()\n",
    "lasso_rfe_predict_df.rename(columns={0: \"prediction\"},inplace=True)\n",
    "\n",
    "y_test_df = pd.DataFrame(y_test).reset_index()"
   ]
  },
  {
   "cell_type": "markdown",
   "id": "ff538c22",
   "metadata": {},
   "source": [
    "#### Scatter Plot graph of the results of Recursive Feature Elimination, Sequential Feature Selection, Select From Model, and Test Data."
   ]
  },
  {
   "cell_type": "code",
   "execution_count": 25,
   "id": "90cf1151",
   "metadata": {},
   "outputs": [
    {
     "data": {
      "image/png": "[encoded data removed]",
      "text/plain": [
       "<Figure size 1000x600 with 1 Axes>"
      ]
     },
     "metadata": {},
     "output_type": "display_data"
    }
   ],
   "source": [
    "fig, ax = plt.subplots(figsize=(10, 6))\n",
    "\n",
    "ax.ticklabel_format(style='plain')\n",
    "ax.yaxis.set_major_formatter('${x:1,.0f}')\n",
    "ax.xaxis.set_major_formatter(' ')\n",
    "\n",
    "plt.scatter(y_test_df.index,y_test_df[\"price\"], color=\"red\")\n",
    "plt.scatter(lasso_sfm_predict_df.index,lasso_sfm_predict_df[\"prediction\"], color=\"brown\")\n",
    "plt.scatter(lasso_sfs_predict_df.index,lasso_sfs_predict_df[\"prediction\"], color=\"blue\")\n",
    "plt.scatter(lasso_rfe_predict_df.index,lasso_rfe_predict_df[\"prediction\"], color=\"green\")\n",
    "plt.scatter(lasso_bp_predict_df.index,lasso_bp_predict_df[\"prediction\"], color=\"black\")\n",
    "plt.show()"
   ]
  },
  {
   "cell_type": "markdown",
   "id": "23817806",
   "metadata": {},
   "source": [
    "#### Sort the DataFrames by the Prediction and Price features."
   ]
  },
  {
   "cell_type": "code",
   "execution_count": 26,
   "id": "01f095e4",
   "metadata": {},
   "outputs": [],
   "source": [
    "lasso_bp_predict_df.sort_values(by='prediction', inplace=True)\n",
    "lasso_bp_predict_df.reset_index(inplace=True)\n",
    "\n",
    "lasso_sfm_predict_df.sort_values(by='prediction', inplace=True)\n",
    "lasso_sfm_predict_df.reset_index(inplace=True)\n",
    "\n",
    "lasso_sfs_predict_df.sort_values(by='prediction', inplace=True)\n",
    "lasso_sfs_predict_df.reset_index(inplace=True)\n",
    "\n",
    "lasso_rfe_predict_df.sort_values(by='prediction', inplace=True)\n",
    "lasso_rfe_predict_df.reset_index(inplace=True)\n",
    "\n",
    "y_test_df.sort_values(by='price', inplace=True)\n",
    "y_test_df.reset_index(inplace=True)"
   ]
  },
  {
   "cell_type": "markdown",
   "id": "673c446b",
   "metadata": {},
   "source": [
    "#### Line graph of the results of Recursive Feature Elimination, Sequential Feature Selection, Select From Model, and Test Data."
   ]
  },
  {
   "cell_type": "code",
   "execution_count": 27,
   "id": "2cd52edb",
   "metadata": {},
   "outputs": [
    {
     "data": {
      "image/png": "[encoded data removed]",
      "text/plain": [
       "<Figure size 1000x600 with 1 Axes>"
      ]
     },
     "metadata": {},
     "output_type": "display_data"
    }
   ],
   "source": [
    "fig, ax = plt.subplots(figsize=(10, 6))\n",
    "\n",
    "ax.ticklabel_format(style='plain')\n",
    "ax.yaxis.set_major_formatter('${x:1,.0f}')\n",
    "ax.xaxis.set_major_formatter(' ')\n",
    "\n",
    "plt.plot(y_test_df.index,y_test_df[\"price\"], color=\"red\")\n",
    "plt.plot(lasso_sfm_predict_df.index,lasso_sfm_predict_df[\"prediction\"], color=\"brown\")\n",
    "plt.plot(lasso_sfs_predict_df.index,lasso_sfs_predict_df[\"prediction\"], color=\"blue\")\n",
    "plt.plot(lasso_rfe_predict_df.index,lasso_rfe_predict_df[\"prediction\"], color=\"green\")\n",
    "plt.plot(lasso_bp_predict_df.index,lasso_bp_predict_df[\"prediction\"], color=\"black\")\n",
    "plt.show()"
   ]
  },
  {
   "cell_type": "code",
   "execution_count": null,
   "id": "ae3f231a",
   "metadata": {},
   "outputs": [],
   "source": []
  },
  {
   "cell_type": "code",
   "execution_count": 28,
   "id": "cea2e272",
   "metadata": {},
   "outputs": [
    {
     "data": {
      "text/plain": [
       "{'model': ['Lasso Best Params',\n",
       "  'Select From Model',\n",
       "  'Sequential Feature Selector',\n",
       "  'Recursive Feature Elimination'],\n",
       " 'explained variance score': ['0.513965554',\n",
       "  '0.442556051',\n",
       "  '0.513280008',\n",
       "  '0.442556051'],\n",
       " 'mae score': ['162,493.986932',\n",
       "  '179,576.577023',\n",
       "  '162,660.691148',\n",
       "  '179,576.577023'],\n",
       " 'mse score': ['77,132,189,959.752441',\n",
       "  '88,401,533,318.343323',\n",
       "  '77,240,624,470.602570',\n",
       "  '88,401,533,318.343323'],\n",
       " 'r2 score': ['0.513606', '0.442542', '0.512922', '0.442542'],\n",
       " 'mean fit time': [0.006459569931030274,\n",
       "  0.0013978958129882812,\n",
       "  0.0029364585876464843,\n",
       "  0.001789093017578125]}"
      ]
     },
     "execution_count": 28,
     "metadata": {},
     "output_type": "execute_result"
    }
   ],
   "source": [
    "results_dict"
   ]
  },
  {
   "cell_type": "code",
   "execution_count": 29,
   "id": "41a50101",
   "metadata": {},
   "outputs": [
    {
     "data": {
      "text/html": [
       "<div>\n",
       "<style scoped>\n",
       "    .dataframe tbody tr th:only-of-type {\n",
       "        vertical-align: middle;\n",
       "    }\n",
       "\n",
       "    .dataframe tbody tr th {\n",
       "        vertical-align: top;\n",
       "    }\n",
       "\n",
       "    .dataframe thead th {\n",
       "        text-align: right;\n",
       "    }\n",
       "</style>\n",
       "<table border=\"1\" class=\"dataframe\">\n",
       "  <thead>\n",
       "    <tr style=\"text-align: right;\">\n",
       "      <th></th>\n",
       "      <th>explained variance score</th>\n",
       "      <th>mae score</th>\n",
       "      <th>mse score</th>\n",
       "      <th>r2 score</th>\n",
       "      <th>mean fit time</th>\n",
       "    </tr>\n",
       "    <tr>\n",
       "      <th>model</th>\n",
       "      <th></th>\n",
       "      <th></th>\n",
       "      <th></th>\n",
       "      <th></th>\n",
       "      <th></th>\n",
       "    </tr>\n",
       "  </thead>\n",
       "  <tbody>\n",
       "    <tr>\n",
       "      <th>Lasso Best Params</th>\n",
       "      <td>0.513965554</td>\n",
       "      <td>162,493.986932</td>\n",
       "      <td>77,132,189,959.752441</td>\n",
       "      <td>0.513606</td>\n",
       "      <td>0.006460</td>\n",
       "    </tr>\n",
       "    <tr>\n",
       "      <th>Select From Model</th>\n",
       "      <td>0.442556051</td>\n",
       "      <td>179,576.577023</td>\n",
       "      <td>88,401,533,318.343323</td>\n",
       "      <td>0.442542</td>\n",
       "      <td>0.001398</td>\n",
       "    </tr>\n",
       "    <tr>\n",
       "      <th>Sequential Feature Selector</th>\n",
       "      <td>0.513280008</td>\n",
       "      <td>162,660.691148</td>\n",
       "      <td>77,240,624,470.602570</td>\n",
       "      <td>0.512922</td>\n",
       "      <td>0.002936</td>\n",
       "    </tr>\n",
       "    <tr>\n",
       "      <th>Recursive Feature Elimination</th>\n",
       "      <td>0.442556051</td>\n",
       "      <td>179,576.577023</td>\n",
       "      <td>88,401,533,318.343323</td>\n",
       "      <td>0.442542</td>\n",
       "      <td>0.001789</td>\n",
       "    </tr>\n",
       "  </tbody>\n",
       "</table>\n",
       "</div>"
      ],
      "text/plain": [
       "                              explained variance score       mae score  \\\n",
       "model                                                                    \n",
       "Lasso Best Params                          0.513965554  162,493.986932   \n",
       "Select From Model                          0.442556051  179,576.577023   \n",
       "Sequential Feature Selector                0.513280008  162,660.691148   \n",
       "Recursive Feature Elimination              0.442556051  179,576.577023   \n",
       "\n",
       "                                           mse score  r2 score  mean fit time  \n",
       "model                                                                          \n",
       "Lasso Best Params              77,132,189,959.752441  0.513606       0.006460  \n",
       "Select From Model              88,401,533,318.343323  0.442542       0.001398  \n",
       "Sequential Feature Selector    77,240,624,470.602570  0.512922       0.002936  \n",
       "Recursive Feature Elimination  88,401,533,318.343323  0.442542       0.001789  "
      ]
     },
     "execution_count": 29,
     "metadata": {},
     "output_type": "execute_result"
    }
   ],
   "source": [
    "model_comparisons = pd.DataFrame(results_dict).set_index('model')\n",
    "model_comparisons"
   ]
  },
  {
   "cell_type": "code",
   "execution_count": null,
   "id": "25791a6d",
   "metadata": {},
   "outputs": [],
   "source": []
  }
 ],
 "metadata": {
  "kernelspec": {
   "display_name": "Python 3 (ipykernel)",
   "language": "python",
   "name": "python3"
  },
  "language_info": {
   "codemirror_mode": {
    "name": "ipython",
    "version": 3
   },
   "file_extension": ".py",
   "mimetype": "text/x-python",
   "name": "python",
   "nbconvert_exporter": "python",
   "pygments_lexer": "ipython3",
   "version": "3.11.4"
  }
 },
 "nbformat": 4,
 "nbformat_minor": 5
}
