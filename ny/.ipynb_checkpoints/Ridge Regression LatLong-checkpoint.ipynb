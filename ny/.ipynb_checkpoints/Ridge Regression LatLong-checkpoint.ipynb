{
 "cells": [
  {
   "cell_type": "markdown",
   "id": "7aaafffe",
   "metadata": {},
   "source": [
    "### Ridge regression addresses some of the problems of Ordinary Least Squares by imposing a penalty on the size of the coefficients. The ridge coefficients minimize a penalized residual sum of squares"
   ]
  },
  {
   "cell_type": "code",
   "execution_count": 1,
   "id": "52bfa464",
   "metadata": {},
   "outputs": [],
   "source": [
    "from warnings import filterwarnings\n",
    "filterwarnings(\"ignore\")\n",
    "\n",
    "import pandas as pd\n",
    "import matplotlib.pyplot as plt\n",
    "import numpy as np\n",
    "\n",
    "from sklearn.linear_model import Ridge\n",
    "from sklearn.feature_selection import SequentialFeatureSelector, RFE, SelectFromModel\n",
    "from sklearn.pipeline import Pipeline\n",
    "\n",
    "from sklearn.model_selection import train_test_split, cross_val_score, GridSearchCV\n",
    "from sklearn.metrics import mean_squared_error, mean_absolute_error, r2_score, accuracy_score, explained_variance_score"
   ]
  },
  {
   "cell_type": "code",
   "execution_count": 2,
   "id": "e76f44b1",
   "metadata": {},
   "outputs": [],
   "source": [
    "outliers_df = pd.read_csv('outliers.csv')\n",
    "outliers_df.drop(columns=[\"Unnamed: 0\"],inplace=True)"
   ]
  },
  {
   "cell_type": "code",
   "execution_count": 3,
   "id": "3a3b5d51",
   "metadata": {},
   "outputs": [
    {
     "name": "stdout",
     "output_type": "stream",
     "text": [
      "<class 'pandas.core.frame.DataFrame'>\n",
      "RangeIndex: 12256 entries, 0 to 12255\n",
      "Data columns (total 7 columns):\n",
      " #   Column          Non-Null Count  Dtype  \n",
      "---  ------          --------------  -----  \n",
      " 0   bed             12256 non-null  float64\n",
      " 1   bath            12256 non-null  float64\n",
      " 2   acre_lot        12256 non-null  float64\n",
      " 3   zip_code        12256 non-null  float64\n",
      " 4   house_size      12256 non-null  float64\n",
      " 5   prev_sold_date  12256 non-null  object \n",
      " 6   price           12256 non-null  float64\n",
      "dtypes: float64(6), object(1)\n",
      "memory usage: 670.4+ KB\n"
     ]
    }
   ],
   "source": [
    "outliers_df.info()"
   ]
  },
  {
   "cell_type": "markdown",
   "id": "e6b223e9",
   "metadata": {},
   "source": [
    "#### Create new feature prev_sold_year from prev_sold_date"
   ]
  },
  {
   "cell_type": "code",
   "execution_count": 4,
   "id": "21530dc5",
   "metadata": {},
   "outputs": [
    {
     "name": "stdout",
     "output_type": "stream",
     "text": [
      "<class 'pandas.core.frame.DataFrame'>\n",
      "RangeIndex: 12256 entries, 0 to 12255\n",
      "Data columns (total 7 columns):\n",
      " #   Column          Non-Null Count  Dtype  \n",
      "---  ------          --------------  -----  \n",
      " 0   bed             12256 non-null  float64\n",
      " 1   bath            12256 non-null  float64\n",
      " 2   acre_lot        12256 non-null  float64\n",
      " 3   zip_code        12256 non-null  float64\n",
      " 4   house_size      12256 non-null  float64\n",
      " 5   price           12256 non-null  float64\n",
      " 6   prev_sold_year  12256 non-null  int64  \n",
      "dtypes: float64(6), int64(1)\n",
      "memory usage: 670.4 KB\n"
     ]
    }
   ],
   "source": [
    "outliers_df[\"prev_sold_year\"] = pd.to_datetime(outliers_df[\"prev_sold_date\"], format='%Y-%m-%d').dt.year\n",
    "outliers_df.drop(columns=[\"prev_sold_date\"],inplace=True)\n",
    "outliers_df.info()"
   ]
  },
  {
   "cell_type": "markdown",
   "id": "48ba8063",
   "metadata": {},
   "source": [
    "#### Create a new feature in the housing data for Zip Code with a leading zero"
   ]
  },
  {
   "cell_type": "code",
   "execution_count": null,
   "id": "11aaee05",
   "metadata": {},
   "outputs": [],
   "source": []
  },
  {
   "cell_type": "markdown",
   "id": "63640c45",
   "metadata": {},
   "source": [
    "#### Create a new feature in the Lat/Long data for Zip Code with a leading zero"
   ]
  },
  {
   "cell_type": "code",
   "execution_count": 5,
   "id": "1f6c2f6c",
   "metadata": {},
   "outputs": [
    {
     "data": {
      "text/html": [
       "<div>\n",
       "<style scoped>\n",
       "    .dataframe tbody tr th:only-of-type {\n",
       "        vertical-align: middle;\n",
       "    }\n",
       "\n",
       "    .dataframe tbody tr th {\n",
       "        vertical-align: top;\n",
       "    }\n",
       "\n",
       "    .dataframe thead th {\n",
       "        text-align: right;\n",
       "    }\n",
       "</style>\n",
       "<table border=\"1\" class=\"dataframe\">\n",
       "  <thead>\n",
       "    <tr style=\"text-align: right;\">\n",
       "      <th></th>\n",
       "      <th>zip_code</th>\n",
       "      <th>latitude</th>\n",
       "      <th>longitude</th>\n",
       "    </tr>\n",
       "  </thead>\n",
       "  <tbody>\n",
       "    <tr>\n",
       "      <th>0</th>\n",
       "      <td>10001</td>\n",
       "      <td>40.750633</td>\n",
       "      <td>-73.997177</td>\n",
       "    </tr>\n",
       "    <tr>\n",
       "      <th>1</th>\n",
       "      <td>10002</td>\n",
       "      <td>40.715775</td>\n",
       "      <td>-73.986212</td>\n",
       "    </tr>\n",
       "    <tr>\n",
       "      <th>2</th>\n",
       "      <td>10003</td>\n",
       "      <td>40.731829</td>\n",
       "      <td>-73.989181</td>\n",
       "    </tr>\n",
       "    <tr>\n",
       "      <th>3</th>\n",
       "      <td>10004</td>\n",
       "      <td>40.688630</td>\n",
       "      <td>-74.018244</td>\n",
       "    </tr>\n",
       "    <tr>\n",
       "      <th>4</th>\n",
       "      <td>10005</td>\n",
       "      <td>40.706027</td>\n",
       "      <td>-74.008835</td>\n",
       "    </tr>\n",
       "  </tbody>\n",
       "</table>\n",
       "</div>"
      ],
      "text/plain": [
       "   zip_code   latitude  longitude\n",
       "0     10001  40.750633 -73.997177\n",
       "1     10002  40.715775 -73.986212\n",
       "2     10003  40.731829 -73.989181\n",
       "3     10004  40.688630 -74.018244\n",
       "4     10005  40.706027 -74.008835"
      ]
     },
     "execution_count": 5,
     "metadata": {},
     "output_type": "execute_result"
    }
   ],
   "source": [
    "zip_lon_lat = pd.read_csv('ny_zip-lon-lat.csv')\n",
    "zip_lon_lat.head()"
   ]
  },
  {
   "cell_type": "markdown",
   "id": "c0963da2",
   "metadata": {},
   "source": [
    "#### Merge the Lat/Long data with the housing data using Zip Code with a leading zero"
   ]
  },
  {
   "cell_type": "code",
   "execution_count": 6,
   "id": "9f79d8af",
   "metadata": {},
   "outputs": [
    {
     "data": {
      "text/html": [
       "<div>\n",
       "<style scoped>\n",
       "    .dataframe tbody tr th:only-of-type {\n",
       "        vertical-align: middle;\n",
       "    }\n",
       "\n",
       "    .dataframe tbody tr th {\n",
       "        vertical-align: top;\n",
       "    }\n",
       "\n",
       "    .dataframe thead th {\n",
       "        text-align: right;\n",
       "    }\n",
       "</style>\n",
       "<table border=\"1\" class=\"dataframe\">\n",
       "  <thead>\n",
       "    <tr style=\"text-align: right;\">\n",
       "      <th></th>\n",
       "      <th>bed</th>\n",
       "      <th>bath</th>\n",
       "      <th>acre_lot</th>\n",
       "      <th>zip_code</th>\n",
       "      <th>house_size</th>\n",
       "      <th>price</th>\n",
       "      <th>prev_sold_year</th>\n",
       "      <th>latitude</th>\n",
       "      <th>longitude</th>\n",
       "    </tr>\n",
       "  </thead>\n",
       "  <tbody>\n",
       "    <tr>\n",
       "      <th>12237</th>\n",
       "      <td>3.0</td>\n",
       "      <td>2.0</td>\n",
       "      <td>0.19</td>\n",
       "      <td>14219.0</td>\n",
       "      <td>1506.0</td>\n",
       "      <td>189900.0</td>\n",
       "      <td>2019</td>\n",
       "      <td>42.788675</td>\n",
       "      <td>-78.826431</td>\n",
       "    </tr>\n",
       "    <tr>\n",
       "      <th>12238</th>\n",
       "      <td>2.0</td>\n",
       "      <td>2.0</td>\n",
       "      <td>0.20</td>\n",
       "      <td>14219.0</td>\n",
       "      <td>1259.0</td>\n",
       "      <td>224900.0</td>\n",
       "      <td>2018</td>\n",
       "      <td>42.788675</td>\n",
       "      <td>-78.826431</td>\n",
       "    </tr>\n",
       "    <tr>\n",
       "      <th>12239</th>\n",
       "      <td>4.0</td>\n",
       "      <td>2.0</td>\n",
       "      <td>0.17</td>\n",
       "      <td>14219.0</td>\n",
       "      <td>1884.0</td>\n",
       "      <td>175000.0</td>\n",
       "      <td>2016</td>\n",
       "      <td>42.788675</td>\n",
       "      <td>-78.826431</td>\n",
       "    </tr>\n",
       "    <tr>\n",
       "      <th>12240</th>\n",
       "      <td>4.0</td>\n",
       "      <td>3.0</td>\n",
       "      <td>0.41</td>\n",
       "      <td>14219.0</td>\n",
       "      <td>2664.0</td>\n",
       "      <td>289000.0</td>\n",
       "      <td>2018</td>\n",
       "      <td>42.788675</td>\n",
       "      <td>-78.826431</td>\n",
       "    </tr>\n",
       "    <tr>\n",
       "      <th>12241</th>\n",
       "      <td>3.0</td>\n",
       "      <td>2.0</td>\n",
       "      <td>0.34</td>\n",
       "      <td>14219.0</td>\n",
       "      <td>1350.0</td>\n",
       "      <td>194900.0</td>\n",
       "      <td>2020</td>\n",
       "      <td>42.788675</td>\n",
       "      <td>-78.826431</td>\n",
       "    </tr>\n",
       "  </tbody>\n",
       "</table>\n",
       "</div>"
      ],
      "text/plain": [
       "       bed  bath  acre_lot  zip_code  house_size     price  prev_sold_year  \\\n",
       "12237  3.0   2.0      0.19   14219.0      1506.0  189900.0            2019   \n",
       "12238  2.0   2.0      0.20   14219.0      1259.0  224900.0            2018   \n",
       "12239  4.0   2.0      0.17   14219.0      1884.0  175000.0            2016   \n",
       "12240  4.0   3.0      0.41   14219.0      2664.0  289000.0            2018   \n",
       "12241  3.0   2.0      0.34   14219.0      1350.0  194900.0            2020   \n",
       "\n",
       "        latitude  longitude  \n",
       "12237  42.788675 -78.826431  \n",
       "12238  42.788675 -78.826431  \n",
       "12239  42.788675 -78.826431  \n",
       "12240  42.788675 -78.826431  \n",
       "12241  42.788675 -78.826431  "
      ]
     },
     "execution_count": 6,
     "metadata": {},
     "output_type": "execute_result"
    }
   ],
   "source": [
    "merged_df = pd.merge(outliers_df, zip_lon_lat, how='inner', on=\"zip_code\")\n",
    "merged_df.tail()"
   ]
  },
  {
   "cell_type": "markdown",
   "id": "ef338df0",
   "metadata": {},
   "source": [
    "#### Create common variables to store frequently used values."
   ]
  },
  {
   "cell_type": "code",
   "execution_count": 7,
   "id": "aa1c1059",
   "metadata": {},
   "outputs": [],
   "source": [
    "features = [\"latitude\",\"longitude\",\"bed\",\"bath\",\"acre_lot\",\"house_size\",\"prev_sold_year\"]\n",
    "num_features_to_select = len(features)-1\n",
    "random_state_value = 42"
   ]
  },
  {
   "cell_type": "markdown",
   "id": "71b4b427",
   "metadata": {},
   "source": [
    "#### Datasets for modeling, testing the models, and making predictions."
   ]
  },
  {
   "cell_type": "code",
   "execution_count": 8,
   "id": "7bff4fc2",
   "metadata": {},
   "outputs": [],
   "source": [
    "X = merged_df[features]\n",
    "y = merged_df[\"price\"]\n",
    "X_train, X_test, y_train, y_test = train_test_split(X, y, test_size=0.3, random_state=random_state_value)"
   ]
  },
  {
   "cell_type": "markdown",
   "id": "4383bb73",
   "metadata": {},
   "source": [
    "#### Variable to store the results generated by the models."
   ]
  },
  {
   "cell_type": "code",
   "execution_count": 9,
   "id": "4b701315",
   "metadata": {},
   "outputs": [],
   "source": [
    "results_dict = {\"model\":[], \"explained variance score\":[],\"mae score\":[],\"mse score\":[],\"r2 score\":[], \"mean fit time\":[]}"
   ]
  },
  {
   "cell_type": "markdown",
   "id": "86a75039",
   "metadata": {},
   "source": [
    "#### Function to format the results generated by the models."
   ]
  },
  {
   "cell_type": "code",
   "execution_count": 10,
   "id": "267ee572",
   "metadata": {},
   "outputs": [],
   "source": [
    "def print_more_stuff(title, y_param, predict_param, gscv):\n",
    "    results_dict[\"model\"].append(title)\n",
    "    \n",
    "    evs = \"{:.9f}\".format(explained_variance_score(y_param,predict_param))\n",
    "    mae = \"{:,.6f}\".format(mean_absolute_error(y_param,predict_param))\n",
    "    mse = \"{:,.6f}\".format(mean_squared_error(y_param,predict_param))\n",
    "    r2 = \"{:,.6f}\".format(r2_score(y_param,predict_param))\n",
    "        \n",
    "    #find_best_params = gscv.cv_results_[\"params\"].index(gscv.best_params_)\n",
    "    #mean_fit_time = gscv.cv_results_[\"mean_fit_time\"][find_best_params]\n",
    "    mean_fit_time = gscv.cv_results_[\"mean_fit_time\"][gscv.best_index_]\n",
    "    \n",
    "    results_dict[\"explained variance score\"].append(evs)\n",
    "    results_dict[\"mae score\"].append(mae)\n",
    "    results_dict[\"mse score\"].append(mse)\n",
    "    results_dict[\"r2 score\"].append(r2)\n",
    "    results_dict[\"mean fit time\"].append(mean_fit_time)\n",
    "    \n",
    "    print(title + \" EVS = \" + evs)\n",
    "    print(title + \" MSE = \" + mse)\n",
    "    print(title + \" MAE = \" + mae)\n",
    "    print(title + \" R2 = \" + r2)\n",
    "    print(title + \" Fit Time = \" + str(mean_fit_time))"
   ]
  },
  {
   "cell_type": "markdown",
   "id": "f449f047",
   "metadata": {},
   "source": [
    "#### Create common variables that will be used in the Notebook"
   ]
  },
  {
   "cell_type": "code",
   "execution_count": 11,
   "id": "2f5a5547",
   "metadata": {},
   "outputs": [],
   "source": [
    "ridge = Ridge(random_state=42)\n",
    "ridge_sfs = SequentialFeatureSelector(estimator=ridge, n_features_to_select=num_features_to_select)\n",
    "ridge_sfm = SelectFromModel(estimator=ridge, threshold=1000)\n",
    "ridge_rfe = RFE(estimator=ridge, n_features_to_select=num_features_to_select)"
   ]
  },
  {
   "cell_type": "markdown",
   "id": "79ca9720",
   "metadata": {},
   "source": [
    "#### Use Grid Search CV to find the best Hyperparameters for R9dge Regression"
   ]
  },
  {
   "cell_type": "code",
   "execution_count": 57,
   "id": "5b2792eb",
   "metadata": {},
   "outputs": [
    {
     "name": "stdout",
     "output_type": "stream",
     "text": [
      "Best parameters found: {'alpha': 2000.0}\n"
     ]
    }
   ],
   "source": [
    "ridge_gscv = GridSearchCV(Ridge(random_state=42), {'alpha': np.arange(1.0,1.5,0.01)})\n",
    "ridge_gscv_model = ridge_gscv.fit(X, y)\n",
    "print(f\"Best parameters found: {ridge_gscv.best_params_}\")"
   ]
  },
  {
   "cell_type": "code",
   "execution_count": 48,
   "id": "7fc76bd0",
   "metadata": {},
   "outputs": [
    {
     "name": "stdout",
     "output_type": "stream",
     "text": [
      "Ridge Best Params EVS = 0.296910886\n",
      "Ridge Best Params MSE = 548,417,867,342.805725\n",
      "Ridge Best Params MAE = 430,454.998399\n",
      "Ridge Best Params R2 = 0.296736\n",
      "Ridge Best Params Fit Time = 0.004080343246459961\n"
     ]
    }
   ],
   "source": [
    "ridge = Ridge(**ridge_gscv.best_params_)\n",
    "ridge_bp_gscv = GridSearchCV(ridge, param_grid={})\n",
    "ridge_bp_model = ridge_bp_gscv.fit(X_train,y_train)\n",
    "ridge_bp_predict = ridge_bp_model.predict(X_test)\n",
    "\n",
    "print_more_stuff(\"Ridge Best Params\", y_test, ridge_bp_predict, ridge_bp_gscv)"
   ]
  },
  {
   "cell_type": "markdown",
   "id": "4e17f4a1",
   "metadata": {},
   "source": [
    "### SelectFromModel is a meta-transformer that can be used alongside any estimator that assigns importance to each feature through a specific attribute or via an importance_getter callable after fitting. The features are considered unimportant and removed if the corresponding importance of the feature values are below the provided threshold parameter."
   ]
  },
  {
   "cell_type": "code",
   "execution_count": 14,
   "id": "aaf5ed58",
   "metadata": {},
   "outputs": [
    {
     "name": "stdout",
     "output_type": "stream",
     "text": [
      "The selected features are: ['latitude', 'bed', 'bath', 'prev_sold_year']\n"
     ]
    }
   ],
   "source": [
    "ridge_sfm_pipeline = Pipeline([\n",
    "  ('feature_selection', ridge_sfm),\n",
    "  ('regression', ridge)\n",
    "])\n",
    "\n",
    "ridge_sfm_fs = ridge_sfm_pipeline.named_steps['feature_selection'].fit(X_train,y_train)\n",
    "ridge_sfm_selected_features = ridge_sfm_fs.get_support()\n",
    "\n",
    "print('The selected features are:', list(X.columns[ridge_sfm_selected_features]))"
   ]
  },
  {
   "cell_type": "code",
   "execution_count": 15,
   "id": "a32e1c76",
   "metadata": {},
   "outputs": [],
   "source": [
    "X_sfm = merged_df[list(X.columns[ridge_sfm_selected_features])]\n",
    "y_sfm = merged_df[\"price\"]\n",
    "X_sfm_train, X_sfm_test, y_sfm_train, y_sfm_test = train_test_split(X_sfm, y_sfm, test_size=0.3, random_state=random_state_value)"
   ]
  },
  {
   "cell_type": "code",
   "execution_count": 16,
   "id": "1f957e58",
   "metadata": {},
   "outputs": [
    {
     "name": "stdout",
     "output_type": "stream",
     "text": [
      "Select From Model EVS = 0.279605820\n",
      "Select From Model MSE = 561,904,158,591.280029\n",
      "Select From Model MAE = 441,349.215152\n",
      "Select From Model R2 = 0.279442\n",
      "Select From Model Fit Time = 0.002524662017822266\n"
     ]
    }
   ],
   "source": [
    "ridge_sfm_gscv = GridSearchCV(Ridge(), param_grid={})\n",
    "ridge_sfm_model = ridge_sfm_gscv.fit(X_sfm_train,y_sfm_train)\n",
    "ridge_sfm_predict = ridge_sfm_model.predict(X_sfm_test)\n",
    "\n",
    "print_more_stuff(\"Select From Model\",y_sfm_test,ridge_sfm_predict,ridge_sfm_gscv)"
   ]
  },
  {
   "cell_type": "markdown",
   "id": "c77e56da",
   "metadata": {},
   "source": [
    "###  Sequential Feature Selector (forward selection) adds features to form a feature subset in a greedy fashion. At each stage, this estimator chooses the best feature to add or remove based on the cross-validation score of an estimator."
   ]
  },
  {
   "cell_type": "code",
   "execution_count": 17,
   "id": "5148b30d",
   "metadata": {},
   "outputs": [
    {
     "name": "stdout",
     "output_type": "stream",
     "text": [
      "The selected features are: ['latitude', 'longitude', 'bed', 'bath', 'house_size', 'prev_sold_year']\n"
     ]
    }
   ],
   "source": [
    "ridge_sfs_pipeline = Pipeline([\n",
    "  ('feature_selection', ridge_sfs),\n",
    "  ('regression', ridge)\n",
    "])\n",
    "\n",
    "ridge_sfs_fs = ridge_sfs_pipeline.named_steps['feature_selection'].fit(X_train,y_train)\n",
    "ridge_sfs_selected_features = ridge_sfs_fs.get_support()\n",
    "\n",
    "print('The selected features are:', list(X.columns[ridge_sfs_selected_features]))"
   ]
  },
  {
   "cell_type": "code",
   "execution_count": 18,
   "id": "7f974418",
   "metadata": {},
   "outputs": [],
   "source": [
    "X_sfs = merged_df[list(X.columns[ridge_sfs_selected_features])]\n",
    "y_sfs = merged_df[\"price\"]\n",
    "X_sfs_train, X_sfs_test, y_sfs_train, y_sfs_test = train_test_split(X_sfs, y_sfs, test_size=0.3, random_state=random_state_value)"
   ]
  },
  {
   "cell_type": "code",
   "execution_count": 19,
   "id": "b1a6a127",
   "metadata": {},
   "outputs": [
    {
     "name": "stdout",
     "output_type": "stream",
     "text": [
      "Sequential Feature Selector EVS = 0.296057989\n",
      "Sequential Feature Selector MSE = 549,063,929,595.034119\n",
      "Sequential Feature Selector MAE = 440,806.949119\n",
      "Sequential Feature Selector R2 = 0.295908\n",
      "Sequential Feature Selector Fit Time = 0.003345489501953125\n"
     ]
    }
   ],
   "source": [
    "ridge_sfs_gscv = GridSearchCV(Ridge(), param_grid={})\n",
    "ridge_sfs_model = ridge_sfs_gscv.fit(X_sfs_train,y_sfs_train)\n",
    "ridge_sfs_predict = ridge_sfs_model.predict(X_sfs_test)\n",
    "\n",
    "print_more_stuff(\"Sequential Feature Selector\",y_sfs_test,ridge_sfs_predict,ridge_sfs_gscv)"
   ]
  },
  {
   "cell_type": "markdown",
   "id": "bcea4fdc",
   "metadata": {},
   "source": [
    "### Recursive feature elimination uses an external estimator that assigns weights to features with the goal of selecting features by recursively considering smaller and smaller sets of features."
   ]
  },
  {
   "cell_type": "code",
   "execution_count": 20,
   "id": "fbe24678",
   "metadata": {},
   "outputs": [
    {
     "name": "stdout",
     "output_type": "stream",
     "text": [
      "The selected features are: ['latitude', 'longitude', 'bed', 'bath', 'house_size', 'prev_sold_year']\n"
     ]
    }
   ],
   "source": [
    "ridge_rfe_pipeline = Pipeline([\n",
    "  ('feature_selection', ridge_rfe),\n",
    "  ('regression', ridge)\n",
    "])\n",
    "ridge_rfe_fs = ridge_rfe_pipeline.named_steps['feature_selection'].fit(X_train,y_train)\n",
    "ridge_rfe_selected_features = ridge_rfe_fs.get_support()\n",
    "\n",
    "print('The selected features are:', list(X.columns[ridge_rfe_selected_features]))"
   ]
  },
  {
   "cell_type": "code",
   "execution_count": 21,
   "id": "5b770aba",
   "metadata": {},
   "outputs": [],
   "source": [
    "X_rfe = merged_df[list(X.columns[ridge_rfe_selected_features])]\n",
    "y_rfe = merged_df[\"price\"]\n",
    "X_rfe_train, X_rfe_test, y_rfe_train, y_rfe_test = train_test_split(X_rfe, y_rfe, test_size=0.3, random_state=random_state_value)"
   ]
  },
  {
   "cell_type": "code",
   "execution_count": 22,
   "id": "88c0b688",
   "metadata": {},
   "outputs": [
    {
     "name": "stdout",
     "output_type": "stream",
     "text": [
      "Recursive Feature Elimination EVS = 0.296057989\n",
      "Recursive Feature Elimination MSE = 549,063,929,595.034119\n",
      "Recursive Feature Elimination MAE = 440,806.949119\n",
      "Recursive Feature Elimination R2 = 0.295908\n",
      "Recursive Feature Elimination Fit Time = 0.003171348571777344\n"
     ]
    }
   ],
   "source": [
    "ridge_rfe_gscv = GridSearchCV(Ridge(), param_grid={})\n",
    "ridge_rfe_model = ridge_rfe_gscv.fit(X_rfe_train,y_rfe_train)\n",
    "ridge_rfe_predict = ridge_rfe_model.predict(X_rfe_test)\n",
    "\n",
    "print_more_stuff(\"Recursive Feature Elimination\",y_rfe_test,ridge_rfe_predict, ridge_rfe_gscv)"
   ]
  },
  {
   "cell_type": "markdown",
   "id": "816921bd",
   "metadata": {},
   "source": [
    "#### Graphing the results works best when the data is provided in a DataFrame."
   ]
  },
  {
   "cell_type": "code",
   "execution_count": 23,
   "id": "69d9ab8b",
   "metadata": {},
   "outputs": [],
   "source": [
    "ridge_bp_predict_df = pd.DataFrame(ridge_bp_predict).reset_index()\n",
    "ridge_bp_predict_df.rename(columns={0: \"prediction\"},inplace=True)\n",
    "\n",
    "ridge_sfm_predict_df = pd.DataFrame(ridge_sfm_predict).reset_index()\n",
    "ridge_sfm_predict_df.rename(columns={0: \"prediction\"},inplace=True)\n",
    "\n",
    "ridge_sfs_predict_df = pd.DataFrame(ridge_sfs_predict).reset_index()\n",
    "ridge_sfs_predict_df.rename(columns={0: \"prediction\"},inplace=True)\n",
    "\n",
    "ridge_rfe_predict_df = pd.DataFrame(ridge_rfe_predict).reset_index()\n",
    "ridge_rfe_predict_df.rename(columns={0: \"prediction\"},inplace=True)\n",
    "\n",
    "y_test_df = pd.DataFrame(y_test).reset_index()"
   ]
  },
  {
   "cell_type": "markdown",
   "id": "047c40e2",
   "metadata": {},
   "source": [
    "#### Scatter Plot graph of the results of Recursive Feature Elimination, Sequential Feature Selection, Select From Model, and Test Data."
   ]
  },
  {
   "cell_type": "code",
   "execution_count": 24,
   "id": "90cf1151",
   "metadata": {},
   "outputs": [
    {
     "data": {
      "image/png": "[encoded data removed]",
      "text/plain": [
       "<Figure size 1000x600 with 1 Axes>"
      ]
     },
     "metadata": {},
     "output_type": "display_data"
    }
   ],
   "source": [
    "fig, ax = plt.subplots(figsize=(10, 6))\n",
    "\n",
    "ax.ticklabel_format(style='plain')\n",
    "ax.yaxis.set_major_formatter('${x:1,.0f}')\n",
    "ax.xaxis.set_major_formatter(' ')\n",
    "\n",
    "plt.scatter(y_test_df.index,y_test_df[\"price\"], color=\"red\")\n",
    "plt.scatter(ridge_sfm_predict_df.index,ridge_sfm_predict_df[\"prediction\"], color=\"brown\")\n",
    "plt.scatter(ridge_sfs_predict_df.index,ridge_sfs_predict_df[\"prediction\"], color=\"blue\")\n",
    "plt.scatter(ridge_rfe_predict_df.index,ridge_rfe_predict_df[\"prediction\"], color=\"green\")\n",
    "plt.scatter(ridge_bp_predict_df.index,ridge_bp_predict_df[\"prediction\"], color=\"black\")\n",
    "plt.show()"
   ]
  },
  {
   "cell_type": "markdown",
   "id": "8d8a88d8",
   "metadata": {},
   "source": [
    "#### Sort the DataFrames by the Prediction and Price features."
   ]
  },
  {
   "cell_type": "code",
   "execution_count": 25,
   "id": "0d702f85",
   "metadata": {},
   "outputs": [],
   "source": [
    "ridge_bp_predict_df.sort_values(by='prediction', inplace=True)\n",
    "ridge_bp_predict_df.reset_index(inplace=True)\n",
    "\n",
    "ridge_sfm_predict_df.sort_values(by='prediction', inplace=True)\n",
    "ridge_sfm_predict_df.reset_index(inplace=True)\n",
    "\n",
    "ridge_sfs_predict_df.sort_values(by='prediction', inplace=True)\n",
    "ridge_sfs_predict_df.reset_index(inplace=True)\n",
    "\n",
    "ridge_rfe_predict_df.sort_values(by='prediction', inplace=True)\n",
    "ridge_rfe_predict_df.reset_index(inplace=True)\n",
    "\n",
    "y_test_df.sort_values(by='price', inplace=True)\n",
    "y_test_df.reset_index(inplace=True)"
   ]
  },
  {
   "cell_type": "markdown",
   "id": "f970626a",
   "metadata": {},
   "source": [
    "#### Line graph of the results of Recursive Feature Elimination, Sequential Feature Selection, Select From Model, and Test Data."
   ]
  },
  {
   "cell_type": "code",
   "execution_count": 26,
   "id": "2cd52edb",
   "metadata": {},
   "outputs": [
    {
     "data": {
      "image/png": "[encoded data removed]",
      "text/plain": [
       "<Figure size 1000x600 with 1 Axes>"
      ]
     },
     "metadata": {},
     "output_type": "display_data"
    }
   ],
   "source": [
    "fig, ax = plt.subplots(figsize=(10, 6))\n",
    "\n",
    "ax.ticklabel_format(style='plain')\n",
    "ax.yaxis.set_major_formatter('${x:1,.0f}')\n",
    "ax.xaxis.set_major_formatter(' ')\n",
    "\n",
    "\n",
    "plt.plot(y_test_df.index,y_test_df[\"price\"], color=\"red\")\n",
    "plt.plot(ridge_sfm_predict_df.index,ridge_sfm_predict_df[\"prediction\"], color=\"brown\")\n",
    "plt.plot(ridge_sfs_predict_df.index,ridge_sfs_predict_df[\"prediction\"], color=\"blue\")\n",
    "plt.plot(ridge_rfe_predict_df.index,ridge_rfe_predict_df[\"prediction\"], color=\"green\")\n",
    "plt.plot(ridge_sfm_predict_df.index,ridge_sfm_predict_df[\"prediction\"], color=\"black\")\n",
    "plt.show()"
   ]
  },
  {
   "cell_type": "code",
   "execution_count": null,
   "id": "e874d799",
   "metadata": {},
   "outputs": [],
   "source": []
  },
  {
   "cell_type": "code",
   "execution_count": 27,
   "id": "7e608abd",
   "metadata": {},
   "outputs": [
    {
     "data": {
      "text/plain": [
       "{'model': ['Ridge Best Params',\n",
       "  'Select From Model',\n",
       "  'Sequential Feature Selector',\n",
       "  'Recursive Feature Elimination'],\n",
       " 'explained variance score': ['0.296417526',\n",
       "  '0.279605820',\n",
       "  '0.296057989',\n",
       "  '0.296057989'],\n",
       " 'mae score': ['440,888.423623',\n",
       "  '441,349.215152',\n",
       "  '440,806.949119',\n",
       "  '440,806.949119'],\n",
       " 'mse score': ['548,779,983,486.688049',\n",
       "  '561,904,158,591.280029',\n",
       "  '549,063,929,595.034119',\n",
       "  '549,063,929,595.034119'],\n",
       " 'r2 score': ['0.296272', '0.279442', '0.295908', '0.295908'],\n",
       " 'mean fit time': [0.0010263919830322266,\n",
       "  0.002524662017822266,\n",
       "  0.003345489501953125,\n",
       "  0.003171348571777344]}"
      ]
     },
     "execution_count": 27,
     "metadata": {},
     "output_type": "execute_result"
    }
   ],
   "source": [
    "results_dict"
   ]
  },
  {
   "cell_type": "code",
   "execution_count": 28,
   "id": "342b1f93",
   "metadata": {},
   "outputs": [
    {
     "data": {
      "text/html": [
       "<div>\n",
       "<style scoped>\n",
       "    .dataframe tbody tr th:only-of-type {\n",
       "        vertical-align: middle;\n",
       "    }\n",
       "\n",
       "    .dataframe tbody tr th {\n",
       "        vertical-align: top;\n",
       "    }\n",
       "\n",
       "    .dataframe thead th {\n",
       "        text-align: right;\n",
       "    }\n",
       "</style>\n",
       "<table border=\"1\" class=\"dataframe\">\n",
       "  <thead>\n",
       "    <tr style=\"text-align: right;\">\n",
       "      <th></th>\n",
       "      <th>explained variance score</th>\n",
       "      <th>mae score</th>\n",
       "      <th>mse score</th>\n",
       "      <th>r2 score</th>\n",
       "      <th>mean fit time</th>\n",
       "    </tr>\n",
       "    <tr>\n",
       "      <th>model</th>\n",
       "      <th></th>\n",
       "      <th></th>\n",
       "      <th></th>\n",
       "      <th></th>\n",
       "      <th></th>\n",
       "    </tr>\n",
       "  </thead>\n",
       "  <tbody>\n",
       "    <tr>\n",
       "      <th>Ridge Best Params</th>\n",
       "      <td>0.296417526</td>\n",
       "      <td>440,888.423623</td>\n",
       "      <td>548,779,983,486.688049</td>\n",
       "      <td>0.296272</td>\n",
       "      <td>0.001026</td>\n",
       "    </tr>\n",
       "    <tr>\n",
       "      <th>Select From Model</th>\n",
       "      <td>0.279605820</td>\n",
       "      <td>441,349.215152</td>\n",
       "      <td>561,904,158,591.280029</td>\n",
       "      <td>0.279442</td>\n",
       "      <td>0.002525</td>\n",
       "    </tr>\n",
       "    <tr>\n",
       "      <th>Sequential Feature Selector</th>\n",
       "      <td>0.296057989</td>\n",
       "      <td>440,806.949119</td>\n",
       "      <td>549,063,929,595.034119</td>\n",
       "      <td>0.295908</td>\n",
       "      <td>0.003345</td>\n",
       "    </tr>\n",
       "    <tr>\n",
       "      <th>Recursive Feature Elimination</th>\n",
       "      <td>0.296057989</td>\n",
       "      <td>440,806.949119</td>\n",
       "      <td>549,063,929,595.034119</td>\n",
       "      <td>0.295908</td>\n",
       "      <td>0.003171</td>\n",
       "    </tr>\n",
       "  </tbody>\n",
       "</table>\n",
       "</div>"
      ],
      "text/plain": [
       "                              explained variance score       mae score  \\\n",
       "model                                                                    \n",
       "Ridge Best Params                          0.296417526  440,888.423623   \n",
       "Select From Model                          0.279605820  441,349.215152   \n",
       "Sequential Feature Selector                0.296057989  440,806.949119   \n",
       "Recursive Feature Elimination              0.296057989  440,806.949119   \n",
       "\n",
       "                                            mse score  r2 score  mean fit time  \n",
       "model                                                                           \n",
       "Ridge Best Params              548,779,983,486.688049  0.296272       0.001026  \n",
       "Select From Model              561,904,158,591.280029  0.279442       0.002525  \n",
       "Sequential Feature Selector    549,063,929,595.034119  0.295908       0.003345  \n",
       "Recursive Feature Elimination  549,063,929,595.034119  0.295908       0.003171  "
      ]
     },
     "execution_count": 28,
     "metadata": {},
     "output_type": "execute_result"
    }
   ],
   "source": [
    "model_comparisons = pd.DataFrame(results_dict).set_index('model')\n",
    "model_comparisons"
   ]
  },
  {
   "cell_type": "code",
   "execution_count": null,
   "id": "9e32831a",
   "metadata": {},
   "outputs": [],
   "source": []
  }
 ],
 "metadata": {
  "kernelspec": {
   "display_name": "Python 3 (ipykernel)",
   "language": "python",
   "name": "python3"
  },
  "language_info": {
   "codemirror_mode": {
    "name": "ipython",
    "version": 3
   },
   "file_extension": ".py",
   "mimetype": "text/x-python",
   "name": "python",
   "nbconvert_exporter": "python",
   "pygments_lexer": "ipython3",
   "version": "3.11.4"
  }
 },
 "nbformat": 4,
 "nbformat_minor": 5
}
