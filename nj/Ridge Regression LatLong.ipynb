{
 "cells": [
  {
   "cell_type": "code",
   "execution_count": 1,
   "id": "1a8bdeaa",
   "metadata": {},
   "outputs": [],
   "source": [
    "from warnings import filterwarnings\n",
    "filterwarnings(\"ignore\")\n",
    "\n",
    "import pandas as pd\n",
    "import matplotlib.pyplot as plt\n",
    "import numpy as np\n",
    "\n",
    "from sklearn.linear_model import Ridge\n",
    "from sklearn.feature_selection import SequentialFeatureSelector, RFE, SelectFromModel\n",
    "from sklearn.pipeline import Pipeline\n",
    "\n",
    "from sklearn.model_selection import train_test_split, cross_val_score, GridSearchCV\n",
    "from sklearn.metrics import mean_squared_error, mean_absolute_error, r2_score, accuracy_score, explained_variance_score"
   ]
  },
  {
   "cell_type": "code",
   "execution_count": 2,
   "id": "e76f44b1",
   "metadata": {},
   "outputs": [],
   "source": [
    "outliers_df = pd.read_csv('outliers-data.csv')\n",
    "outliers_df.drop(columns=[\"Unnamed: 0\"],inplace=True)"
   ]
  },
  {
   "cell_type": "code",
   "execution_count": 3,
   "id": "3a3b5d51",
   "metadata": {},
   "outputs": [
    {
     "name": "stdout",
     "output_type": "stream",
     "text": [
      "<class 'pandas.core.frame.DataFrame'>\n",
      "RangeIndex: 7757 entries, 0 to 7756\n",
      "Data columns (total 7 columns):\n",
      " #   Column          Non-Null Count  Dtype  \n",
      "---  ------          --------------  -----  \n",
      " 0   bed             7757 non-null   float64\n",
      " 1   bath            7757 non-null   float64\n",
      " 2   acre_lot        7757 non-null   float64\n",
      " 3   zip_code        7757 non-null   float64\n",
      " 4   house_size      7757 non-null   float64\n",
      " 5   prev_sold_date  7757 non-null   object \n",
      " 6   price           7757 non-null   float64\n",
      "dtypes: float64(6), object(1)\n",
      "memory usage: 424.3+ KB\n"
     ]
    }
   ],
   "source": [
    "outliers_df.info()"
   ]
  },
  {
   "cell_type": "code",
   "execution_count": null,
   "id": "071dbcfb",
   "metadata": {},
   "outputs": [],
   "source": []
  },
  {
   "cell_type": "code",
   "execution_count": 4,
   "id": "21530dc5",
   "metadata": {},
   "outputs": [
    {
     "name": "stdout",
     "output_type": "stream",
     "text": [
      "<class 'pandas.core.frame.DataFrame'>\n",
      "RangeIndex: 7757 entries, 0 to 7756\n",
      "Data columns (total 7 columns):\n",
      " #   Column          Non-Null Count  Dtype  \n",
      "---  ------          --------------  -----  \n",
      " 0   bed             7757 non-null   float64\n",
      " 1   bath            7757 non-null   float64\n",
      " 2   acre_lot        7757 non-null   float64\n",
      " 3   zip_code        7757 non-null   float64\n",
      " 4   house_size      7757 non-null   float64\n",
      " 5   price           7757 non-null   float64\n",
      " 6   prev_sold_year  7757 non-null   int64  \n",
      "dtypes: float64(6), int64(1)\n",
      "memory usage: 424.3 KB\n"
     ]
    }
   ],
   "source": [
    "outliers_df[\"prev_sold_year\"] = pd.to_datetime(outliers_df[\"prev_sold_date\"], format='%Y-%m-%d').dt.year\n",
    "outliers_df.drop(columns=[\"prev_sold_date\"],inplace=True)\n",
    "outliers_df.info()"
   ]
  },
  {
   "cell_type": "code",
   "execution_count": null,
   "id": "11aaee05",
   "metadata": {},
   "outputs": [],
   "source": []
  },
  {
   "cell_type": "code",
   "execution_count": 5,
   "id": "1f6c2f6c",
   "metadata": {},
   "outputs": [
    {
     "data": {
      "text/html": [
       "<div>\n",
       "<style scoped>\n",
       "    .dataframe tbody tr th:only-of-type {\n",
       "        vertical-align: middle;\n",
       "    }\n",
       "\n",
       "    .dataframe tbody tr th {\n",
       "        vertical-align: top;\n",
       "    }\n",
       "\n",
       "    .dataframe thead th {\n",
       "        text-align: right;\n",
       "    }\n",
       "</style>\n",
       "<table border=\"1\" class=\"dataframe\">\n",
       "  <thead>\n",
       "    <tr style=\"text-align: right;\">\n",
       "      <th></th>\n",
       "      <th>Unnamed: 0</th>\n",
       "      <th>zip_code</th>\n",
       "      <th>latitude</th>\n",
       "      <th>longitude</th>\n",
       "      <th>zip_code_str</th>\n",
       "      <th>county</th>\n",
       "    </tr>\n",
       "  </thead>\n",
       "  <tbody>\n",
       "    <tr>\n",
       "      <th>0</th>\n",
       "      <td>0</td>\n",
       "      <td>7001</td>\n",
       "      <td>40.582316</td>\n",
       "      <td>-74.271506</td>\n",
       "      <td>7001</td>\n",
       "      <td>16</td>\n",
       "    </tr>\n",
       "    <tr>\n",
       "      <th>1</th>\n",
       "      <td>1</td>\n",
       "      <td>7002</td>\n",
       "      <td>40.662338</td>\n",
       "      <td>-74.110275</td>\n",
       "      <td>7002</td>\n",
       "      <td>2</td>\n",
       "    </tr>\n",
       "    <tr>\n",
       "      <th>2</th>\n",
       "      <td>2</td>\n",
       "      <td>7003</td>\n",
       "      <td>40.809128</td>\n",
       "      <td>-74.187155</td>\n",
       "      <td>7003</td>\n",
       "      <td>2</td>\n",
       "    </tr>\n",
       "    <tr>\n",
       "      <th>3</th>\n",
       "      <td>3</td>\n",
       "      <td>7004</td>\n",
       "      <td>40.882508</td>\n",
       "      <td>-74.304593</td>\n",
       "      <td>7004</td>\n",
       "      <td>19</td>\n",
       "    </tr>\n",
       "    <tr>\n",
       "      <th>4</th>\n",
       "      <td>4</td>\n",
       "      <td>7005</td>\n",
       "      <td>40.932771</td>\n",
       "      <td>-74.417304</td>\n",
       "      <td>7005</td>\n",
       "      <td>19</td>\n",
       "    </tr>\n",
       "  </tbody>\n",
       "</table>\n",
       "</div>"
      ],
      "text/plain": [
       "   Unnamed: 0  zip_code   latitude  longitude  zip_code_str  county\n",
       "0           0      7001  40.582316 -74.271506          7001      16\n",
       "1           1      7002  40.662338 -74.110275          7002       2\n",
       "2           2      7003  40.809128 -74.187155          7003       2\n",
       "3           3      7004  40.882508 -74.304593          7004      19\n",
       "4           4      7005  40.932771 -74.417304          7005      19"
      ]
     },
     "execution_count": 5,
     "metadata": {},
     "output_type": "execute_result"
    }
   ],
   "source": [
    "zip_lon_lat = pd.read_csv(\"county.csv\")\n",
    "zip_lon_lat.head()"
   ]
  },
  {
   "cell_type": "code",
   "execution_count": 6,
   "id": "9f79d8af",
   "metadata": {},
   "outputs": [
    {
     "data": {
      "text/html": [
       "<div>\n",
       "<style scoped>\n",
       "    .dataframe tbody tr th:only-of-type {\n",
       "        vertical-align: middle;\n",
       "    }\n",
       "\n",
       "    .dataframe tbody tr th {\n",
       "        vertical-align: top;\n",
       "    }\n",
       "\n",
       "    .dataframe thead th {\n",
       "        text-align: right;\n",
       "    }\n",
       "</style>\n",
       "<table border=\"1\" class=\"dataframe\">\n",
       "  <thead>\n",
       "    <tr style=\"text-align: right;\">\n",
       "      <th></th>\n",
       "      <th>bed</th>\n",
       "      <th>bath</th>\n",
       "      <th>acre_lot</th>\n",
       "      <th>zip_code</th>\n",
       "      <th>house_size</th>\n",
       "      <th>price</th>\n",
       "      <th>prev_sold_year</th>\n",
       "      <th>Unnamed: 0</th>\n",
       "      <th>latitude</th>\n",
       "      <th>longitude</th>\n",
       "      <th>zip_code_str</th>\n",
       "      <th>county</th>\n",
       "    </tr>\n",
       "  </thead>\n",
       "  <tbody>\n",
       "    <tr>\n",
       "      <th>7749</th>\n",
       "      <td>5.0</td>\n",
       "      <td>4.0</td>\n",
       "      <td>0.91</td>\n",
       "      <td>8848.0</td>\n",
       "      <td>0.0</td>\n",
       "      <td>485000.0</td>\n",
       "      <td>2017</td>\n",
       "      <td>568</td>\n",
       "      <td>40.594266</td>\n",
       "      <td>-75.096659</td>\n",
       "      <td>8848</td>\n",
       "      <td>11</td>\n",
       "    </tr>\n",
       "    <tr>\n",
       "      <th>7750</th>\n",
       "      <td>4.0</td>\n",
       "      <td>3.0</td>\n",
       "      <td>2.17</td>\n",
       "      <td>8825.0</td>\n",
       "      <td>0.0</td>\n",
       "      <td>510000.0</td>\n",
       "      <td>2016</td>\n",
       "      <td>553</td>\n",
       "      <td>40.514169</td>\n",
       "      <td>-75.027112</td>\n",
       "      <td>8825</td>\n",
       "      <td>11</td>\n",
       "    </tr>\n",
       "    <tr>\n",
       "      <th>7751</th>\n",
       "      <td>3.0</td>\n",
       "      <td>2.0</td>\n",
       "      <td>0.12</td>\n",
       "      <td>7012.0</td>\n",
       "      <td>0.0</td>\n",
       "      <td>499000.0</td>\n",
       "      <td>2021</td>\n",
       "      <td>10</td>\n",
       "      <td>40.848398</td>\n",
       "      <td>-74.160266</td>\n",
       "      <td>7012</td>\n",
       "      <td>2</td>\n",
       "    </tr>\n",
       "    <tr>\n",
       "      <th>7752</th>\n",
       "      <td>3.0</td>\n",
       "      <td>3.0</td>\n",
       "      <td>0.13</td>\n",
       "      <td>7012.0</td>\n",
       "      <td>0.0</td>\n",
       "      <td>530000.0</td>\n",
       "      <td>2022</td>\n",
       "      <td>10</td>\n",
       "      <td>40.848398</td>\n",
       "      <td>-74.160266</td>\n",
       "      <td>7012</td>\n",
       "      <td>2</td>\n",
       "    </tr>\n",
       "    <tr>\n",
       "      <th>7753</th>\n",
       "      <td>4.0</td>\n",
       "      <td>3.0</td>\n",
       "      <td>0.11</td>\n",
       "      <td>7640.0</td>\n",
       "      <td>0.0</td>\n",
       "      <td>720000.0</td>\n",
       "      <td>2016</td>\n",
       "      <td>171</td>\n",
       "      <td>40.991681</td>\n",
       "      <td>-73.980202</td>\n",
       "      <td>7640</td>\n",
       "      <td>15</td>\n",
       "    </tr>\n",
       "  </tbody>\n",
       "</table>\n",
       "</div>"
      ],
      "text/plain": [
       "      bed  bath  acre_lot  zip_code  house_size     price  prev_sold_year  \\\n",
       "7749  5.0   4.0      0.91    8848.0         0.0  485000.0            2017   \n",
       "7750  4.0   3.0      2.17    8825.0         0.0  510000.0            2016   \n",
       "7751  3.0   2.0      0.12    7012.0         0.0  499000.0            2021   \n",
       "7752  3.0   3.0      0.13    7012.0         0.0  530000.0            2022   \n",
       "7753  4.0   3.0      0.11    7640.0         0.0  720000.0            2016   \n",
       "\n",
       "      Unnamed: 0   latitude  longitude  zip_code_str  county  \n",
       "7749         568  40.594266 -75.096659          8848      11  \n",
       "7750         553  40.514169 -75.027112          8825      11  \n",
       "7751          10  40.848398 -74.160266          7012       2  \n",
       "7752          10  40.848398 -74.160266          7012       2  \n",
       "7753         171  40.991681 -73.980202          7640      15  "
      ]
     },
     "execution_count": 6,
     "metadata": {},
     "output_type": "execute_result"
    }
   ],
   "source": [
    "merged_df = pd.merge(outliers_df, zip_lon_lat, how=\"inner\", on=\"zip_code\")\n",
    "merged_df.tail()"
   ]
  },
  {
   "cell_type": "code",
   "execution_count": null,
   "id": "4f834d46",
   "metadata": {},
   "outputs": [],
   "source": []
  },
  {
   "cell_type": "code",
   "execution_count": 7,
   "id": "aa1c1059",
   "metadata": {},
   "outputs": [],
   "source": [
    "features = [\"latitude\",\"longitude\",\"bed\",\"bath\",\"acre_lot\",\"house_size\",\"prev_sold_year\"]\n",
    "num_features_to_select = len(features)-1\n",
    "random_state_value = 42"
   ]
  },
  {
   "cell_type": "code",
   "execution_count": 8,
   "id": "7bff4fc2",
   "metadata": {},
   "outputs": [],
   "source": [
    "X = merged_df[features]\n",
    "y = merged_df[\"price\"]\n",
    "X_train, X_test, y_train, y_test = train_test_split(X, y, test_size=0.3, random_state=random_state_value)"
   ]
  },
  {
   "cell_type": "code",
   "execution_count": 9,
   "id": "4b701315",
   "metadata": {},
   "outputs": [],
   "source": [
    "results_dict = {\"model\":[], \"explained variance score\":[],\"mae score\":[],\"mse score\":[],\"r2 score\":[], \"mean fit time\":[]}"
   ]
  },
  {
   "cell_type": "code",
   "execution_count": 10,
   "id": "267ee572",
   "metadata": {},
   "outputs": [],
   "source": [
    "def print_more_stuff(title, y_param, predict_param, gscv):\n",
    "    results_dict[\"model\"].append(title)\n",
    "    \n",
    "    evs = \"{:.9f}\".format(explained_variance_score(y_param,predict_param))\n",
    "    mae = \"{:,.6f}\".format(mean_absolute_error(y_param,predict_param))\n",
    "    mse = \"{:,.6f}\".format(mean_squared_error(y_param,predict_param))\n",
    "    r2 = \"{:,.6f}\".format(r2_score(y_param,predict_param))\n",
    "    \n",
    "    find_best_params = gscv.cv_results_[\"params\"].index(gscv.best_params_)\n",
    "    mean_fit_time = gscv.cv_results_[\"mean_fit_time\"][find_best_params]\n",
    "    \n",
    "    results_dict[\"explained variance score\"].append(evs)\n",
    "    results_dict[\"mae score\"].append(mae)\n",
    "    results_dict[\"mse score\"].append(mse)\n",
    "    results_dict[\"r2 score\"].append(r2)\n",
    "    results_dict[\"mean fit time\"].append(mean_fit_time)\n",
    "    \n",
    "    print(title + \" EVS = \" + evs)\n",
    "    print(title + \" MSE = \" + mse)\n",
    "    print(title + \" MAE = \" + mae)\n",
    "    print(title + \" R2 = \" + r2)\n",
    "    print(title + \" Fit Time = \" + str(mean_fit_time))"
   ]
  },
  {
   "cell_type": "code",
   "execution_count": 11,
   "id": "2f5a5547",
   "metadata": {},
   "outputs": [],
   "source": [
    "ridge = Ridge(random_state=42)\n",
    "ridge_sfs = SequentialFeatureSelector(estimator=ridge, n_features_to_select=num_features_to_select)\n",
    "ridge_sfm = SelectFromModel(estimator=ridge, threshold=1000)\n",
    "ridge_rfe = RFE(estimator=ridge, n_features_to_select=num_features_to_select)"
   ]
  },
  {
   "cell_type": "code",
   "execution_count": null,
   "id": "89fc4d30",
   "metadata": {},
   "outputs": [],
   "source": []
  },
  {
   "cell_type": "code",
   "execution_count": 12,
   "id": "5b2792eb",
   "metadata": {},
   "outputs": [
    {
     "name": "stdout",
     "output_type": "stream",
     "text": [
      "Best parameters found: {'alpha': 1e-10}\n"
     ]
    }
   ],
   "source": [
    "ridge_gscv = GridSearchCV(Ridge(random_state=42), {'alpha': [1e-11, 1e-10, 1e-9]}, scoring='neg_mean_squared_error')\n",
    "ridge_gscv_model = ridge_gscv.fit(X, y)\n",
    "print(f\"Best parameters found: {ridge_gscv.best_params_}\")"
   ]
  },
  {
   "cell_type": "code",
   "execution_count": 13,
   "id": "5f94ec9a",
   "metadata": {},
   "outputs": [
    {
     "name": "stdout",
     "output_type": "stream",
     "text": [
      "Ridge Best Params EVS = 0.413528582\n",
      "Ridge Best Params MSE = 103,916,325,992.269440\n",
      "Ridge Best Params MAE = 214,079.047688\n",
      "Ridge Best Params R2 = 0.413192\n",
      "Ridge Best Params Fit Time = 0.0026124954223632813\n"
     ]
    }
   ],
   "source": [
    "ridge = Ridge(**ridge_gscv.best_params_)\n",
    "ridge_bp_gscv = GridSearchCV(ridge, param_grid={})\n",
    "ridge_bp_model = ridge_bp_gscv.fit(X_train,y_train)\n",
    "ridge_bp_predict = ridge_bp_model.predict(X_test)\n",
    "\n",
    "print_more_stuff(\"Ridge Best Params\", y_test, ridge_bp_predict, ridge_bp_gscv)"
   ]
  },
  {
   "cell_type": "code",
   "execution_count": null,
   "id": "56a66ece",
   "metadata": {},
   "outputs": [],
   "source": []
  },
  {
   "cell_type": "code",
   "execution_count": 14,
   "id": "aaf5ed58",
   "metadata": {},
   "outputs": [
    {
     "name": "stdout",
     "output_type": "stream",
     "text": [
      "The selected features are: ['latitude', 'longitude', 'bed', 'bath', 'acre_lot', 'prev_sold_year']\n"
     ]
    }
   ],
   "source": [
    "ridge_sfm_pipeline = Pipeline([\n",
    "  ('feature_selection', ridge_sfm),\n",
    "  ('regression', ridge)\n",
    "])\n",
    "\n",
    "ridge_sfm_fs = ridge_sfm_pipeline.named_steps['feature_selection'].fit(X_train,y_train)\n",
    "ridge_sfm_selected_features = ridge_sfm_fs.get_support()\n",
    "\n",
    "print('The selected features are:', list(X.columns[ridge_sfm_selected_features]))"
   ]
  },
  {
   "cell_type": "code",
   "execution_count": 15,
   "id": "294bb40c",
   "metadata": {},
   "outputs": [],
   "source": [
    "X_sfm = merged_df[list(X.columns[ridge_sfm_selected_features])]\n",
    "y_sfm = merged_df[\"price\"]\n",
    "X_sfm_train, X_sfm_test, y_sfm_train, y_sfm_test = train_test_split(X_sfm, y_sfm, test_size=0.3, random_state=random_state_value)"
   ]
  },
  {
   "cell_type": "code",
   "execution_count": 16,
   "id": "1f957e58",
   "metadata": {},
   "outputs": [
    {
     "name": "stdout",
     "output_type": "stream",
     "text": [
      "Select From Model EVS = 0.412571191\n",
      "Select From Model MSE = 104,097,563,698.364639\n",
      "Select From Model MAE = 214,296.833643\n",
      "Select From Model R2 = 0.412169\n",
      "Select From Model Fit Time = 0.00341181755065918\n"
     ]
    }
   ],
   "source": [
    "ridge_sfm_gscv = GridSearchCV(Ridge(), param_grid={})\n",
    "ridge_sfm_model = ridge_sfm_gscv.fit(X_sfm_train,y_sfm_train)\n",
    "ridge_sfm_predict = ridge_sfm_model.predict(X_sfm_test)\n",
    "\n",
    "print_more_stuff(\"Select From Model\",y_sfm_test,ridge_sfm_predict,ridge_sfm_gscv)"
   ]
  },
  {
   "cell_type": "code",
   "execution_count": null,
   "id": "11618f58",
   "metadata": {},
   "outputs": [],
   "source": []
  },
  {
   "cell_type": "code",
   "execution_count": 17,
   "id": "5148b30d",
   "metadata": {},
   "outputs": [
    {
     "name": "stdout",
     "output_type": "stream",
     "text": [
      "The selected features are: ['latitude', 'longitude', 'bed', 'bath', 'house_size', 'prev_sold_year']\n"
     ]
    }
   ],
   "source": [
    "ridge_sfs_pipeline = Pipeline([\n",
    "  ('feature_selection', ridge_sfs),\n",
    "  ('regression', ridge)\n",
    "])\n",
    "\n",
    "ridge_sfs_fs = ridge_sfs_pipeline.named_steps['feature_selection'].fit(X_train,y_train)\n",
    "ridge_sfs_selected_features = ridge_sfs_fs.get_support()\n",
    "\n",
    "print('The selected features are:', list(X.columns[ridge_sfs_selected_features]))"
   ]
  },
  {
   "cell_type": "code",
   "execution_count": 18,
   "id": "24797497",
   "metadata": {},
   "outputs": [],
   "source": [
    "X_sfs = merged_df[list(X.columns[ridge_sfs_selected_features])]\n",
    "y_sfs = merged_df[\"price\"]\n",
    "X_sfs_train, X_sfs_test, y_sfs_train, y_sfs_test = train_test_split(X_sfs, y_sfs, test_size=0.3, random_state=random_state_value)"
   ]
  },
  {
   "cell_type": "code",
   "execution_count": 19,
   "id": "b1a6a127",
   "metadata": {},
   "outputs": [
    {
     "name": "stdout",
     "output_type": "stream",
     "text": [
      "Sequential Feature Selector EVS = 0.411540766\n",
      "Sequential Feature Selector MSE = 104,271,874,353.513794\n",
      "Sequential Feature Selector MAE = 214,375.303667\n",
      "Sequential Feature Selector R2 = 0.411185\n",
      "Sequential Feature Selector Fit Time = 0.0034198760986328125\n"
     ]
    }
   ],
   "source": [
    "ridge_sfs_gscv = GridSearchCV(Ridge(), param_grid={})\n",
    "ridge_sfs_model = ridge_sfs_gscv.fit(X_sfs_train,y_sfs_train)\n",
    "ridge_sfs_predict = ridge_sfs_model.predict(X_sfs_test)\n",
    "\n",
    "print_more_stuff(\"Sequential Feature Selector\",y_sfs_test,ridge_sfs_predict,ridge_sfs_gscv)"
   ]
  },
  {
   "cell_type": "code",
   "execution_count": null,
   "id": "e44cc967",
   "metadata": {},
   "outputs": [],
   "source": []
  },
  {
   "cell_type": "code",
   "execution_count": 20,
   "id": "fbe24678",
   "metadata": {},
   "outputs": [
    {
     "name": "stdout",
     "output_type": "stream",
     "text": [
      "The selected features are: ['latitude', 'longitude', 'bed', 'bath', 'acre_lot', 'prev_sold_year']\n"
     ]
    }
   ],
   "source": [
    "ridge_rfe_pipeline = Pipeline([\n",
    "  ('feature_selection', ridge_rfe),\n",
    "  ('regression', ridge)\n",
    "])\n",
    "ridge_rfe_fs = ridge_rfe_pipeline.named_steps['feature_selection'].fit(X_train,y_train)\n",
    "ridge_rfe_selected_features = ridge_rfe_fs.get_support()\n",
    "\n",
    "print('The selected features are:', list(X.columns[ridge_rfe_selected_features]))"
   ]
  },
  {
   "cell_type": "code",
   "execution_count": 21,
   "id": "60f1ebb5",
   "metadata": {},
   "outputs": [],
   "source": [
    "X_rfe = merged_df[list(X.columns[ridge_rfe_selected_features])]\n",
    "y_rfe = merged_df[\"price\"]\n",
    "X_rfe_train, X_rfe_test, y_rfe_train, y_rfe_test = train_test_split(X_rfe, y_rfe, test_size=0.3, random_state=random_state_value)"
   ]
  },
  {
   "cell_type": "code",
   "execution_count": 23,
   "id": "88c0b688",
   "metadata": {},
   "outputs": [
    {
     "name": "stdout",
     "output_type": "stream",
     "text": [
      "Recursive Feature Elimination EVS = 0.412571191\n",
      "Recursive Feature Elimination MSE = 104,097,563,698.364639\n",
      "Recursive Feature Elimination MAE = 214,296.833643\n",
      "Recursive Feature Elimination R2 = 0.412169\n",
      "Recursive Feature Elimination Fit Time = 0.005198907852172851\n"
     ]
    }
   ],
   "source": [
    "ridge_rfe_gscv = GridSearchCV(Ridge(), param_grid={})\n",
    "ridge_rfe_model = ridge_rfe_gscv.fit(X_rfe_train,y_rfe_train)\n",
    "ridge_rfe_predict = ridge_rfe_model.predict(X_rfe_test)\n",
    "\n",
    "print_more_stuff(\"Recursive Feature Elimination\",y_rfe_test,ridge_rfe_predict, ridge_rfe_gscv)"
   ]
  },
  {
   "cell_type": "code",
   "execution_count": null,
   "id": "bf04c0d5",
   "metadata": {},
   "outputs": [],
   "source": []
  },
  {
   "cell_type": "code",
   "execution_count": 24,
   "id": "69d9ab8b",
   "metadata": {},
   "outputs": [],
   "source": [
    "ridge_bp_predict_df = pd.DataFrame(ridge_bp_predict).reset_index()\n",
    "ridge_bp_predict_df.rename(columns={0: \"prediction\"},inplace=True)\n",
    "\n",
    "ridge_sfm_predict_df = pd.DataFrame(ridge_sfm_predict).reset_index()\n",
    "ridge_sfm_predict_df.rename(columns={0: \"prediction\"},inplace=True)\n",
    "\n",
    "ridge_sfs_predict_df = pd.DataFrame(ridge_sfs_predict).reset_index()\n",
    "ridge_sfs_predict_df.rename(columns={0: \"prediction\"},inplace=True)\n",
    "\n",
    "ridge_rfe_predict_df = pd.DataFrame(ridge_rfe_predict).reset_index()\n",
    "ridge_rfe_predict_df.rename(columns={0: \"prediction\"},inplace=True)\n",
    "\n",
    "y_test_df = pd.DataFrame(y_test).reset_index()"
   ]
  },
  {
   "cell_type": "code",
   "execution_count": 25,
   "id": "90cf1151",
   "metadata": {},
   "outputs": [
    {
     "data": {
      "image/png": "[encoded data removed]",
      "text/plain": [
       "<Figure size 1000x600 with 1 Axes>"
      ]
     },
     "metadata": {},
     "output_type": "display_data"
    }
   ],
   "source": [
    "fig, ax = plt.subplots(figsize=(10, 6))\n",
    "\n",
    "ax.ticklabel_format(style='plain')\n",
    "ax.yaxis.set_major_formatter('${x:1,.0f}')\n",
    "ax.xaxis.set_major_formatter(' ')\n",
    "\n",
    "plt.scatter(y_test_df.index,y_test_df[\"price\"], color=\"red\")\n",
    "plt.scatter(ridge_sfm_predict_df.index,ridge_sfm_predict_df[\"prediction\"], color=\"brown\")\n",
    "plt.scatter(ridge_sfs_predict_df.index,ridge_sfs_predict_df[\"prediction\"], color=\"blue\")\n",
    "plt.scatter(ridge_rfe_predict_df.index,ridge_rfe_predict_df[\"prediction\"], color=\"green\")\n",
    "plt.scatter(ridge_bp_predict_df.index,ridge_bp_predict_df[\"prediction\"], color=\"black\")\n",
    "plt.show()"
   ]
  },
  {
   "cell_type": "code",
   "execution_count": null,
   "id": "820a2687",
   "metadata": {},
   "outputs": [],
   "source": []
  },
  {
   "cell_type": "code",
   "execution_count": 26,
   "id": "0d702f85",
   "metadata": {},
   "outputs": [],
   "source": [
    "ridge_bp_predict_df.sort_values(by='prediction', inplace=True)\n",
    "ridge_bp_predict_df.reset_index(inplace=True)\n",
    "\n",
    "ridge_sfm_predict_df.sort_values(by='prediction', inplace=True)\n",
    "ridge_sfm_predict_df.reset_index(inplace=True)\n",
    "\n",
    "ridge_sfs_predict_df.sort_values(by='prediction', inplace=True)\n",
    "ridge_sfs_predict_df.reset_index(inplace=True)\n",
    "\n",
    "ridge_rfe_predict_df.sort_values(by='prediction', inplace=True)\n",
    "ridge_rfe_predict_df.reset_index(inplace=True)\n",
    "\n",
    "y_test_df.sort_values(by='price', inplace=True)\n",
    "y_test_df.reset_index(inplace=True)"
   ]
  },
  {
   "cell_type": "code",
   "execution_count": 29,
   "id": "2cd52edb",
   "metadata": {},
   "outputs": [
    {
     "data": {
      "image/png": "[encoded data removed]",
      "text/plain": [
       "<Figure size 1000x600 with 1 Axes>"
      ]
     },
     "metadata": {},
     "output_type": "display_data"
    }
   ],
   "source": [
    "fig, ax = plt.subplots(figsize=(10, 6))\n",
    "\n",
    "ax.ticklabel_format(style='plain')\n",
    "ax.yaxis.set_major_formatter('${x:1,.0f}')\n",
    "ax.xaxis.set_major_formatter(' ')\n",
    "\n",
    "\n",
    "plt.plot(y_test_df.index,y_test_df[\"price\"], color=\"red\")\n",
    "plt.plot(ridge_sfm_predict_df.index,ridge_sfm_predict_df[\"prediction\"], color=\"brown\")\n",
    "plt.plot(ridge_sfs_predict_df.index,ridge_sfs_predict_df[\"prediction\"], color=\"blue\")\n",
    "plt.plot(ridge_rfe_predict_df.index,ridge_rfe_predict_df[\"prediction\"], color=\"green\")\n",
    "plt.plot(ridge_sfm_predict_df.index,ridge_sfm_predict_df[\"prediction\"], color=\"black\")\n",
    "plt.show()"
   ]
  },
  {
   "cell_type": "code",
   "execution_count": null,
   "id": "e874d799",
   "metadata": {},
   "outputs": [],
   "source": []
  },
  {
   "cell_type": "code",
   "execution_count": 30,
   "id": "7e608abd",
   "metadata": {},
   "outputs": [
    {
     "data": {
      "text/plain": [
       "{'model': ['Ridge Best Params',\n",
       "  'Select From Model',\n",
       "  'Sequential Feature Selector',\n",
       "  'Recursive Feature Elimination'],\n",
       " 'explained variance score': ['0.413528582',\n",
       "  '0.412571191',\n",
       "  '0.411540766',\n",
       "  '0.412571191'],\n",
       " 'mae score': ['214,079.047688',\n",
       "  '214,296.833643',\n",
       "  '214,375.303667',\n",
       "  '214,296.833643'],\n",
       " 'mse score': ['103,916,325,992.269440',\n",
       "  '104,097,563,698.364639',\n",
       "  '104,271,874,353.513794',\n",
       "  '104,097,563,698.364639'],\n",
       " 'r2 score': ['0.413192', '0.412169', '0.411185', '0.412169'],\n",
       " 'mean fit time': [0.0026124954223632813,\n",
       "  0.00341181755065918,\n",
       "  0.0034198760986328125,\n",
       "  0.005198907852172851]}"
      ]
     },
     "execution_count": 30,
     "metadata": {},
     "output_type": "execute_result"
    }
   ],
   "source": [
    "results_dict"
   ]
  },
  {
   "cell_type": "code",
   "execution_count": 31,
   "id": "342b1f93",
   "metadata": {},
   "outputs": [
    {
     "data": {
      "text/html": [
       "<div>\n",
       "<style scoped>\n",
       "    .dataframe tbody tr th:only-of-type {\n",
       "        vertical-align: middle;\n",
       "    }\n",
       "\n",
       "    .dataframe tbody tr th {\n",
       "        vertical-align: top;\n",
       "    }\n",
       "\n",
       "    .dataframe thead th {\n",
       "        text-align: right;\n",
       "    }\n",
       "</style>\n",
       "<table border=\"1\" class=\"dataframe\">\n",
       "  <thead>\n",
       "    <tr style=\"text-align: right;\">\n",
       "      <th></th>\n",
       "      <th>explained variance score</th>\n",
       "      <th>mae score</th>\n",
       "      <th>mse score</th>\n",
       "      <th>r2 score</th>\n",
       "      <th>mean fit time</th>\n",
       "    </tr>\n",
       "    <tr>\n",
       "      <th>model</th>\n",
       "      <th></th>\n",
       "      <th></th>\n",
       "      <th></th>\n",
       "      <th></th>\n",
       "      <th></th>\n",
       "    </tr>\n",
       "  </thead>\n",
       "  <tbody>\n",
       "    <tr>\n",
       "      <th>Ridge Best Params</th>\n",
       "      <td>0.413528582</td>\n",
       "      <td>214,079.047688</td>\n",
       "      <td>103,916,325,992.269440</td>\n",
       "      <td>0.413192</td>\n",
       "      <td>0.002612</td>\n",
       "    </tr>\n",
       "    <tr>\n",
       "      <th>Select From Model</th>\n",
       "      <td>0.412571191</td>\n",
       "      <td>214,296.833643</td>\n",
       "      <td>104,097,563,698.364639</td>\n",
       "      <td>0.412169</td>\n",
       "      <td>0.003412</td>\n",
       "    </tr>\n",
       "    <tr>\n",
       "      <th>Sequential Feature Selector</th>\n",
       "      <td>0.411540766</td>\n",
       "      <td>214,375.303667</td>\n",
       "      <td>104,271,874,353.513794</td>\n",
       "      <td>0.411185</td>\n",
       "      <td>0.003420</td>\n",
       "    </tr>\n",
       "    <tr>\n",
       "      <th>Recursive Feature Elimination</th>\n",
       "      <td>0.412571191</td>\n",
       "      <td>214,296.833643</td>\n",
       "      <td>104,097,563,698.364639</td>\n",
       "      <td>0.412169</td>\n",
       "      <td>0.005199</td>\n",
       "    </tr>\n",
       "  </tbody>\n",
       "</table>\n",
       "</div>"
      ],
      "text/plain": [
       "                              explained variance score       mae score  \\\n",
       "model                                                                    \n",
       "Ridge Best Params                          0.413528582  214,079.047688   \n",
       "Select From Model                          0.412571191  214,296.833643   \n",
       "Sequential Feature Selector                0.411540766  214,375.303667   \n",
       "Recursive Feature Elimination              0.412571191  214,296.833643   \n",
       "\n",
       "                                            mse score  r2 score  mean fit time  \n",
       "model                                                                           \n",
       "Ridge Best Params              103,916,325,992.269440  0.413192       0.002612  \n",
       "Select From Model              104,097,563,698.364639  0.412169       0.003412  \n",
       "Sequential Feature Selector    104,271,874,353.513794  0.411185       0.003420  \n",
       "Recursive Feature Elimination  104,097,563,698.364639  0.412169       0.005199  "
      ]
     },
     "execution_count": 31,
     "metadata": {},
     "output_type": "execute_result"
    }
   ],
   "source": [
    "model_comparisons = pd.DataFrame(results_dict).set_index('model')\n",
    "model_comparisons"
   ]
  },
  {
   "cell_type": "code",
   "execution_count": null,
   "id": "fed6b436",
   "metadata": {},
   "outputs": [],
   "source": []
  }
 ],
 "metadata": {
  "kernelspec": {
   "display_name": "Python 3 (ipykernel)",
   "language": "python",
   "name": "python3"
  },
  "language_info": {
   "codemirror_mode": {
    "name": "ipython",
    "version": 3
   },
   "file_extension": ".py",
   "mimetype": "text/x-python",
   "name": "python",
   "nbconvert_exporter": "python",
   "pygments_lexer": "ipython3",
   "version": "3.11.4"
  }
 },
 "nbformat": 4,
 "nbformat_minor": 5
}
