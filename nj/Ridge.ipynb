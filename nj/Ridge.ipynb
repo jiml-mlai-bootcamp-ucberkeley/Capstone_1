{
 "cells": [
  {
   "cell_type": "code",
   "execution_count": 1,
   "id": "1a8bdeaa",
   "metadata": {},
   "outputs": [],
   "source": [
    "from warnings import filterwarnings\n",
    "filterwarnings(\"ignore\")\n",
    "\n",
    "import pandas as pd\n",
    "import matplotlib.pyplot as plt\n",
    "import numpy as np\n",
    "\n",
    "from sklearn import linear_model\n",
    "from sklearn.feature_selection import SequentialFeatureSelector, RFE\n",
    "from sklearn.linear_model import LinearRegression, Ridge\n",
    "\n",
    "from sklearn.model_selection import train_test_split, cross_val_score\n",
    "from sklearn.metrics import mean_squared_error, mean_absolute_error, r2_score"
   ]
  },
  {
   "cell_type": "code",
   "execution_count": 2,
   "id": "e76f44b1",
   "metadata": {},
   "outputs": [],
   "source": [
    "outliers_df = pd.read_csv('outliers-data.csv')\n",
    "outliers_df.drop(columns=[\"Unnamed: 0\"],inplace=True)"
   ]
  },
  {
   "cell_type": "code",
   "execution_count": 3,
   "id": "3a3b5d51",
   "metadata": {},
   "outputs": [
    {
     "name": "stdout",
     "output_type": "stream",
     "text": [
      "<class 'pandas.core.frame.DataFrame'>\n",
      "RangeIndex: 7757 entries, 0 to 7756\n",
      "Data columns (total 7 columns):\n",
      " #   Column          Non-Null Count  Dtype  \n",
      "---  ------          --------------  -----  \n",
      " 0   bed             7757 non-null   float64\n",
      " 1   bath            7757 non-null   float64\n",
      " 2   acre_lot        7757 non-null   float64\n",
      " 3   zip_code        7757 non-null   float64\n",
      " 4   house_size      7757 non-null   float64\n",
      " 5   prev_sold_date  7757 non-null   object \n",
      " 6   price           7757 non-null   float64\n",
      "dtypes: float64(6), object(1)\n",
      "memory usage: 424.3+ KB\n"
     ]
    }
   ],
   "source": [
    "outliers_df.info()"
   ]
  },
  {
   "cell_type": "code",
   "execution_count": 4,
   "id": "21530dc5",
   "metadata": {},
   "outputs": [
    {
     "name": "stdout",
     "output_type": "stream",
     "text": [
      "<class 'pandas.core.frame.DataFrame'>\n",
      "RangeIndex: 7757 entries, 0 to 7756\n",
      "Data columns (total 7 columns):\n",
      " #   Column          Non-Null Count  Dtype  \n",
      "---  ------          --------------  -----  \n",
      " 0   bed             7757 non-null   float64\n",
      " 1   bath            7757 non-null   float64\n",
      " 2   acre_lot        7757 non-null   float64\n",
      " 3   zip_code        7757 non-null   float64\n",
      " 4   house_size      7757 non-null   float64\n",
      " 5   price           7757 non-null   float64\n",
      " 6   prev_sold_year  7757 non-null   int64  \n",
      "dtypes: float64(6), int64(1)\n",
      "memory usage: 424.3 KB\n"
     ]
    }
   ],
   "source": [
    "outliers_df[\"prev_sold_year\"] = pd.to_datetime(outliers_df[\"prev_sold_date\"], format='%Y-%m-%d').dt.year\n",
    "outliers_df.drop(columns=[\"prev_sold_date\"],inplace=True)\n",
    "outliers_df.info()"
   ]
  },
  {
   "cell_type": "code",
   "execution_count": 5,
   "id": "aa1c1059",
   "metadata": {},
   "outputs": [],
   "source": [
    "num_features_to_select = 5\n",
    "random_state_value = 42"
   ]
  },
  {
   "cell_type": "code",
   "execution_count": 6,
   "id": "7bff4fc2",
   "metadata": {},
   "outputs": [],
   "source": [
    "X = outliers_df[[\"bed\",\"bath\",\"acre_lot\",\"zip_code\",\"house_size\",\"prev_sold_year\"]]\n",
    "y = outliers_df[\"price\"]\n",
    "X_train, X_test, y_train, y_test = train_test_split(X, y, test_size=0.3, random_state=random_state_value)"
   ]
  },
  {
   "cell_type": "code",
   "execution_count": 7,
   "id": "4b701315",
   "metadata": {},
   "outputs": [],
   "source": [
    "def print_stuff(title, mse,mae,r2):\n",
    "    print(title + \" MSE = {:,.6f}\".format(lasso_mse))\n",
    "    print(title + \" MAE = {:,.6f}\".format(lasso_mae))\n",
    "    print(title + \" R2 = {:,.6f}\".format(lasso_r2))"
   ]
  },
  {
   "cell_type": "code",
   "execution_count": 8,
   "id": "f5b90ff2",
   "metadata": {},
   "outputs": [],
   "source": [
    "lasso = linear_model.Lasso()\n",
    "lasso_model = lasso.fit(X_train,y_train)\n",
    "lasso_predict = lasso_model.predict(X_test)\n",
    "lasso_mse = mean_squared_error(lasso_predict,y_test)\n",
    "lasso_mae = mean_absolute_error(lasso_predict,y_test)\n",
    "lasso_r2 = r2_score(y_test,lasso_predict)"
   ]
  },
  {
   "cell_type": "code",
   "execution_count": 9,
   "id": "97829f9c",
   "metadata": {},
   "outputs": [
    {
     "name": "stdout",
     "output_type": "stream",
     "text": [
      "Lasso MSE = 123,732,489,420.844391\n",
      "Lasso MAE = 226,348.922371\n",
      "Lasso R2 = 0.379322\n"
     ]
    }
   ],
   "source": [
    "print_stuff(\"Lasso\",lasso_mse,lasso_mae,lasso_r2)"
   ]
  },
  {
   "cell_type": "code",
   "execution_count": 10,
   "id": "a7da8273",
   "metadata": {},
   "outputs": [
    {
     "name": "stdout",
     "output_type": "stream",
     "text": [
      "The selected features are: ['bed', 'bath', 'zip_code', 'house_size', 'prev_sold_year']\n"
     ]
    }
   ],
   "source": [
    "lasso_sfs = SequentialFeatureSelector(linear_model.Lasso(), n_features_to_select=num_features_to_select)\n",
    "lasso_sfs.fit(X, y)\n",
    "lasso_sfs_selected_features = lasso_sfs.get_support()\n",
    "print('The selected features are:', list(X.columns[lasso_sfs_selected_features]))"
   ]
  },
  {
   "cell_type": "code",
   "execution_count": 11,
   "id": "d1427612",
   "metadata": {},
   "outputs": [],
   "source": [
    "X_sfs = outliers_df[list(X.columns[lasso_sfs_selected_features])]\n",
    "y_sfs = outliers_df[\"price\"]\n",
    "X_sfs_train, X_sfs_test, y_sfs_train, y_sfs_test = train_test_split(X_sfs, y_sfs, test_size=0.3, random_state=random_state_value)"
   ]
  },
  {
   "cell_type": "code",
   "execution_count": 12,
   "id": "7548f90f",
   "metadata": {},
   "outputs": [],
   "source": [
    "lasso_sfs = linear_model.Lasso()\n",
    "lasso_sfs_model = lasso_sfs.fit(X_sfs_train,y_sfs_train)\n",
    "lasso_sfs_predict = lasso_sfs_model.predict(X_sfs_test)\n",
    "\n",
    "lasso_sfs_mse = mean_squared_error(y_sfs_test,lasso_sfs_predict)\n",
    "lasso_sfs_mae = mean_absolute_error(y_sfs_test,lasso_sfs_predict)\n",
    "lasso_sfs_r2 = r2_score(y_sfs_test,lasso_sfs_predict)"
   ]
  },
  {
   "cell_type": "code",
   "execution_count": 13,
   "id": "b41a0143",
   "metadata": {},
   "outputs": [
    {
     "name": "stdout",
     "output_type": "stream",
     "text": [
      "Lasso MSE = 123,732,489,420.844391\n",
      "Lasso MAE = 226,348.922371\n",
      "Lasso R2 = 0.379322\n"
     ]
    }
   ],
   "source": [
    "print_stuff(\"Lasso\",lasso_sfs_mse,lasso_sfs_mae,lasso_sfs_r2)"
   ]
  },
  {
   "cell_type": "code",
   "execution_count": null,
   "id": "bf04c0d5",
   "metadata": {},
   "outputs": [],
   "source": []
  },
  {
   "cell_type": "code",
   "execution_count": 14,
   "id": "5c56f174",
   "metadata": {},
   "outputs": [
    {
     "name": "stdout",
     "output_type": "stream",
     "text": [
      "The selected features are: ['bed', 'bath', 'acre_lot', 'zip_code', 'prev_sold_year']\n"
     ]
    }
   ],
   "source": [
    "lasso_rfe = RFE(linear_model.Lasso(), n_features_to_select=num_features_to_select)\n",
    "lasso_rfe.fit(X, y)\n",
    "lasso_rfe_selected_features = lasso_rfe.get_support()\n",
    "print('The selected features are:', list(X.columns[lasso_rfe_selected_features]))"
   ]
  },
  {
   "cell_type": "code",
   "execution_count": 15,
   "id": "ba367980",
   "metadata": {},
   "outputs": [],
   "source": [
    "X_rfe = outliers_df[list(X.columns[lasso_rfe_selected_features])]\n",
    "y_rfe = outliers_df[\"price\"]\n",
    "X_rfe_train, X_rfe_test, y_rfe_train, y_rfe_test = train_test_split(X_rfe, y_rfe, test_size=0.3, random_state=random_state_value)"
   ]
  },
  {
   "cell_type": "code",
   "execution_count": 16,
   "id": "c33df877",
   "metadata": {},
   "outputs": [],
   "source": [
    "lasso_rfe = linear_model.Lasso()\n",
    "lasso_rfe_model = lasso_rfe.fit(X_rfe_train,y_rfe_train)\n",
    "lasso_rfe_predict = lasso_rfe_model.predict(X_rfe_test)\n",
    "\n",
    "lasso_rfe_mse = mean_squared_error(y_rfe_test,lasso_rfe_predict)\n",
    "lasso_rfe_mae = mean_absolute_error(y_rfe_test,lasso_rfe_predict)\n",
    "lasso_rfe_r2 = r2_score(y_rfe_test,lasso_rfe_predict)"
   ]
  },
  {
   "cell_type": "code",
   "execution_count": 17,
   "id": "21f44442",
   "metadata": {},
   "outputs": [
    {
     "name": "stdout",
     "output_type": "stream",
     "text": [
      "Lasso MSE = 123,732,489,420.844391\n",
      "Lasso MAE = 226,348.922371\n",
      "Lasso R2 = 0.379322\n"
     ]
    }
   ],
   "source": [
    "print_stuff(\"Lasso\",lasso_rfe_mse,lasso_rfe_mae,lasso_rfe_r2)"
   ]
  },
  {
   "cell_type": "code",
   "execution_count": null,
   "id": "c5346044",
   "metadata": {},
   "outputs": [],
   "source": []
  },
  {
   "cell_type": "code",
   "execution_count": null,
   "id": "a5f84a62",
   "metadata": {},
   "outputs": [],
   "source": []
  },
  {
   "cell_type": "code",
   "execution_count": null,
   "id": "babfe3b6",
   "metadata": {},
   "outputs": [],
   "source": []
  },
  {
   "cell_type": "code",
   "execution_count": null,
   "id": "d8787cfa",
   "metadata": {},
   "outputs": [],
   "source": []
  },
  {
   "cell_type": "code",
   "execution_count": null,
   "id": "37cfd72b",
   "metadata": {},
   "outputs": [],
   "source": []
  }
 ],
 "metadata": {
  "kernelspec": {
   "display_name": "Python 3 (ipykernel)",
   "language": "python",
   "name": "python3"
  },
  "language_info": {
   "codemirror_mode": {
    "name": "ipython",
    "version": 3
   },
   "file_extension": ".py",
   "mimetype": "text/x-python",
   "name": "python",
   "nbconvert_exporter": "python",
   "pygments_lexer": "ipython3",
   "version": "3.11.4"
  }
 },
 "nbformat": 4,
 "nbformat_minor": 5
}
