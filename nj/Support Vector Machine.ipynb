{
 "cells": [
  {
   "cell_type": "code",
   "execution_count": 1,
   "id": "1a8bdeaa",
   "metadata": {},
   "outputs": [],
   "source": [
    "from warnings import filterwarnings\n",
    "filterwarnings(\"ignore\")\n",
    "\n",
    "import pandas as pd\n",
    "\n",
    "from sklearn.feature_selection import SequentialFeatureSelector, RFE\n",
    "from sklearn.model_selection import GridSearchCV, train_test_split, cross_val_score\n",
    "from sklearn.svm import SVR\n",
    "from sklearn.metrics import mean_squared_error, mean_absolute_error, r2_score, f1_score"
   ]
  },
  {
   "cell_type": "code",
   "execution_count": 2,
   "id": "e76f44b1",
   "metadata": {},
   "outputs": [],
   "source": [
    "outliers_df = pd.read_csv('outliers-data.csv')\n",
    "outliers_df.drop(columns=[\"Unnamed: 0\"],inplace=True)"
   ]
  },
  {
   "cell_type": "code",
   "execution_count": 3,
   "id": "3a3b5d51",
   "metadata": {},
   "outputs": [
    {
     "name": "stdout",
     "output_type": "stream",
     "text": [
      "<class 'pandas.core.frame.DataFrame'>\n",
      "RangeIndex: 7757 entries, 0 to 7756\n",
      "Data columns (total 7 columns):\n",
      " #   Column          Non-Null Count  Dtype  \n",
      "---  ------          --------------  -----  \n",
      " 0   bed             7757 non-null   float64\n",
      " 1   bath            7757 non-null   float64\n",
      " 2   acre_lot        7757 non-null   float64\n",
      " 3   zip_code        7757 non-null   float64\n",
      " 4   house_size      7757 non-null   float64\n",
      " 5   prev_sold_date  7757 non-null   object \n",
      " 6   price           7757 non-null   float64\n",
      "dtypes: float64(6), object(1)\n",
      "memory usage: 424.3+ KB\n"
     ]
    }
   ],
   "source": [
    "outliers_df.info()"
   ]
  },
  {
   "cell_type": "code",
   "execution_count": 4,
   "id": "21530dc5",
   "metadata": {},
   "outputs": [
    {
     "name": "stdout",
     "output_type": "stream",
     "text": [
      "<class 'pandas.core.frame.DataFrame'>\n",
      "RangeIndex: 7757 entries, 0 to 7756\n",
      "Data columns (total 7 columns):\n",
      " #   Column          Non-Null Count  Dtype  \n",
      "---  ------          --------------  -----  \n",
      " 0   bed             7757 non-null   float64\n",
      " 1   bath            7757 non-null   float64\n",
      " 2   acre_lot        7757 non-null   float64\n",
      " 3   zip_code        7757 non-null   float64\n",
      " 4   house_size      7757 non-null   float64\n",
      " 5   price           7757 non-null   float64\n",
      " 6   prev_sold_year  7757 non-null   int64  \n",
      "dtypes: float64(6), int64(1)\n",
      "memory usage: 424.3 KB\n"
     ]
    }
   ],
   "source": [
    "outliers_df[\"prev_sold_year\"] = pd.to_datetime(outliers_df[\"prev_sold_date\"], format='%Y-%m-%d').dt.year\n",
    "outliers_df.drop(columns=[\"prev_sold_date\"],inplace=True)\n",
    "outliers_df.info()"
   ]
  },
  {
   "cell_type": "code",
   "execution_count": 5,
   "id": "aa1c1059",
   "metadata": {},
   "outputs": [],
   "source": [
    "num_features_to_select = 5\n",
    "random_state_value = 42"
   ]
  },
  {
   "cell_type": "code",
   "execution_count": 6,
   "id": "7bff4fc2",
   "metadata": {},
   "outputs": [],
   "source": [
    "X = outliers_df[[\"bed\",\"bath\",\"acre_lot\",\"zip_code\",\"house_size\",\"prev_sold_year\"]]\n",
    "y = outliers_df[\"price\"]\n",
    "X_train, X_test, y_train, y_test = train_test_split(X, y, test_size=0.3, random_state=random_state_value)"
   ]
  },
  {
   "cell_type": "code",
   "execution_count": null,
   "id": "21f44442",
   "metadata": {},
   "outputs": [],
   "source": []
  },
  {
   "cell_type": "code",
   "execution_count": 7,
   "id": "c5346044",
   "metadata": {},
   "outputs": [],
   "source": [
    "cv_scores = []\n",
    "kernels = ['linear', 'poly', 'rbf', 'sigmoid']\n",
    "for k in kernels:\n",
    "    svc = SVR(kernel=k)\n",
    "    scores = cross_val_score(svc, X_train, y_train, cv=5, scoring='accuracy')\n",
    "    cv_scores.append(scores.mean())\n",
    "\n",
    "optimal_kernel = kernels[cv_scores.index(max(cv_scores))]"
   ]
  },
  {
   "cell_type": "code",
   "execution_count": 8,
   "id": "a5f84a62",
   "metadata": {},
   "outputs": [
    {
     "name": "stdout",
     "output_type": "stream",
     "text": [
      "Fitting 5 folds for each of 1 candidates, totalling 5 fits\n",
      "[CV] END ........................C=1, gamma=1, kernel=linear; total time=   1.9s\n",
      "[CV] END ........................C=1, gamma=1, kernel=linear; total time=   1.4s\n",
      "[CV] END ........................C=1, gamma=1, kernel=linear; total time=   1.3s\n",
      "[CV] END ........................C=1, gamma=1, kernel=linear; total time=   1.5s\n",
      "[CV] END ........................C=1, gamma=1, kernel=linear; total time=   1.8s\n",
      "Best parameters found: {'C': 1, 'gamma': 1, 'kernel': 'linear'}\n"
     ]
    }
   ],
   "source": [
    "params = {\n",
    "    'C': [1],\n",
    "    'gamma': [1],\n",
    "    'kernel': [optimal_kernel]\n",
    "}\n",
    "\n",
    "svc_gscv = GridSearchCV(SVR(), params, refit=True, verbose=2, cv=5).fit(X, y)\n",
    "print(f\"Best parameters found: {svc_gscv.best_params_}\")"
   ]
  },
  {
   "cell_type": "code",
   "execution_count": null,
   "id": "b3570d58",
   "metadata": {},
   "outputs": [],
   "source": []
  },
  {
   "cell_type": "code",
   "execution_count": 17,
   "id": "96686f80",
   "metadata": {},
   "outputs": [
    {
     "name": "stdout",
     "output_type": "stream",
     "text": [
      "206,280,132,144.347687\n"
     ]
    }
   ],
   "source": [
    "svc = SVR(**svc_gscv.best_params_)\n",
    "svc_model = svc.fit(X_train,y_train)\n",
    "svc_predict = svc_model.predict(X_test)\n",
    "svc_mse = mean_squared_error(y_test,svc_predict)\n",
    "print(\"{:,.6f}\".format(svc_mse))"
   ]
  },
  {
   "cell_type": "code",
   "execution_count": null,
   "id": "86292dfb",
   "metadata": {},
   "outputs": [],
   "source": []
  },
  {
   "cell_type": "code",
   "execution_count": 9,
   "id": "babfe3b6",
   "metadata": {},
   "outputs": [
    {
     "name": "stdout",
     "output_type": "stream",
     "text": [
      "The selected features are: ['bed', 'bath', 'acre_lot', 'zip_code', 'house_size']\n"
     ]
    }
   ],
   "source": [
    "svc_rfe = RFE(SVR(**svc_gscv.best_params_), n_features_to_select=num_features_to_select, step=1)\n",
    "svc_rfe.fit(X, y)\n",
    "svc_rfe_selected_features = svc_rfe.get_support()\n",
    "print('The selected features are:', list(X.columns[svc_rfe_selected_features]))"
   ]
  },
  {
   "cell_type": "code",
   "execution_count": 10,
   "id": "d8787cfa",
   "metadata": {},
   "outputs": [],
   "source": [
    "X_rfe = outliers_df[list(X.columns[svc_rfe_selected_features])]\n",
    "y_rfe = outliers_df[\"price\"]\n",
    "X_rfe_train, X_rfe_test, y_rfe_train, y_rfe_test = train_test_split(X_rfe, y_rfe, test_size=0.3, random_state=random_state_value)"
   ]
  },
  {
   "cell_type": "code",
   "execution_count": 16,
   "id": "05db9483",
   "metadata": {},
   "outputs": [
    {
     "name": "stdout",
     "output_type": "stream",
     "text": [
      "206,289,633,183.080200\n"
     ]
    }
   ],
   "source": [
    "svc_rfe = SVR(**svc_gscv.best_params_)\n",
    "svc_rfe_model = svc_rfe.fit(X_rfe_train,y_rfe_train)\n",
    "svc_rfe_predict = svc_rfe_model.predict(X_rfe_test)\n",
    "svc_rfe_mse = mean_squared_error(y_rfe_test,svc_rfe_predict)\n",
    "print(\"{:,.6f}\".format(svc_rfe_mse))"
   ]
  },
  {
   "cell_type": "code",
   "execution_count": null,
   "id": "8889d621",
   "metadata": {},
   "outputs": [],
   "source": []
  },
  {
   "cell_type": "code",
   "execution_count": 12,
   "id": "efe8fde5",
   "metadata": {},
   "outputs": [
    {
     "name": "stdout",
     "output_type": "stream",
     "text": [
      "The selected features are: ['bed', 'bath', 'acre_lot', 'zip_code', 'house_size']\n"
     ]
    }
   ],
   "source": [
    "svc_sfs = SequentialFeatureSelector(SVR(**svc_gscv.best_params_), n_features_to_select=num_features_to_select)\n",
    "svc_sfs.fit(X, y)\n",
    "svc_sfs_selected_features = svc_sfs.get_support()\n",
    "print('The selected features are:', list(X.columns[svc_sfs_selected_features]))"
   ]
  },
  {
   "cell_type": "code",
   "execution_count": null,
   "id": "c1512d23",
   "metadata": {},
   "outputs": [],
   "source": []
  },
  {
   "cell_type": "code",
   "execution_count": 13,
   "id": "1f30201a",
   "metadata": {},
   "outputs": [],
   "source": [
    "X_sfs = outliers_df[list(X.columns[svc_sfs_selected_features])]\n",
    "y_sfs = outliers_df[\"price\"]\n",
    "X_sfs_train, X_sfs_test, y_sfs_train, y_sfs_test = train_test_split(X_sfs, y_sfs, test_size=0.3, random_state=random_state_value)"
   ]
  },
  {
   "cell_type": "code",
   "execution_count": null,
   "id": "47699560",
   "metadata": {},
   "outputs": [],
   "source": []
  },
  {
   "cell_type": "code",
   "execution_count": 15,
   "id": "a8f112a4",
   "metadata": {},
   "outputs": [
    {
     "name": "stdout",
     "output_type": "stream",
     "text": [
      "206,289,633,183.080200\n"
     ]
    }
   ],
   "source": [
    "svc_rfe = SVR(**svc_gscv.best_params_)\n",
    "svc_rfe_model = svc_rfe.fit(X_rfe_train,y_rfe_train)\n",
    "svc_rfe_predict = svc_rfe_model.predict(X_rfe_test)\n",
    "svc_rfe_mse = mean_squared_error(y_rfe_test,svc_rfe_predict)\n",
    "print(\"{:,.6f}\".format(svc_rfe_mse))"
   ]
  },
  {
   "cell_type": "code",
   "execution_count": null,
   "id": "246f4466",
   "metadata": {},
   "outputs": [],
   "source": []
  }
 ],
 "metadata": {
  "kernelspec": {
   "display_name": "Python 3 (ipykernel)",
   "language": "python",
   "name": "python3"
  },
  "language_info": {
   "codemirror_mode": {
    "name": "ipython",
    "version": 3
   },
   "file_extension": ".py",
   "mimetype": "text/x-python",
   "name": "python",
   "nbconvert_exporter": "python",
   "pygments_lexer": "ipython3",
   "version": "3.11.4"
  }
 },
 "nbformat": 4,
 "nbformat_minor": 5
}
