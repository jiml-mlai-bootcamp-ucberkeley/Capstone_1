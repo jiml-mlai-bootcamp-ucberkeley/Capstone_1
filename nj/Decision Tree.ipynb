{
 "cells": [
  {
   "cell_type": "code",
   "execution_count": 1,
   "id": "1a8bdeaa",
   "metadata": {},
   "outputs": [],
   "source": [
    "from warnings import filterwarnings\n",
    "filterwarnings(\"ignore\")\n",
    "\n",
    "import pandas as pd\n",
    "\n",
    "from sklearn.feature_selection import SequentialFeatureSelector, RFE\n",
    "from sklearn.tree import DecisionTreeRegressor\n",
    "from sklearn.model_selection import train_test_split, cross_val_score\n",
    "from sklearn.metrics import mean_squared_error, mean_absolute_error, r2_score, f1_score"
   ]
  },
  {
   "cell_type": "code",
   "execution_count": 2,
   "id": "e76f44b1",
   "metadata": {},
   "outputs": [],
   "source": [
    "outliers_df = pd.read_csv('outliers-data.csv')\n",
    "outliers_df.drop(columns=[\"Unnamed: 0\"],inplace=True)"
   ]
  },
  {
   "cell_type": "code",
   "execution_count": 3,
   "id": "3a3b5d51",
   "metadata": {},
   "outputs": [
    {
     "name": "stdout",
     "output_type": "stream",
     "text": [
      "<class 'pandas.core.frame.DataFrame'>\n",
      "RangeIndex: 7757 entries, 0 to 7756\n",
      "Data columns (total 7 columns):\n",
      " #   Column          Non-Null Count  Dtype  \n",
      "---  ------          --------------  -----  \n",
      " 0   bed             7757 non-null   float64\n",
      " 1   bath            7757 non-null   float64\n",
      " 2   acre_lot        7757 non-null   float64\n",
      " 3   zip_code        7757 non-null   float64\n",
      " 4   house_size      7757 non-null   float64\n",
      " 5   prev_sold_date  7757 non-null   object \n",
      " 6   price           7757 non-null   float64\n",
      "dtypes: float64(6), object(1)\n",
      "memory usage: 424.3+ KB\n"
     ]
    }
   ],
   "source": [
    "outliers_df.info()"
   ]
  },
  {
   "cell_type": "code",
   "execution_count": 4,
   "id": "21530dc5",
   "metadata": {},
   "outputs": [
    {
     "name": "stdout",
     "output_type": "stream",
     "text": [
      "<class 'pandas.core.frame.DataFrame'>\n",
      "RangeIndex: 7757 entries, 0 to 7756\n",
      "Data columns (total 7 columns):\n",
      " #   Column          Non-Null Count  Dtype  \n",
      "---  ------          --------------  -----  \n",
      " 0   bed             7757 non-null   float64\n",
      " 1   bath            7757 non-null   float64\n",
      " 2   acre_lot        7757 non-null   float64\n",
      " 3   zip_code        7757 non-null   float64\n",
      " 4   house_size      7757 non-null   float64\n",
      " 5   price           7757 non-null   float64\n",
      " 6   prev_sold_year  7757 non-null   int64  \n",
      "dtypes: float64(6), int64(1)\n",
      "memory usage: 424.3 KB\n"
     ]
    }
   ],
   "source": [
    "outliers_df[\"prev_sold_year\"] = pd.to_datetime(outliers_df[\"prev_sold_date\"], format='%Y-%m-%d').dt.year\n",
    "outliers_df.drop(columns=[\"prev_sold_date\"],inplace=True)\n",
    "outliers_df.info()"
   ]
  },
  {
   "cell_type": "code",
   "execution_count": 5,
   "id": "aa1c1059",
   "metadata": {},
   "outputs": [],
   "source": [
    "num_features_to_select = 5\n",
    "random_state_value = 42"
   ]
  },
  {
   "cell_type": "code",
   "execution_count": 6,
   "id": "7bff4fc2",
   "metadata": {},
   "outputs": [],
   "source": [
    "X = outliers_df[[\"bed\",\"bath\",\"acre_lot\",\"zip_code\",\"house_size\",\"prev_sold_year\"]]\n",
    "y = outliers_df[\"price\"]\n",
    "X_train, X_test, y_train, y_test = train_test_split(X, y, test_size=0.3, random_state=random_state_value)"
   ]
  },
  {
   "cell_type": "code",
   "execution_count": null,
   "id": "8dcdc3d2",
   "metadata": {},
   "outputs": [],
   "source": []
  },
  {
   "cell_type": "code",
   "execution_count": 13,
   "id": "01dc0a27",
   "metadata": {},
   "outputs": [
    {
     "name": "stdout",
     "output_type": "stream",
     "text": [
      "104,970,917,978.897156\n"
     ]
    }
   ],
   "source": [
    "dtree = DecisionTreeRegressor()\n",
    "dtree_model = dtree_sfs.fit(X_train,y_train)\n",
    "dtree_predict = dtree_sfs_model.predict(X_test)\n",
    "dtree_mse = mean_squared_error(y_test,dtree_predict)\n",
    "print(\"{:,.6f}\".format(dtree_mse))"
   ]
  },
  {
   "cell_type": "code",
   "execution_count": null,
   "id": "1095b282",
   "metadata": {},
   "outputs": [],
   "source": []
  },
  {
   "cell_type": "code",
   "execution_count": null,
   "id": "13b915d3",
   "metadata": {},
   "outputs": [],
   "source": []
  },
  {
   "cell_type": "code",
   "execution_count": 7,
   "id": "d1427612",
   "metadata": {},
   "outputs": [
    {
     "name": "stdout",
     "output_type": "stream",
     "text": [
      "The selected features are: ['bath', 'acre_lot', 'zip_code', 'house_size', 'prev_sold_year']\n"
     ]
    }
   ],
   "source": [
    "dtree_rfe = RFE(DecisionTreeRegressor(), n_features_to_select=num_features_to_select)\n",
    "dtree_rfe.fit(X, y)\n",
    "dtree_rfe_selected_features = dtree_rfe.get_support()\n",
    "print('The selected features are:', list(X.columns[dtree_rfe_selected_features]))"
   ]
  },
  {
   "cell_type": "code",
   "execution_count": 8,
   "id": "8c8293ac",
   "metadata": {},
   "outputs": [],
   "source": [
    "X_rfe = outliers_df[list(X.columns[dtree_rfe_selected_features])]\n",
    "y_rfe = outliers_df[\"price\"]\n",
    "X_rfe_train, X_rfe_test, y_rfe_train, y_rfe_test = train_test_split(X_rfe, y_rfe, test_size=0.3, random_state=random_state_value)"
   ]
  },
  {
   "cell_type": "code",
   "execution_count": 9,
   "id": "3eafd718",
   "metadata": {},
   "outputs": [
    {
     "name": "stdout",
     "output_type": "stream",
     "text": [
      "113,177,171,194.026520\n"
     ]
    }
   ],
   "source": [
    "dtree_rfe = DecisionTreeRegressor()\n",
    "dtree_rfe_model = dtree_rfe.fit(X_rfe_train,y_rfe_train)\n",
    "dtree_rfe_predict = dtree_rfe_model.predict(X_rfe_test)\n",
    "dtree_rfe_mse = mean_squared_error(y_rfe_test,dtree_rfe_predict)\n",
    "print(\"{:,.6f}\".format(dtree_rfe_mse))"
   ]
  },
  {
   "cell_type": "code",
   "execution_count": null,
   "id": "a1736f2b",
   "metadata": {},
   "outputs": [],
   "source": []
  },
  {
   "cell_type": "code",
   "execution_count": null,
   "id": "c33df877",
   "metadata": {},
   "outputs": [],
   "source": []
  },
  {
   "cell_type": "code",
   "execution_count": 10,
   "id": "21f44442",
   "metadata": {},
   "outputs": [
    {
     "name": "stdout",
     "output_type": "stream",
     "text": [
      "The selected features are: ['bed', 'bath', 'zip_code', 'house_size', 'prev_sold_year']\n"
     ]
    }
   ],
   "source": [
    "dtree_sfs = SequentialFeatureSelector(DecisionTreeRegressor(), n_features_to_select=num_features_to_select)\n",
    "dtree_sfs.fit(X, y)\n",
    "dtree_sfs_selected_features = dtree_sfs.get_support()\n",
    "print('The selected features are:', list(X.columns[dtree_sfs_selected_features]))"
   ]
  },
  {
   "cell_type": "code",
   "execution_count": 11,
   "id": "c5346044",
   "metadata": {},
   "outputs": [],
   "source": [
    "X_sfs = outliers_df[list(X.columns[dtree_sfs_selected_features])]\n",
    "y_sfs = outliers_df[\"price\"]\n",
    "X_sfs_train, X_sfs_test, y_sfs_train, y_sfs_test = train_test_split(X_sfs, y_sfs, test_size=0.3, random_state=random_state_value)"
   ]
  },
  {
   "cell_type": "code",
   "execution_count": 12,
   "id": "a5f84a62",
   "metadata": {},
   "outputs": [
    {
     "name": "stdout",
     "output_type": "stream",
     "text": [
      "117,753,838,860.909897\n"
     ]
    }
   ],
   "source": [
    "dtree_sfs = DecisionTreeRegressor()\n",
    "dtree_sfs_model = dtree_sfs.fit(X_sfs_train,y_sfs_train)\n",
    "dtree_sfs_predict = dtree_sfs_model.predict(X_sfs_test)\n",
    "dtree_sfs_mse = mean_squared_error(y_sfs_test,dtree_sfs_predict)\n",
    "print(\"{:,.6f}\".format(dtree_sfs_mse))"
   ]
  },
  {
   "cell_type": "code",
   "execution_count": null,
   "id": "babfe3b6",
   "metadata": {},
   "outputs": [],
   "source": []
  },
  {
   "cell_type": "code",
   "execution_count": null,
   "id": "d8787cfa",
   "metadata": {},
   "outputs": [],
   "source": []
  }
 ],
 "metadata": {
  "kernelspec": {
   "display_name": "Python 3 (ipykernel)",
   "language": "python",
   "name": "python3"
  },
  "language_info": {
   "codemirror_mode": {
    "name": "ipython",
    "version": 3
   },
   "file_extension": ".py",
   "mimetype": "text/x-python",
   "name": "python",
   "nbconvert_exporter": "python",
   "pygments_lexer": "ipython3",
   "version": "3.11.4"
  }
 },
 "nbformat": 4,
 "nbformat_minor": 5
}
