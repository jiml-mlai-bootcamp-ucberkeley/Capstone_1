{
 "cells": [
  {
   "cell_type": "code",
   "execution_count": 1,
   "id": "1a8bdeaa",
   "metadata": {},
   "outputs": [],
   "source": [
    "from warnings import filterwarnings\n",
    "filterwarnings(\"ignore\")\n",
    "\n",
    "import pandas as pd\n",
    "import matplotlib.pyplot as plt\n",
    "import numpy as np\n",
    "\n",
    "from sklearn import linear_model\n",
    "from sklearn.feature_selection import SequentialFeatureSelector, RFE, SelectFromModel\n",
    "from sklearn.pipeline import Pipeline\n",
    "\n",
    "from sklearn.model_selection import train_test_split, cross_val_score\n",
    "from sklearn.metrics import mean_squared_error, mean_absolute_error, r2_score"
   ]
  },
  {
   "cell_type": "code",
   "execution_count": 2,
   "id": "e76f44b1",
   "metadata": {},
   "outputs": [],
   "source": [
    "outliers_df = pd.read_csv('outliers-data.csv')\n",
    "outliers_df.drop(columns=[\"Unnamed: 0\"],inplace=True)"
   ]
  },
  {
   "cell_type": "code",
   "execution_count": 3,
   "id": "3a3b5d51",
   "metadata": {},
   "outputs": [
    {
     "name": "stdout",
     "output_type": "stream",
     "text": [
      "<class 'pandas.core.frame.DataFrame'>\n",
      "RangeIndex: 7757 entries, 0 to 7756\n",
      "Data columns (total 7 columns):\n",
      " #   Column          Non-Null Count  Dtype  \n",
      "---  ------          --------------  -----  \n",
      " 0   bed             7757 non-null   float64\n",
      " 1   bath            7757 non-null   float64\n",
      " 2   acre_lot        7757 non-null   float64\n",
      " 3   zip_code        7757 non-null   float64\n",
      " 4   house_size      7757 non-null   float64\n",
      " 5   prev_sold_date  7757 non-null   object \n",
      " 6   price           7757 non-null   float64\n",
      "dtypes: float64(6), object(1)\n",
      "memory usage: 424.3+ KB\n"
     ]
    }
   ],
   "source": [
    "outliers_df.info()"
   ]
  },
  {
   "cell_type": "code",
   "execution_count": 4,
   "id": "21530dc5",
   "metadata": {},
   "outputs": [
    {
     "name": "stdout",
     "output_type": "stream",
     "text": [
      "<class 'pandas.core.frame.DataFrame'>\n",
      "RangeIndex: 7757 entries, 0 to 7756\n",
      "Data columns (total 7 columns):\n",
      " #   Column          Non-Null Count  Dtype  \n",
      "---  ------          --------------  -----  \n",
      " 0   bed             7757 non-null   float64\n",
      " 1   bath            7757 non-null   float64\n",
      " 2   acre_lot        7757 non-null   float64\n",
      " 3   zip_code        7757 non-null   float64\n",
      " 4   house_size      7757 non-null   float64\n",
      " 5   price           7757 non-null   float64\n",
      " 6   prev_sold_year  7757 non-null   int64  \n",
      "dtypes: float64(6), int64(1)\n",
      "memory usage: 424.3 KB\n"
     ]
    }
   ],
   "source": [
    "outliers_df[\"prev_sold_year\"] = pd.to_datetime(outliers_df[\"prev_sold_date\"], format='%Y-%m-%d').dt.year\n",
    "outliers_df.drop(columns=[\"prev_sold_date\"],inplace=True)\n",
    "outliers_df.info()"
   ]
  },
  {
   "cell_type": "code",
   "execution_count": 5,
   "id": "aa1c1059",
   "metadata": {},
   "outputs": [],
   "source": [
    "features = [\"bed\",\"bath\"]\n",
    "num_features_to_select = len(features)-1\n",
    "random_state_value = 42"
   ]
  },
  {
   "cell_type": "code",
   "execution_count": 6,
   "id": "7bff4fc2",
   "metadata": {},
   "outputs": [],
   "source": [
    "#\"bed\",\"bath\",\"acre_lot\",\"zip_code\",\"house_size\",\"prev_sold_year\"\n",
    "\n",
    "X = outliers_df[features]\n",
    "y = outliers_df[\"price\"]\n",
    "X_train, X_test, y_train, y_test = train_test_split(X, y, test_size=0.3, random_state=random_state_value)"
   ]
  },
  {
   "cell_type": "code",
   "execution_count": 7,
   "id": "4b701315",
   "metadata": {},
   "outputs": [],
   "source": [
    "def print_stuff(title, mse,mae,r2):\n",
    "    print(title + \" MSE = {:,.6f}\".format(lasso_mse))\n",
    "    print(title + \" MAE = {:,.6f}\".format(lasso_mae))\n",
    "    print(title + \" R2 = {:,.6f}\".format(lasso_r2))"
   ]
  },
  {
   "cell_type": "code",
   "execution_count": 8,
   "id": "2f5a5547",
   "metadata": {},
   "outputs": [],
   "source": [
    "lasso = linear_model.Lasso(random_state=42)\n",
    "lasso_sfs = SequentialFeatureSelector(estimator=lasso, n_features_to_select=num_features_to_select)\n",
    "lasso_sfm = SelectFromModel(estimator=lasso, threshold=1000)\n",
    "lasso_rfe = RFE(estimator=lasso, n_features_to_select=num_features_to_select)"
   ]
  },
  {
   "cell_type": "code",
   "execution_count": 9,
   "id": "f5b90ff2",
   "metadata": {},
   "outputs": [],
   "source": [
    "lasso_pipeline = Pipeline([\n",
    "  ('regression', lasso)\n",
    "])\n",
    "\n",
    "lasso_model = lasso_pipeline[\"regression\"].fit(X_train,y_train)\n",
    "lasso_predict = lasso_model.predict(X_test)\n",
    "lasso_mse = mean_squared_error(lasso_predict,y_test)\n",
    "lasso_mae = mean_absolute_error(lasso_predict,y_test)\n",
    "lasso_r2 = r2_score(y_test,lasso_predict)"
   ]
  },
  {
   "cell_type": "code",
   "execution_count": 10,
   "id": "97829f9c",
   "metadata": {},
   "outputs": [
    {
     "name": "stdout",
     "output_type": "stream",
     "text": [
      "Lasso MSE = 124,674,304,027.763321\n",
      "Lasso MAE = 226,536.890221\n",
      "Lasso R2 = 0.374598\n"
     ]
    }
   ],
   "source": [
    "print_stuff(\"Lasso\",lasso_mse,lasso_mae,lasso_r2)"
   ]
  },
  {
   "cell_type": "code",
   "execution_count": 11,
   "id": "aaf5ed58",
   "metadata": {},
   "outputs": [
    {
     "name": "stdout",
     "output_type": "stream",
     "text": [
      "The selected features are: ['bed', 'bath', 'acre_lot']\n"
     ]
    }
   ],
   "source": [
    "lasso_sfm_pipeline = Pipeline([\n",
    "  ('feature_selection', lasso_sfm),\n",
    "  ('regression', lasso)\n",
    "])\n",
    "\n",
    "lasso_sfm_fs = lasso_sfm_pipeline.named_steps['feature_selection'].fit(X_train,y_train)\n",
    "lasso_sfm_get_support = lasso_sfm_fs.get_support()\n",
    "\n",
    "print('The selected features are:', list(X.columns[lasso_sfm_get_support]))"
   ]
  },
  {
   "cell_type": "code",
   "execution_count": 12,
   "id": "1f957e58",
   "metadata": {},
   "outputs": [
    {
     "name": "stdout",
     "output_type": "stream",
     "text": [
      "Lasso MSE = 124,674,304,027.763321\n",
      "Lasso MAE = 226,536.890221\n",
      "Lasso R2 = 0.374598\n"
     ]
    }
   ],
   "source": [
    "lasso_sfm_model = lasso_sfm_pipeline[\"regression\"].fit(X_train,y_train)\n",
    "lasso_sfm_predict = lasso_sfm_model.predict(X_test)\n",
    "lasso_sfm_mse = mean_squared_error(lasso_sfm_predict,y_test)\n",
    "lasso_sfm_mae = mean_absolute_error(lasso_sfm_predict,y_test)\n",
    "lasso_sfm_r2 = r2_score(y_test,lasso_sfm_predict)\n",
    "print_stuff(\"Lasso\",lasso_sfm_mse,lasso_sfm_mae,lasso_sfm_r2)"
   ]
  },
  {
   "cell_type": "code",
   "execution_count": null,
   "id": "ca032357",
   "metadata": {},
   "outputs": [],
   "source": []
  },
  {
   "cell_type": "code",
   "execution_count": null,
   "id": "11618f58",
   "metadata": {},
   "outputs": [],
   "source": []
  },
  {
   "cell_type": "code",
   "execution_count": 13,
   "id": "5148b30d",
   "metadata": {},
   "outputs": [
    {
     "name": "stdout",
     "output_type": "stream",
     "text": [
      "The selected features are: ['bed', 'bath']\n"
     ]
    }
   ],
   "source": [
    "lasso_sfs_pipeline = Pipeline([\n",
    "  ('feature_selection', lasso_sfs),\n",
    "  ('regression', lasso)\n",
    "])\n",
    "\n",
    "lasso_sfs_fs = lasso_sfs_pipeline.named_steps['feature_selection'].fit(X_train,y_train)\n",
    "lasso_sfs_get_support = lasso_sfs_fs.get_support()\n",
    "\n",
    "print('The selected features are:', list(X.columns[lasso_sfs_get_support]))"
   ]
  },
  {
   "cell_type": "code",
   "execution_count": 14,
   "id": "b1a6a127",
   "metadata": {},
   "outputs": [
    {
     "name": "stdout",
     "output_type": "stream",
     "text": [
      "Lasso MSE = 124,674,304,027.763321\n",
      "Lasso MAE = 226,536.890221\n",
      "Lasso R2 = 0.374598\n"
     ]
    }
   ],
   "source": [
    "lasso_sfs_model = lasso_sfs_pipeline[\"regression\"].fit(X_train,y_train)\n",
    "lasso_sfs_predict = lasso_sfs_model.predict(X_test)\n",
    "lasso_sfs_mse = mean_squared_error(lasso_sfs_predict,y_test)\n",
    "lasso_sfs_mae = mean_absolute_error(lasso_sfs_predict,y_test)\n",
    "lasso_sfs_r2 = r2_score(y_test,lasso_sfs_predict)\n",
    "print_stuff(\"Lasso\",lasso_sfs_mse,lasso_sfs_mae,lasso_sfs_r2)"
   ]
  },
  {
   "cell_type": "code",
   "execution_count": null,
   "id": "e44cc967",
   "metadata": {},
   "outputs": [],
   "source": []
  },
  {
   "cell_type": "code",
   "execution_count": 15,
   "id": "fbe24678",
   "metadata": {},
   "outputs": [
    {
     "name": "stdout",
     "output_type": "stream",
     "text": [
      "The selected features are: ['bed', 'bath']\n"
     ]
    }
   ],
   "source": [
    "lasso_rfe_pipeline = Pipeline([\n",
    "  ('feature_selection', lasso_rfe),\n",
    "  ('regression', lasso)\n",
    "])\n",
    "lasso_rfe_fs = lasso_rfe_pipeline.named_steps['feature_selection'].fit(X_train,y_train)\n",
    "lasso_rfe_get_support = lasso_rfe_fs.get_support()\n",
    "\n",
    "print('The selected features are:', list(X.columns[lasso_rfe_get_support]))"
   ]
  },
  {
   "cell_type": "code",
   "execution_count": 16,
   "id": "88c0b688",
   "metadata": {},
   "outputs": [
    {
     "name": "stdout",
     "output_type": "stream",
     "text": [
      "Lasso MSE = 124,674,304,027.763321\n",
      "Lasso MAE = 226,536.890221\n",
      "Lasso R2 = 0.374598\n"
     ]
    }
   ],
   "source": [
    "lasso_rfe_model = lasso_rfe_pipeline[\"regression\"].fit(X_train,y_train)\n",
    "lasso_rfe_predict = lasso_rfe_model.predict(X_test)\n",
    "lasso_rfe_mse = mean_squared_error(lasso_rfe_predict,y_test)\n",
    "lasso_rfe_mae = mean_absolute_error(lasso_rfe_predict,y_test)\n",
    "lasso_rfe_r2 = r2_score(y_test,lasso_rfe_predict)\n",
    "print_stuff(\"Lasso\",lasso_rfe_mse,lasso_rfe_mae,lasso_rfe_r2)"
   ]
  },
  {
   "cell_type": "code",
   "execution_count": null,
   "id": "bf04c0d5",
   "metadata": {},
   "outputs": [],
   "source": []
  },
  {
   "cell_type": "markdown",
   "id": "8f8e2903",
   "metadata": {},
   "source": [
    "https://scikit-learn.org/stable/modules/feature_selection.html#select-from-model"
   ]
  },
  {
   "cell_type": "code",
   "execution_count": null,
   "id": "903d0fd5",
   "metadata": {},
   "outputs": [],
   "source": []
  },
  {
   "cell_type": "code",
   "execution_count": 17,
   "id": "69d9ab8b",
   "metadata": {},
   "outputs": [],
   "source": [
    "lasso_predict_df = pd.DataFrame(lasso_predict).reset_index()\n",
    "lasso_predict_df.rename(columns={0: \"prediction\"},inplace=True)\n",
    "\n",
    "lasso_sfm_predict_df = pd.DataFrame(lasso_sfm_predict).reset_index()\n",
    "lasso_sfm_predict_df.rename(columns={0: \"prediction\"},inplace=True)\n",
    "\n",
    "lasso_sfs_predict_df = pd.DataFrame(lasso_sfs_predict).reset_index()\n",
    "lasso_sfs_predict_df.rename(columns={0: \"prediction\"},inplace=True)\n",
    "\n",
    "lasso_rfe_predict_df = pd.DataFrame(lasso_rfe_predict).reset_index()\n",
    "lasso_rfe_predict_df.rename(columns={0: \"prediction\"},inplace=True)"
   ]
  },
  {
   "cell_type": "code",
   "execution_count": 18,
   "id": "90cf1151",
   "metadata": {},
   "outputs": [
    {
     "data": {
      "image/png": "[encoded data removed]",
      "text/plain": [
       "<Figure size 1000x600 with 1 Axes>"
      ]
     },
     "metadata": {},
     "output_type": "display_data"
    }
   ],
   "source": [
    "fig, ax = plt.subplots(figsize=(10, 6))\n",
    "\n",
    "ax.ticklabel_format(style='plain')\n",
    "ax.yaxis.set_major_formatter('${x:1,.0f}')\n",
    "ax.xaxis.set_major_formatter(' ')\n",
    "\n",
    "plt.scatter(lasso_predict_df.index,lasso_predict_df[\"prediction\"], color=\"black\")\n",
    "plt.scatter(lasso_sfm_predict_df.index,lasso_sfm_predict_df[\"prediction\"], color=\"brown\")\n",
    "plt.scatter(lasso_sfs_predict_df.index,lasso_sfs_predict_df[\"prediction\"], color=\"blue\")\n",
    "plt.scatter(lasso_rfe_predict_df.index,lasso_rfe_predict_df[\"prediction\"], color=\"green\")\n",
    "plt.show()"
   ]
  },
  {
   "cell_type": "code",
   "execution_count": null,
   "id": "820a2687",
   "metadata": {},
   "outputs": [],
   "source": []
  },
  {
   "cell_type": "code",
   "execution_count": null,
   "id": "2cd52edb",
   "metadata": {},
   "outputs": [],
   "source": []
  }
 ],
 "metadata": {
  "kernelspec": {
   "display_name": "Python 3 (ipykernel)",
   "language": "python",
   "name": "python3"
  },
  "language_info": {
   "codemirror_mode": {
    "name": "ipython",
    "version": 3
   },
   "file_extension": ".py",
   "mimetype": "text/x-python",
   "name": "python",
   "nbconvert_exporter": "python",
   "pygments_lexer": "ipython3",
   "version": "3.11.4"
  }
 },
 "nbformat": 4,
 "nbformat_minor": 5
}
