{
 "cells": [
  {
   "cell_type": "code",
   "execution_count": 1,
   "id": "1a8bdeaa",
   "metadata": {},
   "outputs": [],
   "source": [
    "from warnings import filterwarnings\n",
    "filterwarnings(\"ignore\")\n",
    "\n",
    "import pandas as pd\n",
    "import matplotlib.pyplot as plt\n",
    "import numpy as np\n",
    "\n",
    "from sklearn.feature_selection import SequentialFeatureSelector, RFE\n",
    "from sklearn.linear_model import LinearRegression\n",
    "from sklearn.model_selection import train_test_split, cross_val_score\n",
    "from sklearn.metrics import mean_squared_error"
   ]
  },
  {
   "cell_type": "code",
   "execution_count": 2,
   "id": "e76f44b1",
   "metadata": {},
   "outputs": [],
   "source": [
    "outliers_df = pd.read_csv('outliers-data.csv')\n",
    "outliers_df.drop(columns=[\"Unnamed: 0\"],inplace=True)"
   ]
  },
  {
   "cell_type": "code",
   "execution_count": 3,
   "id": "3a3b5d51",
   "metadata": {},
   "outputs": [
    {
     "name": "stdout",
     "output_type": "stream",
     "text": [
      "<class 'pandas.core.frame.DataFrame'>\n",
      "RangeIndex: 7757 entries, 0 to 7756\n",
      "Data columns (total 7 columns):\n",
      " #   Column          Non-Null Count  Dtype  \n",
      "---  ------          --------------  -----  \n",
      " 0   bed             7757 non-null   float64\n",
      " 1   bath            7757 non-null   float64\n",
      " 2   acre_lot        7757 non-null   float64\n",
      " 3   zip_code        7757 non-null   float64\n",
      " 4   house_size      7757 non-null   float64\n",
      " 5   prev_sold_date  7757 non-null   object \n",
      " 6   price           7757 non-null   float64\n",
      "dtypes: float64(6), object(1)\n",
      "memory usage: 424.3+ KB\n"
     ]
    }
   ],
   "source": [
    "outliers_df.info()"
   ]
  },
  {
   "cell_type": "code",
   "execution_count": 4,
   "id": "21530dc5",
   "metadata": {},
   "outputs": [
    {
     "name": "stdout",
     "output_type": "stream",
     "text": [
      "<class 'pandas.core.frame.DataFrame'>\n",
      "RangeIndex: 7757 entries, 0 to 7756\n",
      "Data columns (total 7 columns):\n",
      " #   Column          Non-Null Count  Dtype  \n",
      "---  ------          --------------  -----  \n",
      " 0   bed             7757 non-null   float64\n",
      " 1   bath            7757 non-null   float64\n",
      " 2   acre_lot        7757 non-null   float64\n",
      " 3   zip_code        7757 non-null   float64\n",
      " 4   house_size      7757 non-null   float64\n",
      " 5   price           7757 non-null   float64\n",
      " 6   prev_sold_year  7757 non-null   int64  \n",
      "dtypes: float64(6), int64(1)\n",
      "memory usage: 424.3 KB\n"
     ]
    }
   ],
   "source": [
    "outliers_df[\"prev_sold_year\"] = pd.to_datetime(outliers_df[\"prev_sold_date\"], format='%Y-%m-%d').dt.year\n",
    "outliers_df.drop(columns=[\"prev_sold_date\"],inplace=True)\n",
    "outliers_df.info()"
   ]
  },
  {
   "cell_type": "code",
   "execution_count": 5,
   "id": "aa1c1059",
   "metadata": {},
   "outputs": [],
   "source": [
    "num_features_to_select = 5\n",
    "random_state_value = 42"
   ]
  },
  {
   "cell_type": "code",
   "execution_count": 6,
   "id": "7bff4fc2",
   "metadata": {},
   "outputs": [],
   "source": [
    "X = outliers_df[[\"bed\",\"bath\",\"acre_lot\",\"zip_code\",\"house_size\",\"prev_sold_year\"]]\n",
    "y = outliers_df[\"price\"]\n",
    "X_train, X_test, y_train, y_test = train_test_split(X, y, test_size=0.3, random_state=random_state_value)"
   ]
  },
  {
   "cell_type": "code",
   "execution_count": null,
   "id": "4b701315",
   "metadata": {},
   "outputs": [],
   "source": []
  },
  {
   "cell_type": "code",
   "execution_count": 7,
   "id": "97829f9c",
   "metadata": {},
   "outputs": [
    {
     "name": "stdout",
     "output_type": "stream",
     "text": [
      "124,292,501,770.900024\n"
     ]
    }
   ],
   "source": [
    "lgr = LinearRegression(fit_intercept=False)\n",
    "lgr_model = lgr.fit(X_train,y_train)\n",
    "lgr_predict = lgr_model.predict(X_test)\n",
    "lgr_mse = mean_squared_error(y_test,lgr_predict)\n",
    "print(\"{:,.6f}\".format(lgr_mse))"
   ]
  },
  {
   "cell_type": "code",
   "execution_count": null,
   "id": "a7da8273",
   "metadata": {},
   "outputs": [],
   "source": []
  },
  {
   "cell_type": "code",
   "execution_count": 8,
   "id": "d1427612",
   "metadata": {},
   "outputs": [
    {
     "name": "stdout",
     "output_type": "stream",
     "text": [
      "The selected features are: ['bed', 'bath', 'acre_lot', 'zip_code', 'prev_sold_year']\n"
     ]
    }
   ],
   "source": [
    "lgr_rfe = RFE(LinearRegression(), n_features_to_select=num_features_to_select)\n",
    "lgr_rfe.fit(X, y)\n",
    "lgr_rfe_selected_features = lgr_rfe.get_support()\n",
    "print('The selected features are:', list(X.columns[lgr_rfe_selected_features]))"
   ]
  },
  {
   "cell_type": "code",
   "execution_count": 9,
   "id": "7548f90f",
   "metadata": {},
   "outputs": [],
   "source": [
    "X_rfe = outliers_df[list(X.columns[lgr_rfe_selected_features])]\n",
    "y_rfe = outliers_df[\"price\"]\n",
    "X_rfe_train, X_rfe_test, y_rfe_train, y_rfe_test = train_test_split(X_rfe, y_rfe, test_size=0.3, random_state=random_state_value)"
   ]
  },
  {
   "cell_type": "code",
   "execution_count": 10,
   "id": "5c56f174",
   "metadata": {},
   "outputs": [
    {
     "name": "stdout",
     "output_type": "stream",
     "text": [
      "124,390,773,735.623444\n"
     ]
    }
   ],
   "source": [
    "lgr_rfe = LinearRegression(fit_intercept=False)\n",
    "lgr_rfe_model = lgr_rfe.fit(X_rfe_train,y_rfe_train)\n",
    "lgr_rfe_predict = lgr_rfe_model.predict(X_rfe_test)\n",
    "lgr_rfe_mse = mean_squared_error(y_rfe_test,lgr_rfe_predict)\n",
    "print(\"{:,.6f}\".format(lgr_rfe_mse))"
   ]
  },
  {
   "cell_type": "code",
   "execution_count": null,
   "id": "ba367980",
   "metadata": {},
   "outputs": [],
   "source": []
  },
  {
   "cell_type": "code",
   "execution_count": 11,
   "id": "c33df877",
   "metadata": {},
   "outputs": [
    {
     "name": "stdout",
     "output_type": "stream",
     "text": [
      "The selected features are: ['bed', 'bath', 'zip_code', 'house_size', 'prev_sold_year']\n"
     ]
    }
   ],
   "source": [
    "lgr_sfs = SequentialFeatureSelector(LinearRegression(), n_features_to_select=num_features_to_select)\n",
    "lgr_sfs.fit(X, y)\n",
    "lgr_sfs_selected_features = lgr_sfs.get_support()\n",
    "print('The selected features are:', list(X.columns[lgr_sfs_selected_features]))"
   ]
  },
  {
   "cell_type": "code",
   "execution_count": 12,
   "id": "21f44442",
   "metadata": {},
   "outputs": [],
   "source": [
    "X_sfs = outliers_df[list(X.columns[lgr_sfs_selected_features])]\n",
    "y_sfs = outliers_df[\"price\"]\n",
    "X_sfs_train, X_sfs_test, y_sfs_train, y_sfs_test = train_test_split(X_sfs, y_sfs, test_size=0.3, random_state=random_state_value)"
   ]
  },
  {
   "cell_type": "code",
   "execution_count": null,
   "id": "c5346044",
   "metadata": {},
   "outputs": [],
   "source": []
  },
  {
   "cell_type": "code",
   "execution_count": 13,
   "id": "a5f84a62",
   "metadata": {},
   "outputs": [
    {
     "name": "stdout",
     "output_type": "stream",
     "text": [
      "124,420,784,521.166824\n"
     ]
    }
   ],
   "source": [
    "lgr_sfs = LinearRegression(fit_intercept=False)\n",
    "lgr_sfs_model = lgr_sfs.fit(X_sfs_train,y_sfs_train)\n",
    "lgr_sfs_predict = lgr_sfs_model.predict(X_sfs_test)\n",
    "lgr_sfs_mse = mean_squared_error(y_sfs_test,lgr_sfs_predict)\n",
    "print(\"{:,.6f}\".format(lgr_sfs_mse))"
   ]
  },
  {
   "cell_type": "code",
   "execution_count": null,
   "id": "babfe3b6",
   "metadata": {},
   "outputs": [],
   "source": []
  },
  {
   "cell_type": "code",
   "execution_count": null,
   "id": "d8787cfa",
   "metadata": {},
   "outputs": [],
   "source": []
  },
  {
   "cell_type": "code",
   "execution_count": null,
   "id": "37cfd72b",
   "metadata": {},
   "outputs": [],
   "source": []
  }
 ],
 "metadata": {
  "kernelspec": {
   "display_name": "Python 3 (ipykernel)",
   "language": "python",
   "name": "python3"
  },
  "language_info": {
   "codemirror_mode": {
    "name": "ipython",
    "version": 3
   },
   "file_extension": ".py",
   "mimetype": "text/x-python",
   "name": "python",
   "nbconvert_exporter": "python",
   "pygments_lexer": "ipython3",
   "version": "3.11.4"
  }
 },
 "nbformat": 4,
 "nbformat_minor": 5
}
