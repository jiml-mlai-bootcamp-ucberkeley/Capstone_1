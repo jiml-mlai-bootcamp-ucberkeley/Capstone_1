{
 "cells": [
  {
   "cell_type": "code",
   "execution_count": 1,
   "id": "1a8bdeaa",
   "metadata": {},
   "outputs": [],
   "source": [
    "from warnings import filterwarnings\n",
    "filterwarnings(\"ignore\")\n",
    "\n",
    "import pandas as pd\n",
    "import matplotlib.pyplot as plt\n",
    "import numpy as np\n",
    "\n",
    "from sklearn.linear_model import LinearRegression, Lasso\n",
    "from sklearn.feature_selection import SequentialFeatureSelector, RFE, SelectFromModel\n",
    "from sklearn.pipeline import Pipeline\n",
    "\n",
    "from sklearn.model_selection import train_test_split, cross_val_score, GridSearchCV\n",
    "from sklearn.metrics import mean_squared_error, mean_absolute_error, r2_score, accuracy_score"
   ]
  },
  {
   "cell_type": "code",
   "execution_count": 2,
   "id": "e76f44b1",
   "metadata": {},
   "outputs": [],
   "source": [
    "outliers_df = pd.read_csv('outliers-data.csv')\n",
    "outliers_df.drop(columns=[\"Unnamed: 0\"],inplace=True)"
   ]
  },
  {
   "cell_type": "code",
   "execution_count": 3,
   "id": "3a3b5d51",
   "metadata": {},
   "outputs": [
    {
     "name": "stdout",
     "output_type": "stream",
     "text": [
      "<class 'pandas.core.frame.DataFrame'>\n",
      "RangeIndex: 7757 entries, 0 to 7756\n",
      "Data columns (total 7 columns):\n",
      " #   Column          Non-Null Count  Dtype  \n",
      "---  ------          --------------  -----  \n",
      " 0   bed             7757 non-null   float64\n",
      " 1   bath            7757 non-null   float64\n",
      " 2   acre_lot        7757 non-null   float64\n",
      " 3   zip_code        7757 non-null   float64\n",
      " 4   house_size      7757 non-null   float64\n",
      " 5   prev_sold_date  7757 non-null   object \n",
      " 6   price           7757 non-null   float64\n",
      "dtypes: float64(6), object(1)\n",
      "memory usage: 424.3+ KB\n"
     ]
    }
   ],
   "source": [
    "outliers_df.info()"
   ]
  },
  {
   "cell_type": "code",
   "execution_count": 4,
   "id": "21530dc5",
   "metadata": {},
   "outputs": [
    {
     "name": "stdout",
     "output_type": "stream",
     "text": [
      "<class 'pandas.core.frame.DataFrame'>\n",
      "RangeIndex: 7757 entries, 0 to 7756\n",
      "Data columns (total 7 columns):\n",
      " #   Column          Non-Null Count  Dtype  \n",
      "---  ------          --------------  -----  \n",
      " 0   bed             7757 non-null   float64\n",
      " 1   bath            7757 non-null   float64\n",
      " 2   acre_lot        7757 non-null   float64\n",
      " 3   zip_code        7757 non-null   float64\n",
      " 4   house_size      7757 non-null   float64\n",
      " 5   price           7757 non-null   float64\n",
      " 6   prev_sold_year  7757 non-null   int64  \n",
      "dtypes: float64(6), int64(1)\n",
      "memory usage: 424.3 KB\n"
     ]
    }
   ],
   "source": [
    "outliers_df[\"prev_sold_year\"] = pd.to_datetime(outliers_df[\"prev_sold_date\"], format='%Y-%m-%d').dt.year\n",
    "outliers_df.drop(columns=[\"prev_sold_date\"],inplace=True)\n",
    "outliers_df.info()"
   ]
  },
  {
   "cell_type": "code",
   "execution_count": 5,
   "id": "93d95fc6",
   "metadata": {},
   "outputs": [
    {
     "data": {
      "text/html": [
       "<div>\n",
       "<style scoped>\n",
       "    .dataframe tbody tr th:only-of-type {\n",
       "        vertical-align: middle;\n",
       "    }\n",
       "\n",
       "    .dataframe tbody tr th {\n",
       "        vertical-align: top;\n",
       "    }\n",
       "\n",
       "    .dataframe thead th {\n",
       "        text-align: right;\n",
       "    }\n",
       "</style>\n",
       "<table border=\"1\" class=\"dataframe\">\n",
       "  <thead>\n",
       "    <tr style=\"text-align: right;\">\n",
       "      <th></th>\n",
       "      <th>Unnamed: 0</th>\n",
       "      <th>zip_code</th>\n",
       "      <th>latitude</th>\n",
       "      <th>longitude</th>\n",
       "      <th>zip_code_str</th>\n",
       "      <th>county</th>\n",
       "    </tr>\n",
       "  </thead>\n",
       "  <tbody>\n",
       "    <tr>\n",
       "      <th>0</th>\n",
       "      <td>0</td>\n",
       "      <td>7001</td>\n",
       "      <td>40.582316</td>\n",
       "      <td>-74.271506</td>\n",
       "      <td>7001</td>\n",
       "      <td>16</td>\n",
       "    </tr>\n",
       "    <tr>\n",
       "      <th>1</th>\n",
       "      <td>1</td>\n",
       "      <td>7002</td>\n",
       "      <td>40.662338</td>\n",
       "      <td>-74.110275</td>\n",
       "      <td>7002</td>\n",
       "      <td>2</td>\n",
       "    </tr>\n",
       "    <tr>\n",
       "      <th>2</th>\n",
       "      <td>2</td>\n",
       "      <td>7003</td>\n",
       "      <td>40.809128</td>\n",
       "      <td>-74.187155</td>\n",
       "      <td>7003</td>\n",
       "      <td>2</td>\n",
       "    </tr>\n",
       "    <tr>\n",
       "      <th>3</th>\n",
       "      <td>3</td>\n",
       "      <td>7004</td>\n",
       "      <td>40.882508</td>\n",
       "      <td>-74.304593</td>\n",
       "      <td>7004</td>\n",
       "      <td>19</td>\n",
       "    </tr>\n",
       "    <tr>\n",
       "      <th>4</th>\n",
       "      <td>4</td>\n",
       "      <td>7005</td>\n",
       "      <td>40.932771</td>\n",
       "      <td>-74.417304</td>\n",
       "      <td>7005</td>\n",
       "      <td>19</td>\n",
       "    </tr>\n",
       "  </tbody>\n",
       "</table>\n",
       "</div>"
      ],
      "text/plain": [
       "   Unnamed: 0  zip_code   latitude  longitude  zip_code_str  county\n",
       "0           0      7001  40.582316 -74.271506          7001      16\n",
       "1           1      7002  40.662338 -74.110275          7002       2\n",
       "2           2      7003  40.809128 -74.187155          7003       2\n",
       "3           3      7004  40.882508 -74.304593          7004      19\n",
       "4           4      7005  40.932771 -74.417304          7005      19"
      ]
     },
     "execution_count": 5,
     "metadata": {},
     "output_type": "execute_result"
    }
   ],
   "source": [
    "zip_lon_lat = pd.read_csv(\"county.csv\")\n",
    "zip_lon_lat.head()"
   ]
  },
  {
   "cell_type": "code",
   "execution_count": 6,
   "id": "ade43a01",
   "metadata": {},
   "outputs": [
    {
     "data": {
      "text/html": [
       "<div>\n",
       "<style scoped>\n",
       "    .dataframe tbody tr th:only-of-type {\n",
       "        vertical-align: middle;\n",
       "    }\n",
       "\n",
       "    .dataframe tbody tr th {\n",
       "        vertical-align: top;\n",
       "    }\n",
       "\n",
       "    .dataframe thead th {\n",
       "        text-align: right;\n",
       "    }\n",
       "</style>\n",
       "<table border=\"1\" class=\"dataframe\">\n",
       "  <thead>\n",
       "    <tr style=\"text-align: right;\">\n",
       "      <th></th>\n",
       "      <th>bed</th>\n",
       "      <th>bath</th>\n",
       "      <th>acre_lot</th>\n",
       "      <th>zip_code</th>\n",
       "      <th>house_size</th>\n",
       "      <th>price</th>\n",
       "      <th>prev_sold_year</th>\n",
       "      <th>Unnamed: 0</th>\n",
       "      <th>latitude</th>\n",
       "      <th>longitude</th>\n",
       "      <th>zip_code_str</th>\n",
       "      <th>county</th>\n",
       "    </tr>\n",
       "  </thead>\n",
       "  <tbody>\n",
       "    <tr>\n",
       "      <th>7749</th>\n",
       "      <td>5.0</td>\n",
       "      <td>4.0</td>\n",
       "      <td>0.91</td>\n",
       "      <td>8848.0</td>\n",
       "      <td>0.0</td>\n",
       "      <td>485000.0</td>\n",
       "      <td>2017</td>\n",
       "      <td>568</td>\n",
       "      <td>40.594266</td>\n",
       "      <td>-75.096659</td>\n",
       "      <td>8848</td>\n",
       "      <td>11</td>\n",
       "    </tr>\n",
       "    <tr>\n",
       "      <th>7750</th>\n",
       "      <td>4.0</td>\n",
       "      <td>3.0</td>\n",
       "      <td>2.17</td>\n",
       "      <td>8825.0</td>\n",
       "      <td>0.0</td>\n",
       "      <td>510000.0</td>\n",
       "      <td>2016</td>\n",
       "      <td>553</td>\n",
       "      <td>40.514169</td>\n",
       "      <td>-75.027112</td>\n",
       "      <td>8825</td>\n",
       "      <td>11</td>\n",
       "    </tr>\n",
       "    <tr>\n",
       "      <th>7751</th>\n",
       "      <td>3.0</td>\n",
       "      <td>2.0</td>\n",
       "      <td>0.12</td>\n",
       "      <td>7012.0</td>\n",
       "      <td>0.0</td>\n",
       "      <td>499000.0</td>\n",
       "      <td>2021</td>\n",
       "      <td>10</td>\n",
       "      <td>40.848398</td>\n",
       "      <td>-74.160266</td>\n",
       "      <td>7012</td>\n",
       "      <td>2</td>\n",
       "    </tr>\n",
       "    <tr>\n",
       "      <th>7752</th>\n",
       "      <td>3.0</td>\n",
       "      <td>3.0</td>\n",
       "      <td>0.13</td>\n",
       "      <td>7012.0</td>\n",
       "      <td>0.0</td>\n",
       "      <td>530000.0</td>\n",
       "      <td>2022</td>\n",
       "      <td>10</td>\n",
       "      <td>40.848398</td>\n",
       "      <td>-74.160266</td>\n",
       "      <td>7012</td>\n",
       "      <td>2</td>\n",
       "    </tr>\n",
       "    <tr>\n",
       "      <th>7753</th>\n",
       "      <td>4.0</td>\n",
       "      <td>3.0</td>\n",
       "      <td>0.11</td>\n",
       "      <td>7640.0</td>\n",
       "      <td>0.0</td>\n",
       "      <td>720000.0</td>\n",
       "      <td>2016</td>\n",
       "      <td>171</td>\n",
       "      <td>40.991681</td>\n",
       "      <td>-73.980202</td>\n",
       "      <td>7640</td>\n",
       "      <td>15</td>\n",
       "    </tr>\n",
       "  </tbody>\n",
       "</table>\n",
       "</div>"
      ],
      "text/plain": [
       "      bed  bath  acre_lot  zip_code  house_size     price  prev_sold_year  \\\n",
       "7749  5.0   4.0      0.91    8848.0         0.0  485000.0            2017   \n",
       "7750  4.0   3.0      2.17    8825.0         0.0  510000.0            2016   \n",
       "7751  3.0   2.0      0.12    7012.0         0.0  499000.0            2021   \n",
       "7752  3.0   3.0      0.13    7012.0         0.0  530000.0            2022   \n",
       "7753  4.0   3.0      0.11    7640.0         0.0  720000.0            2016   \n",
       "\n",
       "      Unnamed: 0   latitude  longitude  zip_code_str  county  \n",
       "7749         568  40.594266 -75.096659          8848      11  \n",
       "7750         553  40.514169 -75.027112          8825      11  \n",
       "7751          10  40.848398 -74.160266          7012       2  \n",
       "7752          10  40.848398 -74.160266          7012       2  \n",
       "7753         171  40.991681 -73.980202          7640      15  "
      ]
     },
     "execution_count": 6,
     "metadata": {},
     "output_type": "execute_result"
    }
   ],
   "source": [
    "merged_df = pd.merge(outliers_df, zip_lon_lat, how=\"inner\", on=\"zip_code\")\n",
    "merged_df.tail()"
   ]
  },
  {
   "cell_type": "code",
   "execution_count": null,
   "id": "38198df2",
   "metadata": {},
   "outputs": [],
   "source": []
  },
  {
   "cell_type": "code",
   "execution_count": null,
   "id": "a0675560",
   "metadata": {},
   "outputs": [],
   "source": []
  },
  {
   "cell_type": "code",
   "execution_count": 7,
   "id": "aa1c1059",
   "metadata": {},
   "outputs": [],
   "source": [
    "features = [\"latitude\",\"longitude\",\"bed\",\"bath\",\"acre_lot\",\"house_size\",\"prev_sold_year\"]\n",
    "num_features_to_select = len(features)-1\n",
    "random_state_value = 42"
   ]
  },
  {
   "cell_type": "code",
   "execution_count": 8,
   "id": "7bff4fc2",
   "metadata": {},
   "outputs": [],
   "source": [
    "X = merged_df[features]\n",
    "y = merged_df[\"price\"]\n",
    "X_train, X_test, y_train, y_test = train_test_split(X, y, test_size=0.3, random_state=random_state_value)"
   ]
  },
  {
   "cell_type": "code",
   "execution_count": null,
   "id": "4b701315",
   "metadata": {},
   "outputs": [],
   "source": []
  },
  {
   "cell_type": "code",
   "execution_count": 9,
   "id": "f838ce1b",
   "metadata": {},
   "outputs": [],
   "source": [
    "results_dict = {\"model\":[],\"mae score\":[],\"mse score\":[],\"r2 score\":[]}"
   ]
  },
  {
   "cell_type": "code",
   "execution_count": 10,
   "id": "569c4d1c",
   "metadata": {},
   "outputs": [],
   "source": [
    "def print_more_stuff(title, y_param, predict_param):\n",
    "    results_dict[\"model\"].append(title)\n",
    "    \n",
    "    mae = \"{:,.6f}\".format(mean_absolute_error(y_param,predict_param))\n",
    "    mse = \"{:,.6f}\".format(mean_squared_error(y_param,predict_param))\n",
    "    r2 = \"{:,.6f}\".format(r2_score(y_param,predict_param))\n",
    "    \n",
    "    results_dict[\"mae score\"].append(mae)\n",
    "    results_dict[\"mse score\"].append(mse)\n",
    "    results_dict[\"r2 score\"].append(r2)    \n",
    "    \n",
    "    print(title + \" MSE = \" + mse)\n",
    "    print(title + \" MAE = \" + mae)\n",
    "    print(title + \" R2 = \" + r2)"
   ]
  },
  {
   "cell_type": "code",
   "execution_count": 11,
   "id": "2f5a5547",
   "metadata": {},
   "outputs": [],
   "source": [
    "lasso = Lasso(random_state=42)\n",
    "lasso_sfs = SequentialFeatureSelector(estimator=lasso, n_features_to_select=num_features_to_select)\n",
    "lasso_sfm = SelectFromModel(estimator=lasso, threshold=1000)\n",
    "lasso_rfe = RFE(estimator=lasso, n_features_to_select=num_features_to_select)"
   ]
  },
  {
   "cell_type": "markdown",
   "id": "97aab4b5",
   "metadata": {},
   "source": [
    "\n",
    "poly_features = PolynomialFeatures(degree=3,include_bias=False)\n",
    "lasso_step = Lasso(random_state=42)\n",
    "\n",
    "auto_pipe = Pipeline([(\"polyfeatures\",poly_features),(\"scaler\",StandardScaler()),(\"lasso\",lasso_step)])\n",
    "auto_pipe.fit(auto_X_train, auto_y_train)\n",
    "\n",
    "lasso_coefs = auto_pipe.named_steps['lasso'].coef_\n"
   ]
  },
  {
   "cell_type": "code",
   "execution_count": null,
   "id": "6dcbca50",
   "metadata": {},
   "outputs": [],
   "source": []
  },
  {
   "cell_type": "code",
   "execution_count": 12,
   "id": "2b5410a2",
   "metadata": {},
   "outputs": [
    {
     "name": "stdout",
     "output_type": "stream",
     "text": [
      "Best parameters found: {'alpha': 1e-14}\n"
     ]
    }
   ],
   "source": [
    "myrange = []\n",
    "for i in range(12,17):\n",
    "    myrange.append(10**-i)\n",
    "param_dict = {'alpha': myrange}\n",
    "lasso_gscv = GridSearchCV(Lasso(), param_grid=param_dict, scoring='neg_mean_squared_error')\n",
    "lasso_gscv_model = lasso_gscv.fit(X, y)\n",
    "print(f\"Best parameters found: {lasso_gscv.best_params_}\")"
   ]
  },
  {
   "cell_type": "markdown",
   "id": "ebfafc6c",
   "metadata": {},
   "source": [
    "##### Alpha appears to be insignificant, so the default value = 1 is our best option"
   ]
  },
  {
   "cell_type": "code",
   "execution_count": null,
   "id": "b34ea7de",
   "metadata": {},
   "outputs": [],
   "source": []
  },
  {
   "cell_type": "code",
   "execution_count": 13,
   "id": "9f28d946",
   "metadata": {},
   "outputs": [],
   "source": [
    "lasso = Lasso(**lasso_gscv.best_params_)\n",
    "lasso_model = lasso.fit(X_train,y_train)"
   ]
  },
  {
   "cell_type": "code",
   "execution_count": 14,
   "id": "97829f9c",
   "metadata": {},
   "outputs": [
    {
     "name": "stdout",
     "output_type": "stream",
     "text": [
      "Lasso Regression Test MSE = 103,916,325,992.270248\n",
      "Lasso Regression Test MAE = 214,079.047688\n",
      "Lasso Regression Test R2 = 0.413192\n"
     ]
    }
   ],
   "source": [
    "lasso_predict = lasso_model.predict(X_test)\n",
    "print_more_stuff(\"Lasso Regression Test\",y_test,lasso_predict)"
   ]
  },
  {
   "cell_type": "code",
   "execution_count": null,
   "id": "1dd30bc4",
   "metadata": {},
   "outputs": [],
   "source": []
  },
  {
   "cell_type": "code",
   "execution_count": 15,
   "id": "aaf5ed58",
   "metadata": {},
   "outputs": [
    {
     "name": "stdout",
     "output_type": "stream",
     "text": [
      "The selected features are: ['latitude', 'longitude', 'bed', 'bath', 'acre_lot', 'prev_sold_year']\n"
     ]
    }
   ],
   "source": [
    "lasso_sfm_pipeline = Pipeline([\n",
    "  ('feature_selection', lasso_sfm),\n",
    "  ('regression', lasso)\n",
    "])\n",
    "\n",
    "lasso_sfm_fs = lasso_sfm_pipeline.named_steps['feature_selection'].fit(X,y)\n",
    "lasso_sfm_selected_features = lasso_sfm_fs.get_support()\n",
    "\n",
    "print('The selected features are:', list(X.columns[lasso_sfm_selected_features]))"
   ]
  },
  {
   "cell_type": "code",
   "execution_count": 16,
   "id": "c136f6ef",
   "metadata": {},
   "outputs": [],
   "source": [
    "X_sfm = merged_df[list(X.columns[lasso_sfm_selected_features])]\n",
    "y_sfm = merged_df[\"price\"]\n",
    "X_sfm_train, X_sfm_test, y_sfm_train, y_sfm_test = train_test_split(X_sfm, y_sfm, test_size=0.3, random_state=random_state_value)"
   ]
  },
  {
   "cell_type": "code",
   "execution_count": 17,
   "id": "1f957e58",
   "metadata": {},
   "outputs": [
    {
     "name": "stdout",
     "output_type": "stream",
     "text": [
      "SelectFromModel MSE = 104,104,020,122.786560\n",
      "SelectFromModel MAE = 214,334.235996\n",
      "SelectFromModel R2 = 0.412132\n"
     ]
    }
   ],
   "source": [
    "lasso_sfm_model = lasso.fit(X_sfm_train,y_sfm_train)\n",
    "lasso_sfm_predict = lasso_sfm_model.predict(X_sfm_test)\n",
    "print_more_stuff(\"SelectFromModel\",y_sfm_test,lasso_sfm_predict)"
   ]
  },
  {
   "cell_type": "code",
   "execution_count": null,
   "id": "11618f58",
   "metadata": {},
   "outputs": [],
   "source": []
  },
  {
   "cell_type": "code",
   "execution_count": 18,
   "id": "5148b30d",
   "metadata": {},
   "outputs": [
    {
     "name": "stdout",
     "output_type": "stream",
     "text": [
      "The selected features are: ['latitude', 'longitude', 'bed', 'bath', 'house_size', 'prev_sold_year']\n"
     ]
    }
   ],
   "source": [
    "lasso_sfs_pipeline = Pipeline([\n",
    "  ('feature_selection', lasso_sfs),\n",
    "  ('regression', lasso)\n",
    "])\n",
    "\n",
    "lasso_sfs_fs = lasso_sfs_pipeline.named_steps['feature_selection'].fit(X,y)\n",
    "lasso_sfs_selected_features = lasso_sfs_fs.get_support()\n",
    "\n",
    "print('The selected features are:', list(X.columns[lasso_sfs_selected_features]))"
   ]
  },
  {
   "cell_type": "code",
   "execution_count": 19,
   "id": "0ab71182",
   "metadata": {},
   "outputs": [],
   "source": [
    "X_sfs = merged_df[list(X.columns[lasso_sfs_selected_features])]\n",
    "y_sfs = merged_df[\"price\"]\n",
    "X_sfs_train, X_sfs_test, y_sfs_train, y_sfs_test = train_test_split(X_sfs, y_sfs, test_size=0.3, random_state=random_state_value)"
   ]
  },
  {
   "cell_type": "code",
   "execution_count": 20,
   "id": "b1a6a127",
   "metadata": {},
   "outputs": [
    {
     "name": "stdout",
     "output_type": "stream",
     "text": [
      "SequentialFeatureSelector MSE = 104,278,559,868.649689\n",
      "SequentialFeatureSelector MAE = 214,409.022665\n",
      "SequentialFeatureSelector R2 = 0.411147\n"
     ]
    }
   ],
   "source": [
    "lasso_sfs_model = lasso.fit(X_sfs_train,y_sfs_train)\n",
    "lasso_sfs_predict = lasso_sfs_model.predict(X_sfs_test)\n",
    "print_more_stuff(\"SequentialFeatureSelector\",y_sfs_test,lasso_sfs_predict)"
   ]
  },
  {
   "cell_type": "code",
   "execution_count": null,
   "id": "e44cc967",
   "metadata": {},
   "outputs": [],
   "source": []
  },
  {
   "cell_type": "code",
   "execution_count": 21,
   "id": "fbe24678",
   "metadata": {},
   "outputs": [
    {
     "name": "stdout",
     "output_type": "stream",
     "text": [
      "The selected features are: ['latitude', 'longitude', 'bed', 'bath', 'acre_lot', 'prev_sold_year']\n"
     ]
    }
   ],
   "source": [
    "lasso_rfe_pipeline = Pipeline([\n",
    "  ('feature_selection', lasso_rfe),\n",
    "  ('regression', lasso)\n",
    "])\n",
    "lasso_rfe_fs = lasso_rfe_pipeline.named_steps['feature_selection'].fit(X,y)\n",
    "lasso_rfe_get_support = lasso_rfe_fs.get_support()\n",
    "\n",
    "print('The selected features are:', list(X.columns[lasso_rfe_get_support]))"
   ]
  },
  {
   "cell_type": "code",
   "execution_count": 22,
   "id": "88c0b688",
   "metadata": {},
   "outputs": [
    {
     "name": "stdout",
     "output_type": "stream",
     "text": [
      "Recursive Feature Elimination MSE = 104,104,020,122.786560\n",
      "Recursive Feature Elimination MAE = 214,334.235996\n",
      "Recursive Feature Elimination R2 = 0.412132\n"
     ]
    }
   ],
   "source": [
    "lasso_rfe_model = lasso_rfe_pipeline.fit(X_train,y_train)\n",
    "lasso_rfe_predict = lasso_rfe_model.predict(X_test)\n",
    "print_more_stuff(\"Recursive Feature Elimination\",y_test,lasso_rfe_predict)"
   ]
  },
  {
   "cell_type": "code",
   "execution_count": null,
   "id": "30d21c6c",
   "metadata": {},
   "outputs": [],
   "source": []
  },
  {
   "cell_type": "code",
   "execution_count": 23,
   "id": "69d9ab8b",
   "metadata": {},
   "outputs": [],
   "source": [
    "lasso_predict_df = pd.DataFrame(lasso_predict).reset_index()\n",
    "lasso_predict_df.rename(columns={0: \"prediction\"},inplace=True)\n",
    "\n",
    "lasso_sfm_predict_df = pd.DataFrame(lasso_sfm_predict).reset_index()\n",
    "lasso_sfm_predict_df.rename(columns={0: \"prediction\"},inplace=True)\n",
    "\n",
    "lasso_sfs_predict_df = pd.DataFrame(lasso_sfs_predict).reset_index()\n",
    "lasso_sfs_predict_df.rename(columns={0: \"prediction\"},inplace=True)\n",
    "\n",
    "lasso_rfe_predict_df = pd.DataFrame(lasso_rfe_predict).reset_index()\n",
    "lasso_rfe_predict_df.rename(columns={0: \"prediction\"},inplace=True)\n",
    "\n",
    "y_test_df = pd.DataFrame(y_test).reset_index()"
   ]
  },
  {
   "cell_type": "code",
   "execution_count": 24,
   "id": "90cf1151",
   "metadata": {},
   "outputs": [
    {
     "data": {
      "image/png": "[encoded data removed]",
      "text/plain": [
       "<Figure size 1000x600 with 1 Axes>"
      ]
     },
     "metadata": {},
     "output_type": "display_data"
    }
   ],
   "source": [
    "fig, ax = plt.subplots(figsize=(10, 6))\n",
    "\n",
    "ax.ticklabel_format(style='plain')\n",
    "ax.yaxis.set_major_formatter('${x:1,.0f}')\n",
    "ax.xaxis.set_major_formatter(' ')\n",
    "\n",
    "plt.scatter(y_test_df.index,y_test_df[\"price\"], color=\"red\")\n",
    "plt.scatter(lasso_sfm_predict_df.index,lasso_sfm_predict_df[\"prediction\"], color=\"brown\")\n",
    "plt.scatter(lasso_sfs_predict_df.index,lasso_sfs_predict_df[\"prediction\"], color=\"blue\")\n",
    "plt.scatter(lasso_rfe_predict_df.index,lasso_rfe_predict_df[\"prediction\"], color=\"green\")\n",
    "plt.scatter(lasso_predict_df.index,lasso_predict_df[\"prediction\"], color=\"black\")\n",
    "plt.show()"
   ]
  },
  {
   "cell_type": "code",
   "execution_count": null,
   "id": "820a2687",
   "metadata": {},
   "outputs": [],
   "source": []
  },
  {
   "cell_type": "code",
   "execution_count": 25,
   "id": "01f095e4",
   "metadata": {},
   "outputs": [],
   "source": [
    "lasso_predict_df.sort_values(by='prediction', inplace=True)\n",
    "lasso_predict_df.reset_index(inplace=True)\n",
    "\n",
    "lasso_sfm_predict_df.sort_values(by='prediction', inplace=True)\n",
    "lasso_sfm_predict_df.reset_index(inplace=True)\n",
    "\n",
    "lasso_sfs_predict_df.sort_values(by='prediction', inplace=True)\n",
    "lasso_sfs_predict_df.reset_index(inplace=True)\n",
    "\n",
    "lasso_rfe_predict_df.sort_values(by='prediction', inplace=True)\n",
    "lasso_rfe_predict_df.reset_index(inplace=True)\n",
    "\n",
    "y_test_df.sort_values(by='price', inplace=True)\n",
    "y_test_df.reset_index(inplace=True)"
   ]
  },
  {
   "cell_type": "code",
   "execution_count": 26,
   "id": "2cd52edb",
   "metadata": {},
   "outputs": [
    {
     "data": {
      "image/png": "[encoded data removed]",
      "text/plain": [
       "<Figure size 1000x600 with 1 Axes>"
      ]
     },
     "metadata": {},
     "output_type": "display_data"
    }
   ],
   "source": [
    "fig, ax = plt.subplots(figsize=(10, 6))\n",
    "\n",
    "ax.ticklabel_format(style='plain')\n",
    "ax.yaxis.set_major_formatter('${x:1,.0f}')\n",
    "ax.xaxis.set_major_formatter(' ')\n",
    "\n",
    "plt.scatter(y_test_df.index,y_test_df[\"price\"], color=\"red\")\n",
    "plt.scatter(lasso_sfm_predict_df.index,lasso_sfm_predict_df[\"prediction\"], color=\"brown\")\n",
    "plt.scatter(lasso_sfs_predict_df.index,lasso_sfs_predict_df[\"prediction\"], color=\"blue\")\n",
    "plt.scatter(lasso_rfe_predict_df.index,lasso_rfe_predict_df[\"prediction\"], color=\"green\")\n",
    "plt.scatter(lasso_predict_df.index,lasso_predict_df[\"prediction\"], color=\"black\")\n",
    "plt.show()"
   ]
  },
  {
   "cell_type": "code",
   "execution_count": null,
   "id": "ae3f231a",
   "metadata": {},
   "outputs": [],
   "source": []
  },
  {
   "cell_type": "code",
   "execution_count": 27,
   "id": "cea2e272",
   "metadata": {},
   "outputs": [
    {
     "data": {
      "text/plain": [
       "{'model': ['Lasso Regression Test',\n",
       "  'SelectFromModel',\n",
       "  'SequentialFeatureSelector',\n",
       "  'Recursive Feature Elimination'],\n",
       " 'mae score': ['214,079.047688',\n",
       "  '214,334.235996',\n",
       "  '214,409.022665',\n",
       "  '214,334.235996'],\n",
       " 'mse score': ['103,916,325,992.270248',\n",
       "  '104,104,020,122.786560',\n",
       "  '104,278,559,868.649689',\n",
       "  '104,104,020,122.786560'],\n",
       " 'r2 score': ['0.413192', '0.412132', '0.411147', '0.412132']}"
      ]
     },
     "execution_count": 27,
     "metadata": {},
     "output_type": "execute_result"
    }
   ],
   "source": [
    "results_dict"
   ]
  },
  {
   "cell_type": "code",
   "execution_count": 28,
   "id": "41a50101",
   "metadata": {},
   "outputs": [
    {
     "data": {
      "text/html": [
       "<div>\n",
       "<style scoped>\n",
       "    .dataframe tbody tr th:only-of-type {\n",
       "        vertical-align: middle;\n",
       "    }\n",
       "\n",
       "    .dataframe tbody tr th {\n",
       "        vertical-align: top;\n",
       "    }\n",
       "\n",
       "    .dataframe thead th {\n",
       "        text-align: right;\n",
       "    }\n",
       "</style>\n",
       "<table border=\"1\" class=\"dataframe\">\n",
       "  <thead>\n",
       "    <tr style=\"text-align: right;\">\n",
       "      <th></th>\n",
       "      <th>mae score</th>\n",
       "      <th>mse score</th>\n",
       "      <th>r2 score</th>\n",
       "    </tr>\n",
       "    <tr>\n",
       "      <th>model</th>\n",
       "      <th></th>\n",
       "      <th></th>\n",
       "      <th></th>\n",
       "    </tr>\n",
       "  </thead>\n",
       "  <tbody>\n",
       "    <tr>\n",
       "      <th>Lasso Regression Test</th>\n",
       "      <td>214,079.047688</td>\n",
       "      <td>103,916,325,992.270248</td>\n",
       "      <td>0.413192</td>\n",
       "    </tr>\n",
       "    <tr>\n",
       "      <th>SelectFromModel</th>\n",
       "      <td>214,334.235996</td>\n",
       "      <td>104,104,020,122.786560</td>\n",
       "      <td>0.412132</td>\n",
       "    </tr>\n",
       "    <tr>\n",
       "      <th>SequentialFeatureSelector</th>\n",
       "      <td>214,409.022665</td>\n",
       "      <td>104,278,559,868.649689</td>\n",
       "      <td>0.411147</td>\n",
       "    </tr>\n",
       "    <tr>\n",
       "      <th>Recursive Feature Elimination</th>\n",
       "      <td>214,334.235996</td>\n",
       "      <td>104,104,020,122.786560</td>\n",
       "      <td>0.412132</td>\n",
       "    </tr>\n",
       "  </tbody>\n",
       "</table>\n",
       "</div>"
      ],
      "text/plain": [
       "                                    mae score               mse score  \\\n",
       "model                                                                   \n",
       "Lasso Regression Test          214,079.047688  103,916,325,992.270248   \n",
       "SelectFromModel                214,334.235996  104,104,020,122.786560   \n",
       "SequentialFeatureSelector      214,409.022665  104,278,559,868.649689   \n",
       "Recursive Feature Elimination  214,334.235996  104,104,020,122.786560   \n",
       "\n",
       "                               r2 score  \n",
       "model                                    \n",
       "Lasso Regression Test          0.413192  \n",
       "SelectFromModel                0.412132  \n",
       "SequentialFeatureSelector      0.411147  \n",
       "Recursive Feature Elimination  0.412132  "
      ]
     },
     "execution_count": 28,
     "metadata": {},
     "output_type": "execute_result"
    }
   ],
   "source": [
    "model_comparisons = pd.DataFrame(results_dict).set_index('model')\n",
    "model_comparisons"
   ]
  }
 ],
 "metadata": {
  "kernelspec": {
   "display_name": "Python 3 (ipykernel)",
   "language": "python",
   "name": "python3"
  },
  "language_info": {
   "codemirror_mode": {
    "name": "ipython",
    "version": 3
   },
   "file_extension": ".py",
   "mimetype": "text/x-python",
   "name": "python",
   "nbconvert_exporter": "python",
   "pygments_lexer": "ipython3",
   "version": "3.11.4"
  }
 },
 "nbformat": 4,
 "nbformat_minor": 5
}
