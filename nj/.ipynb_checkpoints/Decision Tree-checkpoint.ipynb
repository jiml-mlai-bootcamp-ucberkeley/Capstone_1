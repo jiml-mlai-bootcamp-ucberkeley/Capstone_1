{
 "cells": [
  {
   "cell_type": "code",
   "execution_count": 1,
   "id": "1a8bdeaa",
   "metadata": {},
   "outputs": [],
   "source": [
    "from warnings import filterwarnings\n",
    "filterwarnings(\"ignore\")\n",
    "\n",
    "import pandas as pd\n",
    "import matplotlib.pyplot as plt\n",
    "import numpy as np\n",
    "\n",
    "from sklearn.feature_selection import SequentialFeatureSelector, RFE\n",
    "from sklearn.tree import DecisionTreeRegressor\n",
    "from sklearn.model_selection import train_test_split, cross_val_score, GridSearchCV\n",
    "from sklearn.metrics import mean_squared_error, mean_absolute_error, r2_score, explained_variance_score"
   ]
  },
  {
   "cell_type": "code",
   "execution_count": 2,
   "id": "e76f44b1",
   "metadata": {},
   "outputs": [],
   "source": [
    "outliers_df = pd.read_csv('outliers.csv')\n",
    "outliers_df.drop(columns=[\"Unnamed: 0\"],inplace=True)"
   ]
  },
  {
   "cell_type": "code",
   "execution_count": 3,
   "id": "3a3b5d51",
   "metadata": {},
   "outputs": [
    {
     "name": "stdout",
     "output_type": "stream",
     "text": [
      "<class 'pandas.core.frame.DataFrame'>\n",
      "RangeIndex: 7617 entries, 0 to 7616\n",
      "Data columns (total 7 columns):\n",
      " #   Column          Non-Null Count  Dtype  \n",
      "---  ------          --------------  -----  \n",
      " 0   bed             7617 non-null   float64\n",
      " 1   bath            7617 non-null   float64\n",
      " 2   acre_lot        7617 non-null   float64\n",
      " 3   zip_code        7617 non-null   float64\n",
      " 4   house_size      7617 non-null   float64\n",
      " 5   prev_sold_date  7617 non-null   object \n",
      " 6   price           7617 non-null   float64\n",
      "dtypes: float64(6), object(1)\n",
      "memory usage: 416.7+ KB\n"
     ]
    }
   ],
   "source": [
    "outliers_df.info()"
   ]
  },
  {
   "cell_type": "code",
   "execution_count": 4,
   "id": "21530dc5",
   "metadata": {},
   "outputs": [
    {
     "name": "stdout",
     "output_type": "stream",
     "text": [
      "<class 'pandas.core.frame.DataFrame'>\n",
      "RangeIndex: 7617 entries, 0 to 7616\n",
      "Data columns (total 7 columns):\n",
      " #   Column          Non-Null Count  Dtype  \n",
      "---  ------          --------------  -----  \n",
      " 0   bed             7617 non-null   float64\n",
      " 1   bath            7617 non-null   float64\n",
      " 2   acre_lot        7617 non-null   float64\n",
      " 3   zip_code        7617 non-null   float64\n",
      " 4   house_size      7617 non-null   float64\n",
      " 5   price           7617 non-null   float64\n",
      " 6   prev_sold_year  7617 non-null   int64  \n",
      "dtypes: float64(6), int64(1)\n",
      "memory usage: 416.7 KB\n"
     ]
    }
   ],
   "source": [
    "outliers_df[\"prev_sold_year\"] = pd.to_datetime(outliers_df[\"prev_sold_date\"], format='%Y-%m-%d').dt.year\n",
    "outliers_df.drop(columns=[\"prev_sold_date\"],inplace=True)\n",
    "outliers_df.info()"
   ]
  },
  {
   "cell_type": "code",
   "execution_count": 21,
   "id": "09137e34",
   "metadata": {},
   "outputs": [
    {
     "data": {
      "text/plain": [
       "8260.0"
      ]
     },
     "execution_count": 21,
     "metadata": {},
     "output_type": "execute_result"
    }
   ],
   "source": [
    "groupby_zipcode = outliers_df.groupby([\"zip_code\"])[\"zip_code\"].count().sort_values(ascending=False)\n",
    "groupby_zipcode_df = pd.DataFrame(groupby_zipcode).rename(columns={\"zip_code\":\"count\"}).reset_index()\n",
    "first_zipcode = groupby_zipcode_df.iloc[0][\"zip_code\"]\n",
    "first_zipcode"
   ]
  },
  {
   "cell_type": "code",
   "execution_count": 6,
   "id": "8865ecd5",
   "metadata": {},
   "outputs": [],
   "source": [
    "one_zipcode_df = outliers_df[outliers_df[\"zip_code\"].isin([first_zipcode])]"
   ]
  },
  {
   "cell_type": "code",
   "execution_count": null,
   "id": "72592e0e",
   "metadata": {},
   "outputs": [],
   "source": []
  },
  {
   "cell_type": "code",
   "execution_count": 7,
   "id": "aa1c1059",
   "metadata": {},
   "outputs": [],
   "source": [
    "features = [\"acre_lot\",\"bed\",\"bath\",\"house_size\",\"prev_sold_year\"]\n",
    "num_features_to_select = len(features)-1\n",
    "random_state_value = 42"
   ]
  },
  {
   "cell_type": "code",
   "execution_count": 8,
   "id": "7bff4fc2",
   "metadata": {},
   "outputs": [],
   "source": [
    "#\"bed\",\"bath\",\"acre_lot\",\"zip_code\",\"house_size\",\"prev_sold_year\"\n",
    "X = one_zipcode_df[features]\n",
    "y = one_zipcode_df[\"price\"]\n",
    "X_train, X_test, y_train, y_test = train_test_split(X, y, test_size=0.3, random_state=random_state_value)"
   ]
  },
  {
   "cell_type": "code",
   "execution_count": null,
   "id": "8dcdc3d2",
   "metadata": {},
   "outputs": [],
   "source": []
  },
  {
   "cell_type": "code",
   "execution_count": 9,
   "id": "01dc0a27",
   "metadata": {},
   "outputs": [],
   "source": [
    "results_dict = {\"model\":[], \"explained variance score\":[],\"mae score\":[],\"mse score\":[],\"r2 score\":[]}\n",
    "def print_more_stuff(title, y_param, predict_param):\n",
    "    results_dict[\"model\"].append(title)\n",
    "    \n",
    "    evs = \"{:.9f}\".format(explained_variance_score(y_param,predict_param))\n",
    "    mae = \"{:,.6f}\".format(mean_absolute_error(y_param,predict_param))\n",
    "    mse = \"{:,.6f}\".format(mean_squared_error(y_param,predict_param))\n",
    "    r2 = \"{:,.6f}\".format(r2_score(y_param,predict_param))\n",
    "    \n",
    "    results_dict[\"explained variance score\"].append(evs)\n",
    "    results_dict[\"mae score\"].append(mae)\n",
    "    results_dict[\"mse score\"].append(mse)\n",
    "    results_dict[\"r2 score\"].append(r2)    \n",
    "    \n",
    "    print(title + \" EVS = \" + evs)\n",
    "    print(title + \" MSE = \" + mse)\n",
    "    print(title + \" MAE = \" + mae)\n",
    "    print(title + \" R2 = \" + r2)"
   ]
  },
  {
   "cell_type": "code",
   "execution_count": null,
   "id": "1095b282",
   "metadata": {},
   "outputs": [],
   "source": []
  },
  {
   "cell_type": "code",
   "execution_count": 10,
   "id": "81aa8bec",
   "metadata": {},
   "outputs": [
    {
     "name": "stdout",
     "output_type": "stream",
     "text": [
      "Best parameters found: {'min_samples_leaf': 10}\n"
     ]
    }
   ],
   "source": [
    "dtree_gscv = GridSearchCV(DecisionTreeRegressor(random_state=42), {'min_samples_leaf': np.arange(10,16,1)})\n",
    "dtree_gscv_model = dtree_gscv.fit(X, y)\n",
    "print(f\"Best parameters found: {dtree_gscv.best_params_}\")"
   ]
  },
  {
   "cell_type": "code",
   "execution_count": 11,
   "id": "13b915d3",
   "metadata": {},
   "outputs": [
    {
     "name": "stdout",
     "output_type": "stream",
     "text": [
      "Decision Tree EVS = 0.501674592\n",
      "Decision Tree MSE = 57,812,869,628.607346\n",
      "Decision Tree MAE = 166,463.961006\n",
      "Decision Tree R2 = 0.498992\n"
     ]
    }
   ],
   "source": [
    "dtree = DecisionTreeRegressor(**dtree_gscv.best_params_)\n",
    "dtree_model = dtree.fit(X_train,y_train)\n",
    "dtree_predict = dtree_model.predict(X_test)\n",
    "print_more_stuff(\"Decision Tree\", y_test, dtree_predict)"
   ]
  },
  {
   "cell_type": "code",
   "execution_count": null,
   "id": "a0aaf254",
   "metadata": {},
   "outputs": [],
   "source": []
  },
  {
   "cell_type": "code",
   "execution_count": 12,
   "id": "d1427612",
   "metadata": {},
   "outputs": [
    {
     "name": "stdout",
     "output_type": "stream",
     "text": [
      "The selected features are: ['acre_lot', 'bath', 'house_size', 'prev_sold_year']\n"
     ]
    }
   ],
   "source": [
    "dtree_rfe = RFE(DecisionTreeRegressor(), n_features_to_select=num_features_to_select)\n",
    "dtree_rfe.fit(X, y)\n",
    "dtree_rfe_selected_features = dtree_rfe.get_support()\n",
    "print('The selected features are:', list(X.columns[dtree_rfe_selected_features]))"
   ]
  },
  {
   "cell_type": "code",
   "execution_count": 13,
   "id": "8c8293ac",
   "metadata": {},
   "outputs": [],
   "source": [
    "X_rfe = one_zipcode_df[list(X.columns[dtree_rfe_selected_features])]\n",
    "y_rfe = one_zipcode_df[\"price\"]\n",
    "X_rfe_train, X_rfe_test, y_rfe_train, y_rfe_test = train_test_split(X_rfe, y_rfe, test_size=0.3, random_state=random_state_value)"
   ]
  },
  {
   "cell_type": "code",
   "execution_count": 14,
   "id": "3eafd718",
   "metadata": {},
   "outputs": [
    {
     "name": "stdout",
     "output_type": "stream",
     "text": [
      "Recursive Feature Elimination EVS = 0.530104318\n",
      "Recursive Feature Elimination MSE = 54,474,011,452.842834\n",
      "Recursive Feature Elimination MAE = 160,852.433939\n",
      "Recursive Feature Elimination R2 = 0.527927\n"
     ]
    }
   ],
   "source": [
    "dtree_rfe = DecisionTreeRegressor()\n",
    "dtree_rfe_model = dtree_rfe.fit(X_rfe_train,y_rfe_train)\n",
    "dtree_rfe_predict = dtree_rfe_model.predict(X_rfe_test)\n",
    "print_more_stuff(\"Recursive Feature Elimination\", y_rfe_test, dtree_rfe_predict)"
   ]
  },
  {
   "cell_type": "code",
   "execution_count": null,
   "id": "c33df877",
   "metadata": {},
   "outputs": [],
   "source": []
  },
  {
   "cell_type": "code",
   "execution_count": 15,
   "id": "21f44442",
   "metadata": {},
   "outputs": [
    {
     "name": "stdout",
     "output_type": "stream",
     "text": [
      "The selected features are: ['acre_lot', 'bed', 'bath', 'house_size']\n"
     ]
    }
   ],
   "source": [
    "dtree_sfs = SequentialFeatureSelector(DecisionTreeRegressor(), n_features_to_select=num_features_to_select)\n",
    "dtree_sfs.fit(X, y)\n",
    "dtree_sfs_selected_features = dtree_sfs.get_support()\n",
    "print('The selected features are:', list(X.columns[dtree_sfs_selected_features]))"
   ]
  },
  {
   "cell_type": "code",
   "execution_count": 16,
   "id": "c5346044",
   "metadata": {},
   "outputs": [],
   "source": [
    "X_sfs = one_zipcode_df[list(X.columns[dtree_sfs_selected_features])]\n",
    "y_sfs = one_zipcode_df[\"price\"]\n",
    "X_sfs_train, X_sfs_test, y_sfs_train, y_sfs_test = train_test_split(X_sfs, y_sfs, test_size=0.3, random_state=random_state_value)"
   ]
  },
  {
   "cell_type": "code",
   "execution_count": 17,
   "id": "a5f84a62",
   "metadata": {},
   "outputs": [
    {
     "name": "stdout",
     "output_type": "stream",
     "text": [
      "Sequential Feature Selector EVS = 0.696691479\n",
      "Sequential Feature Selector MSE = 36,282,299,274.622635\n",
      "Sequential Feature Selector MAE = 145,566.482251\n",
      "Sequential Feature Selector R2 = 0.685577\n"
     ]
    }
   ],
   "source": [
    "dtree_sfs = DecisionTreeRegressor()\n",
    "dtree_sfs_model = dtree_sfs.fit(X_sfs_train,y_sfs_train)\n",
    "dtree_sfs_predict = dtree_sfs_model.predict(X_sfs_test)\n",
    "print_more_stuff(\"Sequential Feature Selector\", y_sfs_test, dtree_sfs_predict)"
   ]
  },
  {
   "cell_type": "code",
   "execution_count": null,
   "id": "babfe3b6",
   "metadata": {},
   "outputs": [],
   "source": []
  },
  {
   "cell_type": "code",
   "execution_count": 18,
   "id": "d8787cfa",
   "metadata": {},
   "outputs": [],
   "source": [
    "dtree_predict_df = pd.DataFrame(dtree_predict).reset_index()\n",
    "dtree_predict_df.rename(columns={0: \"prediction\"},inplace=True)\n",
    "\n",
    "dtree_sfs_predict_df = pd.DataFrame(dtree_sfs_predict).reset_index()\n",
    "dtree_sfs_predict_df.rename(columns={0: \"prediction\"},inplace=True)\n",
    "\n",
    "dtree_rfe_predict_df = pd.DataFrame(dtree_rfe_predict).reset_index()\n",
    "dtree_rfe_predict_df.rename(columns={0: \"prediction\"},inplace=True)\n",
    "\n",
    "y_test_df = pd.DataFrame(y_test).reset_index()\n"
   ]
  },
  {
   "cell_type": "code",
   "execution_count": 19,
   "id": "ea330c7d",
   "metadata": {},
   "outputs": [
    {
     "data": {
      "image/png": "[encoded data removed]",
      "text/plain": [
       "<Figure size 1000x600 with 1 Axes>"
      ]
     },
     "metadata": {},
     "output_type": "display_data"
    }
   ],
   "source": [
    "fig, ax = plt.subplots(figsize=(10, 6))\n",
    "\n",
    "ax.ticklabel_format(style='plain')\n",
    "ax.yaxis.set_major_formatter('${x:1,.0f}')\n",
    "ax.xaxis.set_major_formatter(' ')\n",
    "\n",
    "plt.scatter(y_test_df.index,y_test_df[\"price\"], color=\"red\")\n",
    "plt.scatter(dtree_rfe_predict_df.index,dtree_rfe_predict_df[\"prediction\"], color=\"blue\")\n",
    "plt.scatter(dtree_sfs_predict_df.index,dtree_sfs_predict_df[\"prediction\"], color=\"green\")\n",
    "plt.scatter(dtree_predict_df.index,dtree_predict_df[\"prediction\"], color=\"black\")\n",
    "plt.show()"
   ]
  },
  {
   "cell_type": "code",
   "execution_count": null,
   "id": "0753cad2",
   "metadata": {},
   "outputs": [],
   "source": []
  },
  {
   "cell_type": "code",
   "execution_count": 22,
   "id": "03608b5f",
   "metadata": {},
   "outputs": [
    {
     "data": {
      "text/plain": [
       "{'model': ['Decision Tree',\n",
       "  'Recursive Feature Elimination',\n",
       "  'Sequential Feature Selector'],\n",
       " 'explained variance score': ['0.501674592', '0.530104318', '0.696691479'],\n",
       " 'mae score': ['166,463.961006', '160,852.433939', '145,566.482251'],\n",
       " 'mse score': ['57,812,869,628.607346',\n",
       "  '54,474,011,452.842834',\n",
       "  '36,282,299,274.622635'],\n",
       " 'r2 score': ['0.498992', '0.527927', '0.685577']}"
      ]
     },
     "execution_count": 22,
     "metadata": {},
     "output_type": "execute_result"
    }
   ],
   "source": [
    "results_dict"
   ]
  },
  {
   "cell_type": "code",
   "execution_count": 20,
   "id": "0985093c",
   "metadata": {},
   "outputs": [
    {
     "data": {
      "text/html": [
       "<div>\n",
       "<style scoped>\n",
       "    .dataframe tbody tr th:only-of-type {\n",
       "        vertical-align: middle;\n",
       "    }\n",
       "\n",
       "    .dataframe tbody tr th {\n",
       "        vertical-align: top;\n",
       "    }\n",
       "\n",
       "    .dataframe thead th {\n",
       "        text-align: right;\n",
       "    }\n",
       "</style>\n",
       "<table border=\"1\" class=\"dataframe\">\n",
       "  <thead>\n",
       "    <tr style=\"text-align: right;\">\n",
       "      <th></th>\n",
       "      <th>explained variance score</th>\n",
       "      <th>mae score</th>\n",
       "      <th>mse score</th>\n",
       "      <th>r2 score</th>\n",
       "    </tr>\n",
       "    <tr>\n",
       "      <th>model</th>\n",
       "      <th></th>\n",
       "      <th></th>\n",
       "      <th></th>\n",
       "      <th></th>\n",
       "    </tr>\n",
       "  </thead>\n",
       "  <tbody>\n",
       "    <tr>\n",
       "      <th>Decision Tree</th>\n",
       "      <td>0.501674592</td>\n",
       "      <td>166,463.961006</td>\n",
       "      <td>57,812,869,628.607346</td>\n",
       "      <td>0.498992</td>\n",
       "    </tr>\n",
       "    <tr>\n",
       "      <th>Recursive Feature Elimination</th>\n",
       "      <td>0.530104318</td>\n",
       "      <td>160,852.433939</td>\n",
       "      <td>54,474,011,452.842834</td>\n",
       "      <td>0.527927</td>\n",
       "    </tr>\n",
       "    <tr>\n",
       "      <th>Sequential Feature Selector</th>\n",
       "      <td>0.696691479</td>\n",
       "      <td>145,566.482251</td>\n",
       "      <td>36,282,299,274.622635</td>\n",
       "      <td>0.685577</td>\n",
       "    </tr>\n",
       "  </tbody>\n",
       "</table>\n",
       "</div>"
      ],
      "text/plain": [
       "                              explained variance score       mae score  \\\n",
       "model                                                                    \n",
       "Decision Tree                              0.501674592  166,463.961006   \n",
       "Recursive Feature Elimination              0.530104318  160,852.433939   \n",
       "Sequential Feature Selector                0.696691479  145,566.482251   \n",
       "\n",
       "                                           mse score  r2 score  \n",
       "model                                                           \n",
       "Decision Tree                  57,812,869,628.607346  0.498992  \n",
       "Recursive Feature Elimination  54,474,011,452.842834  0.527927  \n",
       "Sequential Feature Selector    36,282,299,274.622635  0.685577  "
      ]
     },
     "execution_count": 20,
     "metadata": {},
     "output_type": "execute_result"
    }
   ],
   "source": [
    "model_comparisons = pd.DataFrame(results_dict).set_index('model')\n",
    "model_comparisons"
   ]
  }
 ],
 "metadata": {
  "kernelspec": {
   "display_name": "Python 3 (ipykernel)",
   "language": "python",
   "name": "python3"
  },
  "language_info": {
   "codemirror_mode": {
    "name": "ipython",
    "version": 3
   },
   "file_extension": ".py",
   "mimetype": "text/x-python",
   "name": "python",
   "nbconvert_exporter": "python",
   "pygments_lexer": "ipython3",
   "version": "3.11.4"
  }
 },
 "nbformat": 4,
 "nbformat_minor": 5
}
