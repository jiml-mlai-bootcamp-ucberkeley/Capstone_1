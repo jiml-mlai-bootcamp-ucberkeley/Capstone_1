{
 "cells": [
  {
   "cell_type": "markdown",
   "id": "7aaafffe",
   "metadata": {},
   "source": [
    "### Ridge regression addresses some of the problems of Ordinary Least Squares by imposing a penalty on the size of the coefficients. The ridge coefficients minimize a penalized residual sum of squares"
   ]
  },
  {
   "cell_type": "code",
   "execution_count": 1,
   "id": "52bfa464",
   "metadata": {},
   "outputs": [],
   "source": [
    "from warnings import filterwarnings\n",
    "filterwarnings(\"ignore\")\n",
    "\n",
    "import pandas as pd\n",
    "import matplotlib.pyplot as plt\n",
    "import numpy as np\n",
    "\n",
    "from sklearn.linear_model import Ridge\n",
    "from sklearn.feature_selection import SequentialFeatureSelector, RFE, SelectFromModel\n",
    "from sklearn.pipeline import Pipeline\n",
    "\n",
    "from sklearn.model_selection import train_test_split, cross_val_score, GridSearchCV\n",
    "from sklearn.metrics import mean_squared_error, mean_absolute_error, r2_score, accuracy_score, explained_variance_score"
   ]
  },
  {
   "cell_type": "code",
   "execution_count": 2,
   "id": "e76f44b1",
   "metadata": {},
   "outputs": [],
   "source": [
    "outliers_df = pd.read_csv('outliers.csv')\n",
    "outliers_df.drop(columns=[\"Unnamed: 0\"],inplace=True)"
   ]
  },
  {
   "cell_type": "code",
   "execution_count": 3,
   "id": "3a3b5d51",
   "metadata": {},
   "outputs": [
    {
     "name": "stdout",
     "output_type": "stream",
     "text": [
      "<class 'pandas.core.frame.DataFrame'>\n",
      "RangeIndex: 7617 entries, 0 to 7616\n",
      "Data columns (total 7 columns):\n",
      " #   Column          Non-Null Count  Dtype  \n",
      "---  ------          --------------  -----  \n",
      " 0   bed             7617 non-null   float64\n",
      " 1   bath            7617 non-null   float64\n",
      " 2   acre_lot        7617 non-null   float64\n",
      " 3   zip_code        7617 non-null   float64\n",
      " 4   house_size      7617 non-null   float64\n",
      " 5   prev_sold_date  7617 non-null   object \n",
      " 6   price           7617 non-null   float64\n",
      "dtypes: float64(6), object(1)\n",
      "memory usage: 416.7+ KB\n"
     ]
    }
   ],
   "source": [
    "outliers_df.info()"
   ]
  },
  {
   "cell_type": "markdown",
   "id": "e6b223e9",
   "metadata": {},
   "source": [
    "#### Create new feature prev_sold_year from prev_sold_date"
   ]
  },
  {
   "cell_type": "code",
   "execution_count": 4,
   "id": "21530dc5",
   "metadata": {},
   "outputs": [
    {
     "name": "stdout",
     "output_type": "stream",
     "text": [
      "<class 'pandas.core.frame.DataFrame'>\n",
      "RangeIndex: 7617 entries, 0 to 7616\n",
      "Data columns (total 7 columns):\n",
      " #   Column          Non-Null Count  Dtype  \n",
      "---  ------          --------------  -----  \n",
      " 0   bed             7617 non-null   float64\n",
      " 1   bath            7617 non-null   float64\n",
      " 2   acre_lot        7617 non-null   float64\n",
      " 3   zip_code        7617 non-null   float64\n",
      " 4   house_size      7617 non-null   float64\n",
      " 5   price           7617 non-null   float64\n",
      " 6   prev_sold_year  7617 non-null   int64  \n",
      "dtypes: float64(6), int64(1)\n",
      "memory usage: 416.7 KB\n"
     ]
    }
   ],
   "source": [
    "outliers_df[\"prev_sold_year\"] = pd.to_datetime(outliers_df[\"prev_sold_date\"], format='%Y-%m-%d').dt.year\n",
    "outliers_df.drop(columns=[\"prev_sold_date\"],inplace=True)\n",
    "outliers_df.info()"
   ]
  },
  {
   "cell_type": "markdown",
   "id": "48ba8063",
   "metadata": {},
   "source": [
    "#### Create a new feature in the housing data for Zip Code with a leading zero"
   ]
  },
  {
   "cell_type": "code",
   "execution_count": 5,
   "id": "11aaee05",
   "metadata": {},
   "outputs": [
    {
     "data": {
      "text/html": [
       "<div>\n",
       "<style scoped>\n",
       "    .dataframe tbody tr th:only-of-type {\n",
       "        vertical-align: middle;\n",
       "    }\n",
       "\n",
       "    .dataframe tbody tr th {\n",
       "        vertical-align: top;\n",
       "    }\n",
       "\n",
       "    .dataframe thead th {\n",
       "        text-align: right;\n",
       "    }\n",
       "</style>\n",
       "<table border=\"1\" class=\"dataframe\">\n",
       "  <thead>\n",
       "    <tr style=\"text-align: right;\">\n",
       "      <th></th>\n",
       "      <th>bed</th>\n",
       "      <th>bath</th>\n",
       "      <th>acre_lot</th>\n",
       "      <th>zip_code</th>\n",
       "      <th>house_size</th>\n",
       "      <th>price</th>\n",
       "      <th>prev_sold_year</th>\n",
       "      <th>zip_code_str</th>\n",
       "    </tr>\n",
       "  </thead>\n",
       "  <tbody>\n",
       "    <tr>\n",
       "      <th>0</th>\n",
       "      <td>3.0</td>\n",
       "      <td>2.0</td>\n",
       "      <td>0.14</td>\n",
       "      <td>7001.0</td>\n",
       "      <td>1542.0</td>\n",
       "      <td>305100.0</td>\n",
       "      <td>2022</td>\n",
       "      <td>07001</td>\n",
       "    </tr>\n",
       "    <tr>\n",
       "      <th>1</th>\n",
       "      <td>3.0</td>\n",
       "      <td>2.0</td>\n",
       "      <td>0.11</td>\n",
       "      <td>7001.0</td>\n",
       "      <td>1500.0</td>\n",
       "      <td>479000.0</td>\n",
       "      <td>2016</td>\n",
       "      <td>07001</td>\n",
       "    </tr>\n",
       "    <tr>\n",
       "      <th>2</th>\n",
       "      <td>3.0</td>\n",
       "      <td>2.0</td>\n",
       "      <td>0.17</td>\n",
       "      <td>7001.0</td>\n",
       "      <td>7501.0</td>\n",
       "      <td>340000.0</td>\n",
       "      <td>2021</td>\n",
       "      <td>07001</td>\n",
       "    </tr>\n",
       "    <tr>\n",
       "      <th>3</th>\n",
       "      <td>5.0</td>\n",
       "      <td>2.0</td>\n",
       "      <td>0.18</td>\n",
       "      <td>7001.0</td>\n",
       "      <td>1387.0</td>\n",
       "      <td>484000.0</td>\n",
       "      <td>2020</td>\n",
       "      <td>07001</td>\n",
       "    </tr>\n",
       "    <tr>\n",
       "      <th>4</th>\n",
       "      <td>3.0</td>\n",
       "      <td>2.0</td>\n",
       "      <td>0.17</td>\n",
       "      <td>7001.0</td>\n",
       "      <td>1500.0</td>\n",
       "      <td>425000.0</td>\n",
       "      <td>2019</td>\n",
       "      <td>07001</td>\n",
       "    </tr>\n",
       "  </tbody>\n",
       "</table>\n",
       "</div>"
      ],
      "text/plain": [
       "   bed  bath  acre_lot  zip_code  house_size     price  prev_sold_year  \\\n",
       "0  3.0   2.0      0.14    7001.0      1542.0  305100.0            2022   \n",
       "1  3.0   2.0      0.11    7001.0      1500.0  479000.0            2016   \n",
       "2  3.0   2.0      0.17    7001.0      7501.0  340000.0            2021   \n",
       "3  5.0   2.0      0.18    7001.0      1387.0  484000.0            2020   \n",
       "4  3.0   2.0      0.17    7001.0      1500.0  425000.0            2019   \n",
       "\n",
       "  zip_code_str  \n",
       "0        07001  \n",
       "1        07001  \n",
       "2        07001  \n",
       "3        07001  \n",
       "4        07001  "
      ]
     },
     "execution_count": 5,
     "metadata": {},
     "output_type": "execute_result"
    }
   ],
   "source": [
    "outliers_df[\"zip_code_str\"] = np.where(outliers_df.zip_code.apply(int) < 10000,'0'+ outliers_df.zip_code.apply(int).apply(str),outliers_df.zip_code.apply(int).apply(str))\n",
    "outliers_df.head()"
   ]
  },
  {
   "cell_type": "markdown",
   "id": "63640c45",
   "metadata": {},
   "source": [
    "#### Create a new feature in the Lat/Long data for Zip Code with a leading zero"
   ]
  },
  {
   "cell_type": "code",
   "execution_count": 6,
   "id": "1f6c2f6c",
   "metadata": {},
   "outputs": [
    {
     "data": {
      "text/html": [
       "<div>\n",
       "<style scoped>\n",
       "    .dataframe tbody tr th:only-of-type {\n",
       "        vertical-align: middle;\n",
       "    }\n",
       "\n",
       "    .dataframe tbody tr th {\n",
       "        vertical-align: top;\n",
       "    }\n",
       "\n",
       "    .dataframe thead th {\n",
       "        text-align: right;\n",
       "    }\n",
       "</style>\n",
       "<table border=\"1\" class=\"dataframe\">\n",
       "  <thead>\n",
       "    <tr style=\"text-align: right;\">\n",
       "      <th></th>\n",
       "      <th>zip_code</th>\n",
       "      <th>latitude</th>\n",
       "      <th>longitude</th>\n",
       "      <th>zip_code_str</th>\n",
       "    </tr>\n",
       "  </thead>\n",
       "  <tbody>\n",
       "    <tr>\n",
       "      <th>0</th>\n",
       "      <td>7001</td>\n",
       "      <td>40.582316</td>\n",
       "      <td>-74.271506</td>\n",
       "      <td>07001</td>\n",
       "    </tr>\n",
       "    <tr>\n",
       "      <th>1</th>\n",
       "      <td>7002</td>\n",
       "      <td>40.662338</td>\n",
       "      <td>-74.110275</td>\n",
       "      <td>07002</td>\n",
       "    </tr>\n",
       "    <tr>\n",
       "      <th>2</th>\n",
       "      <td>7003</td>\n",
       "      <td>40.809128</td>\n",
       "      <td>-74.187155</td>\n",
       "      <td>07003</td>\n",
       "    </tr>\n",
       "    <tr>\n",
       "      <th>3</th>\n",
       "      <td>7004</td>\n",
       "      <td>40.882508</td>\n",
       "      <td>-74.304593</td>\n",
       "      <td>07004</td>\n",
       "    </tr>\n",
       "    <tr>\n",
       "      <th>4</th>\n",
       "      <td>7005</td>\n",
       "      <td>40.932771</td>\n",
       "      <td>-74.417304</td>\n",
       "      <td>07005</td>\n",
       "    </tr>\n",
       "  </tbody>\n",
       "</table>\n",
       "</div>"
      ],
      "text/plain": [
       "   zip_code   latitude  longitude zip_code_str\n",
       "0      7001  40.582316 -74.271506        07001\n",
       "1      7002  40.662338 -74.110275        07002\n",
       "2      7003  40.809128 -74.187155        07003\n",
       "3      7004  40.882508 -74.304593        07004\n",
       "4      7005  40.932771 -74.417304        07005"
      ]
     },
     "execution_count": 6,
     "metadata": {},
     "output_type": "execute_result"
    }
   ],
   "source": [
    "zip_lon_lat = pd.read_csv('nj_zip-lon-lat.csv')\n",
    "zip_lon_lat[\"zip_code_str\"] = np.where(zip_lon_lat.zip_code.apply(int) < 10000,'0'+ zip_lon_lat.zip_code.apply(int).apply(str),zip_lon_lat.zip_code.apply(int).apply(str))\n",
    "zip_lon_lat.head()"
   ]
  },
  {
   "cell_type": "markdown",
   "id": "c0963da2",
   "metadata": {},
   "source": [
    "#### Merge the Lat/Long data with the housing data using Zip Code with a leading zero"
   ]
  },
  {
   "cell_type": "code",
   "execution_count": 7,
   "id": "9f79d8af",
   "metadata": {},
   "outputs": [
    {
     "data": {
      "text/html": [
       "<div>\n",
       "<style scoped>\n",
       "    .dataframe tbody tr th:only-of-type {\n",
       "        vertical-align: middle;\n",
       "    }\n",
       "\n",
       "    .dataframe tbody tr th {\n",
       "        vertical-align: top;\n",
       "    }\n",
       "\n",
       "    .dataframe thead th {\n",
       "        text-align: right;\n",
       "    }\n",
       "</style>\n",
       "<table border=\"1\" class=\"dataframe\">\n",
       "  <thead>\n",
       "    <tr style=\"text-align: right;\">\n",
       "      <th></th>\n",
       "      <th>bed</th>\n",
       "      <th>bath</th>\n",
       "      <th>acre_lot</th>\n",
       "      <th>zip_code_x</th>\n",
       "      <th>house_size</th>\n",
       "      <th>price</th>\n",
       "      <th>prev_sold_year</th>\n",
       "      <th>zip_code_str</th>\n",
       "      <th>zip_code_y</th>\n",
       "      <th>latitude</th>\n",
       "      <th>longitude</th>\n",
       "    </tr>\n",
       "  </thead>\n",
       "  <tbody>\n",
       "    <tr>\n",
       "      <th>7609</th>\n",
       "      <td>5.0</td>\n",
       "      <td>4.0</td>\n",
       "      <td>0.91</td>\n",
       "      <td>8848.0</td>\n",
       "      <td>1500.0</td>\n",
       "      <td>485000.0</td>\n",
       "      <td>2017</td>\n",
       "      <td>08848</td>\n",
       "      <td>8848</td>\n",
       "      <td>40.594266</td>\n",
       "      <td>-75.096659</td>\n",
       "    </tr>\n",
       "    <tr>\n",
       "      <th>7610</th>\n",
       "      <td>4.0</td>\n",
       "      <td>3.0</td>\n",
       "      <td>2.17</td>\n",
       "      <td>8825.0</td>\n",
       "      <td>1500.0</td>\n",
       "      <td>510000.0</td>\n",
       "      <td>2016</td>\n",
       "      <td>08825</td>\n",
       "      <td>8825</td>\n",
       "      <td>40.514169</td>\n",
       "      <td>-75.027112</td>\n",
       "    </tr>\n",
       "    <tr>\n",
       "      <th>7611</th>\n",
       "      <td>3.0</td>\n",
       "      <td>2.0</td>\n",
       "      <td>0.12</td>\n",
       "      <td>7012.0</td>\n",
       "      <td>1500.0</td>\n",
       "      <td>499000.0</td>\n",
       "      <td>2021</td>\n",
       "      <td>07012</td>\n",
       "      <td>7012</td>\n",
       "      <td>40.848398</td>\n",
       "      <td>-74.160266</td>\n",
       "    </tr>\n",
       "    <tr>\n",
       "      <th>7612</th>\n",
       "      <td>3.0</td>\n",
       "      <td>3.0</td>\n",
       "      <td>0.13</td>\n",
       "      <td>7012.0</td>\n",
       "      <td>1500.0</td>\n",
       "      <td>530000.0</td>\n",
       "      <td>2022</td>\n",
       "      <td>07012</td>\n",
       "      <td>7012</td>\n",
       "      <td>40.848398</td>\n",
       "      <td>-74.160266</td>\n",
       "    </tr>\n",
       "    <tr>\n",
       "      <th>7613</th>\n",
       "      <td>4.0</td>\n",
       "      <td>3.0</td>\n",
       "      <td>0.11</td>\n",
       "      <td>7640.0</td>\n",
       "      <td>1500.0</td>\n",
       "      <td>720000.0</td>\n",
       "      <td>2016</td>\n",
       "      <td>07640</td>\n",
       "      <td>7640</td>\n",
       "      <td>40.991681</td>\n",
       "      <td>-73.980202</td>\n",
       "    </tr>\n",
       "  </tbody>\n",
       "</table>\n",
       "</div>"
      ],
      "text/plain": [
       "      bed  bath  acre_lot  zip_code_x  house_size     price  prev_sold_year  \\\n",
       "7609  5.0   4.0      0.91      8848.0      1500.0  485000.0            2017   \n",
       "7610  4.0   3.0      2.17      8825.0      1500.0  510000.0            2016   \n",
       "7611  3.0   2.0      0.12      7012.0      1500.0  499000.0            2021   \n",
       "7612  3.0   3.0      0.13      7012.0      1500.0  530000.0            2022   \n",
       "7613  4.0   3.0      0.11      7640.0      1500.0  720000.0            2016   \n",
       "\n",
       "     zip_code_str  zip_code_y   latitude  longitude  \n",
       "7609        08848        8848  40.594266 -75.096659  \n",
       "7610        08825        8825  40.514169 -75.027112  \n",
       "7611        07012        7012  40.848398 -74.160266  \n",
       "7612        07012        7012  40.848398 -74.160266  \n",
       "7613        07640        7640  40.991681 -73.980202  "
      ]
     },
     "execution_count": 7,
     "metadata": {},
     "output_type": "execute_result"
    }
   ],
   "source": [
    "merged_df = pd.merge(outliers_df, zip_lon_lat, how='inner', on=\"zip_code_str\")\n",
    "merged_df.tail()"
   ]
  },
  {
   "cell_type": "markdown",
   "id": "ef338df0",
   "metadata": {},
   "source": [
    "#### Create common variables to store frequently used values."
   ]
  },
  {
   "cell_type": "code",
   "execution_count": 8,
   "id": "aa1c1059",
   "metadata": {},
   "outputs": [],
   "source": [
    "features = [\"latitude\",\"longitude\",\"bed\",\"bath\",\"acre_lot\",\"house_size\",\"prev_sold_year\"]\n",
    "num_features_to_select = len(features)-1\n",
    "random_state_value = 42"
   ]
  },
  {
   "cell_type": "markdown",
   "id": "71b4b427",
   "metadata": {},
   "source": [
    "#### Datasets for modeling, testing the models, and making predictions."
   ]
  },
  {
   "cell_type": "code",
   "execution_count": 9,
   "id": "7bff4fc2",
   "metadata": {},
   "outputs": [],
   "source": [
    "X = merged_df[features]\n",
    "y = merged_df[\"price\"]\n",
    "X_train, X_test, y_train, y_test = train_test_split(X, y, test_size=0.3, random_state=random_state_value)"
   ]
  },
  {
   "cell_type": "markdown",
   "id": "4383bb73",
   "metadata": {},
   "source": [
    "#### Variable to store the results generated by the models."
   ]
  },
  {
   "cell_type": "code",
   "execution_count": 10,
   "id": "4b701315",
   "metadata": {},
   "outputs": [],
   "source": [
    "results_dict = {\"model\":[], \"explained variance score\":[],\"mae score\":[],\"mse score\":[],\"r2 score\":[], \"mean fit time\":[]}"
   ]
  },
  {
   "cell_type": "markdown",
   "id": "86a75039",
   "metadata": {},
   "source": [
    "#### Function to format the results generated by the models."
   ]
  },
  {
   "cell_type": "code",
   "execution_count": 11,
   "id": "267ee572",
   "metadata": {},
   "outputs": [],
   "source": [
    "def print_more_stuff(title, y_param, predict_param, gscv):\n",
    "    results_dict[\"model\"].append(title)\n",
    "    \n",
    "    evs = \"{:.9f}\".format(explained_variance_score(y_param,predict_param))\n",
    "    mae = \"{:,.6f}\".format(mean_absolute_error(y_param,predict_param))\n",
    "    mse = \"{:,.6f}\".format(mean_squared_error(y_param,predict_param))\n",
    "    r2 = \"{:,.6f}\".format(r2_score(y_param,predict_param))\n",
    "        \n",
    "    #find_best_params = gscv.cv_results_[\"params\"].index(gscv.best_params_)\n",
    "    #mean_fit_time = gscv.cv_results_[\"mean_fit_time\"][find_best_params]\n",
    "    mean_fit_time = gscv.cv_results_[\"mean_fit_time\"][gscv.best_index_]\n",
    "    \n",
    "    results_dict[\"explained variance score\"].append(evs)\n",
    "    results_dict[\"mae score\"].append(mae)\n",
    "    results_dict[\"mse score\"].append(mse)\n",
    "    results_dict[\"r2 score\"].append(r2)\n",
    "    results_dict[\"mean fit time\"].append(mean_fit_time)\n",
    "    \n",
    "    print(title + \" EVS = \" + evs)\n",
    "    print(title + \" MSE = \" + mse)\n",
    "    print(title + \" MAE = \" + mae)\n",
    "    print(title + \" R2 = \" + r2)\n",
    "    print(title + \" Fit Time = \" + str(mean_fit_time))"
   ]
  },
  {
   "cell_type": "markdown",
   "id": "f449f047",
   "metadata": {},
   "source": [
    "#### Create common variables that will be used in the Notebook"
   ]
  },
  {
   "cell_type": "code",
   "execution_count": 12,
   "id": "2f5a5547",
   "metadata": {},
   "outputs": [],
   "source": [
    "ridge = Ridge(random_state=42)\n",
    "ridge_sfs = SequentialFeatureSelector(estimator=ridge, n_features_to_select=num_features_to_select)\n",
    "ridge_sfm = SelectFromModel(estimator=ridge, threshold=1000)\n",
    "ridge_rfe = RFE(estimator=ridge, n_features_to_select=num_features_to_select)"
   ]
  },
  {
   "cell_type": "markdown",
   "id": "79ca9720",
   "metadata": {},
   "source": [
    "#### Use Grid Search CV to find the best Hyperparameters for R9dge Regression"
   ]
  },
  {
   "cell_type": "code",
   "execution_count": 13,
   "id": "5b2792eb",
   "metadata": {},
   "outputs": [
    {
     "name": "stdout",
     "output_type": "stream",
     "text": [
      "Best parameters found: {'alpha': 1e-11}\n"
     ]
    }
   ],
   "source": [
    "ridge_gscv = GridSearchCV(Ridge(random_state=42), {'alpha': [1e-11, 1e-10, 1e-9]}, scoring='neg_mean_squared_error')\n",
    "ridge_gscv_model = ridge_gscv.fit(X, y)\n",
    "print(f\"Best parameters found: {ridge_gscv.best_params_}\")"
   ]
  },
  {
   "cell_type": "code",
   "execution_count": 14,
   "id": "7fc76bd0",
   "metadata": {},
   "outputs": [
    {
     "name": "stdout",
     "output_type": "stream",
     "text": [
      "Ridge Best Params EVS = 0.347887513\n",
      "Ridge Best Params MSE = 104,946,356,936.655319\n",
      "Ridge Best Params MAE = 204,367.794129\n",
      "Ridge Best Params R2 = 0.347888\n",
      "Ridge Best Params Fit Time = 0.0022695064544677734\n"
     ]
    }
   ],
   "source": [
    "ridge = Ridge(**ridge_gscv.best_params_)\n",
    "ridge_bp_gscv = GridSearchCV(ridge, param_grid={})\n",
    "ridge_bp_model = ridge_bp_gscv.fit(X_train,y_train)\n",
    "ridge_bp_predict = ridge_bp_model.predict(X_test)\n",
    "\n",
    "print_more_stuff(\"Ridge Best Params\", y_test, ridge_bp_predict, ridge_bp_gscv)"
   ]
  },
  {
   "cell_type": "markdown",
   "id": "4e17f4a1",
   "metadata": {},
   "source": [
    "### SelectFromModel is a meta-transformer that can be used alongside any estimator that assigns importance to each feature through a specific attribute or via an importance_getter callable after fitting. The features are considered unimportant and removed if the corresponding importance of the feature values are below the provided threshold parameter."
   ]
  },
  {
   "cell_type": "code",
   "execution_count": 15,
   "id": "aaf5ed58",
   "metadata": {},
   "outputs": [
    {
     "name": "stdout",
     "output_type": "stream",
     "text": [
      "The selected features are: ['latitude', 'longitude', 'bed', 'bath', 'acre_lot', 'prev_sold_year']\n"
     ]
    }
   ],
   "source": [
    "ridge_sfm_pipeline = Pipeline([\n",
    "  ('feature_selection', ridge_sfm),\n",
    "  ('regression', ridge)\n",
    "])\n",
    "\n",
    "ridge_sfm_fs = ridge_sfm_pipeline.named_steps['feature_selection'].fit(X_train,y_train)\n",
    "ridge_sfm_selected_features = ridge_sfm_fs.get_support()\n",
    "\n",
    "print('The selected features are:', list(X.columns[ridge_sfm_selected_features]))"
   ]
  },
  {
   "cell_type": "code",
   "execution_count": 16,
   "id": "a32e1c76",
   "metadata": {},
   "outputs": [],
   "source": [
    "X_sfm = merged_df[list(X.columns[ridge_sfm_selected_features])]\n",
    "y_sfm = merged_df[\"price\"]\n",
    "X_sfm_train, X_sfm_test, y_sfm_train, y_sfm_test = train_test_split(X_sfm, y_sfm, test_size=0.3, random_state=random_state_value)"
   ]
  },
  {
   "cell_type": "code",
   "execution_count": 17,
   "id": "1f957e58",
   "metadata": {},
   "outputs": [
    {
     "name": "stdout",
     "output_type": "stream",
     "text": [
      "Select From Model EVS = 0.335608839\n",
      "Select From Model MSE = 106,924,114,715.181747\n",
      "Select From Model MAE = 205,621.117607\n",
      "Select From Model R2 = 0.335598\n",
      "Select From Model Fit Time = 0.0034389495849609375\n"
     ]
    }
   ],
   "source": [
    "ridge_sfm_gscv = GridSearchCV(Ridge(), param_grid={})\n",
    "ridge_sfm_model = ridge_sfm_gscv.fit(X_sfm_train,y_sfm_train)\n",
    "ridge_sfm_predict = ridge_sfm_model.predict(X_sfm_test)\n",
    "\n",
    "print_more_stuff(\"Select From Model\",y_sfm_test,ridge_sfm_predict,ridge_sfm_gscv)"
   ]
  },
  {
   "cell_type": "markdown",
   "id": "c77e56da",
   "metadata": {},
   "source": [
    "###  Sequential Feature Selector (forward selection) adds features to form a feature subset in a greedy fashion. At each stage, this estimator chooses the best feature to add or remove based on the cross-validation score of an estimator."
   ]
  },
  {
   "cell_type": "code",
   "execution_count": 18,
   "id": "5148b30d",
   "metadata": {},
   "outputs": [
    {
     "name": "stdout",
     "output_type": "stream",
     "text": [
      "The selected features are: ['latitude', 'longitude', 'bed', 'bath', 'acre_lot', 'house_size']\n"
     ]
    }
   ],
   "source": [
    "ridge_sfs_pipeline = Pipeline([\n",
    "  ('feature_selection', ridge_sfs),\n",
    "  ('regression', ridge)\n",
    "])\n",
    "\n",
    "ridge_sfs_fs = ridge_sfs_pipeline.named_steps['feature_selection'].fit(X_train,y_train)\n",
    "ridge_sfs_selected_features = ridge_sfs_fs.get_support()\n",
    "\n",
    "print('The selected features are:', list(X.columns[ridge_sfs_selected_features]))"
   ]
  },
  {
   "cell_type": "code",
   "execution_count": 19,
   "id": "7f974418",
   "metadata": {},
   "outputs": [],
   "source": [
    "X_sfs = merged_df[list(X.columns[ridge_sfs_selected_features])]\n",
    "y_sfs = merged_df[\"price\"]\n",
    "X_sfs_train, X_sfs_test, y_sfs_train, y_sfs_test = train_test_split(X_sfs, y_sfs, test_size=0.3, random_state=random_state_value)"
   ]
  },
  {
   "cell_type": "code",
   "execution_count": 20,
   "id": "b1a6a127",
   "metadata": {},
   "outputs": [
    {
     "name": "stdout",
     "output_type": "stream",
     "text": [
      "Sequential Feature Selector EVS = 0.349340465\n",
      "Sequential Feature Selector MSE = 104,713,644,756.342804\n",
      "Sequential Feature Selector MAE = 203,708.056562\n",
      "Sequential Feature Selector R2 = 0.349334\n",
      "Sequential Feature Selector Fit Time = 0.00021142959594726561\n"
     ]
    }
   ],
   "source": [
    "ridge_sfs_gscv = GridSearchCV(Ridge(), param_grid={})\n",
    "ridge_sfs_model = ridge_sfs_gscv.fit(X_sfs_train,y_sfs_train)\n",
    "ridge_sfs_predict = ridge_sfs_model.predict(X_sfs_test)\n",
    "\n",
    "print_more_stuff(\"Sequential Feature Selector\",y_sfs_test,ridge_sfs_predict,ridge_sfs_gscv)"
   ]
  },
  {
   "cell_type": "markdown",
   "id": "bcea4fdc",
   "metadata": {},
   "source": [
    "### Recursive feature elimination uses an external estimator that assigns weights to features with the goal of selecting features by recursively considering smaller and smaller sets of features."
   ]
  },
  {
   "cell_type": "code",
   "execution_count": 21,
   "id": "fbe24678",
   "metadata": {},
   "outputs": [
    {
     "name": "stdout",
     "output_type": "stream",
     "text": [
      "The selected features are: ['latitude', 'longitude', 'bed', 'bath', 'acre_lot', 'prev_sold_year']\n"
     ]
    }
   ],
   "source": [
    "ridge_rfe_pipeline = Pipeline([\n",
    "  ('feature_selection', ridge_rfe),\n",
    "  ('regression', ridge)\n",
    "])\n",
    "ridge_rfe_fs = ridge_rfe_pipeline.named_steps['feature_selection'].fit(X_train,y_train)\n",
    "ridge_rfe_selected_features = ridge_rfe_fs.get_support()\n",
    "\n",
    "print('The selected features are:', list(X.columns[ridge_rfe_selected_features]))"
   ]
  },
  {
   "cell_type": "code",
   "execution_count": 22,
   "id": "5b770aba",
   "metadata": {},
   "outputs": [],
   "source": [
    "X_rfe = merged_df[list(X.columns[ridge_rfe_selected_features])]\n",
    "y_rfe = merged_df[\"price\"]\n",
    "X_rfe_train, X_rfe_test, y_rfe_train, y_rfe_test = train_test_split(X_rfe, y_rfe, test_size=0.3, random_state=random_state_value)"
   ]
  },
  {
   "cell_type": "code",
   "execution_count": 23,
   "id": "88c0b688",
   "metadata": {},
   "outputs": [
    {
     "name": "stdout",
     "output_type": "stream",
     "text": [
      "Recursive Feature Elimination EVS = 0.335608839\n",
      "Recursive Feature Elimination MSE = 106,924,114,715.181747\n",
      "Recursive Feature Elimination MAE = 205,621.117607\n",
      "Recursive Feature Elimination R2 = 0.335598\n",
      "Recursive Feature Elimination Fit Time = 0.0008270263671875\n"
     ]
    }
   ],
   "source": [
    "ridge_rfe_gscv = GridSearchCV(Ridge(), param_grid={})\n",
    "ridge_rfe_model = ridge_rfe_gscv.fit(X_rfe_train,y_rfe_train)\n",
    "ridge_rfe_predict = ridge_rfe_model.predict(X_rfe_test)\n",
    "\n",
    "print_more_stuff(\"Recursive Feature Elimination\",y_rfe_test,ridge_rfe_predict, ridge_rfe_gscv)"
   ]
  },
  {
   "cell_type": "markdown",
   "id": "816921bd",
   "metadata": {},
   "source": [
    "#### Graphing the results works best when the data is provided in a DataFrame."
   ]
  },
  {
   "cell_type": "code",
   "execution_count": 24,
   "id": "69d9ab8b",
   "metadata": {},
   "outputs": [],
   "source": [
    "ridge_bp_predict_df = pd.DataFrame(ridge_bp_predict).reset_index()\n",
    "ridge_bp_predict_df.rename(columns={0: \"prediction\"},inplace=True)\n",
    "\n",
    "ridge_sfm_predict_df = pd.DataFrame(ridge_sfm_predict).reset_index()\n",
    "ridge_sfm_predict_df.rename(columns={0: \"prediction\"},inplace=True)\n",
    "\n",
    "ridge_sfs_predict_df = pd.DataFrame(ridge_sfs_predict).reset_index()\n",
    "ridge_sfs_predict_df.rename(columns={0: \"prediction\"},inplace=True)\n",
    "\n",
    "ridge_rfe_predict_df = pd.DataFrame(ridge_rfe_predict).reset_index()\n",
    "ridge_rfe_predict_df.rename(columns={0: \"prediction\"},inplace=True)\n",
    "\n",
    "y_test_df = pd.DataFrame(y_test).reset_index()"
   ]
  },
  {
   "cell_type": "markdown",
   "id": "047c40e2",
   "metadata": {},
   "source": [
    "#### Scatter Plot graph of the results of Recursive Feature Elimination, Sequential Feature Selection, Select From Model, and Test Data."
   ]
  },
  {
   "cell_type": "code",
   "execution_count": 25,
   "id": "90cf1151",
   "metadata": {},
   "outputs": [
    {
     "data": {
      "image/png": "[encoded data removed]",
      "text/plain": [
       "<Figure size 1000x600 with 1 Axes>"
      ]
     },
     "metadata": {},
     "output_type": "display_data"
    }
   ],
   "source": [
    "fig, ax = plt.subplots(figsize=(10, 6))\n",
    "\n",
    "ax.ticklabel_format(style='plain')\n",
    "ax.yaxis.set_major_formatter('${x:1,.0f}')\n",
    "ax.xaxis.set_major_formatter(' ')\n",
    "\n",
    "plt.scatter(y_test_df.index,y_test_df[\"price\"], color=\"red\")\n",
    "plt.scatter(ridge_sfm_predict_df.index,ridge_sfm_predict_df[\"prediction\"], color=\"brown\")\n",
    "plt.scatter(ridge_sfs_predict_df.index,ridge_sfs_predict_df[\"prediction\"], color=\"blue\")\n",
    "plt.scatter(ridge_rfe_predict_df.index,ridge_rfe_predict_df[\"prediction\"], color=\"green\")\n",
    "plt.scatter(ridge_bp_predict_df.index,ridge_bp_predict_df[\"prediction\"], color=\"black\")\n",
    "plt.show()"
   ]
  },
  {
   "cell_type": "markdown",
   "id": "8d8a88d8",
   "metadata": {},
   "source": [
    "#### Sort the DataFrames by the Prediction and Price features."
   ]
  },
  {
   "cell_type": "code",
   "execution_count": 26,
   "id": "0d702f85",
   "metadata": {},
   "outputs": [],
   "source": [
    "ridge_bp_predict_df.sort_values(by='prediction', inplace=True)\n",
    "ridge_bp_predict_df.reset_index(inplace=True)\n",
    "\n",
    "ridge_sfm_predict_df.sort_values(by='prediction', inplace=True)\n",
    "ridge_sfm_predict_df.reset_index(inplace=True)\n",
    "\n",
    "ridge_sfs_predict_df.sort_values(by='prediction', inplace=True)\n",
    "ridge_sfs_predict_df.reset_index(inplace=True)\n",
    "\n",
    "ridge_rfe_predict_df.sort_values(by='prediction', inplace=True)\n",
    "ridge_rfe_predict_df.reset_index(inplace=True)\n",
    "\n",
    "y_test_df.sort_values(by='price', inplace=True)\n",
    "y_test_df.reset_index(inplace=True)"
   ]
  },
  {
   "cell_type": "markdown",
   "id": "f970626a",
   "metadata": {},
   "source": [
    "#### Line graph of the results of Recursive Feature Elimination, Sequential Feature Selection, Select From Model, and Test Data."
   ]
  },
  {
   "cell_type": "code",
   "execution_count": 27,
   "id": "2cd52edb",
   "metadata": {},
   "outputs": [
    {
     "data": {
      "image/png": "[encoded data removed]",
      "text/plain": [
       "<Figure size 1000x600 with 1 Axes>"
      ]
     },
     "metadata": {},
     "output_type": "display_data"
    }
   ],
   "source": [
    "fig, ax = plt.subplots(figsize=(10, 6))\n",
    "\n",
    "ax.ticklabel_format(style='plain')\n",
    "ax.yaxis.set_major_formatter('${x:1,.0f}')\n",
    "ax.xaxis.set_major_formatter(' ')\n",
    "\n",
    "\n",
    "plt.plot(y_test_df.index,y_test_df[\"price\"], color=\"red\")\n",
    "plt.plot(ridge_sfm_predict_df.index,ridge_sfm_predict_df[\"prediction\"], color=\"brown\")\n",
    "plt.plot(ridge_sfs_predict_df.index,ridge_sfs_predict_df[\"prediction\"], color=\"blue\")\n",
    "plt.plot(ridge_rfe_predict_df.index,ridge_rfe_predict_df[\"prediction\"], color=\"green\")\n",
    "plt.plot(ridge_sfm_predict_df.index,ridge_sfm_predict_df[\"prediction\"], color=\"black\")\n",
    "plt.show()"
   ]
  },
  {
   "cell_type": "code",
   "execution_count": null,
   "id": "e874d799",
   "metadata": {},
   "outputs": [],
   "source": []
  },
  {
   "cell_type": "code",
   "execution_count": 28,
   "id": "7e608abd",
   "metadata": {},
   "outputs": [
    {
     "data": {
      "text/plain": [
       "{'model': ['Ridge Best Params',\n",
       "  'Select From Model',\n",
       "  'Sequential Feature Selector',\n",
       "  'Recursive Feature Elimination'],\n",
       " 'explained variance score': ['0.347887513',\n",
       "  '0.335608839',\n",
       "  '0.349340465',\n",
       "  '0.335608839'],\n",
       " 'mae score': ['204,367.794129',\n",
       "  '205,621.117607',\n",
       "  '203,708.056562',\n",
       "  '205,621.117607'],\n",
       " 'mse score': ['104,946,356,936.655319',\n",
       "  '106,924,114,715.181747',\n",
       "  '104,713,644,756.342804',\n",
       "  '106,924,114,715.181747'],\n",
       " 'r2 score': ['0.347888', '0.335598', '0.349334', '0.335598'],\n",
       " 'mean fit time': [0.0022695064544677734,\n",
       "  0.0034389495849609375,\n",
       "  0.00021142959594726561,\n",
       "  0.0008270263671875]}"
      ]
     },
     "execution_count": 28,
     "metadata": {},
     "output_type": "execute_result"
    }
   ],
   "source": [
    "results_dict"
   ]
  },
  {
   "cell_type": "code",
   "execution_count": 29,
   "id": "342b1f93",
   "metadata": {},
   "outputs": [
    {
     "data": {
      "text/html": [
       "<div>\n",
       "<style scoped>\n",
       "    .dataframe tbody tr th:only-of-type {\n",
       "        vertical-align: middle;\n",
       "    }\n",
       "\n",
       "    .dataframe tbody tr th {\n",
       "        vertical-align: top;\n",
       "    }\n",
       "\n",
       "    .dataframe thead th {\n",
       "        text-align: right;\n",
       "    }\n",
       "</style>\n",
       "<table border=\"1\" class=\"dataframe\">\n",
       "  <thead>\n",
       "    <tr style=\"text-align: right;\">\n",
       "      <th></th>\n",
       "      <th>explained variance score</th>\n",
       "      <th>mae score</th>\n",
       "      <th>mse score</th>\n",
       "      <th>r2 score</th>\n",
       "      <th>mean fit time</th>\n",
       "    </tr>\n",
       "    <tr>\n",
       "      <th>model</th>\n",
       "      <th></th>\n",
       "      <th></th>\n",
       "      <th></th>\n",
       "      <th></th>\n",
       "      <th></th>\n",
       "    </tr>\n",
       "  </thead>\n",
       "  <tbody>\n",
       "    <tr>\n",
       "      <th>Ridge Best Params</th>\n",
       "      <td>0.347887513</td>\n",
       "      <td>204,367.794129</td>\n",
       "      <td>104,946,356,936.655319</td>\n",
       "      <td>0.347888</td>\n",
       "      <td>0.002270</td>\n",
       "    </tr>\n",
       "    <tr>\n",
       "      <th>Select From Model</th>\n",
       "      <td>0.335608839</td>\n",
       "      <td>205,621.117607</td>\n",
       "      <td>106,924,114,715.181747</td>\n",
       "      <td>0.335598</td>\n",
       "      <td>0.003439</td>\n",
       "    </tr>\n",
       "    <tr>\n",
       "      <th>Sequential Feature Selector</th>\n",
       "      <td>0.349340465</td>\n",
       "      <td>203,708.056562</td>\n",
       "      <td>104,713,644,756.342804</td>\n",
       "      <td>0.349334</td>\n",
       "      <td>0.000211</td>\n",
       "    </tr>\n",
       "    <tr>\n",
       "      <th>Recursive Feature Elimination</th>\n",
       "      <td>0.335608839</td>\n",
       "      <td>205,621.117607</td>\n",
       "      <td>106,924,114,715.181747</td>\n",
       "      <td>0.335598</td>\n",
       "      <td>0.000827</td>\n",
       "    </tr>\n",
       "  </tbody>\n",
       "</table>\n",
       "</div>"
      ],
      "text/plain": [
       "                              explained variance score       mae score  \\\n",
       "model                                                                    \n",
       "Ridge Best Params                          0.347887513  204,367.794129   \n",
       "Select From Model                          0.335608839  205,621.117607   \n",
       "Sequential Feature Selector                0.349340465  203,708.056562   \n",
       "Recursive Feature Elimination              0.335608839  205,621.117607   \n",
       "\n",
       "                                            mse score  r2 score  mean fit time  \n",
       "model                                                                           \n",
       "Ridge Best Params              104,946,356,936.655319  0.347888       0.002270  \n",
       "Select From Model              106,924,114,715.181747  0.335598       0.003439  \n",
       "Sequential Feature Selector    104,713,644,756.342804  0.349334       0.000211  \n",
       "Recursive Feature Elimination  106,924,114,715.181747  0.335598       0.000827  "
      ]
     },
     "execution_count": 29,
     "metadata": {},
     "output_type": "execute_result"
    }
   ],
   "source": [
    "model_comparisons = pd.DataFrame(results_dict).set_index('model')\n",
    "model_comparisons"
   ]
  },
  {
   "cell_type": "code",
   "execution_count": null,
   "id": "9e32831a",
   "metadata": {},
   "outputs": [],
   "source": []
  }
 ],
 "metadata": {
  "kernelspec": {
   "display_name": "Python 3 (ipykernel)",
   "language": "python",
   "name": "python3"
  },
  "language_info": {
   "codemirror_mode": {
    "name": "ipython",
    "version": 3
   },
   "file_extension": ".py",
   "mimetype": "text/x-python",
   "name": "python",
   "nbconvert_exporter": "python",
   "pygments_lexer": "ipython3",
   "version": "3.11.4"
  }
 },
 "nbformat": 4,
 "nbformat_minor": 5
}
