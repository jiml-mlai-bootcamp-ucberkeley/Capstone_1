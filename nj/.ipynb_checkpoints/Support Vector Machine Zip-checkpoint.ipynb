{
 "cells": [
  {
   "cell_type": "code",
   "execution_count": 1,
   "id": "1a8bdeaa",
   "metadata": {},
   "outputs": [],
   "source": [
    "from warnings import filterwarnings\n",
    "filterwarnings(\"ignore\")\n",
    "\n",
    "import pandas as pd\n",
    "import matplotlib.pyplot as plt\n",
    "import numpy as np\n",
    "\n",
    "from sklearn.feature_selection import SequentialFeatureSelector, RFE\n",
    "from sklearn.model_selection import GridSearchCV, train_test_split, cross_val_score\n",
    "from sklearn.svm import SVR\n",
    "from sklearn.metrics import mean_squared_error, mean_absolute_error, r2_score, explained_variance_score"
   ]
  },
  {
   "cell_type": "code",
   "execution_count": 2,
   "id": "e76f44b1",
   "metadata": {},
   "outputs": [],
   "source": [
    "outliers_df = pd.read_csv('outliers-data.csv')\n",
    "outliers_df.drop(columns=[\"Unnamed: 0\"],inplace=True)"
   ]
  },
  {
   "cell_type": "code",
   "execution_count": 3,
   "id": "3a3b5d51",
   "metadata": {},
   "outputs": [
    {
     "name": "stdout",
     "output_type": "stream",
     "text": [
      "<class 'pandas.core.frame.DataFrame'>\n",
      "RangeIndex: 7757 entries, 0 to 7756\n",
      "Data columns (total 7 columns):\n",
      " #   Column          Non-Null Count  Dtype  \n",
      "---  ------          --------------  -----  \n",
      " 0   bed             7757 non-null   float64\n",
      " 1   bath            7757 non-null   float64\n",
      " 2   acre_lot        7757 non-null   float64\n",
      " 3   zip_code        7757 non-null   float64\n",
      " 4   house_size      7757 non-null   float64\n",
      " 5   prev_sold_date  7757 non-null   object \n",
      " 6   price           7757 non-null   float64\n",
      "dtypes: float64(6), object(1)\n",
      "memory usage: 424.3+ KB\n"
     ]
    }
   ],
   "source": [
    "outliers_df.info()"
   ]
  },
  {
   "cell_type": "code",
   "execution_count": 4,
   "id": "21530dc5",
   "metadata": {},
   "outputs": [
    {
     "name": "stdout",
     "output_type": "stream",
     "text": [
      "<class 'pandas.core.frame.DataFrame'>\n",
      "RangeIndex: 7757 entries, 0 to 7756\n",
      "Data columns (total 7 columns):\n",
      " #   Column          Non-Null Count  Dtype  \n",
      "---  ------          --------------  -----  \n",
      " 0   bed             7757 non-null   float64\n",
      " 1   bath            7757 non-null   float64\n",
      " 2   acre_lot        7757 non-null   float64\n",
      " 3   zip_code        7757 non-null   float64\n",
      " 4   house_size      7757 non-null   float64\n",
      " 5   price           7757 non-null   float64\n",
      " 6   prev_sold_year  7757 non-null   int64  \n",
      "dtypes: float64(6), int64(1)\n",
      "memory usage: 424.3 KB\n"
     ]
    }
   ],
   "source": [
    "outliers_df[\"prev_sold_year\"] = pd.to_datetime(outliers_df[\"prev_sold_date\"], format='%Y-%m-%d').dt.year\n",
    "outliers_df.drop(columns=[\"prev_sold_date\"],inplace=True)\n",
    "outliers_df.info()"
   ]
  },
  {
   "cell_type": "code",
   "execution_count": null,
   "id": "f0fb74c4",
   "metadata": {},
   "outputs": [],
   "source": []
  },
  {
   "cell_type": "code",
   "execution_count": null,
   "id": "b706ecb7",
   "metadata": {},
   "outputs": [],
   "source": []
  },
  {
   "cell_type": "code",
   "execution_count": null,
   "id": "7fb9a47e",
   "metadata": {},
   "outputs": [],
   "source": []
  },
  {
   "cell_type": "code",
   "execution_count": 5,
   "id": "aa1c1059",
   "metadata": {},
   "outputs": [],
   "source": [
    "features = [\"zip_code\",\"bed\",\"bath\",\"acre_lot\",\"house_size\",\"prev_sold_year\"]\n",
    "num_features_to_select = len(features)-1\n",
    "random_state_value = 42"
   ]
  },
  {
   "cell_type": "code",
   "execution_count": 6,
   "id": "7bff4fc2",
   "metadata": {},
   "outputs": [],
   "source": [
    "#\"bed\",\"bath\",\"acre_lot\",\"zip_code\",\"house_size\",\"prev_sold_year\"\n",
    "X = outliers_df[features]\n",
    "y = outliers_df[\"price\"]\n",
    "X_train, X_test, y_train, y_test = train_test_split(X, y, test_size=0.3, random_state=random_state_value)"
   ]
  },
  {
   "cell_type": "code",
   "execution_count": null,
   "id": "3efd8f50",
   "metadata": {},
   "outputs": [],
   "source": []
  },
  {
   "cell_type": "code",
   "execution_count": 7,
   "id": "21f44442",
   "metadata": {},
   "outputs": [],
   "source": [
    "results_dict = {\"model\":[], \"explained variance score\":[],\"mae score\":[],\"mse score\":[],\"r2 score\":[]}\n",
    "def print_more_stuff(title, y_param, predict_param):\n",
    "    results_dict[\"model\"].append(title)\n",
    "    \n",
    "    evs = \"{:.9f}\".format(explained_variance_score(y_param,predict_param))\n",
    "    mae = \"{:,.6f}\".format(mean_absolute_error(y_param,predict_param))\n",
    "    mse = \"{:,.6f}\".format(mean_squared_error(y_param,predict_param))\n",
    "    r2 = \"{:,.6f}\".format(r2_score(y_param,predict_param))\n",
    "    \n",
    "    results_dict[\"explained variance score\"].append(evs)\n",
    "    results_dict[\"mae score\"].append(mae)\n",
    "    results_dict[\"mse score\"].append(mse)\n",
    "    results_dict[\"r2 score\"].append(r2)    \n",
    "    \n",
    "    print(title + \" EVS = \" + evs)\n",
    "    print(title + \" MSE = \" + mse)\n",
    "    print(title + \" MAE = \" + mae)\n",
    "    print(title + \" R2 = \" + r2)"
   ]
  },
  {
   "cell_type": "code",
   "execution_count": null,
   "id": "19d01b52",
   "metadata": {},
   "outputs": [],
   "source": []
  },
  {
   "cell_type": "code",
   "execution_count": 8,
   "id": "c5346044",
   "metadata": {},
   "outputs": [
    {
     "name": "stdout",
     "output_type": "stream",
     "text": [
      "Optimal kernel is rbf with cross-validation score of nan\n"
     ]
    }
   ],
   "source": [
    "cv_scores = []\n",
    "kernels = ['linear', 'poly', 'rbf', 'sigmoid']\n",
    "for k in kernels:\n",
    "    svr = SVR(kernel=k)\n",
    "    scores = cross_val_score(svr, X_train, y_train, cv=5, scoring='accuracy')\n",
    "    cv_scores.append(scores.mean())\n",
    "\n",
    "optimal_kernel = kernels[cv_scores.index(max(cv_scores))]\n",
    "print(f\"Optimal kernel is {optimal_kernel} with cross-validation score of {max(cv_scores)}\")"
   ]
  },
  {
   "cell_type": "code",
   "execution_count": 15,
   "id": "68542778",
   "metadata": {},
   "outputs": [
    {
     "data": {
      "text/plain": [
       "[nan, nan, nan, nan]"
      ]
     },
     "execution_count": 15,
     "metadata": {},
     "output_type": "execute_result"
    }
   ],
   "source": [
    "cv_scores"
   ]
  },
  {
   "cell_type": "code",
   "execution_count": 10,
   "id": "a5f84a62",
   "metadata": {},
   "outputs": [
    {
     "name": "stdout",
     "output_type": "stream",
     "text": [
      "Fitting 5 folds for each of 16 candidates, totalling 80 fits\n",
      "[CV] END .......................C=0.1, gamma=0.1, kernel=rbf; total time=   2.6s\n",
      "[CV] END .......................C=0.1, gamma=0.1, kernel=rbf; total time=   2.7s\n",
      "[CV] END .......................C=0.1, gamma=0.1, kernel=rbf; total time=   2.4s\n",
      "[CV] END .......................C=0.1, gamma=0.1, kernel=rbf; total time=   2.4s\n",
      "[CV] END .......................C=0.1, gamma=0.1, kernel=rbf; total time=   2.4s\n",
      "[CV] END .......................C=0.1, gamma=1.0, kernel=rbf; total time=   2.4s\n",
      "[CV] END .......................C=0.1, gamma=1.0, kernel=rbf; total time=   2.5s\n",
      "[CV] END .......................C=0.1, gamma=1.0, kernel=rbf; total time=   2.8s\n",
      "[CV] END .......................C=0.1, gamma=1.0, kernel=rbf; total time=   2.4s\n",
      "[CV] END .......................C=0.1, gamma=1.0, kernel=rbf; total time=   2.4s\n",
      "[CV] END ......................C=0.1, gamma=10.0, kernel=rbf; total time=   2.4s\n",
      "[CV] END ......................C=0.1, gamma=10.0, kernel=rbf; total time=   2.3s\n",
      "[CV] END ......................C=0.1, gamma=10.0, kernel=rbf; total time=   2.3s\n",
      "[CV] END ......................C=0.1, gamma=10.0, kernel=rbf; total time=   2.6s\n",
      "[CV] END ......................C=0.1, gamma=10.0, kernel=rbf; total time=   2.5s\n",
      "[CV] END .....................C=0.1, gamma=100.0, kernel=rbf; total time=   2.7s\n",
      "[CV] END .....................C=0.1, gamma=100.0, kernel=rbf; total time=   2.7s\n",
      "[CV] END .....................C=0.1, gamma=100.0, kernel=rbf; total time=   2.5s\n",
      "[CV] END .....................C=0.1, gamma=100.0, kernel=rbf; total time=   2.8s\n",
      "[CV] END .....................C=0.1, gamma=100.0, kernel=rbf; total time=   2.8s\n",
      "[CV] END .........................C=1, gamma=0.1, kernel=rbf; total time=   2.6s\n",
      "[CV] END .........................C=1, gamma=0.1, kernel=rbf; total time=   2.4s\n",
      "[CV] END .........................C=1, gamma=0.1, kernel=rbf; total time=   2.4s\n",
      "[CV] END .........................C=1, gamma=0.1, kernel=rbf; total time=   2.4s\n",
      "[CV] END .........................C=1, gamma=0.1, kernel=rbf; total time=   3.0s\n",
      "[CV] END .........................C=1, gamma=1.0, kernel=rbf; total time=   3.0s\n",
      "[CV] END .........................C=1, gamma=1.0, kernel=rbf; total time=   2.6s\n",
      "[CV] END .........................C=1, gamma=1.0, kernel=rbf; total time=   2.4s\n",
      "[CV] END .........................C=1, gamma=1.0, kernel=rbf; total time=   2.5s\n",
      "[CV] END .........................C=1, gamma=1.0, kernel=rbf; total time=   2.4s\n",
      "[CV] END ........................C=1, gamma=10.0, kernel=rbf; total time=   2.4s\n",
      "[CV] END ........................C=1, gamma=10.0, kernel=rbf; total time=   2.8s\n",
      "[CV] END ........................C=1, gamma=10.0, kernel=rbf; total time=   2.4s\n",
      "[CV] END ........................C=1, gamma=10.0, kernel=rbf; total time=   2.4s\n",
      "[CV] END ........................C=1, gamma=10.0, kernel=rbf; total time=   2.4s\n",
      "[CV] END .......................C=1, gamma=100.0, kernel=rbf; total time=   2.4s\n",
      "[CV] END .......................C=1, gamma=100.0, kernel=rbf; total time=   2.4s\n",
      "[CV] END .......................C=1, gamma=100.0, kernel=rbf; total time=   2.7s\n",
      "[CV] END .......................C=1, gamma=100.0, kernel=rbf; total time=   2.4s\n",
      "[CV] END .......................C=1, gamma=100.0, kernel=rbf; total time=   2.4s\n",
      "[CV] END ........................C=10, gamma=0.1, kernel=rbf; total time=   2.4s\n",
      "[CV] END ........................C=10, gamma=0.1, kernel=rbf; total time=   2.3s\n",
      "[CV] END ........................C=10, gamma=0.1, kernel=rbf; total time=   2.3s\n",
      "[CV] END ........................C=10, gamma=0.1, kernel=rbf; total time=   2.4s\n",
      "[CV] END ........................C=10, gamma=0.1, kernel=rbf; total time=   2.8s\n",
      "[CV] END ........................C=10, gamma=1.0, kernel=rbf; total time=   2.4s\n",
      "[CV] END ........................C=10, gamma=1.0, kernel=rbf; total time=   2.4s\n",
      "[CV] END ........................C=10, gamma=1.0, kernel=rbf; total time=   2.7s\n",
      "[CV] END ........................C=10, gamma=1.0, kernel=rbf; total time=   2.3s\n",
      "[CV] END ........................C=10, gamma=1.0, kernel=rbf; total time=   2.3s\n",
      "[CV] END .......................C=10, gamma=10.0, kernel=rbf; total time=   2.6s\n",
      "[CV] END .......................C=10, gamma=10.0, kernel=rbf; total time=   2.4s\n",
      "[CV] END .......................C=10, gamma=10.0, kernel=rbf; total time=   2.4s\n",
      "[CV] END .......................C=10, gamma=10.0, kernel=rbf; total time=   2.4s\n",
      "[CV] END .......................C=10, gamma=10.0, kernel=rbf; total time=   2.4s\n",
      "[CV] END ......................C=10, gamma=100.0, kernel=rbf; total time=   2.4s\n",
      "[CV] END ......................C=10, gamma=100.0, kernel=rbf; total time=   2.5s\n",
      "[CV] END ......................C=10, gamma=100.0, kernel=rbf; total time=   2.4s\n",
      "[CV] END ......................C=10, gamma=100.0, kernel=rbf; total time=   2.4s\n",
      "[CV] END ......................C=10, gamma=100.0, kernel=rbf; total time=   2.4s\n",
      "[CV] END .......................C=100, gamma=0.1, kernel=rbf; total time=   2.3s\n",
      "[CV] END .......................C=100, gamma=0.1, kernel=rbf; total time=   2.4s\n",
      "[CV] END .......................C=100, gamma=0.1, kernel=rbf; total time=   2.4s\n",
      "[CV] END .......................C=100, gamma=0.1, kernel=rbf; total time=   2.5s\n",
      "[CV] END .......................C=100, gamma=0.1, kernel=rbf; total time=   2.4s\n",
      "[CV] END .......................C=100, gamma=1.0, kernel=rbf; total time=   2.4s\n",
      "[CV] END .......................C=100, gamma=1.0, kernel=rbf; total time=   2.4s\n",
      "[CV] END .......................C=100, gamma=1.0, kernel=rbf; total time=   2.6s\n",
      "[CV] END .......................C=100, gamma=1.0, kernel=rbf; total time=   2.6s\n",
      "[CV] END .......................C=100, gamma=1.0, kernel=rbf; total time=   2.6s\n",
      "[CV] END ......................C=100, gamma=10.0, kernel=rbf; total time=   2.4s\n",
      "[CV] END ......................C=100, gamma=10.0, kernel=rbf; total time=   2.4s\n",
      "[CV] END ......................C=100, gamma=10.0, kernel=rbf; total time=   2.4s\n",
      "[CV] END ......................C=100, gamma=10.0, kernel=rbf; total time=   3.0s\n",
      "[CV] END ......................C=100, gamma=10.0, kernel=rbf; total time=   2.5s\n",
      "[CV] END .....................C=100, gamma=100.0, kernel=rbf; total time=   2.6s\n",
      "[CV] END .....................C=100, gamma=100.0, kernel=rbf; total time=   2.4s\n",
      "[CV] END .....................C=100, gamma=100.0, kernel=rbf; total time=   2.4s\n",
      "[CV] END .....................C=100, gamma=100.0, kernel=rbf; total time=   2.4s\n",
      "[CV] END .....................C=100, gamma=100.0, kernel=rbf; total time=   2.7s\n",
      "Best parameters found: {'C': 100, 'gamma': 1.0, 'kernel': 'rbf'}\n"
     ]
    }
   ],
   "source": [
    "params = {\n",
    "    'C': [0.1, 1, 10, 100],\n",
    "    'gamma': [0.1, 1.0, 10.0, 100.0],\n",
    "    'kernel': [optimal_kernel]\n",
    "}\n",
    "\n",
    "svr_gscv = GridSearchCV(SVR(), params, refit=True, verbose=2, cv=5).fit(X, y)\n",
    "print(f\"Best parameters found: {svr_gscv.best_params_}\")"
   ]
  },
  {
   "cell_type": "code",
   "execution_count": null,
   "id": "b3570d58",
   "metadata": {},
   "outputs": [],
   "source": []
  },
  {
   "cell_type": "code",
   "execution_count": 11,
   "id": "96686f80",
   "metadata": {},
   "outputs": [
    {
     "name": "stdout",
     "output_type": "stream",
     "text": [
      "Support Vector Machine EVS = 0.002941956\n",
      "Support Vector Machine MSE = 218,301,359,993.875854\n",
      "Support Vector Machine MAE = 270,923.575969\n",
      "Support Vector Machine R2 = -0.095062\n"
     ]
    }
   ],
   "source": [
    "svr = SVR(**svr_gscv.best_params_)\n",
    "svr_model = svr.fit(X_train,y_train)\n",
    "svr_predict = svr_model.predict(X_test)\n",
    "svr_mse = mean_squared_error(y_test,svr_predict)\n",
    "\n",
    "print_more_stuff(\"Support Vector Machine\", y_test, svr_predict)"
   ]
  },
  {
   "cell_type": "code",
   "execution_count": 12,
   "id": "86292dfb",
   "metadata": {},
   "outputs": [
    {
     "data": {
      "text/plain": [
       "array([422323.85426811, 422863.50714885, 425591.45007523, ...,\n",
       "       422951.74371328, 421819.41763114, 421548.96570656])"
      ]
     },
     "execution_count": 12,
     "metadata": {},
     "output_type": "execute_result"
    }
   ],
   "source": [
    "svr_predict"
   ]
  },
  {
   "cell_type": "code",
   "execution_count": null,
   "id": "babfe3b6",
   "metadata": {},
   "outputs": [],
   "source": []
  },
  {
   "cell_type": "code",
   "execution_count": null,
   "id": "d8787cfa",
   "metadata": {},
   "outputs": [],
   "source": []
  },
  {
   "cell_type": "code",
   "execution_count": null,
   "id": "05db9483",
   "metadata": {},
   "outputs": [],
   "source": []
  },
  {
   "cell_type": "code",
   "execution_count": null,
   "id": "8889d621",
   "metadata": {},
   "outputs": [],
   "source": []
  },
  {
   "cell_type": "code",
   "execution_count": null,
   "id": "efe8fde5",
   "metadata": {},
   "outputs": [],
   "source": []
  },
  {
   "cell_type": "code",
   "execution_count": null,
   "id": "c1512d23",
   "metadata": {},
   "outputs": [],
   "source": []
  },
  {
   "cell_type": "code",
   "execution_count": null,
   "id": "1f30201a",
   "metadata": {},
   "outputs": [],
   "source": []
  },
  {
   "cell_type": "code",
   "execution_count": null,
   "id": "47699560",
   "metadata": {},
   "outputs": [],
   "source": []
  },
  {
   "cell_type": "code",
   "execution_count": null,
   "id": "a8f112a4",
   "metadata": {},
   "outputs": [],
   "source": []
  },
  {
   "cell_type": "code",
   "execution_count": null,
   "id": "246f4466",
   "metadata": {},
   "outputs": [],
   "source": []
  },
  {
   "cell_type": "code",
   "execution_count": 13,
   "id": "7375354d",
   "metadata": {},
   "outputs": [],
   "source": [
    "svr_predict_df = pd.DataFrame(svr_predict).reset_index()\n",
    "svr_predict_df.rename(columns={0: \"prediction\"},inplace=True)\n",
    "y_test_df = pd.DataFrame(y_test).reset_index()\n",
    "\n"
   ]
  },
  {
   "cell_type": "code",
   "execution_count": 14,
   "id": "3c2e0164",
   "metadata": {},
   "outputs": [
    {
     "data": {
      "image/png": "[encoded data removed]",
      "text/plain": [
       "<Figure size 1000x600 with 1 Axes>"
      ]
     },
     "metadata": {},
     "output_type": "display_data"
    }
   ],
   "source": [
    "fig, ax = plt.subplots(figsize=(10, 6))\n",
    "\n",
    "ax.ticklabel_format(style='plain')\n",
    "ax.yaxis.set_major_formatter('${x:1,.0f}')\n",
    "ax.xaxis.set_major_formatter(' ')\n",
    "\n",
    "plt.scatter(y_test_df.index,y_test_df[\"price\"], color=\"red\")\n",
    "plt.scatter(svr_predict_df.index,svr_predict_df[\"prediction\"], color=\"black\")\n",
    "plt.show()"
   ]
  },
  {
   "cell_type": "code",
   "execution_count": null,
   "id": "0fe45945",
   "metadata": {},
   "outputs": [],
   "source": []
  },
  {
   "cell_type": "code",
   "execution_count": null,
   "id": "cbf13366",
   "metadata": {},
   "outputs": [],
   "source": []
  },
  {
   "cell_type": "code",
   "execution_count": null,
   "id": "bb597074",
   "metadata": {},
   "outputs": [],
   "source": []
  },
  {
   "cell_type": "code",
   "execution_count": null,
   "id": "3806ffc0",
   "metadata": {},
   "outputs": [],
   "source": [
    "model_comparisons = pd.DataFrame(results_dict).set_index('model')\n",
    "model_comparisons"
   ]
  },
  {
   "cell_type": "code",
   "execution_count": null,
   "id": "aac08c99",
   "metadata": {},
   "outputs": [],
   "source": []
  }
 ],
 "metadata": {
  "kernelspec": {
   "display_name": "Python 3 (ipykernel)",
   "language": "python",
   "name": "python3"
  },
  "language_info": {
   "codemirror_mode": {
    "name": "ipython",
    "version": 3
   },
   "file_extension": ".py",
   "mimetype": "text/x-python",
   "name": "python",
   "nbconvert_exporter": "python",
   "pygments_lexer": "ipython3",
   "version": "3.11.4"
  }
 },
 "nbformat": 4,
 "nbformat_minor": 5
}
