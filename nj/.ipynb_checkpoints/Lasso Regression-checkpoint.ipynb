{
 "cells": [
  {
   "cell_type": "markdown",
   "id": "64173053",
   "metadata": {},
   "source": [
    "### The Lasso is a linear model that estimates sparse coefficients. It is useful in some contexts due to its tendency to prefer solutions with fewer non-zero coefficients, effectively reducing the number of features upon which the given solution is dependent. "
   ]
  },
  {
   "cell_type": "code",
   "execution_count": 1,
   "id": "7b424f27",
   "metadata": {},
   "outputs": [],
   "source": [
    "from warnings import filterwarnings\n",
    "filterwarnings(\"ignore\")\n",
    "\n",
    "import pandas as pd\n",
    "import matplotlib.pyplot as plt\n",
    "import numpy as np\n",
    "\n",
    "from sklearn.linear_model import Lasso\n",
    "from sklearn.feature_selection import SequentialFeatureSelector, RFE, SelectFromModel\n",
    "from sklearn.pipeline import Pipeline\n",
    "\n",
    "from sklearn.model_selection import train_test_split, cross_val_score, GridSearchCV\n",
    "from sklearn.metrics import mean_squared_error, mean_absolute_error, r2_score, accuracy_score, explained_variance_score"
   ]
  },
  {
   "cell_type": "code",
   "execution_count": 2,
   "id": "e76f44b1",
   "metadata": {},
   "outputs": [],
   "source": [
    "outliers_df = pd.read_csv('outliers.csv')\n",
    "outliers_df.drop(columns=[\"Unnamed: 0\"],inplace=True)"
   ]
  },
  {
   "cell_type": "code",
   "execution_count": 3,
   "id": "3a3b5d51",
   "metadata": {},
   "outputs": [
    {
     "name": "stdout",
     "output_type": "stream",
     "text": [
      "<class 'pandas.core.frame.DataFrame'>\n",
      "RangeIndex: 7617 entries, 0 to 7616\n",
      "Data columns (total 7 columns):\n",
      " #   Column          Non-Null Count  Dtype  \n",
      "---  ------          --------------  -----  \n",
      " 0   bed             7617 non-null   float64\n",
      " 1   bath            7617 non-null   float64\n",
      " 2   acre_lot        7617 non-null   float64\n",
      " 3   zip_code        7617 non-null   float64\n",
      " 4   house_size      7617 non-null   float64\n",
      " 5   prev_sold_date  7617 non-null   object \n",
      " 6   price           7617 non-null   float64\n",
      "dtypes: float64(6), object(1)\n",
      "memory usage: 416.7+ KB\n"
     ]
    }
   ],
   "source": [
    "outliers_df.info()"
   ]
  },
  {
   "cell_type": "markdown",
   "id": "8db40621",
   "metadata": {},
   "source": [
    "#### Create new feature prev_sold_year from prev_sold_date"
   ]
  },
  {
   "cell_type": "code",
   "execution_count": 4,
   "id": "21530dc5",
   "metadata": {},
   "outputs": [
    {
     "name": "stdout",
     "output_type": "stream",
     "text": [
      "<class 'pandas.core.frame.DataFrame'>\n",
      "RangeIndex: 7617 entries, 0 to 7616\n",
      "Data columns (total 7 columns):\n",
      " #   Column          Non-Null Count  Dtype  \n",
      "---  ------          --------------  -----  \n",
      " 0   bed             7617 non-null   float64\n",
      " 1   bath            7617 non-null   float64\n",
      " 2   acre_lot        7617 non-null   float64\n",
      " 3   zip_code        7617 non-null   float64\n",
      " 4   house_size      7617 non-null   float64\n",
      " 5   price           7617 non-null   float64\n",
      " 6   prev_sold_year  7617 non-null   int64  \n",
      "dtypes: float64(6), int64(1)\n",
      "memory usage: 416.7 KB\n"
     ]
    }
   ],
   "source": [
    "outliers_df[\"prev_sold_year\"] = pd.to_datetime(outliers_df[\"prev_sold_date\"], format='%Y-%m-%d').dt.year\n",
    "outliers_df.drop(columns=[\"prev_sold_date\"],inplace=True)\n",
    "outliers_df.info()"
   ]
  },
  {
   "cell_type": "markdown",
   "id": "6968fef3",
   "metadata": {},
   "source": [
    "#### Find the zip code of that has the most houses."
   ]
  },
  {
   "cell_type": "code",
   "execution_count": 5,
   "id": "52f8e6a3",
   "metadata": {},
   "outputs": [
    {
     "data": {
      "text/plain": [
       "8260.0"
      ]
     },
     "execution_count": 5,
     "metadata": {},
     "output_type": "execute_result"
    }
   ],
   "source": [
    "groupby_zipcode = outliers_df.groupby([\"zip_code\"])[\"zip_code\"].count().sort_values(ascending=False)\n",
    "groupby_zipcode_df = pd.DataFrame(groupby_zipcode).rename(columns={\"zip_code\":\"count\"}).reset_index()\n",
    "first_zipcode = groupby_zipcode_df.iloc[0][\"zip_code\"]\n",
    "first_zipcode"
   ]
  },
  {
   "cell_type": "markdown",
   "id": "d32b529d",
   "metadata": {},
   "source": [
    "#### Find the rows of the zip code that has the most houses."
   ]
  },
  {
   "cell_type": "code",
   "execution_count": 6,
   "id": "b968a309",
   "metadata": {},
   "outputs": [],
   "source": [
    "one_zipcode_df = outliers_df[outliers_df[\"zip_code\"].isin([first_zipcode])]"
   ]
  },
  {
   "cell_type": "markdown",
   "id": "f4f8e1f2",
   "metadata": {},
   "source": [
    "#### Create common variables to store frequently used values."
   ]
  },
  {
   "cell_type": "code",
   "execution_count": 7,
   "id": "aa1c1059",
   "metadata": {},
   "outputs": [],
   "source": [
    "features = [\"bed\",\"bath\",\"acre_lot\",\"house_size\",\"prev_sold_year\"]\n",
    "num_features_to_select = len(features)-1\n",
    "random_state_value = 42"
   ]
  },
  {
   "cell_type": "markdown",
   "id": "5a015a93",
   "metadata": {},
   "source": [
    "#### Datasets for modeling, testing the models, and making predictions."
   ]
  },
  {
   "cell_type": "code",
   "execution_count": 8,
   "id": "7bff4fc2",
   "metadata": {},
   "outputs": [],
   "source": [
    "X = one_zipcode_df[features]\n",
    "y = one_zipcode_df[\"price\"]\n",
    "X_train, X_test, y_train, y_test = train_test_split(X, y, test_size=0.3, random_state=random_state_value)"
   ]
  },
  {
   "cell_type": "markdown",
   "id": "ad0c978a",
   "metadata": {},
   "source": [
    "#### Variable to store the results generated by the models."
   ]
  },
  {
   "cell_type": "code",
   "execution_count": 9,
   "id": "f838ce1b",
   "metadata": {},
   "outputs": [],
   "source": [
    "results_dict = {\"model\":[], \"explained variance score\":[],\"mae score\":[],\"mse score\":[],\"r2 score\":[], \"mean fit time\":[]}"
   ]
  },
  {
   "cell_type": "markdown",
   "id": "66096532",
   "metadata": {},
   "source": [
    "#### Function to format the results generated by the models."
   ]
  },
  {
   "cell_type": "code",
   "execution_count": 10,
   "id": "569c4d1c",
   "metadata": {},
   "outputs": [],
   "source": [
    "def print_more_stuff(title, y_param, predict_param, gscv):\n",
    "    results_dict[\"model\"].append(title)\n",
    "    \n",
    "    evs = \"{:.9f}\".format(explained_variance_score(y_param,predict_param))\n",
    "    mae = \"{:,.6f}\".format(mean_absolute_error(y_param,predict_param))\n",
    "    mse = \"{:,.6f}\".format(mean_squared_error(y_param,predict_param))\n",
    "    r2 = \"{:,.6f}\".format(r2_score(y_param,predict_param))\n",
    "    \n",
    "    #find_best_params = gscv.cv_results_[\"params\"].index(gscv.best_params_)\n",
    "    #mean_fit_time = gscv.cv_results_[\"mean_fit_time\"][find_best_params]\n",
    "    mean_fit_time = gscv.cv_results_[\"mean_fit_time\"][gscv.best_index_]\n",
    "    \n",
    "    results_dict[\"explained variance score\"].append(evs)\n",
    "    results_dict[\"mae score\"].append(mae)\n",
    "    results_dict[\"mse score\"].append(mse)\n",
    "    results_dict[\"r2 score\"].append(r2)\n",
    "    results_dict[\"mean fit time\"].append(mean_fit_time)\n",
    "    \n",
    "    print(title + \" EVS = \" + evs)\n",
    "    print(title + \" MSE = \" + mse)\n",
    "    print(title + \" MAE = \" + mae)\n",
    "    print(title + \" R2 = \" + r2)\n",
    "    print(title + \" Fit Time = \" + str(mean_fit_time))"
   ]
  },
  {
   "cell_type": "markdown",
   "id": "64db0da5",
   "metadata": {},
   "source": [
    "#### Use Grid Search CV to find the best Hyperparameters for Lasso Regression"
   ]
  },
  {
   "cell_type": "code",
   "execution_count": 11,
   "id": "09e1c549",
   "metadata": {},
   "outputs": [
    {
     "name": "stdout",
     "output_type": "stream",
     "text": [
      "Best parameters found: {'alpha': 14038}\n"
     ]
    }
   ],
   "source": [
    "lasso_gscv = GridSearchCV(Lasso(random_state=random_state_value), {'alpha': range(14030,14050,1)})\n",
    "lasso_gscv_model = lasso_gscv.fit(X, y)\n",
    "print(f\"Best parameters found: {lasso_gscv.best_params_}\")"
   ]
  },
  {
   "cell_type": "code",
   "execution_count": 12,
   "id": "1c18f529",
   "metadata": {},
   "outputs": [
    {
     "name": "stdout",
     "output_type": "stream",
     "text": [
      "Lasso Best Params EVS = 0.642435253\n",
      "Lasso Best Params MSE = 41,299,394,421.835884\n",
      "Lasso Best Params MAE = 137,358.113378\n",
      "Lasso Best Params R2 = 0.642098\n",
      "Lasso Best Params Fit Time = 0.0019933223724365235\n"
     ]
    }
   ],
   "source": [
    "lasso = Lasso(**lasso_gscv.best_params_)\n",
    "lasso_bp_gscv = GridSearchCV(lasso, param_grid={})\n",
    "lasso_bp_model = lasso_bp_gscv.fit(X_train,y_train)\n",
    "lasso_bp_predict = lasso_bp_model.predict(X_test)\n",
    "\n",
    "print_more_stuff(\"Lasso Best Params\", y_test, lasso_bp_predict, lasso_bp_gscv)"
   ]
  },
  {
   "cell_type": "markdown",
   "id": "884065de",
   "metadata": {},
   "source": [
    "#### Create common variables that will be used in the Notebook"
   ]
  },
  {
   "cell_type": "code",
   "execution_count": 13,
   "id": "2f5a5547",
   "metadata": {},
   "outputs": [],
   "source": [
    "lasso = Lasso(random_state=random_state_value)\n",
    "lasso_sfs = SequentialFeatureSelector(estimator=lasso, n_features_to_select=num_features_to_select)\n",
    "lasso_sfm = SelectFromModel(estimator=lasso, threshold=1000)\n",
    "lasso_rfe = RFE(estimator=lasso, n_features_to_select=num_features_to_select)"
   ]
  },
  {
   "cell_type": "markdown",
   "id": "f3aa673c",
   "metadata": {},
   "source": [
    "### SelectFromModel is a meta-transformer that can be used alongside any estimator that assigns importance to each feature through a specific attribute or via an importance_getter callable after fitting. The features are considered unimportant and removed if the corresponding importance of the feature values are below the provided threshold parameter."
   ]
  },
  {
   "cell_type": "code",
   "execution_count": 14,
   "id": "aaf5ed58",
   "metadata": {},
   "outputs": [
    {
     "name": "stdout",
     "output_type": "stream",
     "text": [
      "The selected features are: ['bed', 'bath', 'acre_lot', 'prev_sold_year']\n"
     ]
    }
   ],
   "source": [
    "lasso_sfm_pipeline = Pipeline([\n",
    "  ('feature_selection', lasso_sfm),\n",
    "  ('regression', lasso)\n",
    "])\n",
    "\n",
    "lasso_sfm_fs = lasso_sfm_pipeline.named_steps['feature_selection'].fit(X_train,y_train)\n",
    "lasso_sfm_selected_features = lasso_sfm_fs.get_support()\n",
    "\n",
    "print('The selected features are:', list(X.columns[lasso_sfm_selected_features]))"
   ]
  },
  {
   "cell_type": "code",
   "execution_count": 15,
   "id": "97785820",
   "metadata": {},
   "outputs": [],
   "source": [
    "X_sfm = one_zipcode_df[list(X.columns[lasso_sfm_selected_features])]\n",
    "y_sfm = one_zipcode_df[\"price\"]\n",
    "X_sfm_train, X_sfm_test, y_sfm_train, y_sfm_test = train_test_split(X_sfm, y_sfm, test_size=0.3, random_state=random_state_value)"
   ]
  },
  {
   "cell_type": "code",
   "execution_count": 16,
   "id": "1f957e58",
   "metadata": {},
   "outputs": [
    {
     "name": "stdout",
     "output_type": "stream",
     "text": [
      "Select From Model EVS = 0.632635341\n",
      "Select From Model MSE = 42,403,155,346.108559\n",
      "Select From Model MAE = 138,911.240033\n",
      "Select From Model R2 = 0.632533\n",
      "Select From Model Fit Time = 0.0\n"
     ]
    }
   ],
   "source": [
    "lasso_sfm_gscv = GridSearchCV(Lasso(), param_grid={})\n",
    "lasso_sfm_model = lasso_sfm_gscv.fit(X_sfm_train,y_sfm_train)\n",
    "lasso_sfm_predict = lasso_sfm_model.predict(X_sfm_test)\n",
    "\n",
    "print_more_stuff(\"Select From Model\",y_sfm_test,lasso_sfm_predict,lasso_sfm_gscv)"
   ]
  },
  {
   "cell_type": "markdown",
   "id": "df1b7c66",
   "metadata": {},
   "source": [
    "###  Sequential Feature Selector (forward selection) adds features to form a feature subset in a greedy fashion. At each stage, this estimator chooses the best feature to add or remove based on the cross-validation score of an estimator."
   ]
  },
  {
   "cell_type": "code",
   "execution_count": 17,
   "id": "5148b30d",
   "metadata": {},
   "outputs": [
    {
     "name": "stdout",
     "output_type": "stream",
     "text": [
      "The selected features are: ['bath', 'acre_lot', 'house_size', 'prev_sold_year']\n"
     ]
    }
   ],
   "source": [
    "lasso_sfs_pipeline = Pipeline([\n",
    "  ('feature_selection', lasso_sfs),\n",
    "  ('regression', lasso)\n",
    "])\n",
    "\n",
    "lasso_sfs_fs = lasso_sfs_pipeline.named_steps['feature_selection'].fit(X_train,y_train)\n",
    "lasso_sfs_selected_features = lasso_sfs_fs.get_support()\n",
    "\n",
    "print('The selected features are:', list(X.columns[lasso_sfs_selected_features]))"
   ]
  },
  {
   "cell_type": "code",
   "execution_count": 18,
   "id": "b0efce11",
   "metadata": {},
   "outputs": [],
   "source": [
    "X_sfs = one_zipcode_df[list(X.columns[lasso_sfs_selected_features])]\n",
    "y_sfs = one_zipcode_df[\"price\"]\n",
    "X_sfs_train, X_sfs_test, y_sfs_train, y_sfs_test = train_test_split(X_sfs, y_sfs, test_size=0.3, random_state=random_state_value)"
   ]
  },
  {
   "cell_type": "code",
   "execution_count": 19,
   "id": "b1a6a127",
   "metadata": {},
   "outputs": [
    {
     "name": "stdout",
     "output_type": "stream",
     "text": [
      "Sequential Feature Selector EVS = 0.662632458\n",
      "Sequential Feature Selector MSE = 38,987,111,740.271225\n",
      "Sequential Feature Selector MAE = 134,201.068416\n",
      "Sequential Feature Selector R2 = 0.662137\n",
      "Sequential Feature Selector Fit Time = 0.0023197650909423826\n"
     ]
    }
   ],
   "source": [
    "lasso_sfs_gscv = GridSearchCV(Lasso(), param_grid={})\n",
    "lasso_sfs_model = lasso_sfs_gscv.fit(X_sfs_train,y_sfs_train)\n",
    "lasso_sfs_predict = lasso_sfs_model.predict(X_sfs_test)\n",
    "\n",
    "print_more_stuff(\"Sequential Feature Selector\",y_sfs_test,lasso_sfs_predict, lasso_sfs_gscv)"
   ]
  },
  {
   "cell_type": "markdown",
   "id": "e8df15d6",
   "metadata": {},
   "source": [
    "### Recursive feature elimination uses an external estimator that assigns weights to features with the goal of selecting features by recursively considering smaller and smaller sets of features."
   ]
  },
  {
   "cell_type": "code",
   "execution_count": 20,
   "id": "fbe24678",
   "metadata": {},
   "outputs": [
    {
     "name": "stdout",
     "output_type": "stream",
     "text": [
      "The selected features are: ['bed', 'bath', 'acre_lot', 'prev_sold_year']\n"
     ]
    }
   ],
   "source": [
    "lasso_rfe_pipeline = Pipeline([\n",
    "  ('feature_selection', lasso_rfe),\n",
    "  ('regression', lasso)\n",
    "])\n",
    "lasso_rfe_fs = lasso_rfe_pipeline.named_steps['feature_selection'].fit(X_train,y_train)\n",
    "lasso_rfe_selected_features = lasso_rfe_fs.get_support()\n",
    "\n",
    "print('The selected features are:', list(X.columns[lasso_rfe_selected_features]))"
   ]
  },
  {
   "cell_type": "code",
   "execution_count": 21,
   "id": "7bc40260",
   "metadata": {},
   "outputs": [],
   "source": [
    "X_rfe = one_zipcode_df[list(X.columns[lasso_rfe_selected_features])]\n",
    "y_rfe = one_zipcode_df[\"price\"]\n",
    "X_rfe_train, X_rfe_test, y_rfe_train, y_rfe_test = train_test_split(X_rfe, y_rfe, test_size=0.3, random_state=random_state_value)"
   ]
  },
  {
   "cell_type": "code",
   "execution_count": 22,
   "id": "88c0b688",
   "metadata": {},
   "outputs": [
    {
     "name": "stdout",
     "output_type": "stream",
     "text": [
      "Recursive Feature Elimination EVS = 0.632635341\n",
      "Recursive Feature Elimination MSE = 42,403,155,346.108559\n",
      "Recursive Feature Elimination MAE = 138,911.240033\n",
      "Recursive Feature Elimination R2 = 0.632533\n",
      "Recursive Feature Elimination Fit Time = 0.0016402721405029297\n"
     ]
    }
   ],
   "source": [
    "lasso_rfe_gscv = GridSearchCV(Lasso(), param_grid={})\n",
    "lasso_rfe_model = lasso_rfe_gscv.fit(X_rfe_train,y_rfe_train)\n",
    "lasso_rfe_predict = lasso_rfe_model.predict(X_rfe_test)\n",
    "\n",
    "print_more_stuff(\"Recursive Feature Elimination\",y_rfe_test,lasso_rfe_predict, lasso_rfe_gscv)"
   ]
  },
  {
   "cell_type": "markdown",
   "id": "48200c9f",
   "metadata": {},
   "source": [
    "#### Graphing the results works best when the data is provided in a DataFrame."
   ]
  },
  {
   "cell_type": "code",
   "execution_count": 23,
   "id": "69d9ab8b",
   "metadata": {},
   "outputs": [],
   "source": [
    "lasso_bp_predict_df = pd.DataFrame(lasso_bp_predict).reset_index()\n",
    "lasso_bp_predict_df.rename(columns={0: \"prediction\"},inplace=True)\n",
    "\n",
    "lasso_sfm_predict_df = pd.DataFrame(lasso_sfm_predict).reset_index()\n",
    "lasso_sfm_predict_df.rename(columns={0: \"prediction\"},inplace=True)\n",
    "\n",
    "lasso_sfs_predict_df = pd.DataFrame(lasso_sfs_predict).reset_index()\n",
    "lasso_sfs_predict_df.rename(columns={0: \"prediction\"},inplace=True)\n",
    "\n",
    "lasso_rfe_predict_df = pd.DataFrame(lasso_rfe_predict).reset_index()\n",
    "lasso_rfe_predict_df.rename(columns={0: \"prediction\"},inplace=True)\n",
    "\n",
    "y_test_df = pd.DataFrame(y_test).reset_index()"
   ]
  },
  {
   "cell_type": "markdown",
   "id": "c35c1880",
   "metadata": {},
   "source": [
    "#### Scatter Plot graph of the results of Recursive Feature Elimination, Sequential Feature Selection, Select From Model, and Test Data."
   ]
  },
  {
   "cell_type": "code",
   "execution_count": 24,
   "id": "90cf1151",
   "metadata": {},
   "outputs": [
    {
     "data": {
      "image/png": "[encoded data removed]",
      "text/plain": [
       "<Figure size 1000x600 with 1 Axes>"
      ]
     },
     "metadata": {},
     "output_type": "display_data"
    }
   ],
   "source": [
    "fig, ax = plt.subplots(figsize=(10, 6))\n",
    "\n",
    "ax.ticklabel_format(style='plain')\n",
    "ax.yaxis.set_major_formatter('${x:1,.0f}')\n",
    "ax.xaxis.set_major_formatter(' ')\n",
    "\n",
    "plt.scatter(y_test_df.index,y_test_df[\"price\"], color=\"red\")\n",
    "plt.scatter(lasso_sfm_predict_df.index,lasso_sfm_predict_df[\"prediction\"], color=\"brown\")\n",
    "plt.scatter(lasso_sfs_predict_df.index,lasso_sfs_predict_df[\"prediction\"], color=\"blue\")\n",
    "plt.scatter(lasso_rfe_predict_df.index,lasso_rfe_predict_df[\"prediction\"], color=\"green\")\n",
    "plt.scatter(lasso_bp_predict_df.index,lasso_bp_predict_df[\"prediction\"], color=\"black\")\n",
    "plt.show()"
   ]
  },
  {
   "cell_type": "markdown",
   "id": "2cdfa501",
   "metadata": {},
   "source": [
    "#### Sort the DataFrames by the Prediction and Price features."
   ]
  },
  {
   "cell_type": "code",
   "execution_count": 25,
   "id": "01f095e4",
   "metadata": {},
   "outputs": [],
   "source": [
    "lasso_bp_predict_df.sort_values(by='prediction', inplace=True)\n",
    "lasso_bp_predict_df.reset_index(inplace=True)\n",
    "\n",
    "lasso_sfm_predict_df.sort_values(by='prediction', inplace=True)\n",
    "lasso_sfm_predict_df.reset_index(inplace=True)\n",
    "\n",
    "lasso_sfs_predict_df.sort_values(by='prediction', inplace=True)\n",
    "lasso_sfs_predict_df.reset_index(inplace=True)\n",
    "\n",
    "lasso_rfe_predict_df.sort_values(by='prediction', inplace=True)\n",
    "lasso_rfe_predict_df.reset_index(inplace=True)\n",
    "\n",
    "y_test_df.sort_values(by='price', inplace=True)\n",
    "y_test_df.reset_index(inplace=True)"
   ]
  },
  {
   "cell_type": "markdown",
   "id": "0212f492",
   "metadata": {},
   "source": [
    "#### Line graph of the results of Recursive Feature Elimination, Sequential Feature Selection, Select From Model, and Test Data."
   ]
  },
  {
   "cell_type": "code",
   "execution_count": 26,
   "id": "2cd52edb",
   "metadata": {},
   "outputs": [
    {
     "data": {
      "image/png": "[encoded data removed]",
      "text/plain": [
       "<Figure size 1000x600 with 1 Axes>"
      ]
     },
     "metadata": {},
     "output_type": "display_data"
    }
   ],
   "source": [
    "fig, ax = plt.subplots(figsize=(10, 6))\n",
    "\n",
    "ax.ticklabel_format(style='plain')\n",
    "ax.yaxis.set_major_formatter('${x:1,.0f}')\n",
    "ax.xaxis.set_major_formatter(' ')\n",
    "\n",
    "plt.plot(y_test_df.index,y_test_df[\"price\"], color=\"red\")\n",
    "plt.plot(lasso_sfm_predict_df.index,lasso_sfm_predict_df[\"prediction\"], color=\"brown\")\n",
    "plt.plot(lasso_sfs_predict_df.index,lasso_sfs_predict_df[\"prediction\"], color=\"blue\")\n",
    "plt.plot(lasso_rfe_predict_df.index,lasso_rfe_predict_df[\"prediction\"], color=\"green\")\n",
    "plt.plot(lasso_bp_predict_df.index,lasso_bp_predict_df[\"prediction\"], color=\"black\")\n",
    "plt.show()"
   ]
  },
  {
   "cell_type": "code",
   "execution_count": null,
   "id": "ae3f231a",
   "metadata": {},
   "outputs": [],
   "source": []
  },
  {
   "cell_type": "code",
   "execution_count": 27,
   "id": "cea2e272",
   "metadata": {},
   "outputs": [
    {
     "data": {
      "text/html": [
       "<div>\n",
       "<style scoped>\n",
       "    .dataframe tbody tr th:only-of-type {\n",
       "        vertical-align: middle;\n",
       "    }\n",
       "\n",
       "    .dataframe tbody tr th {\n",
       "        vertical-align: top;\n",
       "    }\n",
       "\n",
       "    .dataframe thead th {\n",
       "        text-align: right;\n",
       "    }\n",
       "</style>\n",
       "<table border=\"1\" class=\"dataframe\">\n",
       "  <thead>\n",
       "    <tr style=\"text-align: right;\">\n",
       "      <th></th>\n",
       "      <th>explained variance score</th>\n",
       "      <th>mae score</th>\n",
       "      <th>mse score</th>\n",
       "      <th>r2 score</th>\n",
       "      <th>mean fit time</th>\n",
       "    </tr>\n",
       "    <tr>\n",
       "      <th>model</th>\n",
       "      <th></th>\n",
       "      <th></th>\n",
       "      <th></th>\n",
       "      <th></th>\n",
       "      <th></th>\n",
       "    </tr>\n",
       "  </thead>\n",
       "  <tbody>\n",
       "    <tr>\n",
       "      <th>Lasso Best Params</th>\n",
       "      <td>0.642435253</td>\n",
       "      <td>137,358.113378</td>\n",
       "      <td>41,299,394,421.835884</td>\n",
       "      <td>0.642098</td>\n",
       "      <td>0.001993</td>\n",
       "    </tr>\n",
       "    <tr>\n",
       "      <th>Select From Model</th>\n",
       "      <td>0.632635341</td>\n",
       "      <td>138,911.240033</td>\n",
       "      <td>42,403,155,346.108559</td>\n",
       "      <td>0.632533</td>\n",
       "      <td>0.000000</td>\n",
       "    </tr>\n",
       "    <tr>\n",
       "      <th>Sequential Feature Selector</th>\n",
       "      <td>0.662632458</td>\n",
       "      <td>134,201.068416</td>\n",
       "      <td>38,987,111,740.271225</td>\n",
       "      <td>0.662137</td>\n",
       "      <td>0.002320</td>\n",
       "    </tr>\n",
       "    <tr>\n",
       "      <th>Recursive Feature Elimination</th>\n",
       "      <td>0.632635341</td>\n",
       "      <td>138,911.240033</td>\n",
       "      <td>42,403,155,346.108559</td>\n",
       "      <td>0.632533</td>\n",
       "      <td>0.001640</td>\n",
       "    </tr>\n",
       "  </tbody>\n",
       "</table>\n",
       "</div>"
      ],
      "text/plain": [
       "                              explained variance score       mae score  \\\n",
       "model                                                                    \n",
       "Lasso Best Params                          0.642435253  137,358.113378   \n",
       "Select From Model                          0.632635341  138,911.240033   \n",
       "Sequential Feature Selector                0.662632458  134,201.068416   \n",
       "Recursive Feature Elimination              0.632635341  138,911.240033   \n",
       "\n",
       "                                           mse score  r2 score  mean fit time  \n",
       "model                                                                          \n",
       "Lasso Best Params              41,299,394,421.835884  0.642098       0.001993  \n",
       "Select From Model              42,403,155,346.108559  0.632533       0.000000  \n",
       "Sequential Feature Selector    38,987,111,740.271225  0.662137       0.002320  \n",
       "Recursive Feature Elimination  42,403,155,346.108559  0.632533       0.001640  "
      ]
     },
     "execution_count": 27,
     "metadata": {},
     "output_type": "execute_result"
    }
   ],
   "source": [
    "model_comparisons = pd.DataFrame(results_dict).set_index('model')\n",
    "model_comparisons"
   ]
  },
  {
   "cell_type": "code",
   "execution_count": null,
   "id": "3881b4be",
   "metadata": {},
   "outputs": [],
   "source": []
  }
 ],
 "metadata": {
  "kernelspec": {
   "display_name": "Python 3 (ipykernel)",
   "language": "python",
   "name": "python3"
  },
  "language_info": {
   "codemirror_mode": {
    "name": "ipython",
    "version": 3
   },
   "file_extension": ".py",
   "mimetype": "text/x-python",
   "name": "python",
   "nbconvert_exporter": "python",
   "pygments_lexer": "ipython3",
   "version": "3.11.4"
  }
 },
 "nbformat": 4,
 "nbformat_minor": 5
}
