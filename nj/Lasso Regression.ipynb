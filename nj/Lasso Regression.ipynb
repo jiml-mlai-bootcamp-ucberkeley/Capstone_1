{
 "cells": [
  {
   "cell_type": "code",
   "execution_count": 1,
   "id": "1a8bdeaa",
   "metadata": {},
   "outputs": [],
   "source": [
    "from warnings import filterwarnings\n",
    "filterwarnings(\"ignore\")\n",
    "\n",
    "import pandas as pd\n",
    "import matplotlib.pyplot as plt\n",
    "import numpy as np\n",
    "\n",
    "from sklearn.linear_model import Lasso\n",
    "from sklearn.feature_selection import SequentialFeatureSelector, RFE, SelectFromModel\n",
    "from sklearn.pipeline import Pipeline\n",
    "\n",
    "from sklearn.model_selection import train_test_split, cross_val_score, GridSearchCV\n",
    "from sklearn.metrics import mean_squared_error, mean_absolute_error, r2_score, accuracy_score, explained_variance_score"
   ]
  },
  {
   "cell_type": "code",
   "execution_count": 2,
   "id": "e76f44b1",
   "metadata": {},
   "outputs": [],
   "source": [
    "outliers_df = pd.read_csv('outliers.csv')\n",
    "outliers_df.drop(columns=[\"Unnamed: 0\"],inplace=True)"
   ]
  },
  {
   "cell_type": "code",
   "execution_count": 3,
   "id": "3a3b5d51",
   "metadata": {},
   "outputs": [
    {
     "name": "stdout",
     "output_type": "stream",
     "text": [
      "<class 'pandas.core.frame.DataFrame'>\n",
      "RangeIndex: 7617 entries, 0 to 7616\n",
      "Data columns (total 7 columns):\n",
      " #   Column          Non-Null Count  Dtype  \n",
      "---  ------          --------------  -----  \n",
      " 0   bed             7617 non-null   float64\n",
      " 1   bath            7617 non-null   float64\n",
      " 2   acre_lot        7617 non-null   float64\n",
      " 3   zip_code        7617 non-null   float64\n",
      " 4   house_size      7617 non-null   float64\n",
      " 5   prev_sold_date  7617 non-null   object \n",
      " 6   price           7617 non-null   float64\n",
      "dtypes: float64(6), object(1)\n",
      "memory usage: 416.7+ KB\n"
     ]
    }
   ],
   "source": [
    "outliers_df.info()"
   ]
  },
  {
   "cell_type": "code",
   "execution_count": 4,
   "id": "21530dc5",
   "metadata": {},
   "outputs": [
    {
     "name": "stdout",
     "output_type": "stream",
     "text": [
      "<class 'pandas.core.frame.DataFrame'>\n",
      "RangeIndex: 7617 entries, 0 to 7616\n",
      "Data columns (total 7 columns):\n",
      " #   Column          Non-Null Count  Dtype  \n",
      "---  ------          --------------  -----  \n",
      " 0   bed             7617 non-null   float64\n",
      " 1   bath            7617 non-null   float64\n",
      " 2   acre_lot        7617 non-null   float64\n",
      " 3   zip_code        7617 non-null   float64\n",
      " 4   house_size      7617 non-null   float64\n",
      " 5   price           7617 non-null   float64\n",
      " 6   prev_sold_year  7617 non-null   int64  \n",
      "dtypes: float64(6), int64(1)\n",
      "memory usage: 416.7 KB\n"
     ]
    }
   ],
   "source": [
    "outliers_df[\"prev_sold_year\"] = pd.to_datetime(outliers_df[\"prev_sold_date\"], format='%Y-%m-%d').dt.year\n",
    "outliers_df.drop(columns=[\"prev_sold_date\"],inplace=True)\n",
    "outliers_df.info()"
   ]
  },
  {
   "cell_type": "code",
   "execution_count": 5,
   "id": "52f8e6a3",
   "metadata": {},
   "outputs": [
    {
     "data": {
      "text/plain": [
       "8260.0"
      ]
     },
     "execution_count": 5,
     "metadata": {},
     "output_type": "execute_result"
    }
   ],
   "source": [
    "groupby_zipcode = outliers_df.groupby([\"zip_code\"])[\"zip_code\"].count().sort_values(ascending=False)\n",
    "groupby_zipcode_df = pd.DataFrame(groupby_zipcode).rename(columns={\"zip_code\":\"count\"}).reset_index()\n",
    "first_zipcode = groupby_zipcode_df.iloc[0][\"zip_code\"]\n",
    "first_zipcode"
   ]
  },
  {
   "cell_type": "code",
   "execution_count": 6,
   "id": "b968a309",
   "metadata": {},
   "outputs": [],
   "source": [
    "one_zipcode_df = outliers_df[outliers_df[\"zip_code\"].isin([first_zipcode])]"
   ]
  },
  {
   "cell_type": "code",
   "execution_count": 7,
   "id": "aa1c1059",
   "metadata": {},
   "outputs": [],
   "source": [
    "features = [\"bed\",\"bath\",\"acre_lot\",\"house_size\",\"prev_sold_year\"]\n",
    "num_features_to_select = len(features)-1\n",
    "random_state_value = 42"
   ]
  },
  {
   "cell_type": "code",
   "execution_count": 8,
   "id": "7bff4fc2",
   "metadata": {},
   "outputs": [],
   "source": [
    "X = one_zipcode_df[features]\n",
    "y = one_zipcode_df[\"price\"]\n",
    "X_train, X_test, y_train, y_test = train_test_split(X, y, test_size=0.3, random_state=random_state_value)"
   ]
  },
  {
   "cell_type": "code",
   "execution_count": null,
   "id": "4b701315",
   "metadata": {},
   "outputs": [],
   "source": []
  },
  {
   "cell_type": "code",
   "execution_count": 9,
   "id": "f838ce1b",
   "metadata": {},
   "outputs": [],
   "source": [
    "results_dict = {\"model\":[], \"explained variance score\":[],\"mae score\":[],\"mse score\":[],\"r2 score\":[], \"mean fit time\":[]}"
   ]
  },
  {
   "cell_type": "code",
   "execution_count": 10,
   "id": "569c4d1c",
   "metadata": {},
   "outputs": [],
   "source": [
    "def print_more_stuff(title, y_param, predict_param, gscv):\n",
    "    results_dict[\"model\"].append(title)\n",
    "    \n",
    "    evs = \"{:.9f}\".format(explained_variance_score(y_param,predict_param))\n",
    "    mae = \"{:,.6f}\".format(mean_absolute_error(y_param,predict_param))\n",
    "    mse = \"{:,.6f}\".format(mean_squared_error(y_param,predict_param))\n",
    "    r2 = \"{:,.6f}\".format(r2_score(y_param,predict_param))\n",
    "    \n",
    "    find_best_params = gscv.cv_results_[\"params\"].index(gscv.best_params_)\n",
    "    mean_fit_time = gscv.cv_results_[\"mean_fit_time\"][find_best_params]\n",
    "    \n",
    "    results_dict[\"explained variance score\"].append(evs)\n",
    "    results_dict[\"mae score\"].append(mae)\n",
    "    results_dict[\"mse score\"].append(mse)\n",
    "    results_dict[\"r2 score\"].append(r2)\n",
    "    results_dict[\"mean fit time\"].append(mean_fit_time)\n",
    "    \n",
    "    print(title + \" EVS = \" + evs)\n",
    "    print(title + \" MSE = \" + mse)\n",
    "    print(title + \" MAE = \" + mae)\n",
    "    print(title + \" R2 = \" + r2)\n",
    "    print(title + \" Fit Time = \" + str(mean_fit_time))"
   ]
  },
  {
   "cell_type": "code",
   "execution_count": null,
   "id": "71e2c3d0",
   "metadata": {},
   "outputs": [],
   "source": []
  },
  {
   "cell_type": "code",
   "execution_count": 11,
   "id": "09e1c549",
   "metadata": {},
   "outputs": [
    {
     "name": "stdout",
     "output_type": "stream",
     "text": [
      "Best parameters found: {'alpha': 14038}\n"
     ]
    }
   ],
   "source": [
    "lasso_gscv = GridSearchCV(Lasso(random_state=random_state_value), {'alpha': range(14030,14050,1)})\n",
    "lasso_gscv_model = lasso_gscv.fit(X, y)\n",
    "print(f\"Best parameters found: {lasso_gscv.best_params_}\")"
   ]
  },
  {
   "cell_type": "code",
   "execution_count": null,
   "id": "e5da25b4",
   "metadata": {},
   "outputs": [],
   "source": []
  },
  {
   "cell_type": "code",
   "execution_count": 12,
   "id": "1c18f529",
   "metadata": {},
   "outputs": [
    {
     "name": "stdout",
     "output_type": "stream",
     "text": [
      "Lasso Best Params EVS = 0.642435253\n",
      "Lasso Best Params MSE = 41,299,394,421.835884\n",
      "Lasso Best Params MAE = 137,358.113378\n",
      "Lasso Best Params R2 = 0.642098\n",
      "Lasso Best Params Fit Time = 0.001184844970703125\n"
     ]
    }
   ],
   "source": [
    "lasso = Lasso(**lasso_gscv.best_params_)\n",
    "lasso_bp_gscv = GridSearchCV(lasso, param_grid={})\n",
    "lasso_bp_model = lasso_bp_gscv.fit(X_train,y_train)\n",
    "lasso_bp_predict = lasso_bp_model.predict(X_test)\n",
    "\n",
    "print_more_stuff(\"Lasso Best Params\", y_test, lasso_bp_predict, lasso_bp_gscv)"
   ]
  },
  {
   "cell_type": "code",
   "execution_count": null,
   "id": "161baaf7",
   "metadata": {},
   "outputs": [],
   "source": []
  },
  {
   "cell_type": "code",
   "execution_count": 13,
   "id": "2f5a5547",
   "metadata": {},
   "outputs": [],
   "source": [
    "lasso = Lasso(random_state=random_state_value)\n",
    "lasso_sfs = SequentialFeatureSelector(estimator=lasso, n_features_to_select=num_features_to_select)\n",
    "lasso_sfm = SelectFromModel(estimator=lasso, threshold=1000)\n",
    "lasso_rfe = RFE(estimator=lasso, n_features_to_select=num_features_to_select)"
   ]
  },
  {
   "cell_type": "code",
   "execution_count": null,
   "id": "97829f9c",
   "metadata": {},
   "outputs": [],
   "source": []
  },
  {
   "cell_type": "code",
   "execution_count": 14,
   "id": "aaf5ed58",
   "metadata": {},
   "outputs": [
    {
     "name": "stdout",
     "output_type": "stream",
     "text": [
      "The selected features are: ['bed', 'bath', 'acre_lot', 'prev_sold_year']\n"
     ]
    }
   ],
   "source": [
    "lasso_sfm_pipeline = Pipeline([\n",
    "  ('feature_selection', lasso_sfm),\n",
    "  ('regression', lasso)\n",
    "])\n",
    "\n",
    "lasso_sfm_fs = lasso_sfm_pipeline.named_steps['feature_selection'].fit(X_train,y_train)\n",
    "lasso_sfm_get_support = lasso_sfm_fs.get_support()\n",
    "\n",
    "print('The selected features are:', list(X.columns[lasso_sfm_get_support]))"
   ]
  },
  {
   "cell_type": "code",
   "execution_count": 15,
   "id": "1f957e58",
   "metadata": {},
   "outputs": [
    {
     "name": "stdout",
     "output_type": "stream",
     "text": [
      "Select From Model EVS = 0.664030562\n",
      "Select From Model MSE = 38,816,936,668.710548\n",
      "Select From Model MAE = 133,881.343771\n",
      "Select From Model R2 = 0.663611\n",
      "Select From Model Fit Time = 0.0018239021301269531\n"
     ]
    }
   ],
   "source": [
    "lasso_sfm_gscv = GridSearchCV(Lasso(), param_grid={})\n",
    "lasso_sfm_model = lasso_sfm_gscv.fit(X_train,y_train)\n",
    "lasso_sfm_predict = lasso_sfm_model.predict(X_test)\n",
    "\n",
    "print_more_stuff(\"Select From Model\",y_sfm_test,lasso_sfm_predict,lasso_sfm_gscv)"
   ]
  },
  {
   "cell_type": "code",
   "execution_count": null,
   "id": "11618f58",
   "metadata": {},
   "outputs": [],
   "source": []
  },
  {
   "cell_type": "code",
   "execution_count": 16,
   "id": "5148b30d",
   "metadata": {},
   "outputs": [
    {
     "name": "stdout",
     "output_type": "stream",
     "text": [
      "The selected features are: ['bath', 'acre_lot', 'house_size', 'prev_sold_year']\n"
     ]
    }
   ],
   "source": [
    "lasso_sfs_pipeline = Pipeline([\n",
    "  ('feature_selection', lasso_sfs),\n",
    "  ('regression', lasso)\n",
    "])\n",
    "\n",
    "lasso_sfs_fs = lasso_sfs_pipeline.named_steps['feature_selection'].fit(X_train,y_train)\n",
    "lasso_sfs_get_support = lasso_sfs_fs.get_support()\n",
    "\n",
    "print('The selected features are:', list(X.columns[lasso_sfs_get_support]))"
   ]
  },
  {
   "cell_type": "code",
   "execution_count": 17,
   "id": "b1a6a127",
   "metadata": {},
   "outputs": [
    {
     "name": "stdout",
     "output_type": "stream",
     "text": [
      "Sequential Feature Selector EVS = 0.664030562\n",
      "Sequential Feature Selector MSE = 38,816,936,668.710548\n",
      "Sequential Feature Selector MAE = 133,881.343771\n",
      "Sequential Feature Selector R2 = 0.663611\n",
      "Sequential Feature Selector Fit Time = 0.0007510662078857421\n"
     ]
    }
   ],
   "source": [
    "lasso_sfs_gscv = GridSearchCV(Lasso(), param_grid={})\n",
    "lasso_sfs_model = lasso_sfs_gscv.fit(X_train,y_train)\n",
    "lasso_sfs_predict = lasso_sfs_model.predict(X_test)\n",
    "\n",
    "print_more_stuff(\"Sequential Feature Selector\",y_test,lasso_sfs_predict, lasso_sfs_gscv)"
   ]
  },
  {
   "cell_type": "code",
   "execution_count": null,
   "id": "e44cc967",
   "metadata": {},
   "outputs": [],
   "source": []
  },
  {
   "cell_type": "code",
   "execution_count": 18,
   "id": "fbe24678",
   "metadata": {},
   "outputs": [
    {
     "name": "stdout",
     "output_type": "stream",
     "text": [
      "The selected features are: ['bed', 'bath', 'acre_lot', 'prev_sold_year']\n"
     ]
    }
   ],
   "source": [
    "lasso_rfe_pipeline = Pipeline([\n",
    "  ('feature_selection', lasso_rfe),\n",
    "  ('regression', lasso)\n",
    "])\n",
    "lasso_rfe_fs = lasso_rfe_pipeline.named_steps['feature_selection'].fit(X_train,y_train)\n",
    "lasso_rfe_get_support = lasso_rfe_fs.get_support()\n",
    "\n",
    "print('The selected features are:', list(X.columns[lasso_rfe_get_support]))"
   ]
  },
  {
   "cell_type": "code",
   "execution_count": 19,
   "id": "88c0b688",
   "metadata": {},
   "outputs": [
    {
     "name": "stdout",
     "output_type": "stream",
     "text": [
      "Recursive Feature Elimination EVS = 0.664030562\n",
      "Recursive Feature Elimination MSE = 38,816,936,668.710548\n",
      "Recursive Feature Elimination MAE = 133,881.343771\n",
      "Recursive Feature Elimination R2 = 0.663611\n",
      "Recursive Feature Elimination Fit Time = 0.0020781993865966798\n"
     ]
    }
   ],
   "source": [
    "lasso_rfe_gscv = GridSearchCV(Lasso(), param_grid={})\n",
    "lasso_rfe_model = lasso_rfe_gscv.fit(X_train,y_train)\n",
    "lasso_rfe_predict = lasso_rfe_model.predict(X_test)\n",
    "\n",
    "print_more_stuff(\"Recursive Feature Elimination\",y_rfe_test,lasso_rfe_predict, lasso_rfe_gscv)"
   ]
  },
  {
   "cell_type": "code",
   "execution_count": null,
   "id": "bf04c0d5",
   "metadata": {},
   "outputs": [],
   "source": []
  },
  {
   "cell_type": "code",
   "execution_count": 20,
   "id": "69d9ab8b",
   "metadata": {},
   "outputs": [],
   "source": [
    "lasso_bp_predict_df = pd.DataFrame(lasso_bp_predict).reset_index()\n",
    "lasso_bp_predict_df.rename(columns={0: \"prediction\"},inplace=True)\n",
    "\n",
    "lasso_sfm_predict_df = pd.DataFrame(lasso_sfm_predict).reset_index()\n",
    "lasso_sfm_predict_df.rename(columns={0: \"prediction\"},inplace=True)\n",
    "\n",
    "lasso_sfs_predict_df = pd.DataFrame(lasso_sfs_predict).reset_index()\n",
    "lasso_sfs_predict_df.rename(columns={0: \"prediction\"},inplace=True)\n",
    "\n",
    "lasso_rfe_predict_df = pd.DataFrame(lasso_rfe_predict).reset_index()\n",
    "lasso_rfe_predict_df.rename(columns={0: \"prediction\"},inplace=True)\n",
    "\n",
    "y_test_df = pd.DataFrame(y_test).reset_index()"
   ]
  },
  {
   "cell_type": "code",
   "execution_count": 21,
   "id": "90cf1151",
   "metadata": {},
   "outputs": [
    {
     "data": {
      "image/png": "[encoded data removed]",
      "text/plain": [
       "<Figure size 1000x600 with 1 Axes>"
      ]
     },
     "metadata": {},
     "output_type": "display_data"
    }
   ],
   "source": [
    "fig, ax = plt.subplots(figsize=(10, 6))\n",
    "\n",
    "ax.ticklabel_format(style='plain')\n",
    "ax.yaxis.set_major_formatter('${x:1,.0f}')\n",
    "ax.xaxis.set_major_formatter(' ')\n",
    "\n",
    "plt.scatter(y_test_df.index,y_test_df[\"price\"], color=\"red\")\n",
    "plt.scatter(lasso_sfm_predict_df.index,lasso_sfm_predict_df[\"prediction\"], color=\"brown\")\n",
    "plt.scatter(lasso_sfs_predict_df.index,lasso_sfs_predict_df[\"prediction\"], color=\"blue\")\n",
    "plt.scatter(lasso_rfe_predict_df.index,lasso_rfe_predict_df[\"prediction\"], color=\"green\")\n",
    "plt.scatter(lasso_bp_predict_df.index,lasso_bp_predict_df[\"prediction\"], color=\"black\")\n",
    "plt.show()"
   ]
  },
  {
   "cell_type": "code",
   "execution_count": null,
   "id": "820a2687",
   "metadata": {},
   "outputs": [],
   "source": []
  },
  {
   "cell_type": "code",
   "execution_count": 23,
   "id": "01f095e4",
   "metadata": {},
   "outputs": [],
   "source": [
    "lasso_bp_predict_df.sort_values(by='prediction', inplace=True)\n",
    "lasso_bp_predict_df.reset_index(inplace=True)\n",
    "\n",
    "lasso_sfm_predict_df.sort_values(by='prediction', inplace=True)\n",
    "lasso_sfm_predict_df.reset_index(inplace=True)\n",
    "\n",
    "lasso_sfs_predict_df.sort_values(by='prediction', inplace=True)\n",
    "lasso_sfs_predict_df.reset_index(inplace=True)\n",
    "\n",
    "lasso_rfe_predict_df.sort_values(by='prediction', inplace=True)\n",
    "lasso_rfe_predict_df.reset_index(inplace=True)\n",
    "\n",
    "y_test_df.sort_values(by='price', inplace=True)\n",
    "y_test_df.reset_index(inplace=True)"
   ]
  },
  {
   "cell_type": "code",
   "execution_count": 25,
   "id": "2cd52edb",
   "metadata": {},
   "outputs": [
    {
     "data": {
      "image/png": "[encoded data removed]",
      "text/plain": [
       "<Figure size 1000x600 with 1 Axes>"
      ]
     },
     "metadata": {},
     "output_type": "display_data"
    }
   ],
   "source": [
    "fig, ax = plt.subplots(figsize=(10, 6))\n",
    "\n",
    "ax.ticklabel_format(style='plain')\n",
    "ax.yaxis.set_major_formatter('${x:1,.0f}')\n",
    "ax.xaxis.set_major_formatter(' ')\n",
    "\n",
    "plt.plot(y_test_df.index,y_test_df[\"price\"], color=\"red\")\n",
    "plt.plot(lasso_sfm_predict_df.index,lasso_sfm_predict_df[\"prediction\"], color=\"brown\")\n",
    "plt.plot(lasso_sfs_predict_df.index,lasso_sfs_predict_df[\"prediction\"], color=\"blue\")\n",
    "plt.plot(lasso_rfe_predict_df.index,lasso_rfe_predict_df[\"prediction\"], color=\"green\")\n",
    "plt.plot(lasso_bp_predict_df.index,lasso_bp_predict_df[\"prediction\"], color=\"black\")\n",
    "plt.show()"
   ]
  },
  {
   "cell_type": "code",
   "execution_count": null,
   "id": "ae3f231a",
   "metadata": {},
   "outputs": [],
   "source": []
  },
  {
   "cell_type": "code",
   "execution_count": 26,
   "id": "cea2e272",
   "metadata": {},
   "outputs": [
    {
     "data": {
      "text/html": [
       "<div>\n",
       "<style scoped>\n",
       "    .dataframe tbody tr th:only-of-type {\n",
       "        vertical-align: middle;\n",
       "    }\n",
       "\n",
       "    .dataframe tbody tr th {\n",
       "        vertical-align: top;\n",
       "    }\n",
       "\n",
       "    .dataframe thead th {\n",
       "        text-align: right;\n",
       "    }\n",
       "</style>\n",
       "<table border=\"1\" class=\"dataframe\">\n",
       "  <thead>\n",
       "    <tr style=\"text-align: right;\">\n",
       "      <th></th>\n",
       "      <th>explained variance score</th>\n",
       "      <th>mae score</th>\n",
       "      <th>mse score</th>\n",
       "      <th>r2 score</th>\n",
       "      <th>mean fit time</th>\n",
       "    </tr>\n",
       "    <tr>\n",
       "      <th>model</th>\n",
       "      <th></th>\n",
       "      <th></th>\n",
       "      <th></th>\n",
       "      <th></th>\n",
       "      <th></th>\n",
       "    </tr>\n",
       "  </thead>\n",
       "  <tbody>\n",
       "    <tr>\n",
       "      <th>Lasso Best Params</th>\n",
       "      <td>0.642435253</td>\n",
       "      <td>137,358.113378</td>\n",
       "      <td>41,299,394,421.835884</td>\n",
       "      <td>0.642098</td>\n",
       "      <td>0.001185</td>\n",
       "    </tr>\n",
       "    <tr>\n",
       "      <th>Select From Model</th>\n",
       "      <td>0.664030562</td>\n",
       "      <td>133,881.343771</td>\n",
       "      <td>38,816,936,668.710548</td>\n",
       "      <td>0.663611</td>\n",
       "      <td>0.001824</td>\n",
       "    </tr>\n",
       "    <tr>\n",
       "      <th>Sequential Feature Selector</th>\n",
       "      <td>0.664030562</td>\n",
       "      <td>133,881.343771</td>\n",
       "      <td>38,816,936,668.710548</td>\n",
       "      <td>0.663611</td>\n",
       "      <td>0.000751</td>\n",
       "    </tr>\n",
       "    <tr>\n",
       "      <th>Recursive Feature Elimination</th>\n",
       "      <td>0.664030562</td>\n",
       "      <td>133,881.343771</td>\n",
       "      <td>38,816,936,668.710548</td>\n",
       "      <td>0.663611</td>\n",
       "      <td>0.002078</td>\n",
       "    </tr>\n",
       "  </tbody>\n",
       "</table>\n",
       "</div>"
      ],
      "text/plain": [
       "                              explained variance score       mae score  \\\n",
       "model                                                                    \n",
       "Lasso Best Params                          0.642435253  137,358.113378   \n",
       "Select From Model                          0.664030562  133,881.343771   \n",
       "Sequential Feature Selector                0.664030562  133,881.343771   \n",
       "Recursive Feature Elimination              0.664030562  133,881.343771   \n",
       "\n",
       "                                           mse score  r2 score  mean fit time  \n",
       "model                                                                          \n",
       "Lasso Best Params              41,299,394,421.835884  0.642098       0.001185  \n",
       "Select From Model              38,816,936,668.710548  0.663611       0.001824  \n",
       "Sequential Feature Selector    38,816,936,668.710548  0.663611       0.000751  \n",
       "Recursive Feature Elimination  38,816,936,668.710548  0.663611       0.002078  "
      ]
     },
     "execution_count": 26,
     "metadata": {},
     "output_type": "execute_result"
    }
   ],
   "source": [
    "model_comparisons = pd.DataFrame(results_dict).set_index('model')\n",
    "model_comparisons"
   ]
  },
  {
   "cell_type": "code",
   "execution_count": null,
   "id": "3881b4be",
   "metadata": {},
   "outputs": [],
   "source": []
  }
 ],
 "metadata": {
  "kernelspec": {
   "display_name": "Python 3 (ipykernel)",
   "language": "python",
   "name": "python3"
  },
  "language_info": {
   "codemirror_mode": {
    "name": "ipython",
    "version": 3
   },
   "file_extension": ".py",
   "mimetype": "text/x-python",
   "name": "python",
   "nbconvert_exporter": "python",
   "pygments_lexer": "ipython3",
   "version": "3.11.4"
  }
 },
 "nbformat": 4,
 "nbformat_minor": 5
}
